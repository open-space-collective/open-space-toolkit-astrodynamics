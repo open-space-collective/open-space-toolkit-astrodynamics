{
 "cells": [
  {
   "cell_type": "markdown",
   "metadata": {},
   "source": [
    "# Orbit Propagation"
   ]
  },
  {
   "cell_type": "markdown",
   "metadata": {},
   "source": [
    "This tutorial demonstrates how to perform orbit propagation using the propagated orbit mode."
   ]
  },
  {
   "cell_type": "markdown",
   "metadata": {},
   "source": [
    "## Setup"
   ]
  },
  {
   "cell_type": "code",
   "execution_count": null,
   "metadata": {},
   "outputs": [],
   "source": [
    "import numpy as np\n",
    "import pandas as pd\n",
    "\n",
    "import plotly.graph_objs as go\n",
    "\n",
    "from ostk.mathematics.objects import RealInterval\n",
    "from ostk.mathematics.geometry.d3.objects import Cuboid\n",
    "from ostk.mathematics.geometry.d3.objects import Point\n",
    "\n",
    "from ostk.physics.units import Mass\n",
    "from ostk.physics.units import Length\n",
    "from ostk.physics.units import Derived\n",
    "from ostk.physics.units import Angle\n",
    "from ostk.physics.units import Time\n",
    "from ostk.physics.time import Scale\n",
    "from ostk.physics.time import Instant\n",
    "from ostk.physics.time import Duration\n",
    "from ostk.physics.time import Interval\n",
    "from ostk.physics.time import DateTime\n",
    "from ostk.physics.coordinate import Position\n",
    "from ostk.physics.coordinate import Velocity\n",
    "from ostk.physics.coordinate import Frame\n",
    "from ostk.physics import Environment\n",
    "from ostk.physics.environment.objects.celestial_bodies import Earth\n",
    "from ostk.physics.environment.objects.celestial_bodies import Sun\n",
    "from ostk.physics.environment.objects.celestial_bodies import Moon\n",
    "\n",
    "from ostk.astrodynamics import NumericalSolver\n",
    "from ostk.astrodynamics.flight.system import SatelliteSystem\n",
    "from ostk.astrodynamics.flight.system.dynamics import SatelliteDynamics\n",
    "from ostk.astrodynamics.trajectory import State\n",
    "from ostk.astrodynamics.trajectory import Orbit\n",
    "from ostk.astrodynamics.trajectory.orbit.models import Propagated"
   ]
  },
  {
   "cell_type": "markdown",
   "metadata": {},
   "source": [
    "---"
   ]
  },
  {
   "cell_type": "markdown",
   "metadata": {},
   "source": [
    "## Propagated Orbit Model"
   ]
  },
  {
   "cell_type": "markdown",
   "metadata": {},
   "source": [
    "### Computation"
   ]
  },
  {
   "cell_type": "markdown",
   "metadata": {},
   "source": [
    "Create an environment with the desired planets (this controls which perturbations can be toggled later in the propagated object, this will be fixed)"
   ]
  },
  {
   "cell_type": "code",
   "execution_count": null,
   "metadata": {},
   "outputs": [],
   "source": [
    "earth = Earth.WGS84() # Change this to change the fidelity of the tabulated Earth gravity model\n",
    "environment = Environment(Instant.J2000(), [earth])"
   ]
  },
  {
   "cell_type": "markdown",
   "metadata": {},
   "source": [
    "Create an instant in time and a starting state at that instant, with respect to the GCRF (Earth-Centered-inertial) reference frame"
   ]
  },
  {
   "cell_type": "code",
   "execution_count": null,
   "metadata": {},
   "outputs": [],
   "source": [
    "start_instant = Instant.date_time(DateTime.parse(\"2021-03-20T00:00:00.000\"), Scale.UTC)\n",
    "\n",
    "frame = Frame.GCRF()\n",
    "position = Position.meters([-1514668.9408102570269,  -192084.12149140036718, 6831711.4584368728174], frame)\n",
    "velocity = Velocity.meters_per_second([-6348.0791876050259859, 3867.5824926981121621, -1297.1761044290490705], frame)\n",
    "\n",
    "state = State(start_instant, position, velocity)\n",
    "\n",
    "epoch = Instant.date_time(DateTime.parse(\"2021-06-30T17:26:46.742\"), Scale.UTC)"
   ]
  },
  {
   "cell_type": "markdown",
   "metadata": {},
   "source": [
    "Create a satellite system, a satellite dynamical system, and a numerical solver"
   ]
  },
  {
   "cell_type": "code",
   "execution_count": null,
   "metadata": {},
   "outputs": [],
   "source": [
    "mass = Mass(90.0, Mass.Unit.Kilogram)\n",
    "inertia_tensor = np.ndarray(shape=(3, 3))\n",
    "satellite_geometry = Cuboid(Point(0.0, 0.0, 0.0), [ [1.0, 0.0, 0.0 ], [ 0.0, 1.0, 0.0 ], [ 0.0, 0.0, 1.0 ] ], [1.0, 0.0, 0.0 ] )\n",
    "surface_area = 0.8\n",
    "drag_coefficient = 2.2\n",
    "\n",
    "satellitesystem = SatelliteSystem(mass, inertia_tensor, satellite_geometry, surface_area, drag_coefficient)\n",
    "\n",
    "satellitedynamics = SatelliteDynamics(Environment.default(),satellitesystem, state, epoch, SatelliteDynamics.GravitationalPerturbationType.No,\n",
    "                    SatelliteDynamics.AtmosphericPerturbationType.No, SatelliteDynamics.ThirdBodyPerturbationType.No, SatelliteDynamics.StateVectorDimension.Position_velocity)\n",
    "\n",
    "numericalsolver = NumericalSolver(NumericalSolver.LogType.No_log, NumericalSolver.StepperType.Runge_Kutta_Cash_Karp_54, 5.0, 1.0e-15, 1.0e-15)"
   ]
  },
  {
   "cell_type": "markdown",
   "metadata": {},
   "source": [
    "Setup a Propagated model an an instant array at which propagated states are desired"
   ]
  },
  {
   "cell_type": "code",
   "execution_count": null,
   "metadata": {},
   "outputs": [],
   "source": [
    "\n",
    "propagated_model = Propagated(satellitedynamics, numericalsolver)\n",
    "\n",
    "prop_duration = Duration.seconds(11345.0) \n",
    "instant_array = [start_instant + prop_duration]"
   ]
  },
  {
   "cell_type": "markdown",
   "metadata": {},
   "source": [
    "Setup the orbit (depracated for now):"
   ]
  },
  {
   "cell_type": "code",
   "execution_count": null,
   "metadata": {},
   "outputs": [],
   "source": [
    "# orbit_default = Orbit(propagated_model_default, earth_env)\n",
    "# orbit_custom = Orbit(propagated_model_custom, earth_env)"
   ]
  },
  {
   "cell_type": "markdown",
   "metadata": {},
   "source": [
    "Now that everything is set up, we can calculate the state arrays from the desired time instant grid"
   ]
  },
  {
   "cell_type": "code",
   "execution_count": null,
   "metadata": {},
   "outputs": [],
   "source": [
    "# tic\n",
    "propagated_state_array = propagated_model.calculate_state_array_at_instants(instant_array)\n",
    "# toc\n",
    "\n",
    "# orbit_default.get_state_at(current_instant + propagation_duration) "
   ]
  },
  {
   "cell_type": "code",
   "execution_count": null,
   "metadata": {},
   "outputs": [],
   "source": [
    "def convert_state (instant, state):\n",
    "    \n",
    "    lla = LLA.cartesian(state.get_position().in_frame(Frame.ITRF(), state.get_instant()).get_coordinates(), Earth.equatorial_radius, Earth.flattening)\n",
    "    \n",
    "    return [\n",
    "                repr(instant),\n",
    "                float(instant.get_modified_julian_date(Scale.UTC)),\n",
    "                *state.get_position().get_coordinates(),\n",
    "                *state.get_velocity().get_coordinates(),\n",
    "                float(lla.get_latitude().in_degrees()),\n",
    "                float(lla.get_longitude().in_degrees()),\n",
    "                float(lla.get_altitude().in_meters())\n",
    "            ]"
   ]
  },
  {
   "cell_type": "code",
   "execution_count": null,
   "metadata": {},
   "outputs": [],
   "source": [
    "orbit_data = [convert_state(instant, state) for [instant, state] in states]"
   ]
  },
  {
   "cell_type": "code",
   "execution_count": null,
   "metadata": {},
   "outputs": [],
   "source": [
    "orbit_df = pd.DataFrame(orbit_data, columns=['$Time^{UTC}$', '$MJD^{UTC}$', '$x_{x}^{ECI}$', '$x_{y}^{ECI}$', '$x_{z}^{ECI}$', '$v_{x}^{ECI}$', '$v_{y}^{ECI}$', '$v_{z}^{ECI}$', '$Latitude$', '$Longitude$', '$Altitude$'])"
   ]
  },
  {
   "cell_type": "markdown",
   "metadata": {},
   "source": [
    "### Graphical Orbit Output on top of Earth"
   ]
  },
  {
   "cell_type": "markdown",
   "metadata": {},
   "source": [
    "Table:"
   ]
  },
  {
   "cell_type": "code",
   "execution_count": null,
   "metadata": {},
   "outputs": [],
   "source": [
    "orbit_df.head()"
   ]
  },
  {
   "cell_type": "markdown",
   "metadata": {},
   "source": [
    "2D plot, over **World Map**:"
   ]
  },
  {
   "cell_type": "code",
   "execution_count": null,
   "metadata": {
    "tags": []
   },
   "outputs": [],
   "source": [
    "figure = go.Figure(\n",
    "    data = go.Scattergeo(\n",
    "        lon = orbit_df['$Longitude$'],\n",
    "        lat = orbit_df['$Latitude$'],\n",
    "        mode = 'lines',\n",
    "        line = go.scattergeo.Line(\n",
    "            width = 1,\n",
    "            color = 'red'\n",
    "        )\n",
    "    ),\n",
    "    layout = go.Layout(\n",
    "        title = None,\n",
    "        showlegend = False,\n",
    "        height=1000,\n",
    "        geo = go.layout.Geo(\n",
    "            showland = True,\n",
    "            landcolor = 'rgb(243, 243, 243)',\n",
    "            countrycolor = 'rgb(204, 204, 204)'\n",
    "        )\n",
    "    )\n",
    ")\n",
    "\n",
    "figure.show()"
   ]
  },
  {
   "cell_type": "markdown",
   "metadata": {},
   "source": [
    "3D plot, in **Earth Fixed** frame:"
   ]
  },
  {
   "cell_type": "code",
   "execution_count": null,
   "metadata": {},
   "outputs": [],
   "source": [
    "figure = go.Figure(\n",
    "    data = [\n",
    "        go.Scattergeo(\n",
    "            lon = orbit_df['$Longitude$'],\n",
    "            lat = orbit_df['$Latitude$'],\n",
    "            mode = 'lines',\n",
    "            line = go.scattergeo.Line(\n",
    "                width = 2,\n",
    "                color = 'rgb(255, 62, 79)'\n",
    "            )\n",
    "        )\n",
    "    ],\n",
    "    layout = go.Layout(\n",
    "        title = None,\n",
    "        showlegend = False,\n",
    "        width = 800,\n",
    "        height = 800,\n",
    "        geo = go.layout.Geo(\n",
    "            showland = True,\n",
    "            showlakes = True,\n",
    "            showcountries = False,\n",
    "            showocean = True,\n",
    "            countrywidth = 0.0,\n",
    "            landcolor = 'rgb(100, 100, 100)',\n",
    "            lakecolor = 'rgb(240, 240, 240)',\n",
    "            oceancolor = 'rgb(240, 240, 240)',\n",
    "            projection = dict( \n",
    "                type = 'orthographic',\n",
    "                rotation = dict(\n",
    "                    lon = -100,\n",
    "                    lat = 40,\n",
    "                    roll = 0\n",
    "                )            \n",
    "            ),\n",
    "            lonaxis = dict( \n",
    "                showgrid = True,\n",
    "                gridcolor = 'rgb(102, 102, 102)',\n",
    "                gridwidth = 0.5\n",
    "            ),\n",
    "            lataxis = dict( \n",
    "                showgrid = True,\n",
    "                gridcolor = 'rgb(102, 102, 102)',\n",
    "                gridwidth = 0.5\n",
    "            )\n",
    "        )\n",
    "    )\n",
    ")\n",
    "\n",
    "figure.show()"
   ]
  },
  {
   "cell_type": "markdown",
   "metadata": {},
   "source": [
    "3D plot, in **Earth Inertial** frame:"
   ]
  },
  {
   "cell_type": "code",
   "execution_count": null,
   "metadata": {},
   "outputs": [],
   "source": [
    "theta = np.linspace(0, 2 * np.pi, 30)\n",
    "phi = np.linspace(0, np.pi, 30)\n",
    "\n",
    "theta_grid, phi_grid = np.meshgrid(theta, phi)\n",
    "\n",
    "r = float(Earth.equatorial_radius.in_meters())\n",
    "\n",
    "x = r * np.cos(theta_grid) * np.sin(phi_grid)\n",
    "y = r * np.sin(theta_grid) * np.sin(phi_grid)\n",
    "z = r * np.cos(phi_grid)\n",
    "\n",
    "earth = go.Surface(\n",
    "    x=x,\n",
    "    y=y,\n",
    "    z=z,\n",
    "    colorscale='Viridis',\n",
    "    showscale=False\n",
    ")\n",
    "\n",
    "trace = go.Scatter3d(\n",
    "    x=orbit_df['$x_{x}^{ECI}$'],\n",
    "    y=orbit_df['$x_{y}^{ECI}$'],\n",
    "    z=orbit_df['$x_{z}^{ECI}$'],\n",
    "    mode='lines',\n",
    "    marker=dict(\n",
    "        size=0,\n",
    "        color=orbit_df['$x_{z}^{ECI}$'],\n",
    "        colorscale='Viridis',\n",
    "        showscale=False\n",
    "    ),\n",
    "    line=dict(\n",
    "        color=orbit_df['$x_{z}^{ECI}$'],\n",
    "        width=1\n",
    "    )\n",
    ")\n",
    "\n",
    "figure = go.Figure(\n",
    "    data = [earth, trace],\n",
    "    layout = go.Layout(\n",
    "        title = None,\n",
    "        width = 800,\n",
    "        height = 1000,\n",
    "        showlegend = False,\n",
    "        scene = go.layout.Scene(\n",
    "            xaxis = dict(\n",
    "                gridcolor = 'rgb(255, 255, 255)',\n",
    "                zerolinecolor = 'rgb(255, 255, 255)',\n",
    "                showbackground = True,\n",
    "                backgroundcolor = 'rgb(230, 230,230)'\n",
    "            ),\n",
    "            yaxis = dict(\n",
    "                gridcolor = 'rgb(255, 255, 255)',\n",
    "                zerolinecolor = 'rgb(255, 255, 255)',\n",
    "                showbackground = True,\n",
    "                backgroundcolor = 'rgb(230, 230,230)'\n",
    "            ),\n",
    "            zaxis = dict(\n",
    "                gridcolor = 'rgb(255, 255, 255)',\n",
    "                zerolinecolor = 'rgb(255, 255, 255)',\n",
    "                showbackground = True,\n",
    "                backgroundcolor = 'rgb(230, 230,230)'\n",
    "            ),\n",
    "            camera = dict(\n",
    "                up = dict(\n",
    "                    x = 0,\n",
    "                    y = 0,\n",
    "                    z = 1\n",
    "                ),\n",
    "                eye = dict(\n",
    "                    x = -1.7428,\n",
    "                    y = 1.0707,\n",
    "                    z = 0.7100,\n",
    "                )\n",
    "            ),\n",
    "            aspectratio = dict(x = 1, y = 1, z = 1),\n",
    "            aspectmode = 'manual'\n",
    "        )\n",
    "    )\n",
    ")\n",
    "\n",
    "figure.show()"
   ]
  },
  {
   "cell_type": "markdown",
   "metadata": {},
   "source": [
    "---"
   ]
  }
 ],
 "metadata": {
  "interpreter": {
   "hash": "b0fa6594d8f4cbf19f97940f81e996739fb7646882a419484c72d19e05852a7e"
  },
  "kernelspec": {
   "display_name": "Python 3 (ipykernel)",
   "language": "python",
   "name": "python3"
  },
  "language_info": {
   "codemirror_mode": {
    "name": "ipython",
    "version": 3
   },
   "file_extension": ".py",
   "mimetype": "text/x-python",
   "name": "python",
   "nbconvert_exporter": "python",
   "pygments_lexer": "ipython3",
   "version": "3.9.13"
  }
 },
 "nbformat": 4,
 "nbformat_minor": 4
}
