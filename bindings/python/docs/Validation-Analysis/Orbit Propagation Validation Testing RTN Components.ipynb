{
 "cells": [
  {
   "cell_type": "markdown",
   "metadata": {},
   "source": [
    "# Orbit Propagation Validation Plotting for XYZ seperate components"
   ]
  },
  {
   "cell_type": "markdown",
   "metadata": {},
   "source": [
    "This tutorial demonstrates how to perform orbit propagation using the propagated orbit mode."
   ]
  },
  {
   "cell_type": "markdown",
   "metadata": {},
   "source": [
    "## Setup"
   ]
  },
  {
   "cell_type": "code",
   "execution_count": null,
   "metadata": {},
   "outputs": [],
   "source": [
    "import numpy as np\n",
    "import pandas as pd\n",
    "import csv\n",
    "import os\n",
    "\n",
    "import plotly.graph_objs as go\n",
    "\n",
    "from ostk.mathematics.geometry.d3.objects import Cuboid\n",
    "from ostk.mathematics.geometry.d3.objects import Composite\n",
    "from ostk.mathematics.geometry.d3.objects import Point\n",
    "\n",
    "from ostk.physics.units import Mass\n",
    "from ostk.physics.time import Scale\n",
    "from ostk.physics.time import Instant\n",
    "from ostk.physics.time import Duration\n",
    "from ostk.physics.time import DateTime\n",
    "from ostk.physics.coordinate import Position\n",
    "from ostk.physics.coordinate import Velocity\n",
    "from ostk.physics.coordinate import Frame\n",
    "from ostk.physics import Environment\n",
    "from ostk.physics.environment.objects.celestial_bodies import Earth\n",
    "\n",
    "from ostk.astrodynamics.trajectory.state import NumericalSolver\n",
    "from ostk.astrodynamics.trajectory import State\n",
    "from ostk.astrodynamics.trajectory import Orbit\n",
    "from ostk.astrodynamics.flight.system import SatelliteSystem\n",
    "from ostk.astrodynamics.flight.system.dynamics import SatelliteDynamics\n",
    "from ostk.astrodynamics.trajectory.orbit.models import Propagated"
   ]
  },
  {
   "cell_type": "markdown",
   "metadata": {},
   "source": [
    "---"
   ]
  },
  {
   "cell_type": "markdown",
   "metadata": {},
   "source": [
    "## Propagated Orbit Model"
   ]
  },
  {
   "cell_type": "markdown",
   "metadata": {},
   "source": [
    "Read in reference data from CSV file "
   ]
  },
  {
   "cell_type": "code",
   "execution_count": null,
   "metadata": {},
   "outputs": [],
   "source": [
    "filename = \"GMAT_TwoBodyGravity_24hr_30sInterval_run.csv\"\n",
    "plot_title_extension = \"comparison with GMAT EGM96 Gravity Model\"\n",
    "\n",
    "multiplication_array = np.array([1.0e3, 1.0e3, 1.0e3])\n",
    "\n",
    "start_instant = Instant.date_time(DateTime.parse(\"2021-03-20T00:00:00.000\"), Scale.UTC)\n",
    "frame_GCRF = Frame.GCRF()\n",
    "\n",
    "with open(f\"{os.getcwd()}/Outputfiles/{filename}\", newline=\"\") as csvfile:\n",
    "    reader = csv.DictReader(csvfile)\n",
    "    reference_state_array = []\n",
    "    instant_array = []\n",
    "    for row in reader:\n",
    "        instant_iter = start_instant + Duration.seconds(float(row[\"YAM.ElapsedSecs\"]))\n",
    "        position_iter = Position.meters(\n",
    "            [row[\"YAM.EarthICRF.X\"], row[\"YAM.EarthICRF.Y\"], row[\"YAM.EarthICRF.Z\"]],\n",
    "            frame_GCRF,\n",
    "        )\n",
    "        velocity_iter = Velocity.meters_per_second(\n",
    "            [row[\"YAM.EarthICRF.VX\"], row[\"YAM.EarthICRF.VY\"], row[\"YAM.EarthICRF.VZ\"]],\n",
    "            frame_GCRF,\n",
    "        )\n",
    "\n",
    "        position_iter_m = np.multiply(\n",
    "            position_iter.get_coordinates(), multiplication_array\n",
    "        )\n",
    "        velocity_iter_ms = np.multiply(\n",
    "            velocity_iter.get_coordinates(), multiplication_array\n",
    "        )\n",
    "\n",
    "        instant_array.append(instant_iter)\n",
    "        reference_state_array.append(\n",
    "            State(\n",
    "                instant_iter,\n",
    "                Position.meters(position_iter_m, frame_GCRF),\n",
    "                Velocity.meters_per_second(velocity_iter_ms, frame_GCRF),\n",
    "            )\n",
    "        )"
   ]
  },
  {
   "cell_type": "markdown",
   "metadata": {},
   "source": [
    "### Computation"
   ]
  },
  {
   "cell_type": "markdown",
   "metadata": {},
   "source": [
    "Create an environment corresponding to the perturbations that should be used"
   ]
  },
  {
   "cell_type": "code",
   "execution_count": null,
   "metadata": {},
   "outputs": [],
   "source": [
    "instant_J2000 = Instant.J2000()\n",
    "objects = [Earth.default()]\n",
    "\n",
    "custom_env = Environment(instant_J2000, objects)"
   ]
  },
  {
   "cell_type": "markdown",
   "metadata": {},
   "source": [
    "Create a satellite system, a satellite dynamical system, and a numerical solver"
   ]
  },
  {
   "cell_type": "code",
   "execution_count": null,
   "metadata": {},
   "outputs": [],
   "source": [
    "mass = Mass(90.0, Mass.Unit.Kilogram)\n",
    "satellite_geometry = Composite(\n",
    "    Cuboid(\n",
    "        Point(0.0, 0.0, 0.0),\n",
    "        [[1.0, 0.0, 0.0], [0.0, 1.0, 0.0], [0.0, 0.0, 1.0]],\n",
    "        [1.0, 0.0, 0.0],\n",
    "    )\n",
    ")\n",
    "inertia_tensor = np.ndarray(shape=(3, 3))\n",
    "surface_area = 0.8\n",
    "drag_coefficient = 2.2\n",
    "\n",
    "satellitesystem = SatelliteSystem(\n",
    "    mass, satellite_geometry, inertia_tensor, surface_area, drag_coefficient\n",
    ")\n",
    "\n",
    "start_state = reference_state_array[0]\n",
    "\n",
    "satellitedynamics = SatelliteDynamics(custom_env, satellitesystem)\n",
    "\n",
    "numericalsolver = NumericalSolver(\n",
    "    NumericalSolver.LogType.NoLog,\n",
    "    NumericalSolver.StepperType.RungeKuttaCashKarp54,\n",
    "    5.0,\n",
    "    1.0e-15,\n",
    "    1.0e-15,\n",
    ")"
   ]
  },
  {
   "cell_type": "markdown",
   "metadata": {},
   "source": [
    "Setup a Propagated model an an instant array at which propagated states are desired"
   ]
  },
  {
   "cell_type": "code",
   "execution_count": null,
   "metadata": {},
   "outputs": [],
   "source": [
    "propagated_model = Propagated(satellitedynamics, numericalsolver, start_state)"
   ]
  },
  {
   "cell_type": "markdown",
   "metadata": {},
   "source": [
    "Setup the orbit (TBI) to be able to use the QSW reference frame afterwords "
   ]
  },
  {
   "cell_type": "code",
   "execution_count": null,
   "metadata": {},
   "outputs": [],
   "source": [
    "orbit = Orbit(propagated_model, custom_env.access_celestial_object_with_name(\"Earth\"))\n",
    "frame_QSW = orbit.get_orbital_frame(Orbit.FrameType.QSW)"
   ]
  },
  {
   "cell_type": "markdown",
   "metadata": {},
   "source": [
    "Now that everything is set up, we can calculate the state arrays from the desired time instant grid"
   ]
  },
  {
   "cell_type": "code",
   "execution_count": null,
   "metadata": {},
   "outputs": [],
   "source": [
    "propagated_state_array = orbit.get_states_at(instant_array)"
   ]
  },
  {
   "cell_type": "code",
   "execution_count": null,
   "metadata": {},
   "outputs": [],
   "source": [
    "def to_dataframe(propagated_state):\n",
    "    return [\n",
    "        repr(propagated_state.get_instant()),\n",
    "        float(\n",
    "            (\n",
    "                propagated_state.get_instant() - propagated_state_array[0].get_instant()\n",
    "            ).in_seconds()\n",
    "        ),\n",
    "        *propagated_state.get_position().get_coordinates(),\n",
    "        *propagated_state.get_velocity().get_coordinates(),\n",
    "    ]"
   ]
  },
  {
   "cell_type": "code",
   "execution_count": null,
   "metadata": {},
   "outputs": [],
   "source": [
    "propagated_orbit_data = [\n",
    "    to_dataframe(propagated_state) for propagated_state in propagated_state_array\n",
    "]"
   ]
  },
  {
   "cell_type": "code",
   "execution_count": null,
   "metadata": {},
   "outputs": [],
   "source": [
    "propagated_orbit_df = pd.DataFrame(\n",
    "    propagated_orbit_data,\n",
    "    columns=[\n",
    "        \"$Time^{UTC}$\",\n",
    "        \"Elapsed secs\",\n",
    "        \"$x_{x}^{ECI}$\",\n",
    "        \"$x_{y}^{ECI}$\",\n",
    "        \"$x_{z}^{ECI}$\",\n",
    "        \"$v_{x}^{ECI}$\",\n",
    "        \"$v_{y}^{ECI}$\",\n",
    "        \"$v_{z}^{ECI}$\",\n",
    "    ],\n",
    ")"
   ]
  },
  {
   "cell_type": "markdown",
   "metadata": {},
   "source": [
    "Table:"
   ]
  },
  {
   "cell_type": "code",
   "execution_count": null,
   "metadata": {},
   "outputs": [],
   "source": [
    "propagated_orbit_df.head()"
   ]
  },
  {
   "cell_type": "code",
   "execution_count": null,
   "metadata": {},
   "outputs": [],
   "source": [
    "propagated_orbit_df.tail()"
   ]
  },
  {
   "cell_type": "markdown",
   "metadata": {
    "tags": []
   },
   "source": [
    "#### Trajectory delta vs GMAT run in the GCRF frame "
   ]
  },
  {
   "cell_type": "code",
   "execution_count": null,
   "metadata": {
    "tags": []
   },
   "outputs": [],
   "source": [
    "def to_dataframe_GCRF_diff(ind):\n",
    "    return [\n",
    "        repr(propagated_state_array[ind].get_instant()),\n",
    "        float(\n",
    "            (\n",
    "                propagated_state_array[ind].get_instant()\n",
    "                - propagated_state_array[0].get_instant()\n",
    "            ).in_seconds()\n",
    "        ),\n",
    "        *(\n",
    "            propagated_state_array[ind].get_position().get_coordinates()\n",
    "            - reference_state_array[ind].get_position().get_coordinates()\n",
    "        ),\n",
    "        # print(f'Prop:{(propagated_state_array[ind].in_frame(frame_QSW).get_position().get_coordinates())}'),\n",
    "        # print(f'Ref:{(reference_state_array[ind].in_frame(frame_QSW).get_position().get_coordinates())}'),\n",
    "        *(\n",
    "            propagated_state_array[ind].get_velocity().get_coordinates()\n",
    "            - reference_state_array[ind].get_velocity().get_coordinates()\n",
    "        ),\n",
    "    ]"
   ]
  },
  {
   "cell_type": "code",
   "execution_count": null,
   "metadata": {
    "tags": []
   },
   "outputs": [],
   "source": [
    "orbit_data_diff_GCRF = [\n",
    "    to_dataframe_GCRF_diff(ind) for ind in range(0, len(propagated_state_array))\n",
    "]\n",
    "\n",
    "# orbit_data_diff_QSW = [to_dataframe_QSW_diff(ind) for ind in range(0,2)]"
   ]
  },
  {
   "cell_type": "code",
   "execution_count": null,
   "metadata": {},
   "outputs": [],
   "source": [
    "orbit_df_diff_GCRF = pd.DataFrame(\n",
    "    orbit_data_diff_GCRF,\n",
    "    columns=[\n",
    "        \"$Time^{UTC}$\",\n",
    "        \"Elapsed secs\",\n",
    "        \"${\\delta}x_{x}^{ECI}$\",\n",
    "        \"${\\delta}x_{y}^{ECI}$\",\n",
    "        \"${\\delta}x_{z}^{ECI}$\",\n",
    "        \"${\\delta}v_{x}^{ECI}$\",\n",
    "        \"${\\delta}v_{y}^{ECI}$\",\n",
    "        \"${\\delta}v_{z}^{ECI}$\",\n",
    "    ],\n",
    ")"
   ]
  },
  {
   "cell_type": "code",
   "execution_count": null,
   "metadata": {},
   "outputs": [],
   "source": [
    "orbit_df_diff_GCRF.head()"
   ]
  },
  {
   "cell_type": "code",
   "execution_count": null,
   "metadata": {},
   "outputs": [],
   "source": [
    "orbit_df_diff_GCRF.tail()"
   ]
  },
  {
   "cell_type": "markdown",
   "metadata": {
    "tags": []
   },
   "source": [
    "#### Trajectory delta vs GMAT run in the RTN frame "
   ]
  },
  {
   "cell_type": "code",
   "execution_count": null,
   "metadata": {
    "tags": []
   },
   "outputs": [],
   "source": [
    "def to_dataframe_QSW_diff(ind):\n",
    "    return [\n",
    "        repr(propagated_state_array[ind].get_instant()),\n",
    "        float(\n",
    "            (\n",
    "                propagated_state_array[ind].get_instant()\n",
    "                - propagated_state_array[0].get_instant()\n",
    "            ).in_seconds()\n",
    "        ),\n",
    "        *(\n",
    "            propagated_state_array[ind]\n",
    "            .in_frame(frame_QSW)\n",
    "            .get_position()\n",
    "            .get_coordinates()\n",
    "            - reference_state_array[ind]\n",
    "            .in_frame(frame_QSW)\n",
    "            .get_position()\n",
    "            .get_coordinates()\n",
    "        ),\n",
    "        # print(f'Prop:{(propagated_state_array[ind].in_frame(frame_QSW).get_position().get_coordinates())}'),\n",
    "        # print(f'Ref:{(reference_state_array[ind].in_frame(frame_QSW).get_position().get_coordinates())}'),\n",
    "        *(\n",
    "            propagated_state_array[ind]\n",
    "            .in_frame(frame_QSW)\n",
    "            .get_velocity()\n",
    "            .get_coordinates()\n",
    "            - reference_state_array[ind]\n",
    "            .in_frame(frame_QSW)\n",
    "            .get_velocity()\n",
    "            .get_coordinates()\n",
    "        ),\n",
    "    ]"
   ]
  },
  {
   "cell_type": "code",
   "execution_count": null,
   "metadata": {
    "tags": []
   },
   "outputs": [],
   "source": [
    "orbit_data_diff_QSW = [\n",
    "    to_dataframe_QSW_diff(ind) for ind in range(0, len(propagated_state_array))\n",
    "]"
   ]
  },
  {
   "cell_type": "code",
   "execution_count": null,
   "metadata": {},
   "outputs": [],
   "source": [
    "orbit_df_diff_QSW = pd.DataFrame(\n",
    "    orbit_data_diff_QSW,\n",
    "    columns=[\n",
    "        \"$Time^{UTC}$\",\n",
    "        \"Elapsed secs\",\n",
    "        \"${\\delta}x_{x}^{RTN}$\",\n",
    "        \"${\\delta}x_{y}^{RTN}$\",\n",
    "        \"${\\delta}x_{z}^{RTN}$\",\n",
    "        \"${\\delta}v_{x}^{RTN}$\",\n",
    "        \"${\\delta}v_{y}^{RTN}$\",\n",
    "        \"${\\delta}v_{z}^{RTN}$\",\n",
    "    ],\n",
    ")\n",
    "\n",
    "orbit_df_diff_QSW.tail()"
   ]
  },
  {
   "cell_type": "markdown",
   "metadata": {
    "tags": []
   },
   "source": [
    "# Validation Plots "
   ]
  },
  {
   "cell_type": "markdown",
   "metadata": {},
   "source": [
    "Plot relative position differences in RTN"
   ]
  },
  {
   "cell_type": "code",
   "execution_count": null,
   "metadata": {
    "tags": []
   },
   "outputs": [],
   "source": [
    "orbit_df_diff_QSW_position = orbit_df_diff_QSW[\n",
    "    [\n",
    "        \"Elapsed secs\",\n",
    "        \"${\\delta}x_{x}^{RTN}$\",\n",
    "        \"${\\delta}x_{y}^{RTN}$\",\n",
    "        \"${\\delta}x_{z}^{RTN}$\",\n",
    "    ]\n",
    "]\n",
    "\n",
    "figure = go.Figure()\n",
    "figure.update_layout(\n",
    "    title=f\"Position Difference of OSTk vs GMAT in RTN Frame {plot_title_extension}\",\n",
    "    showlegend=True,\n",
    "    height=1000,\n",
    ")\n",
    "figure.update_xaxes(title_text=\"Time Elapsed (s)\")\n",
    "figure.update_yaxes(title_text=\"Position Difference in RTN (m)\")\n",
    "\n",
    "figure.add_trace(\n",
    "    go.Scatter(\n",
    "        x=orbit_df_diff_QSW_position[\"Elapsed secs\"],\n",
    "        y=orbit_df_diff_QSW_position[\"${\\delta}x_{x}^{RTN}$\"],\n",
    "        name=\"Radial\",\n",
    "        mode=\"lines\",\n",
    "    )\n",
    ")\n",
    "\n",
    "figure.add_trace(\n",
    "    go.Scatter(\n",
    "        x=orbit_df_diff_QSW_position[\"Elapsed secs\"],\n",
    "        y=orbit_df_diff_QSW_position[\"${\\delta}x_{y}^{RTN}$\"],\n",
    "        name=\"Tangential\",\n",
    "        mode=\"lines\",\n",
    "    )\n",
    ")\n",
    "\n",
    "figure.add_trace(\n",
    "    go.Scatter(\n",
    "        x=orbit_df_diff_QSW_position[\"Elapsed secs\"],\n",
    "        y=orbit_df_diff_QSW_position[\"${\\delta}x_{z}^{RTN}$\"],\n",
    "        name=\"Normal\",\n",
    "        mode=\"lines\",\n",
    "    )\n",
    ")\n",
    "\n",
    "figure.show()"
   ]
  },
  {
   "cell_type": "markdown",
   "metadata": {},
   "source": [
    "Plot relative velocity differences in RTN"
   ]
  },
  {
   "cell_type": "code",
   "execution_count": null,
   "metadata": {
    "tags": []
   },
   "outputs": [],
   "source": [
    "orbit_df_diff_QSW_velocity = orbit_df_diff_QSW[\n",
    "    [\n",
    "        \"Elapsed secs\",\n",
    "        \"${\\delta}v_{x}^{RTN}$\",\n",
    "        \"${\\delta}v_{y}^{RTN}$\",\n",
    "        \"${\\delta}v_{z}^{RTN}$\",\n",
    "    ]\n",
    "]\n",
    "\n",
    "figure = go.Figure()\n",
    "figure.update_layout(\n",
    "    title=f\"Velocity Difference of OSTk vs GMAT in RTN Frame {plot_title_extension}\",\n",
    "    showlegend=True,\n",
    "    height=1000,\n",
    ")\n",
    "figure.update_xaxes(title_text=\"Time Elapsed (s)\")\n",
    "figure.update_yaxes(title_text=\"Velocity Difference in RTN (m/s)\")\n",
    "\n",
    "figure.add_trace(\n",
    "    go.Scatter(\n",
    "        x=orbit_df_diff_QSW_velocity[\"Elapsed secs\"],\n",
    "        y=orbit_df_diff_QSW_velocity[\"${\\delta}v_{x}^{RTN}$\"],\n",
    "        name=\"Radial\",\n",
    "        mode=\"lines\",\n",
    "    )\n",
    ")\n",
    "\n",
    "figure.add_trace(\n",
    "    go.Scatter(\n",
    "        x=orbit_df_diff_QSW_velocity[\"Elapsed secs\"],\n",
    "        y=orbit_df_diff_QSW_velocity[\"${\\delta}v_{y}^{RTN}$\"],\n",
    "        name=\"Tangential\",\n",
    "        mode=\"lines\",\n",
    "    )\n",
    ")\n",
    "\n",
    "figure.add_trace(\n",
    "    go.Scatter(\n",
    "        x=orbit_df_diff_QSW_velocity[\"Elapsed secs\"],\n",
    "        y=orbit_df_diff_QSW_velocity[\"${\\delta}v_{z}^{RTN}$\"],\n",
    "        name=\"Normal\",\n",
    "        mode=\"lines\",\n",
    "    )\n",
    ")\n",
    "\n",
    "figure.show()"
   ]
  }
 ],
 "metadata": {
  "interpreter": {
   "hash": "b0fa6594d8f4cbf19f97940f81e996739fb7646882a419484c72d19e05852a7e"
  },
  "kernelspec": {
   "display_name": "Python 3",
   "language": "python",
   "name": "python3"
  },
  "language_info": {
   "codemirror_mode": {
    "name": "ipython",
    "version": 3
   },
   "file_extension": ".py",
   "mimetype": "text/x-python",
   "name": "python",
   "nbconvert_exporter": "python",
   "pygments_lexer": "ipython3",
   "version": "3.8.8"
  }
 },
 "nbformat": 4,
 "nbformat_minor": 4
}
