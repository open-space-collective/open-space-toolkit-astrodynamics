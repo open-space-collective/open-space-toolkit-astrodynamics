{
 "cells": [
  {
   "cell_type": "markdown",
   "metadata": {},
   "source": [
    "# Orbit Propagation Validation Plotting for RMS differences"
   ]
  },
  {
   "cell_type": "markdown",
   "metadata": {},
   "source": [
    "This tutorial demonstrates how to perform orbit propagation using the propagated orbit mode."
   ]
  },
  {
   "cell_type": "markdown",
   "metadata": {},
   "source": [
    "## Setup"
   ]
  },
  {
   "cell_type": "code",
   "execution_count": null,
   "metadata": {},
   "outputs": [],
   "source": [
    "import numpy as np\n",
    "import pandas as pd\n",
    "import csv\n",
    "import os\n",
    "import sys\n",
    "\n",
    "import plotly.graph_objs as go\n",
    "\n",
    "from ostk.mathematics.geometry.d3.objects import Cuboid\n",
    "from ostk.mathematics.geometry.d3.objects import Composite\n",
    "from ostk.mathematics.geometry.d3.objects import Point\n",
    "\n",
    "from ostk.physics.units import Mass\n",
    "from ostk.physics.units import Length\n",
    "from ostk.physics.units import Derived\n",
    "from ostk.physics.units import Angle\n",
    "from ostk.physics.units import Time\n",
    "from ostk.physics.time import Scale\n",
    "from ostk.physics.time import Instant\n",
    "from ostk.physics.time import Duration\n",
    "from ostk.physics.time import Interval\n",
    "from ostk.physics.time import DateTime\n",
    "from ostk.physics.coordinate import Position\n",
    "from ostk.physics.coordinate import Velocity\n",
    "from ostk.physics.coordinate import Frame\n",
    "from ostk.physics import Environment\n",
    "from ostk.physics.environment.objects.celestial_bodies import Earth\n",
    "from ostk.physics.environment.objects.celestial_bodies import Sun\n",
    "from ostk.physics.environment.objects.celestial_bodies import Moon\n",
    "\n",
    "from ostk.astrodynamics import NumericalSolver\n",
    "from ostk.astrodynamics.trajectory import State\n",
    "from ostk.astrodynamics.trajectory import Orbit\n",
    "from ostk.astrodynamics.flight.system import SatelliteSystem\n",
    "from ostk.astrodynamics.flight.system.dynamics import SatelliteDynamics\n",
    "from ostk.astrodynamics.trajectory.orbit.models import Propagated"
   ]
  },
  {
   "cell_type": "markdown",
   "metadata": {},
   "source": [
    "---"
   ]
  },
  {
   "cell_type": "markdown",
   "metadata": {},
   "source": [
    "## Propagated Orbit Model"
   ]
  },
  {
   "cell_type": "markdown",
   "metadata": {
    "tags": []
   },
   "source": [
    "Read in reference data from CSV file "
   ]
  },
  {
   "cell_type": "code",
   "execution_count": null,
   "metadata": {
    "tags": []
   },
   "outputs": [],
   "source": [
    "filename = 'GMAT_TwoBody_Sun_Moon_2hr_run.csv'\n",
    "plot_title_extension = 'RMS error for GMAT vs OSTk with Two body + Sun + Moon Force Model'\n",
    "# legend_name_list = ['OSTk with 30s interval']\n",
    "legend_name_list = ['OSTk minus GMAT'] #, 'OSTk 90x90 minus GMAT Full', 'OSTk 45x45 minus GMAT Full', 'OSTk 35x35 minus GMAT Full'] #, 'OSTk with RK78 minus GMAT with RK56']\n",
    "\n",
    "multiplication_array = np.array([1.0e3, 1.0e3, 1.0e3])\n",
    "\n",
    "start_instant = Instant.date_time(DateTime.parse(\"2021-03-20T00:00:00.000\"), Scale.UTC)\n",
    "frame_GCRF = Frame.GCRF()\n",
    "\n",
    "with open(f'{os.getcwd()}/Outputfiles/{filename}', newline='') as csvfile:\n",
    "    reader = csv.DictReader(csvfile)\n",
    "    reference_state_array = [] \n",
    "    instant_array = []\n",
    "    for row in reader:\n",
    "        \n",
    "        instant_iter = start_instant + Duration.seconds(float(row['YAM.ElapsedSecs']))\n",
    "        position_iter = Position.meters([row['YAM.EarthICRF.X'], row['YAM.EarthICRF.Y'], row['YAM.EarthICRF.Z']], frame_GCRF)\n",
    "        velocity_iter = Velocity.meters_per_second([row['YAM.EarthICRF.VX'], row['YAM.EarthICRF.VY'], row['YAM.EarthICRF.VZ']], frame_GCRF)\n",
    "        \n",
    "        \n",
    "        position_iter_m = np.multiply(position_iter.get_coordinates(), multiplication_array)\n",
    "        velocity_iter_ms = np.multiply(velocity_iter.get_coordinates(), multiplication_array)\n",
    "\n",
    "        \n",
    "        instant_array.append(instant_iter)\n",
    "        reference_state_array.append(State(instant_iter, Position.meters(position_iter_m, frame_GCRF), Velocity.meters_per_second(velocity_iter_ms, frame_GCRF)))"
   ]
  },
  {
   "cell_type": "markdown",
   "metadata": {},
   "source": [
    "### Computation"
   ]
  },
  {
   "cell_type": "markdown",
   "metadata": {},
   "source": [
    "Create an environment corresponding to the perturbations that should be used"
   ]
  },
  {
   "cell_type": "code",
   "execution_count": null,
   "metadata": {},
   "outputs": [],
   "source": [
    "instant_J2000 = Instant.J2000()\n",
    "\n",
    "objects_1 = [Earth.spherical()]#, Sun.spherical(), Moon.spherical()]\n",
    "# objects_2 = [Earth.EGM96(90, 90)]\n",
    "# objects_3 = [Earth.EGM96(45, 45)]\n",
    "# objects_4 = [Earth.EGM96(35, 35)]\n",
    "\n",
    "custom_env_1 = Environment(instant_J2000, objects_1)\n",
    "# custom_env_2 = Environment(instant_J2000, objects_2)\n",
    "# custom_env_3 = Environment(instant_J2000, objects_3)\n",
    "# custom_env_4 = Environment(instant_J2000, objects_4)"
   ]
  },
  {
   "cell_type": "markdown",
   "metadata": {},
   "source": [
    "Create multiple satellite system, a satellite dynamical system, and a numerical solver"
   ]
  },
  {
   "cell_type": "code",
   "execution_count": null,
   "metadata": {},
   "outputs": [],
   "source": [
    "mass = Mass(90.0, Mass.Unit.Kilogram)\n",
    "satellite_geometry = Composite(Cuboid(Point(0.0, 0.0, 0.0), [ [1.0, 0.0, 0.0 ], [ 0.0, 1.0, 0.0 ], [ 0.0, 0.0, 1.0 ] ], [1.0, 0.0, 0.0 ] ))\n",
    "inertia_tensor = np.ndarray(shape=(3, 3))\n",
    "surface_area = 0.8\n",
    "drag_coefficient = 2.2\n",
    "\n",
    "satellitesystem = SatelliteSystem(mass, satellite_geometry, inertia_tensor, surface_area, drag_coefficient)\n",
    "\n",
    "start_state = reference_state_array[0]\n",
    "\n",
    "satellitedynamics_1 = SatelliteDynamics(custom_env_1, satellitesystem, start_state)\n",
    "# satellitedynamics_2 = SatelliteDynamics(custom_env_2, satellitesystem, start_state)\n",
    "# satellitedynamics_3 = SatelliteDynamics(custom_env_3, satellitesystem, start_state)\n",
    "# satellitedynamics_4 = SatelliteDynamics(custom_env_4, satellitesystem, start_state)\n",
    "\n",
    "numericalsolver_1 = NumericalSolver(NumericalSolver.LogType.NoLog, NumericalSolver.StepperType.RungeKuttaFehlberg78, 5.0, 1.0e-15, 1.0e-15)\n",
    "# numericalsolver_2 = NumericalSolver(NumericalSolver.LogType.NoLog, NumericalSolver.StepperType.RungeKuttaFehlberg78, 5.0, 1.0e-15, 1.0e-15)\n",
    "# numericalsolver_3 = NumericalSolver(NumericalSolver.LogType.NoLog, NumericalSolver.StepperType.RungeKuttaFehlberg78, 5.0, 1.0e-15, 1.0e-15)\n",
    "# numericalsolver_4 = NumericalSolver(NumericalSolver.LogType.NoLog, NumericalSolver.StepperType.RungeKuttaFehlberg78, 5.0, 1.0e-15, 1.0e-15)\n",
    "\n",
    "# numericalsolver_2 = NumericalSolver(NumericalSolver.LogType.NoLog, NumericalSolver.StepperType.RungeKuttaFehlberg78, 5.0, 1.0e-15, 1.0e-15)"
   ]
  },
  {
   "cell_type": "markdown",
   "metadata": {},
   "source": [
    "Setup a different Propagated models an an instant array at which propagated states are desired"
   ]
  },
  {
   "cell_type": "code",
   "execution_count": null,
   "metadata": {},
   "outputs": [],
   "source": [
    "propagated_model_1 = Propagated(satellitedynamics_1, numericalsolver_1)\n",
    "# propagated_model_2 = Propagated(satellitedynamics_2, numericalsolver_2)\n",
    "# propagated_model_3 = Propagated(satellitedynamics_3, numericalsolver_3)\n",
    "# propagated_model_4 = Propagated(satellitedynamics_4, numericalsolver_4)\n",
    "\n",
    "orbit_1 = Orbit(propagated_model_1, custom_env_1.access_celestial_object_with_name('Earth'))\n",
    "# orbit_2 = Orbit(propagated_model_2, custom_env_2.access_celestial_object_with_name('Earth'))\n",
    "# orbit_3 = Orbit(propagated_model_3, custom_env_3.access_celestial_object_with_name('Earth'))\n",
    "# orbit_4 = Orbit(propagated_model_4, custom_env_4.access_celestial_object_with_name('Earth'))\n",
    "\n",
    "orbit_list = [orbit_1]#, orbit_2, orbit_3, orbit_4]"
   ]
  },
  {
   "cell_type": "markdown",
   "metadata": {},
   "source": [
    "Now that everything is set up, we can calculate the state arrays from the desired time instant grid"
   ]
  },
  {
   "cell_type": "code",
   "execution_count": null,
   "metadata": {},
   "outputs": [],
   "source": [
    "propagated_state_array_list = [orbit_list[ind].get_states_at(instant_array) for ind in range(0,len(orbit_list))]"
   ]
  },
  {
   "cell_type": "code",
   "execution_count": null,
   "metadata": {},
   "outputs": [],
   "source": [
    "def to_dataframe (propagated_state, ind):\n",
    "\n",
    "    return [\n",
    "                repr(propagated_state.get_instant()),\n",
    "                float((propagated_state.get_instant() - propagated_state_array_list[ind][0].get_instant()).in_seconds()),\n",
    "                *propagated_state.get_position().get_coordinates(),\n",
    "                *propagated_state.get_velocity().get_coordinates(),\n",
    "            ]"
   ]
  },
  {
   "cell_type": "code",
   "execution_count": null,
   "metadata": {},
   "outputs": [],
   "source": [
    "propagated_orbit_data_list = [[to_dataframe(propagated_state, ind) for propagated_state in propagated_state_array_list[ind]] for ind in range(0,len(orbit_list))]"
   ]
  },
  {
   "cell_type": "code",
   "execution_count": null,
   "metadata": {},
   "outputs": [],
   "source": [
    "propagated_orbit_df_list = [pd.DataFrame(propagated_orbit_data_list[ind], columns=['$Time^{UTC}$', 'Elapsed secs', '$x_{x}^{ECI}$', '$x_{y}^{ECI}$', '$x_{z}^{ECI}$', '$v_{x}^{ECI}$', '$v_{y}^{ECI}$', '$v_{z}^{ECI}$']) for ind in range(0,len(orbit_list))]"
   ]
  },
  {
   "cell_type": "markdown",
   "metadata": {},
   "source": [
    "Table:"
   ]
  },
  {
   "cell_type": "code",
   "execution_count": null,
   "metadata": {},
   "outputs": [],
   "source": [
    "[propagated_orbit_df_list[ind].head() for ind in range(0,len(orbit_list))]"
   ]
  },
  {
   "cell_type": "code",
   "execution_count": null,
   "metadata": {},
   "outputs": [],
   "source": [
    "[propagated_orbit_df_list[ind].tail() for ind in range(0,len(orbit_list))]"
   ]
  },
  {
   "cell_type": "markdown",
   "metadata": {
    "tags": []
   },
   "source": [
    "#### Trajectory RMS error vs GMAT run in the GCRF frame "
   ]
  },
  {
   "cell_type": "code",
   "execution_count": null,
   "metadata": {
    "tags": []
   },
   "outputs": [],
   "source": [
    "def to_dataframe_RMS (ref_ind, list_ind):\n",
    "    \n",
    "    return [\n",
    "                repr(propagated_state_array_list[list_ind][ref_ind].get_instant()),\n",
    "                \n",
    "                float((propagated_state_array_list[list_ind][ref_ind].get_instant() - propagated_state_array_list[list_ind][0].get_instant()).in_seconds()),\n",
    "\n",
    "                (np.linalg.norm((propagated_state_array_list[list_ind][ref_ind].get_position().get_coordinates() - reference_state_array[ref_ind].get_position().get_coordinates()))),\n",
    "                \n",
    "                # print(f'Prop:{(propagated_state_array[ref_ind].in_frame(frame_LVLH).get_position().get_coordinates())}'),\n",
    "                # print(f'Ref:{(reference_state_array[ref_ind].in_frame(frame_LVLH).get_position().get_coordinates())}'),\n",
    "                (np.linalg.norm((propagated_state_array_list[list_ind][ref_ind].get_velocity().get_coordinates() - reference_state_array[ref_ind].get_velocity().get_coordinates()))),\n",
    "            ]"
   ]
  },
  {
   "cell_type": "code",
   "execution_count": null,
   "metadata": {
    "tags": []
   },
   "outputs": [],
   "source": [
    "orbit_data_RMS_list = [[to_dataframe_RMS(ref_ind, list_ind) for ref_ind in range(0,len(propagated_state_array_list[list_ind]))]  for list_ind in range(0,len(orbit_list))]"
   ]
  },
  {
   "cell_type": "code",
   "execution_count": null,
   "metadata": {},
   "outputs": [],
   "source": [
    "orbit_df_RMS_list = [pd.DataFrame(orbit_data_RMS_list[list_ind], columns=['$Time^{UTC}$', 'Elapsed secs', '${\\delta}x$', '${\\delta}v$'])  for list_ind in range(0,len(orbit_list))]"
   ]
  },
  {
   "cell_type": "code",
   "execution_count": null,
   "metadata": {},
   "outputs": [],
   "source": [
    "[orbit_df_RMS_list[list_ind].head() for list_ind in range(0,len(orbit_list))]"
   ]
  },
  {
   "cell_type": "code",
   "execution_count": null,
   "metadata": {},
   "outputs": [],
   "source": [
    "[orbit_df_RMS_list[list_ind].tail() for list_ind in range(0,len(orbit_list))]"
   ]
  },
  {
   "cell_type": "markdown",
   "metadata": {
    "tags": []
   },
   "source": [
    "# Validation Plots "
   ]
  },
  {
   "cell_type": "markdown",
   "metadata": {},
   "source": [
    "Plot position error "
   ]
  },
  {
   "cell_type": "code",
   "execution_count": null,
   "metadata": {
    "tags": []
   },
   "outputs": [],
   "source": [
    "orbit_df_RMS_position_list = [orbit_df_RMS_list[list_ind][['Elapsed secs', '${\\delta}x$']] for list_ind in range(0,len(orbit_list))]\n",
    "\n",
    "figure = go.Figure()\n",
    "figure.update_layout(title=f'Position {plot_title_extension}', showlegend = True, height=1000)\n",
    "figure.update_xaxes(title_text=\"Time Elapsed (s)\")\n",
    "figure.update_yaxes(title_text=\"Position Difference in RTN (m)\")\n",
    "\n",
    "for list_ind, orbit_df_RMS_position  in enumerate(orbit_df_RMS_position_list):\n",
    "    figure.add_trace(go.Scatter(\n",
    "            x = orbit_df_RMS_position['Elapsed secs'],\n",
    "            y = orbit_df_RMS_position['${\\delta}x$'],\n",
    "            name = legend_name_list[list_ind],\n",
    "            mode = 'lines'\n",
    "        ))\n",
    "    \n",
    "figure.show()\n"
   ]
  },
  {
   "cell_type": "markdown",
   "metadata": {},
   "source": [
    "Plot velocity error"
   ]
  },
  {
   "cell_type": "code",
   "execution_count": null,
   "metadata": {
    "tags": []
   },
   "outputs": [],
   "source": [
    "orbit_df_RMS_velocity_list = [orbit_df_RMS_list[list_ind][['Elapsed secs', '${\\delta}v$']] for list_ind in range(0,len(orbit_list))]\n",
    "\n",
    "figure = go.Figure()\n",
    "figure.update_layout(title=f'Velocity {plot_title_extension}', showlegend = True, height=1000)\n",
    "figure.update_xaxes(title_text=\"Time Elapsed (s)\")\n",
    "figure.update_yaxes(title_text=\"Velocity Difference in RTN (m/s)\")\n",
    "\n",
    "for list_ind, orbit_df_RMS_velocity in enumerate(orbit_df_RMS_velocity_list):\n",
    "    figure.add_trace(go.Scatter(\n",
    "            x = orbit_df_RMS_velocity['Elapsed secs'],\n",
    "            y = orbit_df_RMS_velocity['${\\delta}v$'],\n",
    "            name = legend_name_list[list_ind],\n",
    "            mode = 'lines'\n",
    "        ))\n",
    "    \n",
    "figure.show()\n"
   ]
  },
  {
   "cell_type": "code",
   "execution_count": null,
   "metadata": {},
   "outputs": [],
   "source": []
  }
 ],
 "metadata": {
  "interpreter": {
   "hash": "b0fa6594d8f4cbf19f97940f81e996739fb7646882a419484c72d19e05852a7e"
  },
  "kernelspec": {
   "display_name": "Python 3",
   "language": "python",
   "name": "python3"
  },
  "language_info": {
   "codemirror_mode": {
    "name": "ipython",
    "version": 3
   },
   "file_extension": ".py",
   "mimetype": "text/x-python",
   "name": "python",
   "nbconvert_exporter": "python",
   "pygments_lexer": "ipython3",
   "version": "3.8.8"
  }
 },
 "nbformat": 4,
 "nbformat_minor": 4
}
