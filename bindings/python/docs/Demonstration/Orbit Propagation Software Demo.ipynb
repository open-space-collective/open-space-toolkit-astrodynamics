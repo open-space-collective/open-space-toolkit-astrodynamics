{
 "cells": [
  {
   "cell_type": "markdown",
   "metadata": {
    "tags": []
   },
   "source": [
    "# Orbit Propagation Software Demo with Antoine The Intern"
   ]
  },
  {
   "cell_type": "markdown",
   "metadata": {},
   "source": [
    "This tutorial demonstrates how to perform orbit propagation using the propagated orbit mode."
   ]
  },
  {
   "cell_type": "markdown",
   "metadata": {},
   "source": [
    "## Setup"
   ]
  },
  {
   "cell_type": "code",
   "execution_count": 1,
   "metadata": {},
   "outputs": [],
   "source": [
    "import numpy as np\n",
    "import pandas as pd\n",
    "import csv\n",
    "import os\n",
    "import sys\n",
    "\n",
    "import plotly.graph_objs as go\n",
    "\n",
    "from ostk.mathematics.geometry.d3.objects import Cuboid\n",
    "from ostk.mathematics.geometry.d3.objects import Composite\n",
    "from ostk.mathematics.geometry.d3.objects import Point\n",
    "\n",
    "from ostk.physics.units import Mass\n",
    "from ostk.physics.units import Length\n",
    "from ostk.physics.units import Derived\n",
    "from ostk.physics.units import Angle\n",
    "from ostk.physics.units import Time\n",
    "from ostk.physics.time import Scale\n",
    "from ostk.physics.time import Instant\n",
    "from ostk.physics.time import Duration\n",
    "from ostk.physics.time import Interval\n",
    "from ostk.physics.time import DateTime\n",
    "from ostk.physics.coordinate import Position\n",
    "from ostk.physics.coordinate import Velocity\n",
    "from ostk.physics.coordinate import Frame\n",
    "from ostk.physics import Environment\n",
    "from ostk.physics.environment.objects.celestial_bodies import Earth\n",
    "from ostk.physics.environment.objects.celestial_bodies import Sun\n",
    "from ostk.physics.environment.objects.celestial_bodies import Moon\n",
    "\n",
    "from ostk.astrodynamics import NumericalSolver\n",
    "from ostk.astrodynamics.trajectory import State\n",
    "from ostk.astrodynamics.trajectory import Orbit\n",
    "from ostk.astrodynamics.flight.system import SatelliteSystem\n",
    "from ostk.astrodynamics.flight.system.dynamics import SatelliteDynamics\n",
    "from ostk.astrodynamics.trajectory.orbit.models import SGP4\n",
    "from ostk.astrodynamics.trajectory.orbit.models import Propagated\n",
    "from ostk.astrodynamics.trajectory.orbit.models.sgp4 import TLE"
   ]
  },
  {
   "cell_type": "markdown",
   "metadata": {},
   "source": [
    "---"
   ]
  },
  {
   "cell_type": "markdown",
   "metadata": {},
   "source": [
    "## Feeding in reference data"
   ]
  },
  {
   "cell_type": "markdown",
   "metadata": {
    "tags": []
   },
   "source": [
    "Read in reference data from CSV file "
   ]
  },
  {
   "cell_type": "code",
   "execution_count": 2,
   "metadata": {
    "tags": []
   },
   "outputs": [],
   "source": [
    "filename = 'GMAT_EGM96_24hr_30sInterval_run.csv'\n",
    "plot_title_extension = 'Total position error of a numerically vs analytically propagated orbit'\n",
    "legend_name_list = ['Numerical Propagation','Analytical Propagation']\n",
    "\n",
    "multiplication_array = np.array([1.0e3, 1.0e3, 1.0e3])\n",
    "\n",
    "start_instant = Instant.date_time(DateTime.parse(\"2022-03-05T13:26:46.742\"), Scale.UTC)\n",
    "frame_gcrf = Frame.GCRF()\n",
    "\n",
    "with open(f'{os.getcwd()}/Validation Files/{filename}', newline='') as csvfile:\n",
    "    reader = csv.DictReader(csvfile)\n",
    "    reference_state_array = [] \n",
    "    instant_array = []\n",
    "    for row in reader:\n",
    "        \n",
    "        instant_iter = start_instant + Duration.seconds(float(row['YAM.ElapsedSecs']))\n",
    "        position_iter = Position.meters([row['YAM.EarthICRF.X'], row['YAM.EarthICRF.Y'], row['YAM.EarthICRF.Z']], frame_gcrf)\n",
    "        velocity_iter = Velocity.meters_per_second([row['YAM.EarthICRF.VX'], row['YAM.EarthICRF.VY'], row['YAM.EarthICRF.VZ']], frame_gcrf)\n",
    "        \n",
    "        \n",
    "        position_iter_m = np.multiply(position_iter.get_coordinates(), multiplication_array)\n",
    "        velocity_iter_ms = np.multiply(velocity_iter.get_coordinates(), multiplication_array)\n",
    "\n",
    "        \n",
    "        instant_array.append(instant_iter)\n",
    "        reference_state_array.append(State(instant_iter, Position.meters(position_iter_m, frame_gcrf), Velocity.meters_per_second(velocity_iter_ms, frame_gcrf)))"
   ]
  },
  {
   "cell_type": "markdown",
   "metadata": {},
   "source": [
    "### Propagated Model Setup"
   ]
  },
  {
   "cell_type": "markdown",
   "metadata": {},
   "source": [
    "Create an environment corresponding to the perturbations that should be used"
   ]
  },
  {
   "cell_type": "code",
   "execution_count": 3,
   "metadata": {},
   "outputs": [],
   "source": [
    "instant_J2000 = Instant.J2000()\n",
    "celestial_objects = [Earth.EGM96()]\n",
    "\n",
    "custom_env = Environment(instant_J2000, celestial_objects)"
   ]
  },
  {
   "cell_type": "markdown",
   "metadata": {},
   "source": [
    "Create multiple satellite system, a satellite dynamical system, and a numerical solver"
   ]
  },
  {
   "cell_type": "code",
   "execution_count": 4,
   "metadata": {},
   "outputs": [],
   "source": [
    "mass = Mass(90.0, Mass.Unit.Kilogram)\n",
    "satellite_geometry = Composite(Cuboid(Point(0.0, 0.0, 0.0), [ [1.0, 0.0, 0.0 ], [ 0.0, 1.0, 0.0 ], [ 0.0, 0.0, 1.0 ] ], [1.0, 0.0, 0.0 ] ))\n",
    "inertia_tensor = np.ndarray(shape=(3, 3))\n",
    "surface_area = 0.8\n",
    "drag_coefficient = 2.2\n",
    "\n",
    "satellitesystem = SatelliteSystem(mass, satellite_geometry, inertia_tensor, surface_area, drag_coefficient)\n",
    "\n",
    "start_state = reference_state_array[0]\n",
    "\n",
    "satellitedynamics = SatelliteDynamics(custom_env, satellitesystem, start_state)\n",
    "\n",
    "numericalsolver = NumericalSolver(NumericalSolver.LogType.LogAdaptive, NumericalSolver.StepperType.RungeKuttaCashKarp54, 5.0, 1.0e-15, 1.0e-15)"
   ]
  },
  {
   "cell_type": "markdown",
   "metadata": {},
   "source": [
    "Setup a different Propagated models an an instant array at which propagated states are desired"
   ]
  },
  {
   "cell_type": "code",
   "execution_count": 5,
   "metadata": {},
   "outputs": [],
   "source": [
    "propagated_model = Propagated(satellitedynamics, numericalsolver)\n",
    "\n",
    "orbit_propagated = Orbit(propagated_model, custom_env.access_celestial_object_with_name('Earth'))"
   ]
  },
  {
   "cell_type": "markdown",
   "metadata": {},
   "source": [
    "### TLE and SGP4 Model Setup"
   ]
  },
  {
   "cell_type": "code",
   "execution_count": 21,
   "metadata": {},
   "outputs": [
    {
     "name": "stdout",
     "output_type": "stream",
     "text": [
      "-- Trajectory :: State -----------------------------------------------------------------------------\n",
      "    Instant:                                 2022-03-05 13:26:46.742 [UTC]            \n",
      "    Position:                                [-1036928.693509075558, 652044.607288941508, 6779399.495433156379] [m] @ GCRF \n",
      "    Velocity:                                [7273.590213385995, 2036.412223009646, 912.256786916986] [m/s] @ GCRF \n",
      "----------------------------------------------------------------------------------------------------\n",
      "\n",
      "-- Trajectory :: State -----------------------------------------------------------------------------\n",
      "    Instant:                                 2022-03-30 09:44:24.537 [UTC]            \n",
      "    Position:                                [256320.761644223705, 6894066.860063605942, 4651.454470396607] [m] @ GCRF \n",
      "    Velocity:                                [-1433.296646520525, 1182.801038637040, 7544.832767379140] [m/s] @ GCRF \n",
      "----------------------------------------------------------------------------------------------------\n",
      "\n"
     ]
    }
   ],
   "source": [
    "tle_end = TLE(\n",
    "    \"1 48915U 21059AN  22089.40584117  .00003779  00000-0  21460-3 0  9997\",\n",
    "    \"2 48915  97.5390 219.5716 0011744  13.1851 346.9685 15.13475637 41973\"\n",
    ")\n",
    "\n",
    "sgp4_model_tle_end = SGP4(tle_end)\n",
    "orbit_sgp4_tle_end = Orbit(sgp4_model_tle_end, custom_env.access_celestial_object_with_name('Earth'))\n",
    "\n",
    "\n",
    "gps_instant = Instant.date_time(DateTime.parse(\"2022-03-30T09:44:24.537\"), Scale.UTC)\n",
    "gps_position = Position.meters([-2837535.43, 6288262.37, 5374.89], Frame.ITRF())\n",
    "gps_velocity = Velocity.meters_per_second([-1365.64428710937, 621.224060058593, 7541.7861328125], Frame.ITRF())\n",
    "gps_state_end = State(start_instant, gps_position, gps_velocity)\n",
    "\n",
    "\n",
    "start_instant = Instant.date_time(DateTime.parse(\"2022-03-05T13:26:46.742\"), Scale.UTC)\n",
    "\n",
    "\n",
    "print(sgp4_model_tle_end.calculate_state_at(start_instant))\n",
    "\n",
    "print(gps_state_end.in_frame(Frame.GCRF()))"
   ]
  },
  {
   "cell_type": "code",
   "execution_count": 22,
   "metadata": {},
   "outputs": [
    {
     "name": "stdout",
     "output_type": "stream",
     "text": [
      "-- Trajectory :: State -----------------------------------------------------------------------------\n",
      "    Instant:                                 2022-03-05 13:26:46.742 [UTC]            \n",
      "    Position:                                [-1255462.764318805188, 589751.938079785788, 6746884.937808430754] [m] @ GCRF \n",
      "    Velocity:                                [7232.773132820438, 2059.665223864856, 1161.552064619191] [m/s] @ GCRF \n",
      "----------------------------------------------------------------------------------------------------\n",
      "\n"
     ]
    }
   ],
   "source": [
    "tle = TLE(\n",
    "    \"1 48915U 21059AN  22064.61155065  .00002619  00000-0  15045-3 0  9993\",\n",
    "    \"2 48915  97.5358 195.0492 0013123  91.5193 268.7541 15.13327131 38229\"\n",
    ")\n",
    "\n",
    "sgp4_model = SGP4(tle)\n",
    "\n",
    "orbit_sgp4 = Orbit(sgp4_model, custom_env.access_celestial_object_with_name('Earth'))\n",
    "\n",
    "desired_instant = Instant.date_time(DateTime.parse(\"2022-03-05T13:26:46.742\"), Scale.UTC)\n",
    "print(orbit_sgp4.get_state_at(start_instant))\n",
    "\n"
   ]
  },
  {
   "cell_type": "code",
   "execution_count": null,
   "metadata": {},
   "outputs": [],
   "source": [
    "orbit_list = [orbit_propagated, orbit_sgp4]\n",
    "\n",
    "desired_instant = Instant.date_time(DateTime.parse(\"2022-03-05T14:00:00.000\"), Scale.UTC)\n",
    "\n",
    "propagated_state_array_list = [orbit_list[ind].get_state_at(desired_instant) for ind in range(0,len(orbit_list))]\n",
    "\n",
    "# print(propagated_state_array_list)"
   ]
  },
  {
   "cell_type": "markdown",
   "metadata": {},
   "source": [
    "Now that everything is set up, we can calculate the state arrays from the desired time instant grid"
   ]
  },
  {
   "cell_type": "code",
   "execution_count": null,
   "metadata": {},
   "outputs": [],
   "source": [
    "orbit_list = [orbit_propagated, orbit_sgp4]\n",
    "\n",
    "propagated_state_array_list = [orbit_list[ind].get_states_at(instant_array) for ind in range(0,len(orbit_list))]"
   ]
  },
  {
   "cell_type": "code",
   "execution_count": null,
   "metadata": {},
   "outputs": [],
   "source": [
    "def to_dataframe (propagated_state, ind):\n",
    "\n",
    "    return [\n",
    "                repr(propagated_state.get_instant()),\n",
    "                float((propagated_state.get_instant() - propagated_state_array_list[ind][0].get_instant()).in_seconds()),\n",
    "                *propagated_state.get_position().get_coordinates(),\n",
    "                *propagated_state.get_velocity().get_coordinates(),\n",
    "            ]"
   ]
  },
  {
   "cell_type": "code",
   "execution_count": null,
   "metadata": {},
   "outputs": [],
   "source": [
    "propagated_orbit_data_list = [[to_dataframe(propagated_state, ind) for propagated_state in propagated_state_array_list[ind]] for ind in range(0,len(orbit_list))]"
   ]
  },
  {
   "cell_type": "code",
   "execution_count": null,
   "metadata": {},
   "outputs": [],
   "source": [
    "propagated_orbit_df_list = [pd.DataFrame(propagated_orbit_data_list[ind], columns=['$Time^{UTC}$', 'Elapsed secs', '$x_{x}^{ECI}$', '$x_{y}^{ECI}$', '$x_{z}^{ECI}$', '$v_{x}^{ECI}$', '$v_{y}^{ECI}$', '$v_{z}^{ECI}$']) for ind in range(0,len(propagated_model_list))]"
   ]
  },
  {
   "cell_type": "markdown",
   "metadata": {},
   "source": [
    "Table:"
   ]
  },
  {
   "cell_type": "code",
   "execution_count": null,
   "metadata": {},
   "outputs": [],
   "source": [
    "[propagated_orbit_df_list[ind].head() for ind in range(0,len(orbit_list))]"
   ]
  },
  {
   "cell_type": "code",
   "execution_count": null,
   "metadata": {},
   "outputs": [],
   "source": [
    "[propagated_orbit_df_list[ind].tail() for ind in range(0,len(orbit_list))]"
   ]
  },
  {
   "cell_type": "markdown",
   "metadata": {
    "tags": []
   },
   "source": [
    "#### Trajectory RMS error vs GMAT run in the GCRF frame "
   ]
  },
  {
   "cell_type": "code",
   "execution_count": null,
   "metadata": {
    "tags": []
   },
   "outputs": [],
   "source": [
    "def to_dataframe_RMS (ref_ind, list_ind):\n",
    "    \n",
    "    return [\n",
    "                repr(propagated_state_array_list[list_ind][ref_ind].get_instant()),\n",
    "                \n",
    "                float((propagated_state_array_list[list_ind][ref_ind].get_instant() - propagated_state_array_list[list_ind][0].get_instant()).in_seconds()),\n",
    "\n",
    "                (np.linalg.norm((propagated_state_array_list[list_ind][ref_ind].get_position().get_coordinates() - reference_state_array[ref_ind].get_position().get_coordinates()))),\n",
    "                \n",
    "                # print(f'Prop:{(propagated_state_array[ref_ind].in_frame(frame_LVLH).get_position().get_coordinates())}'),\n",
    "                # print(f'Ref:{(reference_state_array[ref_ind].in_frame(frame_LVLH).get_position().get_coordinates())}'),\n",
    "                (np.linalg.norm((propagated_state_array_list[list_ind][ref_ind].get_velocity().get_coordinates() - reference_state_array[ref_ind].get_velocity().get_coordinates()))),\n",
    "            ]"
   ]
  },
  {
   "cell_type": "code",
   "execution_count": null,
   "metadata": {
    "tags": []
   },
   "outputs": [],
   "source": [
    "orbit_data_RMS_list = [[to_dataframe_RMS(ref_ind, list_ind) for ref_ind in range(0,len(propagated_state_array_list[list_ind]))]  for list_ind in range(0,len(orbit_list))]"
   ]
  },
  {
   "cell_type": "code",
   "execution_count": null,
   "metadata": {},
   "outputs": [],
   "source": [
    "orbit_df_RMS_list = [pd.DataFrame(orbit_data_RMS_list[list_ind], columns=['$Time^{UTC}$', 'Elapsed secs', '${\\delta}x$', '${\\delta}v$'])  for list_ind in range(0,len(orbit_list))]"
   ]
  },
  {
   "cell_type": "code",
   "execution_count": null,
   "metadata": {},
   "outputs": [],
   "source": [
    "[orbit_df_RMS_list[list_ind].head() for list_ind in range(0,len(orbit_list))]"
   ]
  },
  {
   "cell_type": "code",
   "execution_count": null,
   "metadata": {},
   "outputs": [],
   "source": [
    "[orbit_df_RMS_list[list_ind].tail() for list_ind in range(0,len(orbit_list))]"
   ]
  },
  {
   "cell_type": "markdown",
   "metadata": {
    "tags": []
   },
   "source": [
    "# Validation Plots "
   ]
  },
  {
   "cell_type": "markdown",
   "metadata": {},
   "source": [
    "Plot position error "
   ]
  },
  {
   "cell_type": "code",
   "execution_count": null,
   "metadata": {
    "tags": []
   },
   "outputs": [],
   "source": [
    "orbit_df_RMS_position_list = [orbit_df_RMS_list[list_ind][['Elapsed secs', '${\\delta}x$']] for list_ind in range(0,len(orbit_list))]\n",
    "\n",
    "figure = go.Figure()\n",
    "figure.update_layout(title=f'Position {plot_title_extension}', showlegend = True, height=1000)\n",
    "figure.update_xaxes(title_text=\"Time Elapsed (s)\")\n",
    "figure.update_yaxes(title_text=\"Position Difference in RTN (m)\")\n",
    "\n",
    "for list_ind, orbit_df_RMS_position  in enumerate(orbit_df_RMS_position_list):\n",
    "    figure.add_trace(go.Scatter(\n",
    "            x = orbit_df_RMS_position['Elapsed secs'],\n",
    "            y = orbit_df_RMS_position['${\\delta}x$'],\n",
    "            name = legend_name_list[list_ind],\n",
    "            mode = 'lines'\n",
    "        ))\n",
    "    \n",
    "figure.show()\n"
   ]
  },
  {
   "cell_type": "markdown",
   "metadata": {},
   "source": [
    "Plot velocity error"
   ]
  },
  {
   "cell_type": "code",
   "execution_count": null,
   "metadata": {
    "tags": []
   },
   "outputs": [],
   "source": [
    "orbit_df_RMS_velocity_list = [orbit_df_RMS_list[list_ind][['Elapsed secs', '${\\delta}v$']] for list_ind in range(0,len(orbit_list))]\n",
    "\n",
    "figure = go.Figure()\n",
    "figure.update_layout(title=f'Velocity {plot_title_extension}', showlegend = True, height=1000)\n",
    "figure.update_xaxes(title_text=\"Time Elapsed (s)\")\n",
    "figure.update_yaxes(title_text=\"Velocity Difference in RTN (m/s)\")\n",
    "\n",
    "for list_ind, orbit_df_RMS_velocity in enumerate(orbit_df_RMS_velocity_list):\n",
    "    figure.add_trace(go.Scatter(\n",
    "            x = orbit_df_RMS_velocity['Elapsed secs'],\n",
    "            y = orbit_df_RMS_velocity['${\\delta}v$'],\n",
    "            name = legend_name_list[list_ind],\n",
    "            mode = 'lines'\n",
    "        ))\n",
    "    \n",
    "figure.show()\n"
   ]
  }
 ],
 "metadata": {
  "interpreter": {
   "hash": "b0fa6594d8f4cbf19f97940f81e996739fb7646882a419484c72d19e05852a7e"
  },
  "kernelspec": {
   "display_name": "Python 3",
   "language": "python",
   "name": "python3"
  },
  "language_info": {
   "codemirror_mode": {
    "name": "ipython",
    "version": 3
   },
   "file_extension": ".py",
   "mimetype": "text/x-python",
   "name": "python",
   "nbconvert_exporter": "python",
   "pygments_lexer": "ipython3",
   "version": "3.8.8"
  }
 },
 "nbformat": 4,
 "nbformat_minor": 4
}
