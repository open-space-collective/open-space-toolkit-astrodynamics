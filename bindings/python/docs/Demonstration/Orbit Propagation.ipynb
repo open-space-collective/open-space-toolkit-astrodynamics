{
 "cells": [
  {
   "cell_type": "markdown",
   "id": "c2e53157-1163-4576-961d-d967f637ad5b",
   "metadata": {},
   "source": [
    "# Orbit Propagation Demo "
   ]
  },
  {
   "cell_type": "markdown",
   "id": "811e8c84-80e4-421d-882a-0058573fdbdf",
   "metadata": {},
   "source": [
    "This tutorial demonstrates how to perform orbit propagation through numerical integration."
   ]
  },
  {
   "cell_type": "markdown",
   "id": "47e2a184-5552-4b1f-98d3-9d090e789e04",
   "metadata": {
    "tags": []
   },
   "source": [
    "## Imports"
   ]
  },
  {
   "cell_type": "code",
   "execution_count": null,
   "id": "425aba54-9837-4bbe-90b9-a2b659991e0c",
   "metadata": {},
   "outputs": [],
   "source": [
    "import numpy as np\n",
    "import pandas as pd\n",
    "import plotly.graph_objs as go\n",
    "from ostk.astrodynamics.trajectory.state import NumericalSolver\n",
    "from ostk.astrodynamics.display import create_2d_map, create_3d_globe\n",
    "from ostk.astrodynamics.flight.system import Dynamics, SatelliteSystem\n",
    "from ostk.astrodynamics.flight.system.dynamics import (\n",
    "    AtmosphericDrag,\n",
    "    CentralBodyGravity,\n",
    "    PositionDerivative,\n",
    "    ThirdBodyGravity,\n",
    ")\n",
    "from ostk.astrodynamics.trajectory import Orbit, Propagator, State\n",
    "from ostk.astrodynamics.trajectory.orbit.models.kepler import COE\n",
    "from ostk.astrodynamics.utilities import convert_state\n",
    "from ostk.core.filesystem import Directory\n",
    "from ostk.mathematics.geometry.d3.objects import Composite, Cuboid, Point\n",
    "from ostk.physics import Environment\n",
    "from ostk.physics.coordinate import Frame, Position, Velocity\n",
    "from ostk.physics.coordinate.spherical import LLA\n",
    "from ostk.physics.environment.atmospheric import Earth as EarthAtmosphericModel\n",
    "from ostk.physics.environment.gravitational import Earth as EarthGravitationalModel\n",
    "from ostk.physics.environment.magnetic import Earth as EarthMagneticModel\n",
    "from ostk.physics.environment.objects.celestial_bodies import Earth, Moon, Sun\n",
    "from ostk.physics.time import DateTime, Duration, Instant, Interval, Scale\n",
    "from ostk.physics.units import Mass"
   ]
  },
  {
   "cell_type": "markdown",
   "id": "80c904a3-c001-4f70-b1f5-2f844745230a",
   "metadata": {},
   "source": [
    "## Simulation Setup"
   ]
  },
  {
   "cell_type": "markdown",
   "id": "529e4a7d-fc49-4038-a7a0-5130cccf2789",
   "metadata": {},
   "source": [
    "### **Define the physical `Environment`**"
   ]
  },
  {
   "cell_type": "code",
   "execution_count": null,
   "id": "9721bee3-43c4-42d5-9e5c-923c8fd3eae3",
   "metadata": {},
   "outputs": [],
   "source": [
    "instant_J2000 = Instant.J2000()\n",
    "celestial_objects = [\n",
    "    Earth.EGM96(360, 360),  # Earth.EGM2008(), Earth.WGS84_EGM96(), Earth.EGM84(180, 180)\n",
    "    Sun.default(),\n",
    "    Moon.default(),\n",
    "]\n",
    "\n",
    "environment = Environment(instant_J2000, celestial_objects)"
   ]
  },
  {
   "cell_type": "markdown",
   "id": "0d4219c3-dae0-4ac0-8119-fecfa3326090",
   "metadata": {},
   "source": [
    "### **Define the `SatelliteSystem` with properties:**\n",
    "* `Mass`\n",
    "* `Geometry`\n",
    "* `Inertia Tensor`\n",
    "* `Surface Area`\n",
    "* `Drag Coefficient`"
   ]
  },
  {
   "cell_type": "code",
   "execution_count": null,
   "id": "abc82d8a-9f53-438c-82de-6236df48ae28",
   "metadata": {},
   "outputs": [],
   "source": [
    "mass = Mass(90.0, Mass.Unit.Kilogram)\n",
    "satellite_geometry = Composite(\n",
    "    Cuboid(\n",
    "        Point(0.0, 0.0, 0.0),\n",
    "        [[1.0, 0.0, 0.0], [0.0, 1.0, 0.0], [0.0, 0.0, 1.0]],\n",
    "        [1.0, 0.0, 0.0],\n",
    "    )\n",
    ")\n",
    "inertia_tensor = np.identity(3)\n",
    "surface_area = 0.8\n",
    "drag_coefficient = 2.2\n",
    "\n",
    "satellite_system = SatelliteSystem(\n",
    "    mass, satellite_geometry, inertia_tensor, surface_area, drag_coefficient\n",
    ")"
   ]
  },
  {
   "cell_type": "markdown",
   "id": "1f52bde7-769f-48f0-a4fe-6e651b2a79b2",
   "metadata": {},
   "source": [
    "### **Define the initial `State` of the `SatelliteSystem`:**\n",
    "* ` start_instant `\n",
    "* ` start_position `\n",
    "* ` start_velocity `"
   ]
  },
  {
   "cell_type": "code",
   "execution_count": null,
   "id": "e5733b75-47f1-43d7-91f7-03d25ad78c24",
   "metadata": {},
   "outputs": [],
   "source": [
    "start_instant = Instant.date_time(DateTime.parse(\"2023-03-20T00:00:00.000\"), Scale.UTC)\n",
    "\n",
    "start_position = Position.meters(\n",
    "    [-1514668.9408102570269, -192084.12149140036718, 6831711.4584368728174],\n",
    "    Frame.GCRF(),\n",
    ")\n",
    "start_velocity = Velocity.meters_per_second(\n",
    "    [-6348.0791876050259859, 3867.5824926981121621, -1297.1761044290490705],\n",
    "    Frame.GCRF(),\n",
    ")\n",
    "\n",
    "start_state = State(start_instant, start_position, start_velocity)"
   ]
  },
  {
   "cell_type": "markdown",
   "id": "b2998e0c-d4f7-4a43-b8ee-81bfdc61b794",
   "metadata": {},
   "source": [
    "### **Define the Dynamics to consider for Propagation**\n",
    "* Central Body Gravity\n",
    "* Third Body Gravity\n",
    "* Atmospheric Drag\n",
    "* (Soon) Thruster Dynamics"
   ]
  },
  {
   "cell_type": "code",
   "execution_count": null,
   "id": "3fee0012-276a-4009-91b7-6b667954d2a4",
   "metadata": {},
   "outputs": [],
   "source": [
    "earth = Earth.from_models(\n",
    "    EarthGravitationalModel(\n",
    "        EarthGravitationalModel.Type.EGM2008,\n",
    "        Directory.undefined(),\n",
    "        20,\n",
    "        20,\n",
    "    ),\n",
    "    EarthMagneticModel(EarthMagneticModel.Type.Undefined),\n",
    "    EarthAtmosphericModel(EarthAtmosphericModel.Type.Exponential),\n",
    ")\n",
    "central_body_gravity = CentralBodyGravity(earth)\n",
    "sun_third_body_gravity = ThirdBodyGravity(Sun.default())\n",
    "moon_third_body_gravity = ThirdBodyGravity(Moon.default())\n",
    "atmospheric_drag = AtmosphericDrag(earth, satellite_system)"
   ]
  },
  {
   "cell_type": "code",
   "execution_count": null,
   "id": "7ace3d58-d4b5-4474-87c2-0872fab2e24a",
   "metadata": {},
   "outputs": [],
   "source": [
    "dynamics_list = [\n",
    "    central_body_gravity,\n",
    "    sun_third_body_gravity,\n",
    "    moon_third_body_gravity,\n",
    "    atmospheric_drag,\n",
    "    PositionDerivative(),  # Required by default\n",
    "]"
   ]
  },
  {
   "cell_type": "markdown",
   "id": "2f9776c4-dab0-42e0-8cbf-216a08a2d020",
   "metadata": {},
   "source": [
    "### **Define a `NumericalSolver` (leveraging `boost::numeric::odeint`) for numerical integration with:**\n",
    "* `NumericalSolver.LogType`\n",
    "* `NumericalSolver.StepperType`\n",
    "* `TimeStep`\n",
    "* `RelativeTolerance`\n",
    "* `AbsoluteTolerance`\n",
    "\n",
    "Alternatively, you can use `NumericalSolver.default()`"
   ]
  },
  {
   "cell_type": "code",
   "execution_count": null,
   "id": "5f137e6a-9805-4d7b-826a-559a90ff4bbf",
   "metadata": {},
   "outputs": [],
   "source": [
    "numerical_solver = NumericalSolver(\n",
    "    NumericalSolver.LogType.NoLog,\n",
    "    NumericalSolver.StepperType.RungeKuttaFehlberg78,\n",
    "    5.0,\n",
    "    1.0e-15,\n",
    "    1.0e-15,\n",
    ")"
   ]
  },
  {
   "cell_type": "markdown",
   "id": "70f9233a-9011-4577-8295-7d97de8e34f5",
   "metadata": {},
   "source": [
    "### **Define a `Propagator`**"
   ]
  },
  {
   "cell_type": "code",
   "execution_count": null,
   "id": "87316d58-9ce1-49df-993d-17415f8ab84b",
   "metadata": {},
   "outputs": [],
   "source": [
    "propagator = Propagator(numerical_solver, dynamics_list)"
   ]
  },
  {
   "cell_type": "markdown",
   "id": "9ec01767-37ec-4e2b-8776-f1c94d0f9635",
   "metadata": {},
   "source": [
    "## Propagate"
   ]
  },
  {
   "cell_type": "markdown",
   "id": "20320e50-09e7-4f77-ab3c-d5dc1b416d09",
   "metadata": {},
   "source": [
    "Define the propagation `instants` of interest"
   ]
  },
  {
   "cell_type": "code",
   "execution_count": null,
   "id": "87521300-d2b0-460f-a5d0-c177ba77c31a",
   "metadata": {},
   "outputs": [],
   "source": [
    "instants = Interval.closed(\n",
    "    start_state.get_instant(), start_state.get_instant() + Duration.minutes(15.0)\n",
    ").generate_grid(Duration.seconds(15.0))"
   ]
  },
  {
   "cell_type": "markdown",
   "id": "ebbc5967-bf18-4295-8f0d-b20036fee996",
   "metadata": {},
   "source": [
    "Propagate from `start_state` for all `instants` defined"
   ]
  },
  {
   "cell_type": "code",
   "execution_count": null,
   "id": "733029d6-eabe-41db-a362-c6d19d3f4d19",
   "metadata": {},
   "outputs": [],
   "source": [
    "states = propagator.calculate_states_at(start_state, instants)"
   ]
  },
  {
   "cell_type": "markdown",
   "id": "6ba26eb6-6c6c-434a-bd96-97358f76bb1c",
   "metadata": {},
   "source": [
    "Format the output data"
   ]
  },
  {
   "cell_type": "code",
   "execution_count": null,
   "id": "21ff276f-5eb2-4d58-842d-9a2aff34b922",
   "metadata": {},
   "outputs": [],
   "source": [
    "data = [convert_state(state.get_instant(), state) for state in states]"
   ]
  },
  {
   "cell_type": "markdown",
   "id": "05800ef5-2291-4970-a5c7-03f723f8fc25",
   "metadata": {},
   "source": [
    "Compute classical orbital elements for each state propagated"
   ]
  },
  {
   "cell_type": "code",
   "execution_count": null,
   "id": "8527ff48-1fe6-4c32-9d1f-eb51e509c8c4",
   "metadata": {},
   "outputs": [],
   "source": [
    "for i, state in enumerate(states):\n",
    "    coe = COE.cartesian(\n",
    "        (state.get_position(), state.get_velocity()),\n",
    "        earth.get_gravitational_parameter(),\n",
    "    )\n",
    "    data[i] += [\n",
    "        coe.get_semi_major_axis().in_kilometers(),\n",
    "        coe.get_raan().in_degrees(),\n",
    "    ]"
   ]
  },
  {
   "cell_type": "code",
   "execution_count": null,
   "id": "882e4e75-5678-46c2-9e1b-008198dd75c3",
   "metadata": {},
   "outputs": [],
   "source": [
    "orbit_df = pd.DataFrame(\n",
    "    data,\n",
    "    columns=[\n",
    "        \"$Time^{UTC}$\",\n",
    "        \"$MJD^{UTC}$\",\n",
    "        \"$x_{x}^{ECI}$\",\n",
    "        \"$x_{y}^{ECI}$\",\n",
    "        \"$x_{z}^{ECI}$\",\n",
    "        \"$v_{x}^{ECI}$\",\n",
    "        \"$v_{y}^{ECI}$\",\n",
    "        \"$v_{z}^{ECI}$\",\n",
    "        \"$Latitude$\",\n",
    "        \"$Longitude$\",\n",
    "        \"$Altitude$\",\n",
    "        \"$SemiMajorAxisKm$\",\n",
    "        \"$RaanDegrees$\",\n",
    "    ],\n",
    ")"
   ]
  },
  {
   "cell_type": "markdown",
   "id": "97eb96ec-75f7-4456-8474-d50c9ffbfdc2",
   "metadata": {},
   "source": [
    "## Display"
   ]
  },
  {
   "cell_type": "code",
   "execution_count": null,
   "id": "51c7d306-b595-4da7-b8c3-1f4bd0f3da95",
   "metadata": {},
   "outputs": [],
   "source": [
    "orbit_df.head()"
   ]
  },
  {
   "cell_type": "markdown",
   "id": "b890656b-32a6-4b4d-974a-5bf4024c65fb",
   "metadata": {},
   "source": [
    "2D plot, over **World Map**:"
   ]
  },
  {
   "cell_type": "code",
   "execution_count": null,
   "id": "a73341b1-4af6-419b-b244-ec6b7611e0f4",
   "metadata": {},
   "outputs": [],
   "source": [
    "figure = create_2d_map(\n",
    "    data=go.Scattergeo(\n",
    "        lon=orbit_df[\"$Longitude$\"],\n",
    "        lat=orbit_df[\"$Latitude$\"],\n",
    "        mode=\"lines\",\n",
    "        line=go.scattergeo.Line(width=1, color=\"red\"),\n",
    "    ),\n",
    ")\n",
    "\n",
    "figure.show()"
   ]
  },
  {
   "cell_type": "markdown",
   "id": "3953a421-6de2-4cd1-af79-6c6fb68e40eb",
   "metadata": {},
   "source": [
    "3D plot, in **Earth Fixed** frame:"
   ]
  },
  {
   "cell_type": "code",
   "execution_count": null,
   "id": "0acef4a5-3553-41f4-b420-1da8767fa091",
   "metadata": {},
   "outputs": [],
   "source": [
    "figure = create_3d_globe(\n",
    "    data=[\n",
    "        go.Scattergeo(\n",
    "            lon=orbit_df[\"$Longitude$\"],\n",
    "            lat=orbit_df[\"$Latitude$\"],\n",
    "            mode=\"lines\",\n",
    "            line=go.scattergeo.Line(width=2, color=\"rgb(255, 62, 79)\"),\n",
    "        )\n",
    "    ],\n",
    ")\n",
    "\n",
    "figure.show()"
   ]
  }
 ],
 "metadata": {
  "kernelspec": {
   "display_name": "Python 3 (ipykernel)",
   "language": "python",
   "name": "python3"
  },
  "language_info": {
   "codemirror_mode": {
    "name": "ipython",
    "version": 3
   },
   "file_extension": ".py",
   "mimetype": "text/x-python",
   "name": "python",
   "nbconvert_exporter": "python",
   "pygments_lexer": "ipython3",
   "version": "3.10.9"
  }
 },
 "nbformat": 4,
 "nbformat_minor": 5
}
