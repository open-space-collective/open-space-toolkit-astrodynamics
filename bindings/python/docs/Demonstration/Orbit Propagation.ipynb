{
 "cells": [
  {
   "cell_type": "markdown",
   "id": "c2e53157-1163-4576-961d-d967f637ad5b",
   "metadata": {},
   "source": [
    "# Orbit Propagation Demo "
   ]
  },
  {
   "cell_type": "markdown",
   "id": "811e8c84-80e4-421d-882a-0058573fdbdf",
   "metadata": {},
   "source": [
    "This tutorial demonstrates how to perform orbit propagation through numerical integration."
   ]
  },
  {
   "cell_type": "markdown",
   "id": "47e2a184-5552-4b1f-98d3-9d090e789e04",
   "metadata": {
    "tags": []
   },
   "source": [
    "## Imports"
   ]
  },
  {
   "cell_type": "code",
   "execution_count": 1,
   "id": "425aba54-9837-4bbe-90b9-a2b659991e0c",
   "metadata": {},
   "outputs": [],
   "source": [
    "import numpy as np\n",
    "import pandas as pd\n",
    "import plotly.graph_objs as go\n",
    "from ostk.astrodynamics.trajectory.state import NumericalSolver\n",
    "from ostk.astrodynamics.display import create_2d_map, create_3d_globe\n",
    "from ostk.astrodynamics.flight.system import Dynamics, SatelliteSystem, PropulsionSystem\n",
    "from ostk.astrodynamics.trajectory import LocalOrbitalFrameFactory\n",
    "from ostk.astrodynamics.trajectory import LocalOrbitalFrameDirection\n",
    "from ostk.astrodynamics.trajectory.state import CoordinatesSubset\n",
    "from ostk.astrodynamics.trajectory.state.coordinates_subset import CartesianPosition\n",
    "from ostk.astrodynamics.trajectory.state.coordinates_subset import CartesianVelocity\n",
    "from ostk.astrodynamics.trajectory.state import CoordinatesBroker\n",
    "from ostk.astrodynamics.flight.system.dynamics import (\n",
    "    AtmosphericDrag,\n",
    "    CentralBodyGravity,\n",
    "    PositionDerivative,\n",
    "    ThirdBodyGravity,\n",
    ")\n",
    "from ostk.astrodynamics.flight.system.dynamics.thruster import ConstantThrustThruster\n",
    "from ostk.astrodynamics.trajectory import Orbit, Propagator, State\n",
    "from ostk.astrodynamics.trajectory.orbit.models.kepler import COE\n",
    "from ostk.core.filesystem import Directory\n",
    "from ostk.mathematics.geometry.d3.objects import Composite, Cuboid, Point\n",
    "from ostk.physics import Environment\n",
    "from ostk.physics.coordinate import Frame, Position, Velocity\n",
    "from ostk.physics.coordinate.spherical import LLA\n",
    "from ostk.physics.environment.atmospheric import Earth as EarthAtmosphericModel\n",
    "from ostk.physics.environment.gravitational import Earth as EarthGravitationalModel\n",
    "from ostk.physics.environment.magnetic import Earth as EarthMagneticModel\n",
    "from ostk.physics.environment.objects.celestial_bodies import Earth, Moon, Sun\n",
    "from ostk.physics.time import DateTime, Duration, Instant, Interval, Scale\n",
    "from ostk.physics.units import Mass"
   ]
  },
  {
   "cell_type": "markdown",
   "id": "80c904a3-c001-4f70-b1f5-2f844745230a",
   "metadata": {},
   "source": [
    "## Simulation Setup"
   ]
  },
  {
   "cell_type": "markdown",
   "id": "529e4a7d-fc49-4038-a7a0-5130cccf2789",
   "metadata": {},
   "source": [
    "### **Define the physical `Environment`**"
   ]
  },
  {
   "cell_type": "code",
   "execution_count": 2,
   "id": "9721bee3-43c4-42d5-9e5c-923c8fd3eae3",
   "metadata": {},
   "outputs": [],
   "source": [
    "instant_J2000 = Instant.J2000()\n",
    "celestial_objects = [\n",
    "    Earth.EGM96(360, 360),  # Earth.EGM2008(), Earth.WGS84_EGM96(), Earth.EGM84(180, 180)\n",
    "    Sun.default(),\n",
    "    Moon.default(),\n",
    "]\n",
    "\n",
    "environment = Environment(instant_J2000, celestial_objects)"
   ]
  },
  {
   "cell_type": "markdown",
   "id": "875b8d02",
   "metadata": {},
   "source": [
    "### **Define the `PropulsionSystem` with properties:**\n",
    "* `Thrust` (Newton)\n",
    "* `SpecificImpusle` (s)"
   ]
  },
  {
   "cell_type": "code",
   "execution_count": 3,
   "id": "a55d216c",
   "metadata": {},
   "outputs": [],
   "source": [
    "propulsion_system = PropulsionSystem(\n",
    "    1.0,\n",
    "    150.0,\n",
    ")"
   ]
  },
  {
   "cell_type": "markdown",
   "id": "6d7ebe52",
   "metadata": {},
   "source": [
    "### **Define the Thrust Direction in Local Orbital Frame:**"
   ]
  },
  {
   "cell_type": "code",
   "execution_count": 4,
   "id": "79e176a9",
   "metadata": {},
   "outputs": [],
   "source": [
    "thrust_direction = LocalOrbitalFrameDirection(\n",
    "    [1.0, 0.0, 0.0],\n",
    "    LocalOrbitalFrameFactory.VNC(Frame.GCRF()),\n",
    ")"
   ]
  },
  {
   "cell_type": "markdown",
   "id": "0d4219c3-dae0-4ac0-8119-fecfa3326090",
   "metadata": {},
   "source": [
    "### **Define the `SatelliteSystem` with properties:**\n",
    "* `Mass`\n",
    "* `Geometry`\n",
    "* `Inertia Tensor`\n",
    "* `Surface Area`\n",
    "* `Drag Coefficient`"
   ]
  },
  {
   "cell_type": "code",
   "execution_count": 5,
   "id": "abc82d8a-9f53-438c-82de-6236df48ae28",
   "metadata": {},
   "outputs": [],
   "source": [
    "mass = Mass(90.0, Mass.Unit.Kilogram)\n",
    "satellite_geometry = Composite(\n",
    "    Cuboid(\n",
    "        Point(0.0, 0.0, 0.0),\n",
    "        [[1.0, 0.0, 0.0], [0.0, 1.0, 0.0], [0.0, 0.0, 1.0]],\n",
    "        [1.0, 0.0, 0.0],\n",
    "    )\n",
    ")\n",
    "inertia_tensor = np.identity(3)\n",
    "surface_area = 0.8\n",
    "drag_coefficient = 2.2\n",
    "\n",
    "satellite_system = SatelliteSystem(\n",
    "    mass,\n",
    "    satellite_geometry,\n",
    "    inertia_tensor,\n",
    "    surface_area,\n",
    "    drag_coefficient,\n",
    "    propulsion_system,\n",
    ")"
   ]
  },
  {
   "cell_type": "markdown",
   "id": "1f52bde7-769f-48f0-a4fe-6e651b2a79b2",
   "metadata": {},
   "source": [
    "### **Define the initial `State` of the `SatelliteSystem`**:"
   ]
  },
  {
   "cell_type": "code",
   "execution_count": 6,
   "id": "e5733b75-47f1-43d7-91f7-03d25ad78c24",
   "metadata": {},
   "outputs": [],
   "source": [
    "coordinates_broker = CoordinatesBroker(\n",
    "    [\n",
    "        CartesianPosition.default(),\n",
    "        CartesianVelocity.default(),\n",
    "        CoordinatesSubset.mass(),\n",
    "    ]\n",
    ")\n",
    "\n",
    "start_instant = Instant.date_time(DateTime.parse(\"2023-03-20T00:00:00.000\"), Scale.UTC)\n",
    "propellant_mass_kilograms = 15.0\n",
    "coordinates = [\n",
    "    -1514668.9408102570269,\n",
    "    -192084.12149140036718,\n",
    "    6831711.4584368728174,\n",
    "    -6348.0791876050259859,\n",
    "    3867.5824926981121621,\n",
    "    -1297.1761044290490705,\n",
    "    satellite_system.get_mass().in_kilograms() + propellant_mass_kilograms,\n",
    "]\n",
    "\n",
    "start_state = State(start_instant, coordinates, Frame.GCRF(), coordinates_broker)"
   ]
  },
  {
   "cell_type": "markdown",
   "id": "b2998e0c-d4f7-4a43-b8ee-81bfdc61b794",
   "metadata": {},
   "source": [
    "### **Define the Dynamics to consider for Propagation**\n",
    "* Central Body Gravity\n",
    "* Third Body Gravity\n",
    "* Atmospheric Drag\n",
    "* Thruster Dynamics (Constant Thrust through propagation)"
   ]
  },
  {
   "cell_type": "code",
   "execution_count": 7,
   "id": "3fee0012-276a-4009-91b7-6b667954d2a4",
   "metadata": {},
   "outputs": [],
   "source": [
    "earth = Earth.from_models(\n",
    "    EarthGravitationalModel(\n",
    "        EarthGravitationalModel.Type.EGM2008,\n",
    "        Directory.undefined(),\n",
    "        20,\n",
    "        20,\n",
    "    ),\n",
    "    EarthMagneticModel(EarthMagneticModel.Type.Undefined),\n",
    "    EarthAtmosphericModel(EarthAtmosphericModel.Type.Exponential),\n",
    ")\n",
    "central_body_gravity = CentralBodyGravity(earth)\n",
    "sun_third_body_gravity = ThirdBodyGravity(Sun.default())\n",
    "moon_third_body_gravity = ThirdBodyGravity(Moon.default())\n",
    "atmospheric_drag = AtmosphericDrag(earth, satellite_system)\n",
    "constant_thrust_thruster = ConstantThrustThruster(satellite_system, thrust_direction)"
   ]
  },
  {
   "cell_type": "code",
   "execution_count": 8,
   "id": "7ace3d58-d4b5-4474-87c2-0872fab2e24a",
   "metadata": {},
   "outputs": [],
   "source": [
    "dynamics_list = [\n",
    "    central_body_gravity,\n",
    "    sun_third_body_gravity,\n",
    "    moon_third_body_gravity,\n",
    "    atmospheric_drag,\n",
    "    constant_thrust_thruster,\n",
    "    PositionDerivative(),  # Required by default\n",
    "]"
   ]
  },
  {
   "cell_type": "markdown",
   "id": "2f9776c4-dab0-42e0-8cbf-216a08a2d020",
   "metadata": {},
   "source": [
    "### **Define a `NumericalSolver` (leveraging `boost::numeric::odeint`) for numerical integration with:**\n",
    "* `NumericalSolver.LogType`\n",
    "* `NumericalSolver.StepperType`\n",
    "* `TimeStep`\n",
    "* `RelativeTolerance`\n",
    "* `AbsoluteTolerance`\n",
    "\n",
    "Alternatively, you can use `NumericalSolver.default()`"
   ]
  },
  {
   "cell_type": "code",
   "execution_count": 9,
   "id": "5f137e6a-9805-4d7b-826a-559a90ff4bbf",
   "metadata": {},
   "outputs": [],
   "source": [
    "numerical_solver = NumericalSolver(\n",
    "    NumericalSolver.LogType.NoLog,\n",
    "    NumericalSolver.StepperType.RungeKuttaFehlberg78,\n",
    "    5.0,\n",
    "    1.0e-15,\n",
    "    1.0e-15,\n",
    ")"
   ]
  },
  {
   "cell_type": "markdown",
   "id": "70f9233a-9011-4577-8295-7d97de8e34f5",
   "metadata": {},
   "source": [
    "### **Define a `Propagator`**"
   ]
  },
  {
   "cell_type": "code",
   "execution_count": 10,
   "id": "87316d58-9ce1-49df-993d-17415f8ab84b",
   "metadata": {},
   "outputs": [],
   "source": [
    "propagator = Propagator(numerical_solver, dynamics_list)"
   ]
  },
  {
   "cell_type": "markdown",
   "id": "9ec01767-37ec-4e2b-8776-f1c94d0f9635",
   "metadata": {},
   "source": [
    "## Propagate"
   ]
  },
  {
   "cell_type": "markdown",
   "id": "20320e50-09e7-4f77-ab3c-d5dc1b416d09",
   "metadata": {},
   "source": [
    "Define the propagation `instants` of interest"
   ]
  },
  {
   "cell_type": "code",
   "execution_count": 11,
   "id": "87521300-d2b0-460f-a5d0-c177ba77c31a",
   "metadata": {},
   "outputs": [],
   "source": [
    "instants = Interval.closed(\n",
    "    start_state.get_instant(), start_state.get_instant() + Duration.minutes(60.0)\n",
    ").generate_grid(Duration.seconds(30.0))"
   ]
  },
  {
   "cell_type": "markdown",
   "id": "ebbc5967-bf18-4295-8f0d-b20036fee996",
   "metadata": {},
   "source": [
    "Propagate from `start_state` for all `instants` defined"
   ]
  },
  {
   "cell_type": "code",
   "execution_count": 12,
   "id": "733029d6-eabe-41db-a362-c6d19d3f4d19",
   "metadata": {},
   "outputs": [
    {
     "name": "stdout",
     "output_type": "stream",
     "text": [
      "Locking local repository [/usr/local/share/open-space-toolkit-data/data]...\n",
      "Fetching Data Manifest from [https://github.com/open-space-collective/open-space-toolkit-data/raw/main/data/manifest.json]...\n",
      "Unlocking local repository [/usr/local/share/open-space-toolkit-data/data]...\n",
      "Data  Manifest [/usr/local/share/open-space-toolkit-data/data/manifest.json] has been successfully fetched from [https://github.com/open-space-collective/open-space-toolkit-data/raw/main/data/manifest.json].\n"
     ]
    }
   ],
   "source": [
    "states = propagator.calculate_states_at(start_state, instants)"
   ]
  },
  {
   "cell_type": "markdown",
   "id": "6ba26eb6-6c6c-434a-bd96-97358f76bb1c",
   "metadata": {},
   "source": [
    "Format the output data"
   ]
  },
  {
   "cell_type": "code",
   "execution_count": 24,
   "id": "8aad135b-34b9-410b-83a7-06b67ad5dc5e",
   "metadata": {},
   "outputs": [],
   "source": [
    "def convert_state_with_mass(\n",
    "    instant: Instant, coordinates_broker: CoordinatesBroker, state: State\n",
    ") -> list:\n",
    "    \"\"\"\n",
    "    Convert an input (Instant, State) into dataframe-ready values. Including mass.\n",
    "    \"\"\"\n",
    "\n",
    "    lla = LLA.cartesian(\n",
    "        state.get_position()\n",
    "        .in_frame(Frame.ITRF(), state.get_instant())\n",
    "        .get_coordinates(),\n",
    "        EarthGravitationalModel.EGM2008.equatorial_radius,\n",
    "        EarthGravitationalModel.EGM2008.flattening,\n",
    "    )\n",
    "\n",
    "    return [\n",
    "        repr(instant),\n",
    "        float(instant.get_modified_julian_date(Scale.UTC)),\n",
    "        *state.get_position().get_coordinates().transpose().tolist(),\n",
    "        *state.get_velocity().get_coordinates().transpose().tolist(),\n",
    "        state.extract_coordinates(CoordinatesSubset.mass())[0],\n",
    "        float(lla.get_latitude().in_degrees()),\n",
    "        float(lla.get_longitude().in_degrees()),\n",
    "        float(lla.get_altitude().in_meters()),\n",
    "    ]"
   ]
  },
  {
   "cell_type": "code",
   "execution_count": 25,
   "id": "21ff276f-5eb2-4d58-842d-9a2aff34b922",
   "metadata": {},
   "outputs": [],
   "source": [
    "data = [\n",
    "    convert_state_with_mass(state.get_instant(), coordinates_broker, state)\n",
    "    for state in states\n",
    "]"
   ]
  },
  {
   "cell_type": "markdown",
   "id": "05800ef5-2291-4970-a5c7-03f723f8fc25",
   "metadata": {},
   "source": [
    "Compute classical orbital elements for each state propagated"
   ]
  },
  {
   "cell_type": "code",
   "execution_count": 26,
   "id": "8527ff48-1fe6-4c32-9d1f-eb51e509c8c4",
   "metadata": {},
   "outputs": [],
   "source": [
    "for i, state in enumerate(states):\n",
    "    coe = COE.cartesian(\n",
    "        (state.get_position(), state.get_velocity()),\n",
    "        earth.get_gravitational_parameter(),\n",
    "    )\n",
    "    data[i] += [\n",
    "        coe.get_semi_major_axis().in_kilometers(),\n",
    "        coe.get_raan().in_degrees(),\n",
    "    ]"
   ]
  },
  {
   "cell_type": "code",
   "execution_count": 27,
   "id": "882e4e75-5678-46c2-9e1b-008198dd75c3",
   "metadata": {},
   "outputs": [],
   "source": [
    "orbit_df = pd.DataFrame(\n",
    "    data,\n",
    "    columns=[\n",
    "        \"$Time^{UTC}$\",\n",
    "        \"$MJD^{UTC}$\",\n",
    "        \"$x_{x}^{ECI}$\",\n",
    "        \"$x_{y}^{ECI}$\",\n",
    "        \"$x_{z}^{ECI}$\",\n",
    "        \"$v_{x}^{ECI}$\",\n",
    "        \"$v_{y}^{ECI}$\",\n",
    "        \"$v_{z}^{ECI}$\",\n",
    "        \"$Mass$\",\n",
    "        \"$Latitude$\",\n",
    "        \"$Longitude$\",\n",
    "        \"$Altitude$\",\n",
    "        \"$SemiMajorAxisKm$\",\n",
    "        \"$RaanDegrees$\",\n",
    "    ],\n",
    ")"
   ]
  },
  {
   "cell_type": "markdown",
   "id": "97eb96ec-75f7-4456-8474-d50c9ffbfdc2",
   "metadata": {},
   "source": [
    "## Display"
   ]
  },
  {
   "cell_type": "code",
   "execution_count": 28,
   "id": "51c7d306-b595-4da7-b8c3-1f4bd0f3da95",
   "metadata": {},
   "outputs": [
    {
     "data": {
      "text/html": [
       "<div>\n",
       "<style scoped>\n",
       "    .dataframe tbody tr th:only-of-type {\n",
       "        vertical-align: middle;\n",
       "    }\n",
       "\n",
       "    .dataframe tbody tr th {\n",
       "        vertical-align: top;\n",
       "    }\n",
       "\n",
       "    .dataframe thead th {\n",
       "        text-align: right;\n",
       "    }\n",
       "</style>\n",
       "<table border=\"1\" class=\"dataframe\">\n",
       "  <thead>\n",
       "    <tr style=\"text-align: right;\">\n",
       "      <th></th>\n",
       "      <th>$Time^{UTC}$</th>\n",
       "      <th>$MJD^{UTC}$</th>\n",
       "      <th>$x_{x}^{ECI}$</th>\n",
       "      <th>$x_{y}^{ECI}$</th>\n",
       "      <th>$x_{z}^{ECI}$</th>\n",
       "      <th>$v_{x}^{ECI}$</th>\n",
       "      <th>$v_{y}^{ECI}$</th>\n",
       "      <th>$v_{z}^{ECI}$</th>\n",
       "      <th>$Mass$</th>\n",
       "      <th>$Latitude$</th>\n",
       "      <th>$Longitude$</th>\n",
       "      <th>$Altitude$</th>\n",
       "      <th>$SemiMajorAxisKm$</th>\n",
       "      <th>$RaanDegrees$</th>\n",
       "    </tr>\n",
       "  </thead>\n",
       "  <tbody>\n",
       "    <tr>\n",
       "      <th>0</th>\n",
       "      <td>2023-03-20 00:00:00 [UTC]</td>\n",
       "      <td>60023.000000</td>\n",
       "      <td>-1.514669e+06</td>\n",
       "      <td>-192084.121491</td>\n",
       "      <td>6.831711e+06</td>\n",
       "      <td>-6348.079188</td>\n",
       "      <td>3867.582493</td>\n",
       "      <td>-1297.176104</td>\n",
       "      <td>105.000000</td>\n",
       "      <td>77.349678</td>\n",
       "      <td>10.189623</td>\n",
       "      <td>642457.261884</td>\n",
       "      <td>7000.0000000000073</td>\n",
       "      <td>330.00000076688912</td>\n",
       "    </tr>\n",
       "    <tr>\n",
       "      <th>1</th>\n",
       "      <td>2023-03-20 00:00:30 [UTC]</td>\n",
       "      <td>60023.000347</td>\n",
       "      <td>-1.704294e+06</td>\n",
       "      <td>-75974.601253</td>\n",
       "      <td>6.789239e+06</td>\n",
       "      <td>-6292.492365</td>\n",
       "      <td>3872.381028</td>\n",
       "      <td>-1534.109550</td>\n",
       "      <td>104.979606</td>\n",
       "      <td>75.849842</td>\n",
       "      <td>5.437398</td>\n",
       "      <td>642256.719762</td>\n",
       "      <td>7000.7609353413063</td>\n",
       "      <td>330.00063910333813</td>\n",
       "    </tr>\n",
       "    <tr>\n",
       "      <th>2</th>\n",
       "      <td>2023-03-20 00:01:00 [UTC]</td>\n",
       "      <td>60023.000694</td>\n",
       "      <td>-1.892153e+06</td>\n",
       "      <td>40218.448559</td>\n",
       "      <td>6.739681e+06</td>\n",
       "      <td>-6230.352266</td>\n",
       "      <td>3873.150538</td>\n",
       "      <td>-1769.466075</td>\n",
       "      <td>104.959211</td>\n",
       "      <td>74.277980</td>\n",
       "      <td>1.573325</td>\n",
       "      <td>642034.405171</td>\n",
       "      <td>7001.5572954774916</td>\n",
       "      <td>330.00126921694272</td>\n",
       "    </tr>\n",
       "    <tr>\n",
       "      <th>3</th>\n",
       "      <td>2023-03-20 00:01:30 [UTC]</td>\n",
       "      <td>60023.001042</td>\n",
       "      <td>-2.078050e+06</td>\n",
       "      <td>156374.124500</td>\n",
       "      <td>6.683089e+06</td>\n",
       "      <td>-6161.722134</td>\n",
       "      <td>3869.889533</td>\n",
       "      <td>-2003.000847</td>\n",
       "      <td>104.938817</td>\n",
       "      <td>72.653524</td>\n",
       "      <td>-1.617427</td>\n",
       "      <td>641791.865389</td>\n",
       "      <td>7002.3879111260521</td>\n",
       "      <td>330.00188974555323</td>\n",
       "    </tr>\n",
       "    <tr>\n",
       "      <th>4</th>\n",
       "      <td>2023-03-20 00:02:00 [UTC]</td>\n",
       "      <td>60023.001389</td>\n",
       "      <td>-2.261792e+06</td>\n",
       "      <td>272371.540580</td>\n",
       "      <td>6.619521e+06</td>\n",
       "      <td>-6086.671945</td>\n",
       "      <td>3862.600669</td>\n",
       "      <td>-2234.470703</td>\n",
       "      <td>104.918423</td>\n",
       "      <td>70.989814</td>\n",
       "      <td>-4.292954</td>\n",
       "      <td>641530.773182</td>\n",
       "      <td>7003.2514692529303</td>\n",
       "      <td>330.00249939391557</td>\n",
       "    </tr>\n",
       "  </tbody>\n",
       "</table>\n",
       "</div>"
      ],
      "text/plain": [
       "                $Time^{UTC}$   $MJD^{UTC}$  $x_{x}^{ECI}$  $x_{y}^{ECI}$  \\\n",
       "0  2023-03-20 00:00:00 [UTC]  60023.000000  -1.514669e+06 -192084.121491   \n",
       "1  2023-03-20 00:00:30 [UTC]  60023.000347  -1.704294e+06  -75974.601253   \n",
       "2  2023-03-20 00:01:00 [UTC]  60023.000694  -1.892153e+06   40218.448559   \n",
       "3  2023-03-20 00:01:30 [UTC]  60023.001042  -2.078050e+06  156374.124500   \n",
       "4  2023-03-20 00:02:00 [UTC]  60023.001389  -2.261792e+06  272371.540580   \n",
       "\n",
       "   $x_{z}^{ECI}$  $v_{x}^{ECI}$  $v_{y}^{ECI}$  $v_{z}^{ECI}$      $Mass$  \\\n",
       "0   6.831711e+06   -6348.079188    3867.582493   -1297.176104  105.000000   \n",
       "1   6.789239e+06   -6292.492365    3872.381028   -1534.109550  104.979606   \n",
       "2   6.739681e+06   -6230.352266    3873.150538   -1769.466075  104.959211   \n",
       "3   6.683089e+06   -6161.722134    3869.889533   -2003.000847  104.938817   \n",
       "4   6.619521e+06   -6086.671945    3862.600669   -2234.470703  104.918423   \n",
       "\n",
       "   $Latitude$  $Longitude$     $Altitude$   $SemiMajorAxisKm$  \\\n",
       "0   77.349678    10.189623  642457.261884  7000.0000000000073   \n",
       "1   75.849842     5.437398  642256.719762  7000.7609353413063   \n",
       "2   74.277980     1.573325  642034.405171  7001.5572954774916   \n",
       "3   72.653524    -1.617427  641791.865389  7002.3879111260521   \n",
       "4   70.989814    -4.292954  641530.773182  7003.2514692529303   \n",
       "\n",
       "        $RaanDegrees$  \n",
       "0  330.00000076688912  \n",
       "1  330.00063910333813  \n",
       "2  330.00126921694272  \n",
       "3  330.00188974555323  \n",
       "4  330.00249939391557  "
      ]
     },
     "execution_count": 28,
     "metadata": {},
     "output_type": "execute_result"
    }
   ],
   "source": [
    "orbit_df.head()"
   ]
  },
  {
   "cell_type": "markdown",
   "id": "b890656b-32a6-4b4d-974a-5bf4024c65fb",
   "metadata": {},
   "source": [
    "2D plot, over **World Map**:"
   ]
  },
  {
   "cell_type": "code",
   "execution_count": 29,
   "id": "a73341b1-4af6-419b-b244-ec6b7611e0f4",
   "metadata": {},
   "outputs": [
    {
     "data": {
      "application/vnd.plotly.v1+json": {
       "config": {
        "plotlyServerURL": "https://plot.ly"
       },
       "data": [
        {
         "lat": [
          77.34967773945404,
          75.84984162200398,
          74.27798037953669,
          72.65352446226808,
          70.98981423705033,
          69.29617443713147,
          67.57925269028645,
          65.8438819980774,
          64.09364232936143,
          62.33123209909788,
          60.55871829795914,
          58.77770800173258,
          56.989468078052845,
          55.19501016294616,
          53.395151951413226,
          51.59056206583267,
          49.78179335854215,
          47.96930794742509,
          46.15349625961824,
          44.33469167518364,
          42.51318189976415,
          40.6892178773522,
          38.86302083311543,
          37.03478788045211,
          35.204696515457165,
          33.37290824191858,
          31.539571511425095,
          29.704824119720875,
          27.868795167740835,
          26.03160667091389,
          24.193374881449206,
          22.354211374169886,
          20.514223936102816,
          18.67351729264813,
          16.832193697913322,
          14.990353412889124,
          13.148095091842897,
          11.305516094144433,
          9.462712735513367,
          7.619780489565996,
          5.7768141478786,
          3.9339079449750294,
          2.09115565392197,
          0.24865065852017348,
          -1.5935139909446443,
          -3.4352455303402643,
          -5.276451434023536,
          -7.11703935833769,
          -8.956917068694889,
          -10.795992344072564,
          -12.634172854009924,
          -14.471366003685997,
          -16.307478741980514,
          -18.142417325504134,
          -19.97608702873694,
          -21.808391787167746,
          -23.639233757211873,
          -25.468512773989573,
          -27.29612568564813,
          -29.12196554026088,
          -30.945920597540173,
          -32.76787313170519,
          -34.587697982926166,
          -36.4052608021589,
          -38.22041591734283,
          -40.033003727250666,
          -41.84284750167577,
          -43.64974943114856,
          -45.45348572262245,
          -47.25380047431891,
          -49.05039797544144,
          -50.84293295364567,
          -52.630998118975,
          -54.41410810392002,
          -56.191678539905006,
          -57.96299848620754,
          -59.72719365216998,
          -61.483176690441525,
          -63.229579066140644,
          -64.9646562613897,
          -66.68615375679651,
          -68.39111434294243,
          -70.07559619624627,
          -71.73425309207926,
          -73.35969891685782,
          -74.94153266947545,
          -76.46483350711323,
          -77.90786095675476,
          -79.2386973472093,
          -80.41096039171725,
          -81.36031708537817,
          -82.00739330399485,
          -82.2762656586409,
          -82.12845678944062,
          -81.58620534185677,
          -80.71863086523655,
          -79.60707049199834,
          -78.32111742946172,
          -76.91217117260801,
          -75.41589783539388,
          -73.85659875404951,
          -72.25089393111637,
          -70.61030918967113,
          -68.94298263468828,
          -67.25477075471447,
          -65.54996727402114,
          -63.83177590907542,
          -62.10262627236855,
          -60.36438867334965,
          -58.61852276393361,
          -56.86618217412742,
          -55.108289372789486,
          -53.34559004896355,
          -51.57869318265887,
          -49.80810096507347,
          -48.03423141729592,
          -46.25743568745993,
          -44.478011421172745,
          -42.6962132000776,
          -40.912260766229686,
          -39.12634555557605
         ],
         "line": {
          "color": "red",
          "width": 1
         },
         "lon": [
          10.189623485224471,
          5.4373977923474905,
          1.5733247801084007,
          -1.6174267072038901,
          -4.292953934679677,
          -6.5692283088063474,
          -8.53188255164221,
          -10.244849760752984,
          -11.756478613091309,
          -13.103820471051089,
          -14.31564112912015,
          -15.414553172143295,
          -16.418541901570407,
          -17.342069283771547,
          -18.19688441413978,
          -18.992623152740283,
          -19.737258691312093,
          -20.437443255616973,
          -21.098770097132245,
          -21.72597638807423,
          -22.32310184211584,
          -22.89361383373419,
          -23.44050692760145,
          -23.966382686212647,
          -24.473514150147516,
          -24.963898311822454,
          -25.439299114320296,
          -25.901282921295063,
          -26.35124796559418,
          -26.790448953583358,
          -27.220017750528577,
          -27.64098087968232,
          -28.054274419070435,
          -28.46075676466702,
          -28.861219806871954,
          -29.25639782025334,
          -29.64697684133264,
          -30.03360138223815,
          -30.41688117725378,
          -30.797397101788697,
          -31.17570655851032,
          -31.552348440027703,
          -31.92784776396882,
          -32.302720066094956,
          -32.677475629212374,
          -33.05262362079401,
          -33.428676209328714,
          -33.80615272903095,
          -34.18558396425869,
          -34.56751662880081,
          -34.95251812134312,
          -35.34118164678916,
          -35.73413180427256,
          -36.1320307570658,
          -36.53558511784963,
          -36.94555370631047,
          -37.362756365482554,
          -37.78808422917104,
          -38.222510703674246,
          -38.66710601770829,
          -39.12305238786226,
          -39.591662828477475,
          -40.07440323047955,
          -40.572918672519485,
          -41.08906497018632,
          -41.62494674431986,
          -42.182963652319536,
          -42.76586690830531,
          -43.37682886325585,
          -44.01952928785599,
          -44.69826318814958,
          -45.41807661711894,
          -46.18493921294523,
          -47.005965375419095,
          -47.889700499614385,
          -48.84649514029623,
          -49.888999316840184,
          -51.0328228026288,
          -52.29742731840516,
          -53.70734644770136,
          -55.29387199541378,
          -57.0974139083509,
          -59.17082813393994,
          -61.5841383002794,
          -64.43121653861382,
          -67.8390642961598,
          -71.98003095156609,
          -77.08568722122344,
          -83.45563289584112,
          -91.44007280010891,
          -101.34738714633164,
          -113.21310599636007,
          -126.48042466933136,
          -139.9484371229434,
          -152.30827111083738,
          -162.79774712562306,
          -171.3119153494186,
          -178.1110568930527,
          176.45214114781874,
          172.05957893291645,
          168.46037668118495,
          165.46649013849856,
          162.9392009357829,
          160.77615413965177,
          158.9012293274795,
          157.25717373520993,
          155.80037890263617,
          154.49719968085532,
          153.3213508498602,
          152.25205060392224,
          151.2726826323525,
          150.36982079581702,
          149.5325097448645,
          148.7517281438335,
          148.0199836391902,
          147.33100394528253,
          146.67949882552873,
          146.0609749200016,
          145.47159036492747,
          144.90803966366153,
          144.36746176650905
         ],
         "mode": "lines",
         "type": "scattergeo"
        }
       ],
       "layout": {
        "autosize": true,
        "geo": {
         "countrycolor": "rgb(204, 204, 204)",
         "landcolor": "rgb(243, 243, 243)",
         "lataxis": {
          "gridcolor": "rgb(102, 102, 102)",
          "gridwidth": 0.1,
          "showgrid": true
         },
         "lonaxis": {
          "gridcolor": "rgb(102, 102, 102)",
          "gridwidth": 0.1,
          "showgrid": true
         },
         "showland": true
        },
        "showlegend": false,
        "template": {
         "data": {
          "bar": [
           {
            "error_x": {
             "color": "#2a3f5f"
            },
            "error_y": {
             "color": "#2a3f5f"
            },
            "marker": {
             "line": {
              "color": "#E5ECF6",
              "width": 0.5
             },
             "pattern": {
              "fillmode": "overlay",
              "size": 10,
              "solidity": 0.2
             }
            },
            "type": "bar"
           }
          ],
          "barpolar": [
           {
            "marker": {
             "line": {
              "color": "#E5ECF6",
              "width": 0.5
             },
             "pattern": {
              "fillmode": "overlay",
              "size": 10,
              "solidity": 0.2
             }
            },
            "type": "barpolar"
           }
          ],
          "carpet": [
           {
            "aaxis": {
             "endlinecolor": "#2a3f5f",
             "gridcolor": "white",
             "linecolor": "white",
             "minorgridcolor": "white",
             "startlinecolor": "#2a3f5f"
            },
            "baxis": {
             "endlinecolor": "#2a3f5f",
             "gridcolor": "white",
             "linecolor": "white",
             "minorgridcolor": "white",
             "startlinecolor": "#2a3f5f"
            },
            "type": "carpet"
           }
          ],
          "choropleth": [
           {
            "colorbar": {
             "outlinewidth": 0,
             "ticks": ""
            },
            "type": "choropleth"
           }
          ],
          "contour": [
           {
            "colorbar": {
             "outlinewidth": 0,
             "ticks": ""
            },
            "colorscale": [
             [
              0,
              "#0d0887"
             ],
             [
              0.1111111111111111,
              "#46039f"
             ],
             [
              0.2222222222222222,
              "#7201a8"
             ],
             [
              0.3333333333333333,
              "#9c179e"
             ],
             [
              0.4444444444444444,
              "#bd3786"
             ],
             [
              0.5555555555555556,
              "#d8576b"
             ],
             [
              0.6666666666666666,
              "#ed7953"
             ],
             [
              0.7777777777777778,
              "#fb9f3a"
             ],
             [
              0.8888888888888888,
              "#fdca26"
             ],
             [
              1,
              "#f0f921"
             ]
            ],
            "type": "contour"
           }
          ],
          "contourcarpet": [
           {
            "colorbar": {
             "outlinewidth": 0,
             "ticks": ""
            },
            "type": "contourcarpet"
           }
          ],
          "heatmap": [
           {
            "colorbar": {
             "outlinewidth": 0,
             "ticks": ""
            },
            "colorscale": [
             [
              0,
              "#0d0887"
             ],
             [
              0.1111111111111111,
              "#46039f"
             ],
             [
              0.2222222222222222,
              "#7201a8"
             ],
             [
              0.3333333333333333,
              "#9c179e"
             ],
             [
              0.4444444444444444,
              "#bd3786"
             ],
             [
              0.5555555555555556,
              "#d8576b"
             ],
             [
              0.6666666666666666,
              "#ed7953"
             ],
             [
              0.7777777777777778,
              "#fb9f3a"
             ],
             [
              0.8888888888888888,
              "#fdca26"
             ],
             [
              1,
              "#f0f921"
             ]
            ],
            "type": "heatmap"
           }
          ],
          "heatmapgl": [
           {
            "colorbar": {
             "outlinewidth": 0,
             "ticks": ""
            },
            "colorscale": [
             [
              0,
              "#0d0887"
             ],
             [
              0.1111111111111111,
              "#46039f"
             ],
             [
              0.2222222222222222,
              "#7201a8"
             ],
             [
              0.3333333333333333,
              "#9c179e"
             ],
             [
              0.4444444444444444,
              "#bd3786"
             ],
             [
              0.5555555555555556,
              "#d8576b"
             ],
             [
              0.6666666666666666,
              "#ed7953"
             ],
             [
              0.7777777777777778,
              "#fb9f3a"
             ],
             [
              0.8888888888888888,
              "#fdca26"
             ],
             [
              1,
              "#f0f921"
             ]
            ],
            "type": "heatmapgl"
           }
          ],
          "histogram": [
           {
            "marker": {
             "pattern": {
              "fillmode": "overlay",
              "size": 10,
              "solidity": 0.2
             }
            },
            "type": "histogram"
           }
          ],
          "histogram2d": [
           {
            "colorbar": {
             "outlinewidth": 0,
             "ticks": ""
            },
            "colorscale": [
             [
              0,
              "#0d0887"
             ],
             [
              0.1111111111111111,
              "#46039f"
             ],
             [
              0.2222222222222222,
              "#7201a8"
             ],
             [
              0.3333333333333333,
              "#9c179e"
             ],
             [
              0.4444444444444444,
              "#bd3786"
             ],
             [
              0.5555555555555556,
              "#d8576b"
             ],
             [
              0.6666666666666666,
              "#ed7953"
             ],
             [
              0.7777777777777778,
              "#fb9f3a"
             ],
             [
              0.8888888888888888,
              "#fdca26"
             ],
             [
              1,
              "#f0f921"
             ]
            ],
            "type": "histogram2d"
           }
          ],
          "histogram2dcontour": [
           {
            "colorbar": {
             "outlinewidth": 0,
             "ticks": ""
            },
            "colorscale": [
             [
              0,
              "#0d0887"
             ],
             [
              0.1111111111111111,
              "#46039f"
             ],
             [
              0.2222222222222222,
              "#7201a8"
             ],
             [
              0.3333333333333333,
              "#9c179e"
             ],
             [
              0.4444444444444444,
              "#bd3786"
             ],
             [
              0.5555555555555556,
              "#d8576b"
             ],
             [
              0.6666666666666666,
              "#ed7953"
             ],
             [
              0.7777777777777778,
              "#fb9f3a"
             ],
             [
              0.8888888888888888,
              "#fdca26"
             ],
             [
              1,
              "#f0f921"
             ]
            ],
            "type": "histogram2dcontour"
           }
          ],
          "mesh3d": [
           {
            "colorbar": {
             "outlinewidth": 0,
             "ticks": ""
            },
            "type": "mesh3d"
           }
          ],
          "parcoords": [
           {
            "line": {
             "colorbar": {
              "outlinewidth": 0,
              "ticks": ""
             }
            },
            "type": "parcoords"
           }
          ],
          "pie": [
           {
            "automargin": true,
            "type": "pie"
           }
          ],
          "scatter": [
           {
            "fillpattern": {
             "fillmode": "overlay",
             "size": 10,
             "solidity": 0.2
            },
            "type": "scatter"
           }
          ],
          "scatter3d": [
           {
            "line": {
             "colorbar": {
              "outlinewidth": 0,
              "ticks": ""
             }
            },
            "marker": {
             "colorbar": {
              "outlinewidth": 0,
              "ticks": ""
             }
            },
            "type": "scatter3d"
           }
          ],
          "scattercarpet": [
           {
            "marker": {
             "colorbar": {
              "outlinewidth": 0,
              "ticks": ""
             }
            },
            "type": "scattercarpet"
           }
          ],
          "scattergeo": [
           {
            "marker": {
             "colorbar": {
              "outlinewidth": 0,
              "ticks": ""
             }
            },
            "type": "scattergeo"
           }
          ],
          "scattergl": [
           {
            "marker": {
             "colorbar": {
              "outlinewidth": 0,
              "ticks": ""
             }
            },
            "type": "scattergl"
           }
          ],
          "scattermapbox": [
           {
            "marker": {
             "colorbar": {
              "outlinewidth": 0,
              "ticks": ""
             }
            },
            "type": "scattermapbox"
           }
          ],
          "scatterpolar": [
           {
            "marker": {
             "colorbar": {
              "outlinewidth": 0,
              "ticks": ""
             }
            },
            "type": "scatterpolar"
           }
          ],
          "scatterpolargl": [
           {
            "marker": {
             "colorbar": {
              "outlinewidth": 0,
              "ticks": ""
             }
            },
            "type": "scatterpolargl"
           }
          ],
          "scatterternary": [
           {
            "marker": {
             "colorbar": {
              "outlinewidth": 0,
              "ticks": ""
             }
            },
            "type": "scatterternary"
           }
          ],
          "surface": [
           {
            "colorbar": {
             "outlinewidth": 0,
             "ticks": ""
            },
            "colorscale": [
             [
              0,
              "#0d0887"
             ],
             [
              0.1111111111111111,
              "#46039f"
             ],
             [
              0.2222222222222222,
              "#7201a8"
             ],
             [
              0.3333333333333333,
              "#9c179e"
             ],
             [
              0.4444444444444444,
              "#bd3786"
             ],
             [
              0.5555555555555556,
              "#d8576b"
             ],
             [
              0.6666666666666666,
              "#ed7953"
             ],
             [
              0.7777777777777778,
              "#fb9f3a"
             ],
             [
              0.8888888888888888,
              "#fdca26"
             ],
             [
              1,
              "#f0f921"
             ]
            ],
            "type": "surface"
           }
          ],
          "table": [
           {
            "cells": {
             "fill": {
              "color": "#EBF0F8"
             },
             "line": {
              "color": "white"
             }
            },
            "header": {
             "fill": {
              "color": "#C8D4E3"
             },
             "line": {
              "color": "white"
             }
            },
            "type": "table"
           }
          ]
         },
         "layout": {
          "annotationdefaults": {
           "arrowcolor": "#2a3f5f",
           "arrowhead": 0,
           "arrowwidth": 1
          },
          "autotypenumbers": "strict",
          "coloraxis": {
           "colorbar": {
            "outlinewidth": 0,
            "ticks": ""
           }
          },
          "colorscale": {
           "diverging": [
            [
             0,
             "#8e0152"
            ],
            [
             0.1,
             "#c51b7d"
            ],
            [
             0.2,
             "#de77ae"
            ],
            [
             0.3,
             "#f1b6da"
            ],
            [
             0.4,
             "#fde0ef"
            ],
            [
             0.5,
             "#f7f7f7"
            ],
            [
             0.6,
             "#e6f5d0"
            ],
            [
             0.7,
             "#b8e186"
            ],
            [
             0.8,
             "#7fbc41"
            ],
            [
             0.9,
             "#4d9221"
            ],
            [
             1,
             "#276419"
            ]
           ],
           "sequential": [
            [
             0,
             "#0d0887"
            ],
            [
             0.1111111111111111,
             "#46039f"
            ],
            [
             0.2222222222222222,
             "#7201a8"
            ],
            [
             0.3333333333333333,
             "#9c179e"
            ],
            [
             0.4444444444444444,
             "#bd3786"
            ],
            [
             0.5555555555555556,
             "#d8576b"
            ],
            [
             0.6666666666666666,
             "#ed7953"
            ],
            [
             0.7777777777777778,
             "#fb9f3a"
            ],
            [
             0.8888888888888888,
             "#fdca26"
            ],
            [
             1,
             "#f0f921"
            ]
           ],
           "sequentialminus": [
            [
             0,
             "#0d0887"
            ],
            [
             0.1111111111111111,
             "#46039f"
            ],
            [
             0.2222222222222222,
             "#7201a8"
            ],
            [
             0.3333333333333333,
             "#9c179e"
            ],
            [
             0.4444444444444444,
             "#bd3786"
            ],
            [
             0.5555555555555556,
             "#d8576b"
            ],
            [
             0.6666666666666666,
             "#ed7953"
            ],
            [
             0.7777777777777778,
             "#fb9f3a"
            ],
            [
             0.8888888888888888,
             "#fdca26"
            ],
            [
             1,
             "#f0f921"
            ]
           ]
          },
          "colorway": [
           "#636efa",
           "#EF553B",
           "#00cc96",
           "#ab63fa",
           "#FFA15A",
           "#19d3f3",
           "#FF6692",
           "#B6E880",
           "#FF97FF",
           "#FECB52"
          ],
          "font": {
           "color": "#2a3f5f"
          },
          "geo": {
           "bgcolor": "white",
           "lakecolor": "white",
           "landcolor": "#E5ECF6",
           "showlakes": true,
           "showland": true,
           "subunitcolor": "white"
          },
          "hoverlabel": {
           "align": "left"
          },
          "hovermode": "closest",
          "mapbox": {
           "style": "light"
          },
          "paper_bgcolor": "white",
          "plot_bgcolor": "#E5ECF6",
          "polar": {
           "angularaxis": {
            "gridcolor": "white",
            "linecolor": "white",
            "ticks": ""
           },
           "bgcolor": "#E5ECF6",
           "radialaxis": {
            "gridcolor": "white",
            "linecolor": "white",
            "ticks": ""
           }
          },
          "scene": {
           "xaxis": {
            "backgroundcolor": "#E5ECF6",
            "gridcolor": "white",
            "gridwidth": 2,
            "linecolor": "white",
            "showbackground": true,
            "ticks": "",
            "zerolinecolor": "white"
           },
           "yaxis": {
            "backgroundcolor": "#E5ECF6",
            "gridcolor": "white",
            "gridwidth": 2,
            "linecolor": "white",
            "showbackground": true,
            "ticks": "",
            "zerolinecolor": "white"
           },
           "zaxis": {
            "backgroundcolor": "#E5ECF6",
            "gridcolor": "white",
            "gridwidth": 2,
            "linecolor": "white",
            "showbackground": true,
            "ticks": "",
            "zerolinecolor": "white"
           }
          },
          "shapedefaults": {
           "line": {
            "color": "#2a3f5f"
           }
          },
          "ternary": {
           "aaxis": {
            "gridcolor": "white",
            "linecolor": "white",
            "ticks": ""
           },
           "baxis": {
            "gridcolor": "white",
            "linecolor": "white",
            "ticks": ""
           },
           "bgcolor": "#E5ECF6",
           "caxis": {
            "gridcolor": "white",
            "linecolor": "white",
            "ticks": ""
           }
          },
          "title": {
           "x": 0.05
          },
          "xaxis": {
           "automargin": true,
           "gridcolor": "white",
           "linecolor": "white",
           "ticks": "",
           "title": {
            "standoff": 15
           },
           "zerolinecolor": "white",
           "zerolinewidth": 2
          },
          "yaxis": {
           "automargin": true,
           "gridcolor": "white",
           "linecolor": "white",
           "ticks": "",
           "title": {
            "standoff": 15
           },
           "zerolinecolor": "white",
           "zerolinewidth": 2
          }
         }
        }
       }
      },
      "text/html": [
       "<div>                            <div id=\"108d2e11-69f2-46a1-9c69-46331437fb67\" class=\"plotly-graph-div\" style=\"height:1000px; width:100%;\"></div>            <script type=\"text/javascript\">                require([\"plotly\"], function(Plotly) {                    window.PLOTLYENV=window.PLOTLYENV || {};                                    if (document.getElementById(\"108d2e11-69f2-46a1-9c69-46331437fb67\")) {                    Plotly.newPlot(                        \"108d2e11-69f2-46a1-9c69-46331437fb67\",                        [{\"lat\":[77.34967773945404,75.84984162200398,74.27798037953669,72.65352446226808,70.98981423705033,69.29617443713147,67.57925269028645,65.8438819980774,64.09364232936143,62.33123209909788,60.55871829795914,58.77770800173258,56.989468078052845,55.19501016294616,53.395151951413226,51.59056206583267,49.78179335854215,47.96930794742509,46.15349625961824,44.33469167518364,42.51318189976415,40.6892178773522,38.86302083311543,37.03478788045211,35.204696515457165,33.37290824191858,31.539571511425095,29.704824119720875,27.868795167740835,26.03160667091389,24.193374881449206,22.354211374169886,20.514223936102816,18.67351729264813,16.832193697913322,14.990353412889124,13.148095091842897,11.305516094144433,9.462712735513367,7.619780489565996,5.7768141478786,3.9339079449750294,2.09115565392197,0.24865065852017348,-1.5935139909446443,-3.4352455303402643,-5.276451434023536,-7.11703935833769,-8.956917068694889,-10.795992344072564,-12.634172854009924,-14.471366003685997,-16.307478741980514,-18.142417325504134,-19.97608702873694,-21.808391787167746,-23.639233757211873,-25.468512773989573,-27.29612568564813,-29.12196554026088,-30.945920597540173,-32.76787313170519,-34.587697982926166,-36.4052608021589,-38.22041591734283,-40.033003727250666,-41.84284750167577,-43.64974943114856,-45.45348572262245,-47.25380047431891,-49.05039797544144,-50.84293295364567,-52.630998118975,-54.41410810392002,-56.191678539905006,-57.96299848620754,-59.72719365216998,-61.483176690441525,-63.229579066140644,-64.9646562613897,-66.68615375679651,-68.39111434294243,-70.07559619624627,-71.73425309207926,-73.35969891685782,-74.94153266947545,-76.46483350711323,-77.90786095675476,-79.2386973472093,-80.41096039171725,-81.36031708537817,-82.00739330399485,-82.2762656586409,-82.12845678944062,-81.58620534185677,-80.71863086523655,-79.60707049199834,-78.32111742946172,-76.91217117260801,-75.41589783539388,-73.85659875404951,-72.25089393111637,-70.61030918967113,-68.94298263468828,-67.25477075471447,-65.54996727402114,-63.83177590907542,-62.10262627236855,-60.36438867334965,-58.61852276393361,-56.86618217412742,-55.108289372789486,-53.34559004896355,-51.57869318265887,-49.80810096507347,-48.03423141729592,-46.25743568745993,-44.478011421172745,-42.6962132000776,-40.912260766229686,-39.12634555557605],\"line\":{\"color\":\"red\",\"width\":1},\"lon\":[10.189623485224471,5.4373977923474905,1.5733247801084007,-1.6174267072038901,-4.292953934679677,-6.5692283088063474,-8.53188255164221,-10.244849760752984,-11.756478613091309,-13.103820471051089,-14.31564112912015,-15.414553172143295,-16.418541901570407,-17.342069283771547,-18.19688441413978,-18.992623152740283,-19.737258691312093,-20.437443255616973,-21.098770097132245,-21.72597638807423,-22.32310184211584,-22.89361383373419,-23.44050692760145,-23.966382686212647,-24.473514150147516,-24.963898311822454,-25.439299114320296,-25.901282921295063,-26.35124796559418,-26.790448953583358,-27.220017750528577,-27.64098087968232,-28.054274419070435,-28.46075676466702,-28.861219806871954,-29.25639782025334,-29.64697684133264,-30.03360138223815,-30.41688117725378,-30.797397101788697,-31.17570655851032,-31.552348440027703,-31.92784776396882,-32.302720066094956,-32.677475629212374,-33.05262362079401,-33.428676209328714,-33.80615272903095,-34.18558396425869,-34.56751662880081,-34.95251812134312,-35.34118164678916,-35.73413180427256,-36.1320307570658,-36.53558511784963,-36.94555370631047,-37.362756365482554,-37.78808422917104,-38.222510703674246,-38.66710601770829,-39.12305238786226,-39.591662828477475,-40.07440323047955,-40.572918672519485,-41.08906497018632,-41.62494674431986,-42.182963652319536,-42.76586690830531,-43.37682886325585,-44.01952928785599,-44.69826318814958,-45.41807661711894,-46.18493921294523,-47.005965375419095,-47.889700499614385,-48.84649514029623,-49.888999316840184,-51.0328228026288,-52.29742731840516,-53.70734644770136,-55.29387199541378,-57.0974139083509,-59.17082813393994,-61.5841383002794,-64.43121653861382,-67.8390642961598,-71.98003095156609,-77.08568722122344,-83.45563289584112,-91.44007280010891,-101.34738714633164,-113.21310599636007,-126.48042466933136,-139.9484371229434,-152.30827111083738,-162.79774712562306,-171.3119153494186,-178.1110568930527,176.45214114781874,172.05957893291645,168.46037668118495,165.46649013849856,162.9392009357829,160.77615413965177,158.9012293274795,157.25717373520993,155.80037890263617,154.49719968085532,153.3213508498602,152.25205060392224,151.2726826323525,150.36982079581702,149.5325097448645,148.7517281438335,148.0199836391902,147.33100394528253,146.67949882552873,146.0609749200016,145.47159036492747,144.90803966366153,144.36746176650905],\"mode\":\"lines\",\"type\":\"scattergeo\"}],                        {\"geo\":{\"countrycolor\":\"rgb(204, 204, 204)\",\"landcolor\":\"rgb(243, 243, 243)\",\"lataxis\":{\"gridcolor\":\"rgb(102, 102, 102)\",\"gridwidth\":0.1,\"showgrid\":true},\"lonaxis\":{\"gridcolor\":\"rgb(102, 102, 102)\",\"gridwidth\":0.1,\"showgrid\":true},\"showland\":true},\"height\":1000,\"showlegend\":false,\"template\":{\"data\":{\"histogram2dcontour\":[{\"type\":\"histogram2dcontour\",\"colorbar\":{\"outlinewidth\":0,\"ticks\":\"\"},\"colorscale\":[[0.0,\"#0d0887\"],[0.1111111111111111,\"#46039f\"],[0.2222222222222222,\"#7201a8\"],[0.3333333333333333,\"#9c179e\"],[0.4444444444444444,\"#bd3786\"],[0.5555555555555556,\"#d8576b\"],[0.6666666666666666,\"#ed7953\"],[0.7777777777777778,\"#fb9f3a\"],[0.8888888888888888,\"#fdca26\"],[1.0,\"#f0f921\"]]}],\"choropleth\":[{\"type\":\"choropleth\",\"colorbar\":{\"outlinewidth\":0,\"ticks\":\"\"}}],\"histogram2d\":[{\"type\":\"histogram2d\",\"colorbar\":{\"outlinewidth\":0,\"ticks\":\"\"},\"colorscale\":[[0.0,\"#0d0887\"],[0.1111111111111111,\"#46039f\"],[0.2222222222222222,\"#7201a8\"],[0.3333333333333333,\"#9c179e\"],[0.4444444444444444,\"#bd3786\"],[0.5555555555555556,\"#d8576b\"],[0.6666666666666666,\"#ed7953\"],[0.7777777777777778,\"#fb9f3a\"],[0.8888888888888888,\"#fdca26\"],[1.0,\"#f0f921\"]]}],\"heatmap\":[{\"type\":\"heatmap\",\"colorbar\":{\"outlinewidth\":0,\"ticks\":\"\"},\"colorscale\":[[0.0,\"#0d0887\"],[0.1111111111111111,\"#46039f\"],[0.2222222222222222,\"#7201a8\"],[0.3333333333333333,\"#9c179e\"],[0.4444444444444444,\"#bd3786\"],[0.5555555555555556,\"#d8576b\"],[0.6666666666666666,\"#ed7953\"],[0.7777777777777778,\"#fb9f3a\"],[0.8888888888888888,\"#fdca26\"],[1.0,\"#f0f921\"]]}],\"heatmapgl\":[{\"type\":\"heatmapgl\",\"colorbar\":{\"outlinewidth\":0,\"ticks\":\"\"},\"colorscale\":[[0.0,\"#0d0887\"],[0.1111111111111111,\"#46039f\"],[0.2222222222222222,\"#7201a8\"],[0.3333333333333333,\"#9c179e\"],[0.4444444444444444,\"#bd3786\"],[0.5555555555555556,\"#d8576b\"],[0.6666666666666666,\"#ed7953\"],[0.7777777777777778,\"#fb9f3a\"],[0.8888888888888888,\"#fdca26\"],[1.0,\"#f0f921\"]]}],\"contourcarpet\":[{\"type\":\"contourcarpet\",\"colorbar\":{\"outlinewidth\":0,\"ticks\":\"\"}}],\"contour\":[{\"type\":\"contour\",\"colorbar\":{\"outlinewidth\":0,\"ticks\":\"\"},\"colorscale\":[[0.0,\"#0d0887\"],[0.1111111111111111,\"#46039f\"],[0.2222222222222222,\"#7201a8\"],[0.3333333333333333,\"#9c179e\"],[0.4444444444444444,\"#bd3786\"],[0.5555555555555556,\"#d8576b\"],[0.6666666666666666,\"#ed7953\"],[0.7777777777777778,\"#fb9f3a\"],[0.8888888888888888,\"#fdca26\"],[1.0,\"#f0f921\"]]}],\"surface\":[{\"type\":\"surface\",\"colorbar\":{\"outlinewidth\":0,\"ticks\":\"\"},\"colorscale\":[[0.0,\"#0d0887\"],[0.1111111111111111,\"#46039f\"],[0.2222222222222222,\"#7201a8\"],[0.3333333333333333,\"#9c179e\"],[0.4444444444444444,\"#bd3786\"],[0.5555555555555556,\"#d8576b\"],[0.6666666666666666,\"#ed7953\"],[0.7777777777777778,\"#fb9f3a\"],[0.8888888888888888,\"#fdca26\"],[1.0,\"#f0f921\"]]}],\"mesh3d\":[{\"type\":\"mesh3d\",\"colorbar\":{\"outlinewidth\":0,\"ticks\":\"\"}}],\"scatter\":[{\"fillpattern\":{\"fillmode\":\"overlay\",\"size\":10,\"solidity\":0.2},\"type\":\"scatter\"}],\"parcoords\":[{\"type\":\"parcoords\",\"line\":{\"colorbar\":{\"outlinewidth\":0,\"ticks\":\"\"}}}],\"scatterpolargl\":[{\"type\":\"scatterpolargl\",\"marker\":{\"colorbar\":{\"outlinewidth\":0,\"ticks\":\"\"}}}],\"bar\":[{\"error_x\":{\"color\":\"#2a3f5f\"},\"error_y\":{\"color\":\"#2a3f5f\"},\"marker\":{\"line\":{\"color\":\"#E5ECF6\",\"width\":0.5},\"pattern\":{\"fillmode\":\"overlay\",\"size\":10,\"solidity\":0.2}},\"type\":\"bar\"}],\"scattergeo\":[{\"type\":\"scattergeo\",\"marker\":{\"colorbar\":{\"outlinewidth\":0,\"ticks\":\"\"}}}],\"scatterpolar\":[{\"type\":\"scatterpolar\",\"marker\":{\"colorbar\":{\"outlinewidth\":0,\"ticks\":\"\"}}}],\"histogram\":[{\"marker\":{\"pattern\":{\"fillmode\":\"overlay\",\"size\":10,\"solidity\":0.2}},\"type\":\"histogram\"}],\"scattergl\":[{\"type\":\"scattergl\",\"marker\":{\"colorbar\":{\"outlinewidth\":0,\"ticks\":\"\"}}}],\"scatter3d\":[{\"type\":\"scatter3d\",\"line\":{\"colorbar\":{\"outlinewidth\":0,\"ticks\":\"\"}},\"marker\":{\"colorbar\":{\"outlinewidth\":0,\"ticks\":\"\"}}}],\"scattermapbox\":[{\"type\":\"scattermapbox\",\"marker\":{\"colorbar\":{\"outlinewidth\":0,\"ticks\":\"\"}}}],\"scatterternary\":[{\"type\":\"scatterternary\",\"marker\":{\"colorbar\":{\"outlinewidth\":0,\"ticks\":\"\"}}}],\"scattercarpet\":[{\"type\":\"scattercarpet\",\"marker\":{\"colorbar\":{\"outlinewidth\":0,\"ticks\":\"\"}}}],\"carpet\":[{\"aaxis\":{\"endlinecolor\":\"#2a3f5f\",\"gridcolor\":\"white\",\"linecolor\":\"white\",\"minorgridcolor\":\"white\",\"startlinecolor\":\"#2a3f5f\"},\"baxis\":{\"endlinecolor\":\"#2a3f5f\",\"gridcolor\":\"white\",\"linecolor\":\"white\",\"minorgridcolor\":\"white\",\"startlinecolor\":\"#2a3f5f\"},\"type\":\"carpet\"}],\"table\":[{\"cells\":{\"fill\":{\"color\":\"#EBF0F8\"},\"line\":{\"color\":\"white\"}},\"header\":{\"fill\":{\"color\":\"#C8D4E3\"},\"line\":{\"color\":\"white\"}},\"type\":\"table\"}],\"barpolar\":[{\"marker\":{\"line\":{\"color\":\"#E5ECF6\",\"width\":0.5},\"pattern\":{\"fillmode\":\"overlay\",\"size\":10,\"solidity\":0.2}},\"type\":\"barpolar\"}],\"pie\":[{\"automargin\":true,\"type\":\"pie\"}]},\"layout\":{\"autotypenumbers\":\"strict\",\"colorway\":[\"#636efa\",\"#EF553B\",\"#00cc96\",\"#ab63fa\",\"#FFA15A\",\"#19d3f3\",\"#FF6692\",\"#B6E880\",\"#FF97FF\",\"#FECB52\"],\"font\":{\"color\":\"#2a3f5f\"},\"hovermode\":\"closest\",\"hoverlabel\":{\"align\":\"left\"},\"paper_bgcolor\":\"white\",\"plot_bgcolor\":\"#E5ECF6\",\"polar\":{\"bgcolor\":\"#E5ECF6\",\"angularaxis\":{\"gridcolor\":\"white\",\"linecolor\":\"white\",\"ticks\":\"\"},\"radialaxis\":{\"gridcolor\":\"white\",\"linecolor\":\"white\",\"ticks\":\"\"}},\"ternary\":{\"bgcolor\":\"#E5ECF6\",\"aaxis\":{\"gridcolor\":\"white\",\"linecolor\":\"white\",\"ticks\":\"\"},\"baxis\":{\"gridcolor\":\"white\",\"linecolor\":\"white\",\"ticks\":\"\"},\"caxis\":{\"gridcolor\":\"white\",\"linecolor\":\"white\",\"ticks\":\"\"}},\"coloraxis\":{\"colorbar\":{\"outlinewidth\":0,\"ticks\":\"\"}},\"colorscale\":{\"sequential\":[[0.0,\"#0d0887\"],[0.1111111111111111,\"#46039f\"],[0.2222222222222222,\"#7201a8\"],[0.3333333333333333,\"#9c179e\"],[0.4444444444444444,\"#bd3786\"],[0.5555555555555556,\"#d8576b\"],[0.6666666666666666,\"#ed7953\"],[0.7777777777777778,\"#fb9f3a\"],[0.8888888888888888,\"#fdca26\"],[1.0,\"#f0f921\"]],\"sequentialminus\":[[0.0,\"#0d0887\"],[0.1111111111111111,\"#46039f\"],[0.2222222222222222,\"#7201a8\"],[0.3333333333333333,\"#9c179e\"],[0.4444444444444444,\"#bd3786\"],[0.5555555555555556,\"#d8576b\"],[0.6666666666666666,\"#ed7953\"],[0.7777777777777778,\"#fb9f3a\"],[0.8888888888888888,\"#fdca26\"],[1.0,\"#f0f921\"]],\"diverging\":[[0,\"#8e0152\"],[0.1,\"#c51b7d\"],[0.2,\"#de77ae\"],[0.3,\"#f1b6da\"],[0.4,\"#fde0ef\"],[0.5,\"#f7f7f7\"],[0.6,\"#e6f5d0\"],[0.7,\"#b8e186\"],[0.8,\"#7fbc41\"],[0.9,\"#4d9221\"],[1,\"#276419\"]]},\"xaxis\":{\"gridcolor\":\"white\",\"linecolor\":\"white\",\"ticks\":\"\",\"title\":{\"standoff\":15},\"zerolinecolor\":\"white\",\"automargin\":true,\"zerolinewidth\":2},\"yaxis\":{\"gridcolor\":\"white\",\"linecolor\":\"white\",\"ticks\":\"\",\"title\":{\"standoff\":15},\"zerolinecolor\":\"white\",\"automargin\":true,\"zerolinewidth\":2},\"scene\":{\"xaxis\":{\"backgroundcolor\":\"#E5ECF6\",\"gridcolor\":\"white\",\"linecolor\":\"white\",\"showbackground\":true,\"ticks\":\"\",\"zerolinecolor\":\"white\",\"gridwidth\":2},\"yaxis\":{\"backgroundcolor\":\"#E5ECF6\",\"gridcolor\":\"white\",\"linecolor\":\"white\",\"showbackground\":true,\"ticks\":\"\",\"zerolinecolor\":\"white\",\"gridwidth\":2},\"zaxis\":{\"backgroundcolor\":\"#E5ECF6\",\"gridcolor\":\"white\",\"linecolor\":\"white\",\"showbackground\":true,\"ticks\":\"\",\"zerolinecolor\":\"white\",\"gridwidth\":2}},\"shapedefaults\":{\"line\":{\"color\":\"#2a3f5f\"}},\"annotationdefaults\":{\"arrowcolor\":\"#2a3f5f\",\"arrowhead\":0,\"arrowwidth\":1},\"geo\":{\"bgcolor\":\"white\",\"landcolor\":\"#E5ECF6\",\"subunitcolor\":\"white\",\"showland\":true,\"showlakes\":true,\"lakecolor\":\"white\"},\"title\":{\"x\":0.05},\"mapbox\":{\"style\":\"light\"}}}},                        {\"responsive\": true}                    ).then(function(){\n",
       "                            \n",
       "var gd = document.getElementById('108d2e11-69f2-46a1-9c69-46331437fb67');\n",
       "var x = new MutationObserver(function (mutations, observer) {{\n",
       "        var display = window.getComputedStyle(gd).display;\n",
       "        if (!display || display === 'none') {{\n",
       "            console.log([gd, 'removed!']);\n",
       "            Plotly.purge(gd);\n",
       "            observer.disconnect();\n",
       "        }}\n",
       "}});\n",
       "\n",
       "// Listen for the removal of the full notebook cells\n",
       "var notebookContainer = gd.closest('#notebook-container');\n",
       "if (notebookContainer) {{\n",
       "    x.observe(notebookContainer, {childList: true});\n",
       "}}\n",
       "\n",
       "// Listen for the clearing of the current output cell\n",
       "var outputEl = gd.closest('.output');\n",
       "if (outputEl) {{\n",
       "    x.observe(outputEl, {childList: true});\n",
       "}}\n",
       "\n",
       "                        })                };                });            </script>        </div>"
      ]
     },
     "metadata": {},
     "output_type": "display_data"
    }
   ],
   "source": [
    "figure = create_2d_map(\n",
    "    data=go.Scattergeo(\n",
    "        lon=orbit_df[\"$Longitude$\"],\n",
    "        lat=orbit_df[\"$Latitude$\"],\n",
    "        mode=\"lines\",\n",
    "        line=go.scattergeo.Line(width=1, color=\"red\"),\n",
    "    ),\n",
    ")\n",
    "\n",
    "figure.show()"
   ]
  },
  {
   "cell_type": "markdown",
   "id": "3953a421-6de2-4cd1-af79-6c6fb68e40eb",
   "metadata": {},
   "source": [
    "3D plot, in **Earth Fixed** frame:"
   ]
  },
  {
   "cell_type": "code",
   "execution_count": 30,
   "id": "0acef4a5-3553-41f4-b420-1da8767fa091",
   "metadata": {},
   "outputs": [
    {
     "data": {
      "application/vnd.plotly.v1+json": {
       "config": {
        "plotlyServerURL": "https://plot.ly"
       },
       "data": [
        {
         "lat": [
          77.34967773945404,
          75.84984162200398,
          74.27798037953669,
          72.65352446226808,
          70.98981423705033,
          69.29617443713147,
          67.57925269028645,
          65.8438819980774,
          64.09364232936143,
          62.33123209909788,
          60.55871829795914,
          58.77770800173258,
          56.989468078052845,
          55.19501016294616,
          53.395151951413226,
          51.59056206583267,
          49.78179335854215,
          47.96930794742509,
          46.15349625961824,
          44.33469167518364,
          42.51318189976415,
          40.6892178773522,
          38.86302083311543,
          37.03478788045211,
          35.204696515457165,
          33.37290824191858,
          31.539571511425095,
          29.704824119720875,
          27.868795167740835,
          26.03160667091389,
          24.193374881449206,
          22.354211374169886,
          20.514223936102816,
          18.67351729264813,
          16.832193697913322,
          14.990353412889124,
          13.148095091842897,
          11.305516094144433,
          9.462712735513367,
          7.619780489565996,
          5.7768141478786,
          3.9339079449750294,
          2.09115565392197,
          0.24865065852017348,
          -1.5935139909446443,
          -3.4352455303402643,
          -5.276451434023536,
          -7.11703935833769,
          -8.956917068694889,
          -10.795992344072564,
          -12.634172854009924,
          -14.471366003685997,
          -16.307478741980514,
          -18.142417325504134,
          -19.97608702873694,
          -21.808391787167746,
          -23.639233757211873,
          -25.468512773989573,
          -27.29612568564813,
          -29.12196554026088,
          -30.945920597540173,
          -32.76787313170519,
          -34.587697982926166,
          -36.4052608021589,
          -38.22041591734283,
          -40.033003727250666,
          -41.84284750167577,
          -43.64974943114856,
          -45.45348572262245,
          -47.25380047431891,
          -49.05039797544144,
          -50.84293295364567,
          -52.630998118975,
          -54.41410810392002,
          -56.191678539905006,
          -57.96299848620754,
          -59.72719365216998,
          -61.483176690441525,
          -63.229579066140644,
          -64.9646562613897,
          -66.68615375679651,
          -68.39111434294243,
          -70.07559619624627,
          -71.73425309207926,
          -73.35969891685782,
          -74.94153266947545,
          -76.46483350711323,
          -77.90786095675476,
          -79.2386973472093,
          -80.41096039171725,
          -81.36031708537817,
          -82.00739330399485,
          -82.2762656586409,
          -82.12845678944062,
          -81.58620534185677,
          -80.71863086523655,
          -79.60707049199834,
          -78.32111742946172,
          -76.91217117260801,
          -75.41589783539388,
          -73.85659875404951,
          -72.25089393111637,
          -70.61030918967113,
          -68.94298263468828,
          -67.25477075471447,
          -65.54996727402114,
          -63.83177590907542,
          -62.10262627236855,
          -60.36438867334965,
          -58.61852276393361,
          -56.86618217412742,
          -55.108289372789486,
          -53.34559004896355,
          -51.57869318265887,
          -49.80810096507347,
          -48.03423141729592,
          -46.25743568745993,
          -44.478011421172745,
          -42.6962132000776,
          -40.912260766229686,
          -39.12634555557605
         ],
         "line": {
          "color": "rgb(255, 62, 79)",
          "width": 2
         },
         "lon": [
          10.189623485224471,
          5.4373977923474905,
          1.5733247801084007,
          -1.6174267072038901,
          -4.292953934679677,
          -6.5692283088063474,
          -8.53188255164221,
          -10.244849760752984,
          -11.756478613091309,
          -13.103820471051089,
          -14.31564112912015,
          -15.414553172143295,
          -16.418541901570407,
          -17.342069283771547,
          -18.19688441413978,
          -18.992623152740283,
          -19.737258691312093,
          -20.437443255616973,
          -21.098770097132245,
          -21.72597638807423,
          -22.32310184211584,
          -22.89361383373419,
          -23.44050692760145,
          -23.966382686212647,
          -24.473514150147516,
          -24.963898311822454,
          -25.439299114320296,
          -25.901282921295063,
          -26.35124796559418,
          -26.790448953583358,
          -27.220017750528577,
          -27.64098087968232,
          -28.054274419070435,
          -28.46075676466702,
          -28.861219806871954,
          -29.25639782025334,
          -29.64697684133264,
          -30.03360138223815,
          -30.41688117725378,
          -30.797397101788697,
          -31.17570655851032,
          -31.552348440027703,
          -31.92784776396882,
          -32.302720066094956,
          -32.677475629212374,
          -33.05262362079401,
          -33.428676209328714,
          -33.80615272903095,
          -34.18558396425869,
          -34.56751662880081,
          -34.95251812134312,
          -35.34118164678916,
          -35.73413180427256,
          -36.1320307570658,
          -36.53558511784963,
          -36.94555370631047,
          -37.362756365482554,
          -37.78808422917104,
          -38.222510703674246,
          -38.66710601770829,
          -39.12305238786226,
          -39.591662828477475,
          -40.07440323047955,
          -40.572918672519485,
          -41.08906497018632,
          -41.62494674431986,
          -42.182963652319536,
          -42.76586690830531,
          -43.37682886325585,
          -44.01952928785599,
          -44.69826318814958,
          -45.41807661711894,
          -46.18493921294523,
          -47.005965375419095,
          -47.889700499614385,
          -48.84649514029623,
          -49.888999316840184,
          -51.0328228026288,
          -52.29742731840516,
          -53.70734644770136,
          -55.29387199541378,
          -57.0974139083509,
          -59.17082813393994,
          -61.5841383002794,
          -64.43121653861382,
          -67.8390642961598,
          -71.98003095156609,
          -77.08568722122344,
          -83.45563289584112,
          -91.44007280010891,
          -101.34738714633164,
          -113.21310599636007,
          -126.48042466933136,
          -139.9484371229434,
          -152.30827111083738,
          -162.79774712562306,
          -171.3119153494186,
          -178.1110568930527,
          176.45214114781874,
          172.05957893291645,
          168.46037668118495,
          165.46649013849856,
          162.9392009357829,
          160.77615413965177,
          158.9012293274795,
          157.25717373520993,
          155.80037890263617,
          154.49719968085532,
          153.3213508498602,
          152.25205060392224,
          151.2726826323525,
          150.36982079581702,
          149.5325097448645,
          148.7517281438335,
          148.0199836391902,
          147.33100394528253,
          146.67949882552873,
          146.0609749200016,
          145.47159036492747,
          144.90803966366153,
          144.36746176650905
         ],
         "mode": "lines",
         "type": "scattergeo"
        }
       ],
       "layout": {
        "autosize": true,
        "geo": {
         "countrywidth": 0,
         "lakecolor": "rgb(240, 240, 240)",
         "landcolor": "rgb(100, 100, 100)",
         "lataxis": {
          "gridcolor": "rgb(102, 102, 102)",
          "gridwidth": 0.5,
          "showgrid": true
         },
         "lonaxis": {
          "gridcolor": "rgb(102, 102, 102)",
          "gridwidth": 0.5,
          "showgrid": true
         },
         "oceancolor": "rgb(240, 240, 240)",
         "projection": {
          "rotation": {
           "lat": 0,
           "lon": 0,
           "roll": 0
          },
          "type": "orthographic"
         },
         "showcountries": false,
         "showlakes": true,
         "showland": true,
         "showocean": true
        },
        "showlegend": false,
        "template": {
         "data": {
          "bar": [
           {
            "error_x": {
             "color": "#2a3f5f"
            },
            "error_y": {
             "color": "#2a3f5f"
            },
            "marker": {
             "line": {
              "color": "#E5ECF6",
              "width": 0.5
             },
             "pattern": {
              "fillmode": "overlay",
              "size": 10,
              "solidity": 0.2
             }
            },
            "type": "bar"
           }
          ],
          "barpolar": [
           {
            "marker": {
             "line": {
              "color": "#E5ECF6",
              "width": 0.5
             },
             "pattern": {
              "fillmode": "overlay",
              "size": 10,
              "solidity": 0.2
             }
            },
            "type": "barpolar"
           }
          ],
          "carpet": [
           {
            "aaxis": {
             "endlinecolor": "#2a3f5f",
             "gridcolor": "white",
             "linecolor": "white",
             "minorgridcolor": "white",
             "startlinecolor": "#2a3f5f"
            },
            "baxis": {
             "endlinecolor": "#2a3f5f",
             "gridcolor": "white",
             "linecolor": "white",
             "minorgridcolor": "white",
             "startlinecolor": "#2a3f5f"
            },
            "type": "carpet"
           }
          ],
          "choropleth": [
           {
            "colorbar": {
             "outlinewidth": 0,
             "ticks": ""
            },
            "type": "choropleth"
           }
          ],
          "contour": [
           {
            "colorbar": {
             "outlinewidth": 0,
             "ticks": ""
            },
            "colorscale": [
             [
              0,
              "#0d0887"
             ],
             [
              0.1111111111111111,
              "#46039f"
             ],
             [
              0.2222222222222222,
              "#7201a8"
             ],
             [
              0.3333333333333333,
              "#9c179e"
             ],
             [
              0.4444444444444444,
              "#bd3786"
             ],
             [
              0.5555555555555556,
              "#d8576b"
             ],
             [
              0.6666666666666666,
              "#ed7953"
             ],
             [
              0.7777777777777778,
              "#fb9f3a"
             ],
             [
              0.8888888888888888,
              "#fdca26"
             ],
             [
              1,
              "#f0f921"
             ]
            ],
            "type": "contour"
           }
          ],
          "contourcarpet": [
           {
            "colorbar": {
             "outlinewidth": 0,
             "ticks": ""
            },
            "type": "contourcarpet"
           }
          ],
          "heatmap": [
           {
            "colorbar": {
             "outlinewidth": 0,
             "ticks": ""
            },
            "colorscale": [
             [
              0,
              "#0d0887"
             ],
             [
              0.1111111111111111,
              "#46039f"
             ],
             [
              0.2222222222222222,
              "#7201a8"
             ],
             [
              0.3333333333333333,
              "#9c179e"
             ],
             [
              0.4444444444444444,
              "#bd3786"
             ],
             [
              0.5555555555555556,
              "#d8576b"
             ],
             [
              0.6666666666666666,
              "#ed7953"
             ],
             [
              0.7777777777777778,
              "#fb9f3a"
             ],
             [
              0.8888888888888888,
              "#fdca26"
             ],
             [
              1,
              "#f0f921"
             ]
            ],
            "type": "heatmap"
           }
          ],
          "heatmapgl": [
           {
            "colorbar": {
             "outlinewidth": 0,
             "ticks": ""
            },
            "colorscale": [
             [
              0,
              "#0d0887"
             ],
             [
              0.1111111111111111,
              "#46039f"
             ],
             [
              0.2222222222222222,
              "#7201a8"
             ],
             [
              0.3333333333333333,
              "#9c179e"
             ],
             [
              0.4444444444444444,
              "#bd3786"
             ],
             [
              0.5555555555555556,
              "#d8576b"
             ],
             [
              0.6666666666666666,
              "#ed7953"
             ],
             [
              0.7777777777777778,
              "#fb9f3a"
             ],
             [
              0.8888888888888888,
              "#fdca26"
             ],
             [
              1,
              "#f0f921"
             ]
            ],
            "type": "heatmapgl"
           }
          ],
          "histogram": [
           {
            "marker": {
             "pattern": {
              "fillmode": "overlay",
              "size": 10,
              "solidity": 0.2
             }
            },
            "type": "histogram"
           }
          ],
          "histogram2d": [
           {
            "colorbar": {
             "outlinewidth": 0,
             "ticks": ""
            },
            "colorscale": [
             [
              0,
              "#0d0887"
             ],
             [
              0.1111111111111111,
              "#46039f"
             ],
             [
              0.2222222222222222,
              "#7201a8"
             ],
             [
              0.3333333333333333,
              "#9c179e"
             ],
             [
              0.4444444444444444,
              "#bd3786"
             ],
             [
              0.5555555555555556,
              "#d8576b"
             ],
             [
              0.6666666666666666,
              "#ed7953"
             ],
             [
              0.7777777777777778,
              "#fb9f3a"
             ],
             [
              0.8888888888888888,
              "#fdca26"
             ],
             [
              1,
              "#f0f921"
             ]
            ],
            "type": "histogram2d"
           }
          ],
          "histogram2dcontour": [
           {
            "colorbar": {
             "outlinewidth": 0,
             "ticks": ""
            },
            "colorscale": [
             [
              0,
              "#0d0887"
             ],
             [
              0.1111111111111111,
              "#46039f"
             ],
             [
              0.2222222222222222,
              "#7201a8"
             ],
             [
              0.3333333333333333,
              "#9c179e"
             ],
             [
              0.4444444444444444,
              "#bd3786"
             ],
             [
              0.5555555555555556,
              "#d8576b"
             ],
             [
              0.6666666666666666,
              "#ed7953"
             ],
             [
              0.7777777777777778,
              "#fb9f3a"
             ],
             [
              0.8888888888888888,
              "#fdca26"
             ],
             [
              1,
              "#f0f921"
             ]
            ],
            "type": "histogram2dcontour"
           }
          ],
          "mesh3d": [
           {
            "colorbar": {
             "outlinewidth": 0,
             "ticks": ""
            },
            "type": "mesh3d"
           }
          ],
          "parcoords": [
           {
            "line": {
             "colorbar": {
              "outlinewidth": 0,
              "ticks": ""
             }
            },
            "type": "parcoords"
           }
          ],
          "pie": [
           {
            "automargin": true,
            "type": "pie"
           }
          ],
          "scatter": [
           {
            "fillpattern": {
             "fillmode": "overlay",
             "size": 10,
             "solidity": 0.2
            },
            "type": "scatter"
           }
          ],
          "scatter3d": [
           {
            "line": {
             "colorbar": {
              "outlinewidth": 0,
              "ticks": ""
             }
            },
            "marker": {
             "colorbar": {
              "outlinewidth": 0,
              "ticks": ""
             }
            },
            "type": "scatter3d"
           }
          ],
          "scattercarpet": [
           {
            "marker": {
             "colorbar": {
              "outlinewidth": 0,
              "ticks": ""
             }
            },
            "type": "scattercarpet"
           }
          ],
          "scattergeo": [
           {
            "marker": {
             "colorbar": {
              "outlinewidth": 0,
              "ticks": ""
             }
            },
            "type": "scattergeo"
           }
          ],
          "scattergl": [
           {
            "marker": {
             "colorbar": {
              "outlinewidth": 0,
              "ticks": ""
             }
            },
            "type": "scattergl"
           }
          ],
          "scattermapbox": [
           {
            "marker": {
             "colorbar": {
              "outlinewidth": 0,
              "ticks": ""
             }
            },
            "type": "scattermapbox"
           }
          ],
          "scatterpolar": [
           {
            "marker": {
             "colorbar": {
              "outlinewidth": 0,
              "ticks": ""
             }
            },
            "type": "scatterpolar"
           }
          ],
          "scatterpolargl": [
           {
            "marker": {
             "colorbar": {
              "outlinewidth": 0,
              "ticks": ""
             }
            },
            "type": "scatterpolargl"
           }
          ],
          "scatterternary": [
           {
            "marker": {
             "colorbar": {
              "outlinewidth": 0,
              "ticks": ""
             }
            },
            "type": "scatterternary"
           }
          ],
          "surface": [
           {
            "colorbar": {
             "outlinewidth": 0,
             "ticks": ""
            },
            "colorscale": [
             [
              0,
              "#0d0887"
             ],
             [
              0.1111111111111111,
              "#46039f"
             ],
             [
              0.2222222222222222,
              "#7201a8"
             ],
             [
              0.3333333333333333,
              "#9c179e"
             ],
             [
              0.4444444444444444,
              "#bd3786"
             ],
             [
              0.5555555555555556,
              "#d8576b"
             ],
             [
              0.6666666666666666,
              "#ed7953"
             ],
             [
              0.7777777777777778,
              "#fb9f3a"
             ],
             [
              0.8888888888888888,
              "#fdca26"
             ],
             [
              1,
              "#f0f921"
             ]
            ],
            "type": "surface"
           }
          ],
          "table": [
           {
            "cells": {
             "fill": {
              "color": "#EBF0F8"
             },
             "line": {
              "color": "white"
             }
            },
            "header": {
             "fill": {
              "color": "#C8D4E3"
             },
             "line": {
              "color": "white"
             }
            },
            "type": "table"
           }
          ]
         },
         "layout": {
          "annotationdefaults": {
           "arrowcolor": "#2a3f5f",
           "arrowhead": 0,
           "arrowwidth": 1
          },
          "autotypenumbers": "strict",
          "coloraxis": {
           "colorbar": {
            "outlinewidth": 0,
            "ticks": ""
           }
          },
          "colorscale": {
           "diverging": [
            [
             0,
             "#8e0152"
            ],
            [
             0.1,
             "#c51b7d"
            ],
            [
             0.2,
             "#de77ae"
            ],
            [
             0.3,
             "#f1b6da"
            ],
            [
             0.4,
             "#fde0ef"
            ],
            [
             0.5,
             "#f7f7f7"
            ],
            [
             0.6,
             "#e6f5d0"
            ],
            [
             0.7,
             "#b8e186"
            ],
            [
             0.8,
             "#7fbc41"
            ],
            [
             0.9,
             "#4d9221"
            ],
            [
             1,
             "#276419"
            ]
           ],
           "sequential": [
            [
             0,
             "#0d0887"
            ],
            [
             0.1111111111111111,
             "#46039f"
            ],
            [
             0.2222222222222222,
             "#7201a8"
            ],
            [
             0.3333333333333333,
             "#9c179e"
            ],
            [
             0.4444444444444444,
             "#bd3786"
            ],
            [
             0.5555555555555556,
             "#d8576b"
            ],
            [
             0.6666666666666666,
             "#ed7953"
            ],
            [
             0.7777777777777778,
             "#fb9f3a"
            ],
            [
             0.8888888888888888,
             "#fdca26"
            ],
            [
             1,
             "#f0f921"
            ]
           ],
           "sequentialminus": [
            [
             0,
             "#0d0887"
            ],
            [
             0.1111111111111111,
             "#46039f"
            ],
            [
             0.2222222222222222,
             "#7201a8"
            ],
            [
             0.3333333333333333,
             "#9c179e"
            ],
            [
             0.4444444444444444,
             "#bd3786"
            ],
            [
             0.5555555555555556,
             "#d8576b"
            ],
            [
             0.6666666666666666,
             "#ed7953"
            ],
            [
             0.7777777777777778,
             "#fb9f3a"
            ],
            [
             0.8888888888888888,
             "#fdca26"
            ],
            [
             1,
             "#f0f921"
            ]
           ]
          },
          "colorway": [
           "#636efa",
           "#EF553B",
           "#00cc96",
           "#ab63fa",
           "#FFA15A",
           "#19d3f3",
           "#FF6692",
           "#B6E880",
           "#FF97FF",
           "#FECB52"
          ],
          "font": {
           "color": "#2a3f5f"
          },
          "geo": {
           "bgcolor": "white",
           "lakecolor": "white",
           "landcolor": "#E5ECF6",
           "showlakes": true,
           "showland": true,
           "subunitcolor": "white"
          },
          "hoverlabel": {
           "align": "left"
          },
          "hovermode": "closest",
          "mapbox": {
           "style": "light"
          },
          "paper_bgcolor": "white",
          "plot_bgcolor": "#E5ECF6",
          "polar": {
           "angularaxis": {
            "gridcolor": "white",
            "linecolor": "white",
            "ticks": ""
           },
           "bgcolor": "#E5ECF6",
           "radialaxis": {
            "gridcolor": "white",
            "linecolor": "white",
            "ticks": ""
           }
          },
          "scene": {
           "xaxis": {
            "backgroundcolor": "#E5ECF6",
            "gridcolor": "white",
            "gridwidth": 2,
            "linecolor": "white",
            "showbackground": true,
            "ticks": "",
            "zerolinecolor": "white"
           },
           "yaxis": {
            "backgroundcolor": "#E5ECF6",
            "gridcolor": "white",
            "gridwidth": 2,
            "linecolor": "white",
            "showbackground": true,
            "ticks": "",
            "zerolinecolor": "white"
           },
           "zaxis": {
            "backgroundcolor": "#E5ECF6",
            "gridcolor": "white",
            "gridwidth": 2,
            "linecolor": "white",
            "showbackground": true,
            "ticks": "",
            "zerolinecolor": "white"
           }
          },
          "shapedefaults": {
           "line": {
            "color": "#2a3f5f"
           }
          },
          "ternary": {
           "aaxis": {
            "gridcolor": "white",
            "linecolor": "white",
            "ticks": ""
           },
           "baxis": {
            "gridcolor": "white",
            "linecolor": "white",
            "ticks": ""
           },
           "bgcolor": "#E5ECF6",
           "caxis": {
            "gridcolor": "white",
            "linecolor": "white",
            "ticks": ""
           }
          },
          "title": {
           "x": 0.05
          },
          "xaxis": {
           "automargin": true,
           "gridcolor": "white",
           "linecolor": "white",
           "ticks": "",
           "title": {
            "standoff": 15
           },
           "zerolinecolor": "white",
           "zerolinewidth": 2
          },
          "yaxis": {
           "automargin": true,
           "gridcolor": "white",
           "linecolor": "white",
           "ticks": "",
           "title": {
            "standoff": 15
           },
           "zerolinecolor": "white",
           "zerolinewidth": 2
          }
         }
        }
       }
      },
      "text/html": [
       "<div>                            <div id=\"7a3295d7-2007-4d19-a1cf-6048c3644826\" class=\"plotly-graph-div\" style=\"height:1000px; width:100%;\"></div>            <script type=\"text/javascript\">                require([\"plotly\"], function(Plotly) {                    window.PLOTLYENV=window.PLOTLYENV || {};                                    if (document.getElementById(\"7a3295d7-2007-4d19-a1cf-6048c3644826\")) {                    Plotly.newPlot(                        \"7a3295d7-2007-4d19-a1cf-6048c3644826\",                        [{\"lat\":[77.34967773945404,75.84984162200398,74.27798037953669,72.65352446226808,70.98981423705033,69.29617443713147,67.57925269028645,65.8438819980774,64.09364232936143,62.33123209909788,60.55871829795914,58.77770800173258,56.989468078052845,55.19501016294616,53.395151951413226,51.59056206583267,49.78179335854215,47.96930794742509,46.15349625961824,44.33469167518364,42.51318189976415,40.6892178773522,38.86302083311543,37.03478788045211,35.204696515457165,33.37290824191858,31.539571511425095,29.704824119720875,27.868795167740835,26.03160667091389,24.193374881449206,22.354211374169886,20.514223936102816,18.67351729264813,16.832193697913322,14.990353412889124,13.148095091842897,11.305516094144433,9.462712735513367,7.619780489565996,5.7768141478786,3.9339079449750294,2.09115565392197,0.24865065852017348,-1.5935139909446443,-3.4352455303402643,-5.276451434023536,-7.11703935833769,-8.956917068694889,-10.795992344072564,-12.634172854009924,-14.471366003685997,-16.307478741980514,-18.142417325504134,-19.97608702873694,-21.808391787167746,-23.639233757211873,-25.468512773989573,-27.29612568564813,-29.12196554026088,-30.945920597540173,-32.76787313170519,-34.587697982926166,-36.4052608021589,-38.22041591734283,-40.033003727250666,-41.84284750167577,-43.64974943114856,-45.45348572262245,-47.25380047431891,-49.05039797544144,-50.84293295364567,-52.630998118975,-54.41410810392002,-56.191678539905006,-57.96299848620754,-59.72719365216998,-61.483176690441525,-63.229579066140644,-64.9646562613897,-66.68615375679651,-68.39111434294243,-70.07559619624627,-71.73425309207926,-73.35969891685782,-74.94153266947545,-76.46483350711323,-77.90786095675476,-79.2386973472093,-80.41096039171725,-81.36031708537817,-82.00739330399485,-82.2762656586409,-82.12845678944062,-81.58620534185677,-80.71863086523655,-79.60707049199834,-78.32111742946172,-76.91217117260801,-75.41589783539388,-73.85659875404951,-72.25089393111637,-70.61030918967113,-68.94298263468828,-67.25477075471447,-65.54996727402114,-63.83177590907542,-62.10262627236855,-60.36438867334965,-58.61852276393361,-56.86618217412742,-55.108289372789486,-53.34559004896355,-51.57869318265887,-49.80810096507347,-48.03423141729592,-46.25743568745993,-44.478011421172745,-42.6962132000776,-40.912260766229686,-39.12634555557605],\"line\":{\"color\":\"rgb(255, 62, 79)\",\"width\":2},\"lon\":[10.189623485224471,5.4373977923474905,1.5733247801084007,-1.6174267072038901,-4.292953934679677,-6.5692283088063474,-8.53188255164221,-10.244849760752984,-11.756478613091309,-13.103820471051089,-14.31564112912015,-15.414553172143295,-16.418541901570407,-17.342069283771547,-18.19688441413978,-18.992623152740283,-19.737258691312093,-20.437443255616973,-21.098770097132245,-21.72597638807423,-22.32310184211584,-22.89361383373419,-23.44050692760145,-23.966382686212647,-24.473514150147516,-24.963898311822454,-25.439299114320296,-25.901282921295063,-26.35124796559418,-26.790448953583358,-27.220017750528577,-27.64098087968232,-28.054274419070435,-28.46075676466702,-28.861219806871954,-29.25639782025334,-29.64697684133264,-30.03360138223815,-30.41688117725378,-30.797397101788697,-31.17570655851032,-31.552348440027703,-31.92784776396882,-32.302720066094956,-32.677475629212374,-33.05262362079401,-33.428676209328714,-33.80615272903095,-34.18558396425869,-34.56751662880081,-34.95251812134312,-35.34118164678916,-35.73413180427256,-36.1320307570658,-36.53558511784963,-36.94555370631047,-37.362756365482554,-37.78808422917104,-38.222510703674246,-38.66710601770829,-39.12305238786226,-39.591662828477475,-40.07440323047955,-40.572918672519485,-41.08906497018632,-41.62494674431986,-42.182963652319536,-42.76586690830531,-43.37682886325585,-44.01952928785599,-44.69826318814958,-45.41807661711894,-46.18493921294523,-47.005965375419095,-47.889700499614385,-48.84649514029623,-49.888999316840184,-51.0328228026288,-52.29742731840516,-53.70734644770136,-55.29387199541378,-57.0974139083509,-59.17082813393994,-61.5841383002794,-64.43121653861382,-67.8390642961598,-71.98003095156609,-77.08568722122344,-83.45563289584112,-91.44007280010891,-101.34738714633164,-113.21310599636007,-126.48042466933136,-139.9484371229434,-152.30827111083738,-162.79774712562306,-171.3119153494186,-178.1110568930527,176.45214114781874,172.05957893291645,168.46037668118495,165.46649013849856,162.9392009357829,160.77615413965177,158.9012293274795,157.25717373520993,155.80037890263617,154.49719968085532,153.3213508498602,152.25205060392224,151.2726826323525,150.36982079581702,149.5325097448645,148.7517281438335,148.0199836391902,147.33100394528253,146.67949882552873,146.0609749200016,145.47159036492747,144.90803966366153,144.36746176650905],\"mode\":\"lines\",\"type\":\"scattergeo\"}],                        {\"geo\":{\"countrywidth\":0.0,\"lakecolor\":\"rgb(240, 240, 240)\",\"landcolor\":\"rgb(100, 100, 100)\",\"lataxis\":{\"gridcolor\":\"rgb(102, 102, 102)\",\"gridwidth\":0.5,\"showgrid\":true},\"lonaxis\":{\"gridcolor\":\"rgb(102, 102, 102)\",\"gridwidth\":0.5,\"showgrid\":true},\"oceancolor\":\"rgb(240, 240, 240)\",\"projection\":{\"rotation\":{\"lat\":0,\"lon\":0,\"roll\":0},\"type\":\"orthographic\"},\"showcountries\":false,\"showlakes\":true,\"showland\":true,\"showocean\":true},\"height\":1000,\"showlegend\":false,\"template\":{\"data\":{\"histogram2dcontour\":[{\"type\":\"histogram2dcontour\",\"colorbar\":{\"outlinewidth\":0,\"ticks\":\"\"},\"colorscale\":[[0.0,\"#0d0887\"],[0.1111111111111111,\"#46039f\"],[0.2222222222222222,\"#7201a8\"],[0.3333333333333333,\"#9c179e\"],[0.4444444444444444,\"#bd3786\"],[0.5555555555555556,\"#d8576b\"],[0.6666666666666666,\"#ed7953\"],[0.7777777777777778,\"#fb9f3a\"],[0.8888888888888888,\"#fdca26\"],[1.0,\"#f0f921\"]]}],\"choropleth\":[{\"type\":\"choropleth\",\"colorbar\":{\"outlinewidth\":0,\"ticks\":\"\"}}],\"histogram2d\":[{\"type\":\"histogram2d\",\"colorbar\":{\"outlinewidth\":0,\"ticks\":\"\"},\"colorscale\":[[0.0,\"#0d0887\"],[0.1111111111111111,\"#46039f\"],[0.2222222222222222,\"#7201a8\"],[0.3333333333333333,\"#9c179e\"],[0.4444444444444444,\"#bd3786\"],[0.5555555555555556,\"#d8576b\"],[0.6666666666666666,\"#ed7953\"],[0.7777777777777778,\"#fb9f3a\"],[0.8888888888888888,\"#fdca26\"],[1.0,\"#f0f921\"]]}],\"heatmap\":[{\"type\":\"heatmap\",\"colorbar\":{\"outlinewidth\":0,\"ticks\":\"\"},\"colorscale\":[[0.0,\"#0d0887\"],[0.1111111111111111,\"#46039f\"],[0.2222222222222222,\"#7201a8\"],[0.3333333333333333,\"#9c179e\"],[0.4444444444444444,\"#bd3786\"],[0.5555555555555556,\"#d8576b\"],[0.6666666666666666,\"#ed7953\"],[0.7777777777777778,\"#fb9f3a\"],[0.8888888888888888,\"#fdca26\"],[1.0,\"#f0f921\"]]}],\"heatmapgl\":[{\"type\":\"heatmapgl\",\"colorbar\":{\"outlinewidth\":0,\"ticks\":\"\"},\"colorscale\":[[0.0,\"#0d0887\"],[0.1111111111111111,\"#46039f\"],[0.2222222222222222,\"#7201a8\"],[0.3333333333333333,\"#9c179e\"],[0.4444444444444444,\"#bd3786\"],[0.5555555555555556,\"#d8576b\"],[0.6666666666666666,\"#ed7953\"],[0.7777777777777778,\"#fb9f3a\"],[0.8888888888888888,\"#fdca26\"],[1.0,\"#f0f921\"]]}],\"contourcarpet\":[{\"type\":\"contourcarpet\",\"colorbar\":{\"outlinewidth\":0,\"ticks\":\"\"}}],\"contour\":[{\"type\":\"contour\",\"colorbar\":{\"outlinewidth\":0,\"ticks\":\"\"},\"colorscale\":[[0.0,\"#0d0887\"],[0.1111111111111111,\"#46039f\"],[0.2222222222222222,\"#7201a8\"],[0.3333333333333333,\"#9c179e\"],[0.4444444444444444,\"#bd3786\"],[0.5555555555555556,\"#d8576b\"],[0.6666666666666666,\"#ed7953\"],[0.7777777777777778,\"#fb9f3a\"],[0.8888888888888888,\"#fdca26\"],[1.0,\"#f0f921\"]]}],\"surface\":[{\"type\":\"surface\",\"colorbar\":{\"outlinewidth\":0,\"ticks\":\"\"},\"colorscale\":[[0.0,\"#0d0887\"],[0.1111111111111111,\"#46039f\"],[0.2222222222222222,\"#7201a8\"],[0.3333333333333333,\"#9c179e\"],[0.4444444444444444,\"#bd3786\"],[0.5555555555555556,\"#d8576b\"],[0.6666666666666666,\"#ed7953\"],[0.7777777777777778,\"#fb9f3a\"],[0.8888888888888888,\"#fdca26\"],[1.0,\"#f0f921\"]]}],\"mesh3d\":[{\"type\":\"mesh3d\",\"colorbar\":{\"outlinewidth\":0,\"ticks\":\"\"}}],\"scatter\":[{\"fillpattern\":{\"fillmode\":\"overlay\",\"size\":10,\"solidity\":0.2},\"type\":\"scatter\"}],\"parcoords\":[{\"type\":\"parcoords\",\"line\":{\"colorbar\":{\"outlinewidth\":0,\"ticks\":\"\"}}}],\"scatterpolargl\":[{\"type\":\"scatterpolargl\",\"marker\":{\"colorbar\":{\"outlinewidth\":0,\"ticks\":\"\"}}}],\"bar\":[{\"error_x\":{\"color\":\"#2a3f5f\"},\"error_y\":{\"color\":\"#2a3f5f\"},\"marker\":{\"line\":{\"color\":\"#E5ECF6\",\"width\":0.5},\"pattern\":{\"fillmode\":\"overlay\",\"size\":10,\"solidity\":0.2}},\"type\":\"bar\"}],\"scattergeo\":[{\"type\":\"scattergeo\",\"marker\":{\"colorbar\":{\"outlinewidth\":0,\"ticks\":\"\"}}}],\"scatterpolar\":[{\"type\":\"scatterpolar\",\"marker\":{\"colorbar\":{\"outlinewidth\":0,\"ticks\":\"\"}}}],\"histogram\":[{\"marker\":{\"pattern\":{\"fillmode\":\"overlay\",\"size\":10,\"solidity\":0.2}},\"type\":\"histogram\"}],\"scattergl\":[{\"type\":\"scattergl\",\"marker\":{\"colorbar\":{\"outlinewidth\":0,\"ticks\":\"\"}}}],\"scatter3d\":[{\"type\":\"scatter3d\",\"line\":{\"colorbar\":{\"outlinewidth\":0,\"ticks\":\"\"}},\"marker\":{\"colorbar\":{\"outlinewidth\":0,\"ticks\":\"\"}}}],\"scattermapbox\":[{\"type\":\"scattermapbox\",\"marker\":{\"colorbar\":{\"outlinewidth\":0,\"ticks\":\"\"}}}],\"scatterternary\":[{\"type\":\"scatterternary\",\"marker\":{\"colorbar\":{\"outlinewidth\":0,\"ticks\":\"\"}}}],\"scattercarpet\":[{\"type\":\"scattercarpet\",\"marker\":{\"colorbar\":{\"outlinewidth\":0,\"ticks\":\"\"}}}],\"carpet\":[{\"aaxis\":{\"endlinecolor\":\"#2a3f5f\",\"gridcolor\":\"white\",\"linecolor\":\"white\",\"minorgridcolor\":\"white\",\"startlinecolor\":\"#2a3f5f\"},\"baxis\":{\"endlinecolor\":\"#2a3f5f\",\"gridcolor\":\"white\",\"linecolor\":\"white\",\"minorgridcolor\":\"white\",\"startlinecolor\":\"#2a3f5f\"},\"type\":\"carpet\"}],\"table\":[{\"cells\":{\"fill\":{\"color\":\"#EBF0F8\"},\"line\":{\"color\":\"white\"}},\"header\":{\"fill\":{\"color\":\"#C8D4E3\"},\"line\":{\"color\":\"white\"}},\"type\":\"table\"}],\"barpolar\":[{\"marker\":{\"line\":{\"color\":\"#E5ECF6\",\"width\":0.5},\"pattern\":{\"fillmode\":\"overlay\",\"size\":10,\"solidity\":0.2}},\"type\":\"barpolar\"}],\"pie\":[{\"automargin\":true,\"type\":\"pie\"}]},\"layout\":{\"autotypenumbers\":\"strict\",\"colorway\":[\"#636efa\",\"#EF553B\",\"#00cc96\",\"#ab63fa\",\"#FFA15A\",\"#19d3f3\",\"#FF6692\",\"#B6E880\",\"#FF97FF\",\"#FECB52\"],\"font\":{\"color\":\"#2a3f5f\"},\"hovermode\":\"closest\",\"hoverlabel\":{\"align\":\"left\"},\"paper_bgcolor\":\"white\",\"plot_bgcolor\":\"#E5ECF6\",\"polar\":{\"bgcolor\":\"#E5ECF6\",\"angularaxis\":{\"gridcolor\":\"white\",\"linecolor\":\"white\",\"ticks\":\"\"},\"radialaxis\":{\"gridcolor\":\"white\",\"linecolor\":\"white\",\"ticks\":\"\"}},\"ternary\":{\"bgcolor\":\"#E5ECF6\",\"aaxis\":{\"gridcolor\":\"white\",\"linecolor\":\"white\",\"ticks\":\"\"},\"baxis\":{\"gridcolor\":\"white\",\"linecolor\":\"white\",\"ticks\":\"\"},\"caxis\":{\"gridcolor\":\"white\",\"linecolor\":\"white\",\"ticks\":\"\"}},\"coloraxis\":{\"colorbar\":{\"outlinewidth\":0,\"ticks\":\"\"}},\"colorscale\":{\"sequential\":[[0.0,\"#0d0887\"],[0.1111111111111111,\"#46039f\"],[0.2222222222222222,\"#7201a8\"],[0.3333333333333333,\"#9c179e\"],[0.4444444444444444,\"#bd3786\"],[0.5555555555555556,\"#d8576b\"],[0.6666666666666666,\"#ed7953\"],[0.7777777777777778,\"#fb9f3a\"],[0.8888888888888888,\"#fdca26\"],[1.0,\"#f0f921\"]],\"sequentialminus\":[[0.0,\"#0d0887\"],[0.1111111111111111,\"#46039f\"],[0.2222222222222222,\"#7201a8\"],[0.3333333333333333,\"#9c179e\"],[0.4444444444444444,\"#bd3786\"],[0.5555555555555556,\"#d8576b\"],[0.6666666666666666,\"#ed7953\"],[0.7777777777777778,\"#fb9f3a\"],[0.8888888888888888,\"#fdca26\"],[1.0,\"#f0f921\"]],\"diverging\":[[0,\"#8e0152\"],[0.1,\"#c51b7d\"],[0.2,\"#de77ae\"],[0.3,\"#f1b6da\"],[0.4,\"#fde0ef\"],[0.5,\"#f7f7f7\"],[0.6,\"#e6f5d0\"],[0.7,\"#b8e186\"],[0.8,\"#7fbc41\"],[0.9,\"#4d9221\"],[1,\"#276419\"]]},\"xaxis\":{\"gridcolor\":\"white\",\"linecolor\":\"white\",\"ticks\":\"\",\"title\":{\"standoff\":15},\"zerolinecolor\":\"white\",\"automargin\":true,\"zerolinewidth\":2},\"yaxis\":{\"gridcolor\":\"white\",\"linecolor\":\"white\",\"ticks\":\"\",\"title\":{\"standoff\":15},\"zerolinecolor\":\"white\",\"automargin\":true,\"zerolinewidth\":2},\"scene\":{\"xaxis\":{\"backgroundcolor\":\"#E5ECF6\",\"gridcolor\":\"white\",\"linecolor\":\"white\",\"showbackground\":true,\"ticks\":\"\",\"zerolinecolor\":\"white\",\"gridwidth\":2},\"yaxis\":{\"backgroundcolor\":\"#E5ECF6\",\"gridcolor\":\"white\",\"linecolor\":\"white\",\"showbackground\":true,\"ticks\":\"\",\"zerolinecolor\":\"white\",\"gridwidth\":2},\"zaxis\":{\"backgroundcolor\":\"#E5ECF6\",\"gridcolor\":\"white\",\"linecolor\":\"white\",\"showbackground\":true,\"ticks\":\"\",\"zerolinecolor\":\"white\",\"gridwidth\":2}},\"shapedefaults\":{\"line\":{\"color\":\"#2a3f5f\"}},\"annotationdefaults\":{\"arrowcolor\":\"#2a3f5f\",\"arrowhead\":0,\"arrowwidth\":1},\"geo\":{\"bgcolor\":\"white\",\"landcolor\":\"#E5ECF6\",\"subunitcolor\":\"white\",\"showland\":true,\"showlakes\":true,\"lakecolor\":\"white\"},\"title\":{\"x\":0.05},\"mapbox\":{\"style\":\"light\"}}}},                        {\"responsive\": true}                    ).then(function(){\n",
       "                            \n",
       "var gd = document.getElementById('7a3295d7-2007-4d19-a1cf-6048c3644826');\n",
       "var x = new MutationObserver(function (mutations, observer) {{\n",
       "        var display = window.getComputedStyle(gd).display;\n",
       "        if (!display || display === 'none') {{\n",
       "            console.log([gd, 'removed!']);\n",
       "            Plotly.purge(gd);\n",
       "            observer.disconnect();\n",
       "        }}\n",
       "}});\n",
       "\n",
       "// Listen for the removal of the full notebook cells\n",
       "var notebookContainer = gd.closest('#notebook-container');\n",
       "if (notebookContainer) {{\n",
       "    x.observe(notebookContainer, {childList: true});\n",
       "}}\n",
       "\n",
       "// Listen for the clearing of the current output cell\n",
       "var outputEl = gd.closest('.output');\n",
       "if (outputEl) {{\n",
       "    x.observe(outputEl, {childList: true});\n",
       "}}\n",
       "\n",
       "                        })                };                });            </script>        </div>"
      ]
     },
     "metadata": {},
     "output_type": "display_data"
    }
   ],
   "source": [
    "figure = create_3d_globe(\n",
    "    data=[\n",
    "        go.Scattergeo(\n",
    "            lon=orbit_df[\"$Longitude$\"],\n",
    "            lat=orbit_df[\"$Latitude$\"],\n",
    "            mode=\"lines\",\n",
    "            line=go.scattergeo.Line(width=2, color=\"rgb(255, 62, 79)\"),\n",
    "        )\n",
    "    ],\n",
    ")\n",
    "\n",
    "figure.show()"
   ]
  },
  {
   "cell_type": "markdown",
   "id": "750bda73-6159-4e24-a795-7ecc2382627b",
   "metadata": {},
   "source": [
    "Semi-major axis evolution over time"
   ]
  },
  {
   "cell_type": "code",
   "execution_count": 31,
   "id": "9a2b1ad3-0712-4a65-910d-492c587b6bfb",
   "metadata": {},
   "outputs": [
    {
     "data": {
      "application/vnd.plotly.v1+json": {
       "config": {
        "plotlyServerURL": "https://plot.ly"
       },
       "data": [
        {
         "mode": "lines",
         "name": "Semi Major Axis (Km)",
         "type": "scatter",
         "x": [
          60023,
          60023.0003472222,
          60023.0006944444,
          60023.001041666605,
          60023.001388888806,
          60023.00173611101,
          60023.00208333321,
          60023.00243055541,
          60023.00277777761,
          60023.003124999814,
          60023.003472222015,
          60023.00381944422,
          60023.004166666884,
          60023.004513889086,
          60023.00486111129,
          60023.00520833349,
          60023.00555555569,
          60023.00590277789,
          60023.00625000009,
          60023.006597222295,
          60023.006944444496,
          60023.0072916667,
          60023.0076388889,
          60023.0079861111,
          60023.0083333333,
          60023.008680555504,
          60023.009027777705,
          60023.00937499991,
          60023.00972222211,
          60023.01006944431,
          60023.01041666651,
          60023.01076388871,
          60023.011111110914,
          60023.011458333116,
          60023.01180555578,
          60023.012152777985,
          60023.012500000186,
          60023.01284722239,
          60023.01319444459,
          60023.01354166679,
          60023.01388888899,
          60023.014236111194,
          60023.014583333395,
          60023.0149305556,
          60023.0152777778,
          60023.015625,
          60023.0159722222,
          60023.0163194444,
          60023.016666666605,
          60023.017013888806,
          60023.01736111101,
          60023.01770833321,
          60023.01805555541,
          60023.01840277761,
          60023.018749999814,
          60023.019097222015,
          60023.01944444422,
          60023.019791666884,
          60023.020138889086,
          60023.02048611129,
          60023.02083333349,
          60023.02118055569,
          60023.02152777789,
          60023.02187500009,
          60023.022222222295,
          60023.022569444496,
          60023.0229166667,
          60023.0232638889,
          60023.0236111111,
          60023.0239583333,
          60023.024305555504,
          60023.024652777705,
          60023.02499999991,
          60023.02534722211,
          60023.02569444431,
          60023.02604166651,
          60023.02638888871,
          60023.026736110914,
          60023.027083333116,
          60023.02743055578,
          60023.027777777985,
          60023.028125000186,
          60023.02847222239,
          60023.02881944459,
          60023.02916666679,
          60023.02951388899,
          60023.029861111194,
          60023.030208333395,
          60023.0305555556,
          60023.0309027778,
          60023.03125,
          60023.0315972222,
          60023.0319444444,
          60023.032291666605,
          60023.032638888806,
          60023.03298611101,
          60023.03333333321,
          60023.03368055541,
          60023.03402777761,
          60023.034374999814,
          60023.034722222015,
          60023.03506944422,
          60023.035416666884,
          60023.035763889086,
          60023.03611111129,
          60023.03645833349,
          60023.03680555569,
          60023.03715277789,
          60023.03750000009,
          60023.037847222295,
          60023.038194444496,
          60023.0385416667,
          60023.0388888889,
          60023.0392361111,
          60023.0395833333,
          60023.039930555504,
          60023.040277777705,
          60023.04062499991,
          60023.04097222211,
          60023.04131944431,
          60023.04166666651
         ],
         "y": [
          7000.000000000007,
          7000.760935341306,
          7001.557295477492,
          7002.387911126052,
          7003.25146925293,
          7004.146529607792,
          7005.071544879603,
          7006.024879483212,
          7007.00482210033,
          7008.009589071116,
          7009.037318759067,
          7010.086059919705,
          7011.153758858413,
          7012.238250271625,
          7013.337255321567,
          7014.448388410609,
          7015.569172155639,
          7016.697058824715,
          7017.829456112196,
          7018.963755266649,
          7020.09735972764,
          7021.227712210805,
          7022.352317649086,
          7023.4687590137755,
          7024.5747034376645,
          7025.667897666143,
          7026.746154544426,
          7027.807335242911,
          7028.849334046094,
          7029.870072674428,
          7030.867508775864,
          7031.839658874587,
          7032.784631080953,
          7033.700659098675,
          7034.586128114841,
          7035.439585679903,
          7036.259736011549,
          7037.045422437665,
          7037.795607537032,
          7038.509361927636,
          7039.185869791834,
          7039.824452940107,
          7040.42460773076,
          7040.98604332263,
          7041.508707909946,
          7041.99279271263,
          7042.438710646084,
          7042.84705525519,
          7043.218552471423,
          7043.554020371081,
          7043.854349280421,
          7044.120507229306,
          7044.353566563291,
          7044.554739889733,
          7044.725410314753,
          7044.86714333608,
          7044.981674878174,
          7045.070879079885,
          7045.136727087353,
          7045.181251335332,
          7045.2065273622875,
          7045.214678004267,
          7045.207895578355,
          7045.188469919895,
          7045.158806858283,
          7045.121424220383,
          7045.078919897318,
          7045.033916226662,
          7044.9889934253215,
          7044.946629030575,
          7044.90915881203,
          7044.878768022093,
          7044.857512558365,
          7044.847360878988,
          7044.850242244478,
          7044.868086575174,
          7044.902845574792,
          7044.956491824847,
          7045.030999565775,
          7045.128315399431,
          7045.250327912256,
          7045.398842534099,
          7045.5755634388715,
          7045.782080149403,
          7046.019854545788,
          7046.290204924853,
          7046.594286943624,
          7046.933075088526,
          7047.307350768072,
          7047.7177028465785,
          7048.164543230891,
          7048.648135069686,
          7049.168626185694,
          7049.726077581106,
          7050.320477532796,
          7050.951735927703,
          7051.619659740639,
          7052.323916734321,
          7053.063998342407,
          7053.839192875371,
          7054.648576615879,
          7055.491024371598,
          7056.365234832691,
          7057.269761885377,
          7058.203042311276,
          7059.163413169151,
          7060.14911737065,
          7061.1583014176595,
          7062.189012810869,
          7063.23920488759,
          7064.306753721526,
          7065.389486461066,
          7066.485215177941,
          7067.591767069757,
          7068.7070020576075,
          7069.82881250264,
          7070.955105665573,
          7072.083775526167,
          7073.212674469194,
          7074.339595676128,
          7075.462273663669
         ]
        }
       ],
       "layout": {
        "autosize": true,
        "template": {
         "data": {
          "bar": [
           {
            "error_x": {
             "color": "#2a3f5f"
            },
            "error_y": {
             "color": "#2a3f5f"
            },
            "marker": {
             "line": {
              "color": "#E5ECF6",
              "width": 0.5
             },
             "pattern": {
              "fillmode": "overlay",
              "size": 10,
              "solidity": 0.2
             }
            },
            "type": "bar"
           }
          ],
          "barpolar": [
           {
            "marker": {
             "line": {
              "color": "#E5ECF6",
              "width": 0.5
             },
             "pattern": {
              "fillmode": "overlay",
              "size": 10,
              "solidity": 0.2
             }
            },
            "type": "barpolar"
           }
          ],
          "carpet": [
           {
            "aaxis": {
             "endlinecolor": "#2a3f5f",
             "gridcolor": "white",
             "linecolor": "white",
             "minorgridcolor": "white",
             "startlinecolor": "#2a3f5f"
            },
            "baxis": {
             "endlinecolor": "#2a3f5f",
             "gridcolor": "white",
             "linecolor": "white",
             "minorgridcolor": "white",
             "startlinecolor": "#2a3f5f"
            },
            "type": "carpet"
           }
          ],
          "choropleth": [
           {
            "colorbar": {
             "outlinewidth": 0,
             "ticks": ""
            },
            "type": "choropleth"
           }
          ],
          "contour": [
           {
            "colorbar": {
             "outlinewidth": 0,
             "ticks": ""
            },
            "colorscale": [
             [
              0,
              "#0d0887"
             ],
             [
              0.1111111111111111,
              "#46039f"
             ],
             [
              0.2222222222222222,
              "#7201a8"
             ],
             [
              0.3333333333333333,
              "#9c179e"
             ],
             [
              0.4444444444444444,
              "#bd3786"
             ],
             [
              0.5555555555555556,
              "#d8576b"
             ],
             [
              0.6666666666666666,
              "#ed7953"
             ],
             [
              0.7777777777777778,
              "#fb9f3a"
             ],
             [
              0.8888888888888888,
              "#fdca26"
             ],
             [
              1,
              "#f0f921"
             ]
            ],
            "type": "contour"
           }
          ],
          "contourcarpet": [
           {
            "colorbar": {
             "outlinewidth": 0,
             "ticks": ""
            },
            "type": "contourcarpet"
           }
          ],
          "heatmap": [
           {
            "colorbar": {
             "outlinewidth": 0,
             "ticks": ""
            },
            "colorscale": [
             [
              0,
              "#0d0887"
             ],
             [
              0.1111111111111111,
              "#46039f"
             ],
             [
              0.2222222222222222,
              "#7201a8"
             ],
             [
              0.3333333333333333,
              "#9c179e"
             ],
             [
              0.4444444444444444,
              "#bd3786"
             ],
             [
              0.5555555555555556,
              "#d8576b"
             ],
             [
              0.6666666666666666,
              "#ed7953"
             ],
             [
              0.7777777777777778,
              "#fb9f3a"
             ],
             [
              0.8888888888888888,
              "#fdca26"
             ],
             [
              1,
              "#f0f921"
             ]
            ],
            "type": "heatmap"
           }
          ],
          "heatmapgl": [
           {
            "colorbar": {
             "outlinewidth": 0,
             "ticks": ""
            },
            "colorscale": [
             [
              0,
              "#0d0887"
             ],
             [
              0.1111111111111111,
              "#46039f"
             ],
             [
              0.2222222222222222,
              "#7201a8"
             ],
             [
              0.3333333333333333,
              "#9c179e"
             ],
             [
              0.4444444444444444,
              "#bd3786"
             ],
             [
              0.5555555555555556,
              "#d8576b"
             ],
             [
              0.6666666666666666,
              "#ed7953"
             ],
             [
              0.7777777777777778,
              "#fb9f3a"
             ],
             [
              0.8888888888888888,
              "#fdca26"
             ],
             [
              1,
              "#f0f921"
             ]
            ],
            "type": "heatmapgl"
           }
          ],
          "histogram": [
           {
            "marker": {
             "pattern": {
              "fillmode": "overlay",
              "size": 10,
              "solidity": 0.2
             }
            },
            "type": "histogram"
           }
          ],
          "histogram2d": [
           {
            "colorbar": {
             "outlinewidth": 0,
             "ticks": ""
            },
            "colorscale": [
             [
              0,
              "#0d0887"
             ],
             [
              0.1111111111111111,
              "#46039f"
             ],
             [
              0.2222222222222222,
              "#7201a8"
             ],
             [
              0.3333333333333333,
              "#9c179e"
             ],
             [
              0.4444444444444444,
              "#bd3786"
             ],
             [
              0.5555555555555556,
              "#d8576b"
             ],
             [
              0.6666666666666666,
              "#ed7953"
             ],
             [
              0.7777777777777778,
              "#fb9f3a"
             ],
             [
              0.8888888888888888,
              "#fdca26"
             ],
             [
              1,
              "#f0f921"
             ]
            ],
            "type": "histogram2d"
           }
          ],
          "histogram2dcontour": [
           {
            "colorbar": {
             "outlinewidth": 0,
             "ticks": ""
            },
            "colorscale": [
             [
              0,
              "#0d0887"
             ],
             [
              0.1111111111111111,
              "#46039f"
             ],
             [
              0.2222222222222222,
              "#7201a8"
             ],
             [
              0.3333333333333333,
              "#9c179e"
             ],
             [
              0.4444444444444444,
              "#bd3786"
             ],
             [
              0.5555555555555556,
              "#d8576b"
             ],
             [
              0.6666666666666666,
              "#ed7953"
             ],
             [
              0.7777777777777778,
              "#fb9f3a"
             ],
             [
              0.8888888888888888,
              "#fdca26"
             ],
             [
              1,
              "#f0f921"
             ]
            ],
            "type": "histogram2dcontour"
           }
          ],
          "mesh3d": [
           {
            "colorbar": {
             "outlinewidth": 0,
             "ticks": ""
            },
            "type": "mesh3d"
           }
          ],
          "parcoords": [
           {
            "line": {
             "colorbar": {
              "outlinewidth": 0,
              "ticks": ""
             }
            },
            "type": "parcoords"
           }
          ],
          "pie": [
           {
            "automargin": true,
            "type": "pie"
           }
          ],
          "scatter": [
           {
            "fillpattern": {
             "fillmode": "overlay",
             "size": 10,
             "solidity": 0.2
            },
            "type": "scatter"
           }
          ],
          "scatter3d": [
           {
            "line": {
             "colorbar": {
              "outlinewidth": 0,
              "ticks": ""
             }
            },
            "marker": {
             "colorbar": {
              "outlinewidth": 0,
              "ticks": ""
             }
            },
            "type": "scatter3d"
           }
          ],
          "scattercarpet": [
           {
            "marker": {
             "colorbar": {
              "outlinewidth": 0,
              "ticks": ""
             }
            },
            "type": "scattercarpet"
           }
          ],
          "scattergeo": [
           {
            "marker": {
             "colorbar": {
              "outlinewidth": 0,
              "ticks": ""
             }
            },
            "type": "scattergeo"
           }
          ],
          "scattergl": [
           {
            "marker": {
             "colorbar": {
              "outlinewidth": 0,
              "ticks": ""
             }
            },
            "type": "scattergl"
           }
          ],
          "scattermapbox": [
           {
            "marker": {
             "colorbar": {
              "outlinewidth": 0,
              "ticks": ""
             }
            },
            "type": "scattermapbox"
           }
          ],
          "scatterpolar": [
           {
            "marker": {
             "colorbar": {
              "outlinewidth": 0,
              "ticks": ""
             }
            },
            "type": "scatterpolar"
           }
          ],
          "scatterpolargl": [
           {
            "marker": {
             "colorbar": {
              "outlinewidth": 0,
              "ticks": ""
             }
            },
            "type": "scatterpolargl"
           }
          ],
          "scatterternary": [
           {
            "marker": {
             "colorbar": {
              "outlinewidth": 0,
              "ticks": ""
             }
            },
            "type": "scatterternary"
           }
          ],
          "surface": [
           {
            "colorbar": {
             "outlinewidth": 0,
             "ticks": ""
            },
            "colorscale": [
             [
              0,
              "#0d0887"
             ],
             [
              0.1111111111111111,
              "#46039f"
             ],
             [
              0.2222222222222222,
              "#7201a8"
             ],
             [
              0.3333333333333333,
              "#9c179e"
             ],
             [
              0.4444444444444444,
              "#bd3786"
             ],
             [
              0.5555555555555556,
              "#d8576b"
             ],
             [
              0.6666666666666666,
              "#ed7953"
             ],
             [
              0.7777777777777778,
              "#fb9f3a"
             ],
             [
              0.8888888888888888,
              "#fdca26"
             ],
             [
              1,
              "#f0f921"
             ]
            ],
            "type": "surface"
           }
          ],
          "table": [
           {
            "cells": {
             "fill": {
              "color": "#EBF0F8"
             },
             "line": {
              "color": "white"
             }
            },
            "header": {
             "fill": {
              "color": "#C8D4E3"
             },
             "line": {
              "color": "white"
             }
            },
            "type": "table"
           }
          ]
         },
         "layout": {
          "annotationdefaults": {
           "arrowcolor": "#2a3f5f",
           "arrowhead": 0,
           "arrowwidth": 1
          },
          "autotypenumbers": "strict",
          "coloraxis": {
           "colorbar": {
            "outlinewidth": 0,
            "ticks": ""
           }
          },
          "colorscale": {
           "diverging": [
            [
             0,
             "#8e0152"
            ],
            [
             0.1,
             "#c51b7d"
            ],
            [
             0.2,
             "#de77ae"
            ],
            [
             0.3,
             "#f1b6da"
            ],
            [
             0.4,
             "#fde0ef"
            ],
            [
             0.5,
             "#f7f7f7"
            ],
            [
             0.6,
             "#e6f5d0"
            ],
            [
             0.7,
             "#b8e186"
            ],
            [
             0.8,
             "#7fbc41"
            ],
            [
             0.9,
             "#4d9221"
            ],
            [
             1,
             "#276419"
            ]
           ],
           "sequential": [
            [
             0,
             "#0d0887"
            ],
            [
             0.1111111111111111,
             "#46039f"
            ],
            [
             0.2222222222222222,
             "#7201a8"
            ],
            [
             0.3333333333333333,
             "#9c179e"
            ],
            [
             0.4444444444444444,
             "#bd3786"
            ],
            [
             0.5555555555555556,
             "#d8576b"
            ],
            [
             0.6666666666666666,
             "#ed7953"
            ],
            [
             0.7777777777777778,
             "#fb9f3a"
            ],
            [
             0.8888888888888888,
             "#fdca26"
            ],
            [
             1,
             "#f0f921"
            ]
           ],
           "sequentialminus": [
            [
             0,
             "#0d0887"
            ],
            [
             0.1111111111111111,
             "#46039f"
            ],
            [
             0.2222222222222222,
             "#7201a8"
            ],
            [
             0.3333333333333333,
             "#9c179e"
            ],
            [
             0.4444444444444444,
             "#bd3786"
            ],
            [
             0.5555555555555556,
             "#d8576b"
            ],
            [
             0.6666666666666666,
             "#ed7953"
            ],
            [
             0.7777777777777778,
             "#fb9f3a"
            ],
            [
             0.8888888888888888,
             "#fdca26"
            ],
            [
             1,
             "#f0f921"
            ]
           ]
          },
          "colorway": [
           "#636efa",
           "#EF553B",
           "#00cc96",
           "#ab63fa",
           "#FFA15A",
           "#19d3f3",
           "#FF6692",
           "#B6E880",
           "#FF97FF",
           "#FECB52"
          ],
          "font": {
           "color": "#2a3f5f"
          },
          "geo": {
           "bgcolor": "white",
           "lakecolor": "white",
           "landcolor": "#E5ECF6",
           "showlakes": true,
           "showland": true,
           "subunitcolor": "white"
          },
          "hoverlabel": {
           "align": "left"
          },
          "hovermode": "closest",
          "mapbox": {
           "style": "light"
          },
          "paper_bgcolor": "white",
          "plot_bgcolor": "#E5ECF6",
          "polar": {
           "angularaxis": {
            "gridcolor": "white",
            "linecolor": "white",
            "ticks": ""
           },
           "bgcolor": "#E5ECF6",
           "radialaxis": {
            "gridcolor": "white",
            "linecolor": "white",
            "ticks": ""
           }
          },
          "scene": {
           "xaxis": {
            "backgroundcolor": "#E5ECF6",
            "gridcolor": "white",
            "gridwidth": 2,
            "linecolor": "white",
            "showbackground": true,
            "ticks": "",
            "zerolinecolor": "white"
           },
           "yaxis": {
            "backgroundcolor": "#E5ECF6",
            "gridcolor": "white",
            "gridwidth": 2,
            "linecolor": "white",
            "showbackground": true,
            "ticks": "",
            "zerolinecolor": "white"
           },
           "zaxis": {
            "backgroundcolor": "#E5ECF6",
            "gridcolor": "white",
            "gridwidth": 2,
            "linecolor": "white",
            "showbackground": true,
            "ticks": "",
            "zerolinecolor": "white"
           }
          },
          "shapedefaults": {
           "line": {
            "color": "#2a3f5f"
           }
          },
          "ternary": {
           "aaxis": {
            "gridcolor": "white",
            "linecolor": "white",
            "ticks": ""
           },
           "baxis": {
            "gridcolor": "white",
            "linecolor": "white",
            "ticks": ""
           },
           "bgcolor": "#E5ECF6",
           "caxis": {
            "gridcolor": "white",
            "linecolor": "white",
            "ticks": ""
           }
          },
          "title": {
           "x": 0.05
          },
          "xaxis": {
           "automargin": true,
           "gridcolor": "white",
           "linecolor": "white",
           "ticks": "",
           "title": {
            "standoff": 15
           },
           "zerolinecolor": "white",
           "zerolinewidth": 2
          },
          "yaxis": {
           "automargin": true,
           "gridcolor": "white",
           "linecolor": "white",
           "ticks": "",
           "title": {
            "standoff": 15
           },
           "zerolinecolor": "white",
           "zerolinewidth": 2
          }
         }
        },
        "xaxis": {
         "autorange": true,
         "range": [
          60023,
          60023.04166666651
         ],
         "type": "linear"
        },
        "yaxis": {
         "autorange": true,
         "range": [
          6995.8076514631375,
          7079.654622200539
         ],
         "type": "linear"
        }
       }
      },
      "text/html": [
       "<div>                            <div id=\"b49e78d0-9d23-4379-aaac-64236c204e80\" class=\"plotly-graph-div\" style=\"height:525px; width:100%;\"></div>            <script type=\"text/javascript\">                require([\"plotly\"], function(Plotly) {                    window.PLOTLYENV=window.PLOTLYENV || {};                                    if (document.getElementById(\"b49e78d0-9d23-4379-aaac-64236c204e80\")) {                    Plotly.newPlot(                        \"b49e78d0-9d23-4379-aaac-64236c204e80\",                        [{\"mode\":\"lines\",\"name\":\"Semi Major Axis (Km)\",\"x\":[60023.0,60023.0003472222,60023.0006944444,60023.001041666605,60023.001388888806,60023.00173611101,60023.00208333321,60023.00243055541,60023.00277777761,60023.003124999814,60023.003472222015,60023.00381944422,60023.004166666884,60023.004513889086,60023.00486111129,60023.00520833349,60023.00555555569,60023.00590277789,60023.00625000009,60023.006597222295,60023.006944444496,60023.0072916667,60023.0076388889,60023.0079861111,60023.0083333333,60023.008680555504,60023.009027777705,60023.00937499991,60023.00972222211,60023.01006944431,60023.01041666651,60023.01076388871,60023.011111110914,60023.011458333116,60023.01180555578,60023.012152777985,60023.012500000186,60023.01284722239,60023.01319444459,60023.01354166679,60023.01388888899,60023.014236111194,60023.014583333395,60023.0149305556,60023.0152777778,60023.015625,60023.0159722222,60023.0163194444,60023.016666666605,60023.017013888806,60023.01736111101,60023.01770833321,60023.01805555541,60023.01840277761,60023.018749999814,60023.019097222015,60023.01944444422,60023.019791666884,60023.020138889086,60023.02048611129,60023.02083333349,60023.02118055569,60023.02152777789,60023.02187500009,60023.022222222295,60023.022569444496,60023.0229166667,60023.0232638889,60023.0236111111,60023.0239583333,60023.024305555504,60023.024652777705,60023.02499999991,60023.02534722211,60023.02569444431,60023.02604166651,60023.02638888871,60023.026736110914,60023.027083333116,60023.02743055578,60023.027777777985,60023.028125000186,60023.02847222239,60023.02881944459,60023.02916666679,60023.02951388899,60023.029861111194,60023.030208333395,60023.0305555556,60023.0309027778,60023.03125,60023.0315972222,60023.0319444444,60023.032291666605,60023.032638888806,60023.03298611101,60023.03333333321,60023.03368055541,60023.03402777761,60023.034374999814,60023.034722222015,60023.03506944422,60023.035416666884,60023.035763889086,60023.03611111129,60023.03645833349,60023.03680555569,60023.03715277789,60023.03750000009,60023.037847222295,60023.038194444496,60023.0385416667,60023.0388888889,60023.0392361111,60023.0395833333,60023.039930555504,60023.040277777705,60023.04062499991,60023.04097222211,60023.04131944431,60023.04166666651],\"y\":[7000.000000000007,7000.760935341306,7001.557295477492,7002.387911126052,7003.25146925293,7004.146529607792,7005.071544879603,7006.024879483212,7007.00482210033,7008.009589071116,7009.037318759067,7010.086059919705,7011.153758858413,7012.238250271625,7013.337255321567,7014.448388410609,7015.569172155639,7016.697058824715,7017.829456112196,7018.963755266649,7020.09735972764,7021.227712210805,7022.352317649086,7023.4687590137755,7024.5747034376645,7025.667897666143,7026.746154544426,7027.807335242911,7028.849334046094,7029.870072674428,7030.867508775864,7031.839658874587,7032.784631080953,7033.700659098675,7034.586128114841,7035.439585679903,7036.259736011549,7037.045422437665,7037.795607537032,7038.509361927636,7039.185869791834,7039.824452940107,7040.42460773076,7040.98604332263,7041.508707909946,7041.99279271263,7042.438710646084,7042.84705525519,7043.218552471423,7043.554020371081,7043.854349280421,7044.120507229306,7044.353566563291,7044.554739889733,7044.725410314753,7044.86714333608,7044.981674878174,7045.070879079885,7045.136727087353,7045.181251335332,7045.2065273622875,7045.214678004267,7045.207895578355,7045.188469919895,7045.158806858283,7045.121424220383,7045.078919897318,7045.033916226662,7044.9889934253215,7044.946629030575,7044.90915881203,7044.878768022093,7044.857512558365,7044.847360878988,7044.850242244478,7044.868086575174,7044.902845574792,7044.956491824847,7045.030999565775,7045.128315399431,7045.250327912256,7045.398842534099,7045.5755634388715,7045.782080149403,7046.019854545788,7046.290204924853,7046.594286943624,7046.933075088526,7047.307350768072,7047.7177028465785,7048.164543230891,7048.648135069686,7049.168626185694,7049.726077581106,7050.320477532796,7050.951735927703,7051.619659740639,7052.323916734321,7053.063998342407,7053.839192875371,7054.648576615879,7055.491024371598,7056.365234832691,7057.269761885377,7058.203042311276,7059.163413169151,7060.14911737065,7061.1583014176595,7062.189012810869,7063.23920488759,7064.306753721526,7065.389486461066,7066.485215177941,7067.591767069757,7068.7070020576075,7069.82881250264,7070.955105665573,7072.083775526167,7073.212674469194,7074.339595676128,7075.462273663669],\"type\":\"scatter\"}],                        {\"template\":{\"data\":{\"histogram2dcontour\":[{\"type\":\"histogram2dcontour\",\"colorbar\":{\"outlinewidth\":0,\"ticks\":\"\"},\"colorscale\":[[0.0,\"#0d0887\"],[0.1111111111111111,\"#46039f\"],[0.2222222222222222,\"#7201a8\"],[0.3333333333333333,\"#9c179e\"],[0.4444444444444444,\"#bd3786\"],[0.5555555555555556,\"#d8576b\"],[0.6666666666666666,\"#ed7953\"],[0.7777777777777778,\"#fb9f3a\"],[0.8888888888888888,\"#fdca26\"],[1.0,\"#f0f921\"]]}],\"choropleth\":[{\"type\":\"choropleth\",\"colorbar\":{\"outlinewidth\":0,\"ticks\":\"\"}}],\"histogram2d\":[{\"type\":\"histogram2d\",\"colorbar\":{\"outlinewidth\":0,\"ticks\":\"\"},\"colorscale\":[[0.0,\"#0d0887\"],[0.1111111111111111,\"#46039f\"],[0.2222222222222222,\"#7201a8\"],[0.3333333333333333,\"#9c179e\"],[0.4444444444444444,\"#bd3786\"],[0.5555555555555556,\"#d8576b\"],[0.6666666666666666,\"#ed7953\"],[0.7777777777777778,\"#fb9f3a\"],[0.8888888888888888,\"#fdca26\"],[1.0,\"#f0f921\"]]}],\"heatmap\":[{\"type\":\"heatmap\",\"colorbar\":{\"outlinewidth\":0,\"ticks\":\"\"},\"colorscale\":[[0.0,\"#0d0887\"],[0.1111111111111111,\"#46039f\"],[0.2222222222222222,\"#7201a8\"],[0.3333333333333333,\"#9c179e\"],[0.4444444444444444,\"#bd3786\"],[0.5555555555555556,\"#d8576b\"],[0.6666666666666666,\"#ed7953\"],[0.7777777777777778,\"#fb9f3a\"],[0.8888888888888888,\"#fdca26\"],[1.0,\"#f0f921\"]]}],\"heatmapgl\":[{\"type\":\"heatmapgl\",\"colorbar\":{\"outlinewidth\":0,\"ticks\":\"\"},\"colorscale\":[[0.0,\"#0d0887\"],[0.1111111111111111,\"#46039f\"],[0.2222222222222222,\"#7201a8\"],[0.3333333333333333,\"#9c179e\"],[0.4444444444444444,\"#bd3786\"],[0.5555555555555556,\"#d8576b\"],[0.6666666666666666,\"#ed7953\"],[0.7777777777777778,\"#fb9f3a\"],[0.8888888888888888,\"#fdca26\"],[1.0,\"#f0f921\"]]}],\"contourcarpet\":[{\"type\":\"contourcarpet\",\"colorbar\":{\"outlinewidth\":0,\"ticks\":\"\"}}],\"contour\":[{\"type\":\"contour\",\"colorbar\":{\"outlinewidth\":0,\"ticks\":\"\"},\"colorscale\":[[0.0,\"#0d0887\"],[0.1111111111111111,\"#46039f\"],[0.2222222222222222,\"#7201a8\"],[0.3333333333333333,\"#9c179e\"],[0.4444444444444444,\"#bd3786\"],[0.5555555555555556,\"#d8576b\"],[0.6666666666666666,\"#ed7953\"],[0.7777777777777778,\"#fb9f3a\"],[0.8888888888888888,\"#fdca26\"],[1.0,\"#f0f921\"]]}],\"surface\":[{\"type\":\"surface\",\"colorbar\":{\"outlinewidth\":0,\"ticks\":\"\"},\"colorscale\":[[0.0,\"#0d0887\"],[0.1111111111111111,\"#46039f\"],[0.2222222222222222,\"#7201a8\"],[0.3333333333333333,\"#9c179e\"],[0.4444444444444444,\"#bd3786\"],[0.5555555555555556,\"#d8576b\"],[0.6666666666666666,\"#ed7953\"],[0.7777777777777778,\"#fb9f3a\"],[0.8888888888888888,\"#fdca26\"],[1.0,\"#f0f921\"]]}],\"mesh3d\":[{\"type\":\"mesh3d\",\"colorbar\":{\"outlinewidth\":0,\"ticks\":\"\"}}],\"scatter\":[{\"fillpattern\":{\"fillmode\":\"overlay\",\"size\":10,\"solidity\":0.2},\"type\":\"scatter\"}],\"parcoords\":[{\"type\":\"parcoords\",\"line\":{\"colorbar\":{\"outlinewidth\":0,\"ticks\":\"\"}}}],\"scatterpolargl\":[{\"type\":\"scatterpolargl\",\"marker\":{\"colorbar\":{\"outlinewidth\":0,\"ticks\":\"\"}}}],\"bar\":[{\"error_x\":{\"color\":\"#2a3f5f\"},\"error_y\":{\"color\":\"#2a3f5f\"},\"marker\":{\"line\":{\"color\":\"#E5ECF6\",\"width\":0.5},\"pattern\":{\"fillmode\":\"overlay\",\"size\":10,\"solidity\":0.2}},\"type\":\"bar\"}],\"scattergeo\":[{\"type\":\"scattergeo\",\"marker\":{\"colorbar\":{\"outlinewidth\":0,\"ticks\":\"\"}}}],\"scatterpolar\":[{\"type\":\"scatterpolar\",\"marker\":{\"colorbar\":{\"outlinewidth\":0,\"ticks\":\"\"}}}],\"histogram\":[{\"marker\":{\"pattern\":{\"fillmode\":\"overlay\",\"size\":10,\"solidity\":0.2}},\"type\":\"histogram\"}],\"scattergl\":[{\"type\":\"scattergl\",\"marker\":{\"colorbar\":{\"outlinewidth\":0,\"ticks\":\"\"}}}],\"scatter3d\":[{\"type\":\"scatter3d\",\"line\":{\"colorbar\":{\"outlinewidth\":0,\"ticks\":\"\"}},\"marker\":{\"colorbar\":{\"outlinewidth\":0,\"ticks\":\"\"}}}],\"scattermapbox\":[{\"type\":\"scattermapbox\",\"marker\":{\"colorbar\":{\"outlinewidth\":0,\"ticks\":\"\"}}}],\"scatterternary\":[{\"type\":\"scatterternary\",\"marker\":{\"colorbar\":{\"outlinewidth\":0,\"ticks\":\"\"}}}],\"scattercarpet\":[{\"type\":\"scattercarpet\",\"marker\":{\"colorbar\":{\"outlinewidth\":0,\"ticks\":\"\"}}}],\"carpet\":[{\"aaxis\":{\"endlinecolor\":\"#2a3f5f\",\"gridcolor\":\"white\",\"linecolor\":\"white\",\"minorgridcolor\":\"white\",\"startlinecolor\":\"#2a3f5f\"},\"baxis\":{\"endlinecolor\":\"#2a3f5f\",\"gridcolor\":\"white\",\"linecolor\":\"white\",\"minorgridcolor\":\"white\",\"startlinecolor\":\"#2a3f5f\"},\"type\":\"carpet\"}],\"table\":[{\"cells\":{\"fill\":{\"color\":\"#EBF0F8\"},\"line\":{\"color\":\"white\"}},\"header\":{\"fill\":{\"color\":\"#C8D4E3\"},\"line\":{\"color\":\"white\"}},\"type\":\"table\"}],\"barpolar\":[{\"marker\":{\"line\":{\"color\":\"#E5ECF6\",\"width\":0.5},\"pattern\":{\"fillmode\":\"overlay\",\"size\":10,\"solidity\":0.2}},\"type\":\"barpolar\"}],\"pie\":[{\"automargin\":true,\"type\":\"pie\"}]},\"layout\":{\"autotypenumbers\":\"strict\",\"colorway\":[\"#636efa\",\"#EF553B\",\"#00cc96\",\"#ab63fa\",\"#FFA15A\",\"#19d3f3\",\"#FF6692\",\"#B6E880\",\"#FF97FF\",\"#FECB52\"],\"font\":{\"color\":\"#2a3f5f\"},\"hovermode\":\"closest\",\"hoverlabel\":{\"align\":\"left\"},\"paper_bgcolor\":\"white\",\"plot_bgcolor\":\"#E5ECF6\",\"polar\":{\"bgcolor\":\"#E5ECF6\",\"angularaxis\":{\"gridcolor\":\"white\",\"linecolor\":\"white\",\"ticks\":\"\"},\"radialaxis\":{\"gridcolor\":\"white\",\"linecolor\":\"white\",\"ticks\":\"\"}},\"ternary\":{\"bgcolor\":\"#E5ECF6\",\"aaxis\":{\"gridcolor\":\"white\",\"linecolor\":\"white\",\"ticks\":\"\"},\"baxis\":{\"gridcolor\":\"white\",\"linecolor\":\"white\",\"ticks\":\"\"},\"caxis\":{\"gridcolor\":\"white\",\"linecolor\":\"white\",\"ticks\":\"\"}},\"coloraxis\":{\"colorbar\":{\"outlinewidth\":0,\"ticks\":\"\"}},\"colorscale\":{\"sequential\":[[0.0,\"#0d0887\"],[0.1111111111111111,\"#46039f\"],[0.2222222222222222,\"#7201a8\"],[0.3333333333333333,\"#9c179e\"],[0.4444444444444444,\"#bd3786\"],[0.5555555555555556,\"#d8576b\"],[0.6666666666666666,\"#ed7953\"],[0.7777777777777778,\"#fb9f3a\"],[0.8888888888888888,\"#fdca26\"],[1.0,\"#f0f921\"]],\"sequentialminus\":[[0.0,\"#0d0887\"],[0.1111111111111111,\"#46039f\"],[0.2222222222222222,\"#7201a8\"],[0.3333333333333333,\"#9c179e\"],[0.4444444444444444,\"#bd3786\"],[0.5555555555555556,\"#d8576b\"],[0.6666666666666666,\"#ed7953\"],[0.7777777777777778,\"#fb9f3a\"],[0.8888888888888888,\"#fdca26\"],[1.0,\"#f0f921\"]],\"diverging\":[[0,\"#8e0152\"],[0.1,\"#c51b7d\"],[0.2,\"#de77ae\"],[0.3,\"#f1b6da\"],[0.4,\"#fde0ef\"],[0.5,\"#f7f7f7\"],[0.6,\"#e6f5d0\"],[0.7,\"#b8e186\"],[0.8,\"#7fbc41\"],[0.9,\"#4d9221\"],[1,\"#276419\"]]},\"xaxis\":{\"gridcolor\":\"white\",\"linecolor\":\"white\",\"ticks\":\"\",\"title\":{\"standoff\":15},\"zerolinecolor\":\"white\",\"automargin\":true,\"zerolinewidth\":2},\"yaxis\":{\"gridcolor\":\"white\",\"linecolor\":\"white\",\"ticks\":\"\",\"title\":{\"standoff\":15},\"zerolinecolor\":\"white\",\"automargin\":true,\"zerolinewidth\":2},\"scene\":{\"xaxis\":{\"backgroundcolor\":\"#E5ECF6\",\"gridcolor\":\"white\",\"linecolor\":\"white\",\"showbackground\":true,\"ticks\":\"\",\"zerolinecolor\":\"white\",\"gridwidth\":2},\"yaxis\":{\"backgroundcolor\":\"#E5ECF6\",\"gridcolor\":\"white\",\"linecolor\":\"white\",\"showbackground\":true,\"ticks\":\"\",\"zerolinecolor\":\"white\",\"gridwidth\":2},\"zaxis\":{\"backgroundcolor\":\"#E5ECF6\",\"gridcolor\":\"white\",\"linecolor\":\"white\",\"showbackground\":true,\"ticks\":\"\",\"zerolinecolor\":\"white\",\"gridwidth\":2}},\"shapedefaults\":{\"line\":{\"color\":\"#2a3f5f\"}},\"annotationdefaults\":{\"arrowcolor\":\"#2a3f5f\",\"arrowhead\":0,\"arrowwidth\":1},\"geo\":{\"bgcolor\":\"white\",\"landcolor\":\"#E5ECF6\",\"subunitcolor\":\"white\",\"showland\":true,\"showlakes\":true,\"lakecolor\":\"white\"},\"title\":{\"x\":0.05},\"mapbox\":{\"style\":\"light\"}}}},                        {\"responsive\": true}                    ).then(function(){\n",
       "                            \n",
       "var gd = document.getElementById('b49e78d0-9d23-4379-aaac-64236c204e80');\n",
       "var x = new MutationObserver(function (mutations, observer) {{\n",
       "        var display = window.getComputedStyle(gd).display;\n",
       "        if (!display || display === 'none') {{\n",
       "            console.log([gd, 'removed!']);\n",
       "            Plotly.purge(gd);\n",
       "            observer.disconnect();\n",
       "        }}\n",
       "}});\n",
       "\n",
       "// Listen for the removal of the full notebook cells\n",
       "var notebookContainer = gd.closest('#notebook-container');\n",
       "if (notebookContainer) {{\n",
       "    x.observe(notebookContainer, {childList: true});\n",
       "}}\n",
       "\n",
       "// Listen for the clearing of the current output cell\n",
       "var outputEl = gd.closest('.output');\n",
       "if (outputEl) {{\n",
       "    x.observe(outputEl, {childList: true});\n",
       "}}\n",
       "\n",
       "                        })                };                });            </script>        </div>"
      ]
     },
     "metadata": {},
     "output_type": "display_data"
    }
   ],
   "source": [
    "figure = go.Figure()\n",
    "figure.add_trace(\n",
    "    go.Scatter(\n",
    "        x=orbit_df[\"$MJD^{UTC}$\"],\n",
    "        y=[float(item) for item in orbit_df[\"$SemiMajorAxisKm$\"]],\n",
    "        mode=\"lines\",\n",
    "        name=\"Semi Major Axis (Km)\",\n",
    "    )\n",
    ")\n",
    "\n",
    "figure.show()"
   ]
  },
  {
   "cell_type": "markdown",
   "id": "3d03f1b0-2486-4606-8670-6a703611e86b",
   "metadata": {},
   "source": [
    "Spacecraft wet mass evolution over time"
   ]
  },
  {
   "cell_type": "code",
   "execution_count": 33,
   "id": "42d6b6f9-cede-49a8-92d1-36c6116c7d37",
   "metadata": {},
   "outputs": [
    {
     "data": {
      "application/vnd.plotly.v1+json": {
       "config": {
        "plotlyServerURL": "https://plot.ly"
       },
       "data": [
        {
         "mode": "lines",
         "name": "Spacecraft Mass (kg)",
         "type": "scatter",
         "x": [
          60023,
          60023.0003472222,
          60023.0006944444,
          60023.001041666605,
          60023.001388888806,
          60023.00173611101,
          60023.00208333321,
          60023.00243055541,
          60023.00277777761,
          60023.003124999814,
          60023.003472222015,
          60023.00381944422,
          60023.004166666884,
          60023.004513889086,
          60023.00486111129,
          60023.00520833349,
          60023.00555555569,
          60023.00590277789,
          60023.00625000009,
          60023.006597222295,
          60023.006944444496,
          60023.0072916667,
          60023.0076388889,
          60023.0079861111,
          60023.0083333333,
          60023.008680555504,
          60023.009027777705,
          60023.00937499991,
          60023.00972222211,
          60023.01006944431,
          60023.01041666651,
          60023.01076388871,
          60023.011111110914,
          60023.011458333116,
          60023.01180555578,
          60023.012152777985,
          60023.012500000186,
          60023.01284722239,
          60023.01319444459,
          60023.01354166679,
          60023.01388888899,
          60023.014236111194,
          60023.014583333395,
          60023.0149305556,
          60023.0152777778,
          60023.015625,
          60023.0159722222,
          60023.0163194444,
          60023.016666666605,
          60023.017013888806,
          60023.01736111101,
          60023.01770833321,
          60023.01805555541,
          60023.01840277761,
          60023.018749999814,
          60023.019097222015,
          60023.01944444422,
          60023.019791666884,
          60023.020138889086,
          60023.02048611129,
          60023.02083333349,
          60023.02118055569,
          60023.02152777789,
          60023.02187500009,
          60023.022222222295,
          60023.022569444496,
          60023.0229166667,
          60023.0232638889,
          60023.0236111111,
          60023.0239583333,
          60023.024305555504,
          60023.024652777705,
          60023.02499999991,
          60023.02534722211,
          60023.02569444431,
          60023.02604166651,
          60023.02638888871,
          60023.026736110914,
          60023.027083333116,
          60023.02743055578,
          60023.027777777985,
          60023.028125000186,
          60023.02847222239,
          60023.02881944459,
          60023.02916666679,
          60023.02951388899,
          60023.029861111194,
          60023.030208333395,
          60023.0305555556,
          60023.0309027778,
          60023.03125,
          60023.0315972222,
          60023.0319444444,
          60023.032291666605,
          60023.032638888806,
          60023.03298611101,
          60023.03333333321,
          60023.03368055541,
          60023.03402777761,
          60023.034374999814,
          60023.034722222015,
          60023.03506944422,
          60023.035416666884,
          60023.035763889086,
          60023.03611111129,
          60023.03645833349,
          60023.03680555569,
          60023.03715277789,
          60023.03750000009,
          60023.037847222295,
          60023.038194444496,
          60023.0385416667,
          60023.0388888889,
          60023.0392361111,
          60023.0395833333,
          60023.039930555504,
          60023.040277777705,
          60023.04062499991,
          60023.04097222211,
          60023.04131944431,
          60023.04166666651
         ],
         "y": [
          105,
          104.97960567574046,
          104.95921135148089,
          104.93881702722135,
          104.9184227029618,
          104.89802837870226,
          104.87763405444272,
          104.85723973018318,
          104.83684540592364,
          104.8164510816641,
          104.79605675740456,
          104.77566243314502,
          104.75526810888547,
          104.73487378462593,
          104.71447946036639,
          104.69408513610685,
          104.67369081184731,
          104.65329648758777,
          104.63290216332823,
          104.61250783906868,
          104.59211351480914,
          104.5717191905496,
          104.55132486629006,
          104.53093054203052,
          104.51053621777098,
          104.49014189351144,
          104.4697475692519,
          104.44935324499235,
          104.42895892073281,
          104.40856459647327,
          104.38817027221373,
          104.36777594795419,
          104.34738162369464,
          104.3269872994351,
          104.30659297517556,
          104.28619865091602,
          104.26580432665648,
          104.24541000239694,
          104.2250156781374,
          104.20462135387785,
          104.18422702961831,
          104.16383270535877,
          104.14343838109923,
          104.12304405683969,
          104.10264973258015,
          104.0822554083206,
          104.06186108406106,
          104.04146675980152,
          104.02107243554198,
          104.00067811128244,
          103.9802837870229,
          103.95988946276336,
          103.93949513850382,
          103.91910081424427,
          103.89870648998473,
          103.87831216572519,
          103.85791784146565,
          103.83752351720611,
          103.81712919294657,
          103.79673486868703,
          103.77634054442748,
          103.75594622016794,
          103.7355518959084,
          103.71515757164886,
          103.69476324738932,
          103.67436892312978,
          103.65397459887024,
          103.6335802746107,
          103.61318595035115,
          103.59279162609161,
          103.57239730183207,
          103.55200297757253,
          103.53160865331299,
          103.51121432905344,
          103.4908200047939,
          103.47042568053436,
          103.45003135627482,
          103.42963703201528,
          103.40924270775574,
          103.3888483834962,
          103.36845405923665,
          103.34805973497711,
          103.32766541071757,
          103.30727108645803,
          103.28687676219849,
          103.26648243793895,
          103.2460881136794,
          103.22569378941986,
          103.20529946516032,
          103.18490514090078,
          103.16451081664124,
          103.1441164923817,
          103.12372216812216,
          103.10332784386262,
          103.08293351960307,
          103.06253919534353,
          103.04214487108399,
          103.02175054682445,
          103.00135622256491,
          102.98096189830537,
          102.96056757404583,
          102.94017324978628,
          102.91977892552674,
          102.8993846012672,
          102.87899027700766,
          102.85859595274812,
          102.83820162848858,
          102.81780730422904,
          102.7974129799695,
          102.77701865570995,
          102.75662433145041,
          102.73623000719087,
          102.71583568293133,
          102.69544135867179,
          102.67504703441224,
          102.6546527101527,
          102.63425838589316,
          102.61386406163362,
          102.59346973737408,
          102.57307541311454,
          102.552681088855
         ]
        }
       ],
       "layout": {
        "autosize": true,
        "template": {
         "data": {
          "bar": [
           {
            "error_x": {
             "color": "#2a3f5f"
            },
            "error_y": {
             "color": "#2a3f5f"
            },
            "marker": {
             "line": {
              "color": "#E5ECF6",
              "width": 0.5
             },
             "pattern": {
              "fillmode": "overlay",
              "size": 10,
              "solidity": 0.2
             }
            },
            "type": "bar"
           }
          ],
          "barpolar": [
           {
            "marker": {
             "line": {
              "color": "#E5ECF6",
              "width": 0.5
             },
             "pattern": {
              "fillmode": "overlay",
              "size": 10,
              "solidity": 0.2
             }
            },
            "type": "barpolar"
           }
          ],
          "carpet": [
           {
            "aaxis": {
             "endlinecolor": "#2a3f5f",
             "gridcolor": "white",
             "linecolor": "white",
             "minorgridcolor": "white",
             "startlinecolor": "#2a3f5f"
            },
            "baxis": {
             "endlinecolor": "#2a3f5f",
             "gridcolor": "white",
             "linecolor": "white",
             "minorgridcolor": "white",
             "startlinecolor": "#2a3f5f"
            },
            "type": "carpet"
           }
          ],
          "choropleth": [
           {
            "colorbar": {
             "outlinewidth": 0,
             "ticks": ""
            },
            "type": "choropleth"
           }
          ],
          "contour": [
           {
            "colorbar": {
             "outlinewidth": 0,
             "ticks": ""
            },
            "colorscale": [
             [
              0,
              "#0d0887"
             ],
             [
              0.1111111111111111,
              "#46039f"
             ],
             [
              0.2222222222222222,
              "#7201a8"
             ],
             [
              0.3333333333333333,
              "#9c179e"
             ],
             [
              0.4444444444444444,
              "#bd3786"
             ],
             [
              0.5555555555555556,
              "#d8576b"
             ],
             [
              0.6666666666666666,
              "#ed7953"
             ],
             [
              0.7777777777777778,
              "#fb9f3a"
             ],
             [
              0.8888888888888888,
              "#fdca26"
             ],
             [
              1,
              "#f0f921"
             ]
            ],
            "type": "contour"
           }
          ],
          "contourcarpet": [
           {
            "colorbar": {
             "outlinewidth": 0,
             "ticks": ""
            },
            "type": "contourcarpet"
           }
          ],
          "heatmap": [
           {
            "colorbar": {
             "outlinewidth": 0,
             "ticks": ""
            },
            "colorscale": [
             [
              0,
              "#0d0887"
             ],
             [
              0.1111111111111111,
              "#46039f"
             ],
             [
              0.2222222222222222,
              "#7201a8"
             ],
             [
              0.3333333333333333,
              "#9c179e"
             ],
             [
              0.4444444444444444,
              "#bd3786"
             ],
             [
              0.5555555555555556,
              "#d8576b"
             ],
             [
              0.6666666666666666,
              "#ed7953"
             ],
             [
              0.7777777777777778,
              "#fb9f3a"
             ],
             [
              0.8888888888888888,
              "#fdca26"
             ],
             [
              1,
              "#f0f921"
             ]
            ],
            "type": "heatmap"
           }
          ],
          "heatmapgl": [
           {
            "colorbar": {
             "outlinewidth": 0,
             "ticks": ""
            },
            "colorscale": [
             [
              0,
              "#0d0887"
             ],
             [
              0.1111111111111111,
              "#46039f"
             ],
             [
              0.2222222222222222,
              "#7201a8"
             ],
             [
              0.3333333333333333,
              "#9c179e"
             ],
             [
              0.4444444444444444,
              "#bd3786"
             ],
             [
              0.5555555555555556,
              "#d8576b"
             ],
             [
              0.6666666666666666,
              "#ed7953"
             ],
             [
              0.7777777777777778,
              "#fb9f3a"
             ],
             [
              0.8888888888888888,
              "#fdca26"
             ],
             [
              1,
              "#f0f921"
             ]
            ],
            "type": "heatmapgl"
           }
          ],
          "histogram": [
           {
            "marker": {
             "pattern": {
              "fillmode": "overlay",
              "size": 10,
              "solidity": 0.2
             }
            },
            "type": "histogram"
           }
          ],
          "histogram2d": [
           {
            "colorbar": {
             "outlinewidth": 0,
             "ticks": ""
            },
            "colorscale": [
             [
              0,
              "#0d0887"
             ],
             [
              0.1111111111111111,
              "#46039f"
             ],
             [
              0.2222222222222222,
              "#7201a8"
             ],
             [
              0.3333333333333333,
              "#9c179e"
             ],
             [
              0.4444444444444444,
              "#bd3786"
             ],
             [
              0.5555555555555556,
              "#d8576b"
             ],
             [
              0.6666666666666666,
              "#ed7953"
             ],
             [
              0.7777777777777778,
              "#fb9f3a"
             ],
             [
              0.8888888888888888,
              "#fdca26"
             ],
             [
              1,
              "#f0f921"
             ]
            ],
            "type": "histogram2d"
           }
          ],
          "histogram2dcontour": [
           {
            "colorbar": {
             "outlinewidth": 0,
             "ticks": ""
            },
            "colorscale": [
             [
              0,
              "#0d0887"
             ],
             [
              0.1111111111111111,
              "#46039f"
             ],
             [
              0.2222222222222222,
              "#7201a8"
             ],
             [
              0.3333333333333333,
              "#9c179e"
             ],
             [
              0.4444444444444444,
              "#bd3786"
             ],
             [
              0.5555555555555556,
              "#d8576b"
             ],
             [
              0.6666666666666666,
              "#ed7953"
             ],
             [
              0.7777777777777778,
              "#fb9f3a"
             ],
             [
              0.8888888888888888,
              "#fdca26"
             ],
             [
              1,
              "#f0f921"
             ]
            ],
            "type": "histogram2dcontour"
           }
          ],
          "mesh3d": [
           {
            "colorbar": {
             "outlinewidth": 0,
             "ticks": ""
            },
            "type": "mesh3d"
           }
          ],
          "parcoords": [
           {
            "line": {
             "colorbar": {
              "outlinewidth": 0,
              "ticks": ""
             }
            },
            "type": "parcoords"
           }
          ],
          "pie": [
           {
            "automargin": true,
            "type": "pie"
           }
          ],
          "scatter": [
           {
            "fillpattern": {
             "fillmode": "overlay",
             "size": 10,
             "solidity": 0.2
            },
            "type": "scatter"
           }
          ],
          "scatter3d": [
           {
            "line": {
             "colorbar": {
              "outlinewidth": 0,
              "ticks": ""
             }
            },
            "marker": {
             "colorbar": {
              "outlinewidth": 0,
              "ticks": ""
             }
            },
            "type": "scatter3d"
           }
          ],
          "scattercarpet": [
           {
            "marker": {
             "colorbar": {
              "outlinewidth": 0,
              "ticks": ""
             }
            },
            "type": "scattercarpet"
           }
          ],
          "scattergeo": [
           {
            "marker": {
             "colorbar": {
              "outlinewidth": 0,
              "ticks": ""
             }
            },
            "type": "scattergeo"
           }
          ],
          "scattergl": [
           {
            "marker": {
             "colorbar": {
              "outlinewidth": 0,
              "ticks": ""
             }
            },
            "type": "scattergl"
           }
          ],
          "scattermapbox": [
           {
            "marker": {
             "colorbar": {
              "outlinewidth": 0,
              "ticks": ""
             }
            },
            "type": "scattermapbox"
           }
          ],
          "scatterpolar": [
           {
            "marker": {
             "colorbar": {
              "outlinewidth": 0,
              "ticks": ""
             }
            },
            "type": "scatterpolar"
           }
          ],
          "scatterpolargl": [
           {
            "marker": {
             "colorbar": {
              "outlinewidth": 0,
              "ticks": ""
             }
            },
            "type": "scatterpolargl"
           }
          ],
          "scatterternary": [
           {
            "marker": {
             "colorbar": {
              "outlinewidth": 0,
              "ticks": ""
             }
            },
            "type": "scatterternary"
           }
          ],
          "surface": [
           {
            "colorbar": {
             "outlinewidth": 0,
             "ticks": ""
            },
            "colorscale": [
             [
              0,
              "#0d0887"
             ],
             [
              0.1111111111111111,
              "#46039f"
             ],
             [
              0.2222222222222222,
              "#7201a8"
             ],
             [
              0.3333333333333333,
              "#9c179e"
             ],
             [
              0.4444444444444444,
              "#bd3786"
             ],
             [
              0.5555555555555556,
              "#d8576b"
             ],
             [
              0.6666666666666666,
              "#ed7953"
             ],
             [
              0.7777777777777778,
              "#fb9f3a"
             ],
             [
              0.8888888888888888,
              "#fdca26"
             ],
             [
              1,
              "#f0f921"
             ]
            ],
            "type": "surface"
           }
          ],
          "table": [
           {
            "cells": {
             "fill": {
              "color": "#EBF0F8"
             },
             "line": {
              "color": "white"
             }
            },
            "header": {
             "fill": {
              "color": "#C8D4E3"
             },
             "line": {
              "color": "white"
             }
            },
            "type": "table"
           }
          ]
         },
         "layout": {
          "annotationdefaults": {
           "arrowcolor": "#2a3f5f",
           "arrowhead": 0,
           "arrowwidth": 1
          },
          "autotypenumbers": "strict",
          "coloraxis": {
           "colorbar": {
            "outlinewidth": 0,
            "ticks": ""
           }
          },
          "colorscale": {
           "diverging": [
            [
             0,
             "#8e0152"
            ],
            [
             0.1,
             "#c51b7d"
            ],
            [
             0.2,
             "#de77ae"
            ],
            [
             0.3,
             "#f1b6da"
            ],
            [
             0.4,
             "#fde0ef"
            ],
            [
             0.5,
             "#f7f7f7"
            ],
            [
             0.6,
             "#e6f5d0"
            ],
            [
             0.7,
             "#b8e186"
            ],
            [
             0.8,
             "#7fbc41"
            ],
            [
             0.9,
             "#4d9221"
            ],
            [
             1,
             "#276419"
            ]
           ],
           "sequential": [
            [
             0,
             "#0d0887"
            ],
            [
             0.1111111111111111,
             "#46039f"
            ],
            [
             0.2222222222222222,
             "#7201a8"
            ],
            [
             0.3333333333333333,
             "#9c179e"
            ],
            [
             0.4444444444444444,
             "#bd3786"
            ],
            [
             0.5555555555555556,
             "#d8576b"
            ],
            [
             0.6666666666666666,
             "#ed7953"
            ],
            [
             0.7777777777777778,
             "#fb9f3a"
            ],
            [
             0.8888888888888888,
             "#fdca26"
            ],
            [
             1,
             "#f0f921"
            ]
           ],
           "sequentialminus": [
            [
             0,
             "#0d0887"
            ],
            [
             0.1111111111111111,
             "#46039f"
            ],
            [
             0.2222222222222222,
             "#7201a8"
            ],
            [
             0.3333333333333333,
             "#9c179e"
            ],
            [
             0.4444444444444444,
             "#bd3786"
            ],
            [
             0.5555555555555556,
             "#d8576b"
            ],
            [
             0.6666666666666666,
             "#ed7953"
            ],
            [
             0.7777777777777778,
             "#fb9f3a"
            ],
            [
             0.8888888888888888,
             "#fdca26"
            ],
            [
             1,
             "#f0f921"
            ]
           ]
          },
          "colorway": [
           "#636efa",
           "#EF553B",
           "#00cc96",
           "#ab63fa",
           "#FFA15A",
           "#19d3f3",
           "#FF6692",
           "#B6E880",
           "#FF97FF",
           "#FECB52"
          ],
          "font": {
           "color": "#2a3f5f"
          },
          "geo": {
           "bgcolor": "white",
           "lakecolor": "white",
           "landcolor": "#E5ECF6",
           "showlakes": true,
           "showland": true,
           "subunitcolor": "white"
          },
          "hoverlabel": {
           "align": "left"
          },
          "hovermode": "closest",
          "mapbox": {
           "style": "light"
          },
          "paper_bgcolor": "white",
          "plot_bgcolor": "#E5ECF6",
          "polar": {
           "angularaxis": {
            "gridcolor": "white",
            "linecolor": "white",
            "ticks": ""
           },
           "bgcolor": "#E5ECF6",
           "radialaxis": {
            "gridcolor": "white",
            "linecolor": "white",
            "ticks": ""
           }
          },
          "scene": {
           "xaxis": {
            "backgroundcolor": "#E5ECF6",
            "gridcolor": "white",
            "gridwidth": 2,
            "linecolor": "white",
            "showbackground": true,
            "ticks": "",
            "zerolinecolor": "white"
           },
           "yaxis": {
            "backgroundcolor": "#E5ECF6",
            "gridcolor": "white",
            "gridwidth": 2,
            "linecolor": "white",
            "showbackground": true,
            "ticks": "",
            "zerolinecolor": "white"
           },
           "zaxis": {
            "backgroundcolor": "#E5ECF6",
            "gridcolor": "white",
            "gridwidth": 2,
            "linecolor": "white",
            "showbackground": true,
            "ticks": "",
            "zerolinecolor": "white"
           }
          },
          "shapedefaults": {
           "line": {
            "color": "#2a3f5f"
           }
          },
          "ternary": {
           "aaxis": {
            "gridcolor": "white",
            "linecolor": "white",
            "ticks": ""
           },
           "baxis": {
            "gridcolor": "white",
            "linecolor": "white",
            "ticks": ""
           },
           "bgcolor": "#E5ECF6",
           "caxis": {
            "gridcolor": "white",
            "linecolor": "white",
            "ticks": ""
           }
          },
          "title": {
           "x": 0.05
          },
          "xaxis": {
           "automargin": true,
           "gridcolor": "white",
           "linecolor": "white",
           "ticks": "",
           "title": {
            "standoff": 15
           },
           "zerolinecolor": "white",
           "zerolinewidth": 2
          },
          "yaxis": {
           "automargin": true,
           "gridcolor": "white",
           "linecolor": "white",
           "ticks": "",
           "title": {
            "standoff": 15
           },
           "zerolinecolor": "white",
           "zerolinewidth": 2
          }
         }
        },
        "xaxis": {
         "autorange": true,
         "range": [
          60023,
          60023.04166666651
         ],
         "type": "linear"
        },
        "yaxis": {
         "autorange": true,
         "range": [
          102.41671892712472,
          105.13596216173028
         ],
         "type": "linear"
        }
       }
      },
      "text/html": [
       "<div>                            <div id=\"617e6edb-fb66-4d45-9833-047691c8b7a3\" class=\"plotly-graph-div\" style=\"height:525px; width:100%;\"></div>            <script type=\"text/javascript\">                require([\"plotly\"], function(Plotly) {                    window.PLOTLYENV=window.PLOTLYENV || {};                                    if (document.getElementById(\"617e6edb-fb66-4d45-9833-047691c8b7a3\")) {                    Plotly.newPlot(                        \"617e6edb-fb66-4d45-9833-047691c8b7a3\",                        [{\"mode\":\"lines\",\"name\":\"Spacecraft Mass (kg)\",\"x\":[60023.0,60023.0003472222,60023.0006944444,60023.001041666605,60023.001388888806,60023.00173611101,60023.00208333321,60023.00243055541,60023.00277777761,60023.003124999814,60023.003472222015,60023.00381944422,60023.004166666884,60023.004513889086,60023.00486111129,60023.00520833349,60023.00555555569,60023.00590277789,60023.00625000009,60023.006597222295,60023.006944444496,60023.0072916667,60023.0076388889,60023.0079861111,60023.0083333333,60023.008680555504,60023.009027777705,60023.00937499991,60023.00972222211,60023.01006944431,60023.01041666651,60023.01076388871,60023.011111110914,60023.011458333116,60023.01180555578,60023.012152777985,60023.012500000186,60023.01284722239,60023.01319444459,60023.01354166679,60023.01388888899,60023.014236111194,60023.014583333395,60023.0149305556,60023.0152777778,60023.015625,60023.0159722222,60023.0163194444,60023.016666666605,60023.017013888806,60023.01736111101,60023.01770833321,60023.01805555541,60023.01840277761,60023.018749999814,60023.019097222015,60023.01944444422,60023.019791666884,60023.020138889086,60023.02048611129,60023.02083333349,60023.02118055569,60023.02152777789,60023.02187500009,60023.022222222295,60023.022569444496,60023.0229166667,60023.0232638889,60023.0236111111,60023.0239583333,60023.024305555504,60023.024652777705,60023.02499999991,60023.02534722211,60023.02569444431,60023.02604166651,60023.02638888871,60023.026736110914,60023.027083333116,60023.02743055578,60023.027777777985,60023.028125000186,60023.02847222239,60023.02881944459,60023.02916666679,60023.02951388899,60023.029861111194,60023.030208333395,60023.0305555556,60023.0309027778,60023.03125,60023.0315972222,60023.0319444444,60023.032291666605,60023.032638888806,60023.03298611101,60023.03333333321,60023.03368055541,60023.03402777761,60023.034374999814,60023.034722222015,60023.03506944422,60023.035416666884,60023.035763889086,60023.03611111129,60023.03645833349,60023.03680555569,60023.03715277789,60023.03750000009,60023.037847222295,60023.038194444496,60023.0385416667,60023.0388888889,60023.0392361111,60023.0395833333,60023.039930555504,60023.040277777705,60023.04062499991,60023.04097222211,60023.04131944431,60023.04166666651],\"y\":[105.0,104.97960567574046,104.95921135148089,104.93881702722135,104.9184227029618,104.89802837870226,104.87763405444272,104.85723973018318,104.83684540592364,104.8164510816641,104.79605675740456,104.77566243314502,104.75526810888547,104.73487378462593,104.71447946036639,104.69408513610685,104.67369081184731,104.65329648758777,104.63290216332823,104.61250783906868,104.59211351480914,104.5717191905496,104.55132486629006,104.53093054203052,104.51053621777098,104.49014189351144,104.4697475692519,104.44935324499235,104.42895892073281,104.40856459647327,104.38817027221373,104.36777594795419,104.34738162369464,104.3269872994351,104.30659297517556,104.28619865091602,104.26580432665648,104.24541000239694,104.2250156781374,104.20462135387785,104.18422702961831,104.16383270535877,104.14343838109923,104.12304405683969,104.10264973258015,104.0822554083206,104.06186108406106,104.04146675980152,104.02107243554198,104.00067811128244,103.9802837870229,103.95988946276336,103.93949513850382,103.91910081424427,103.89870648998473,103.87831216572519,103.85791784146565,103.83752351720611,103.81712919294657,103.79673486868703,103.77634054442748,103.75594622016794,103.7355518959084,103.71515757164886,103.69476324738932,103.67436892312978,103.65397459887024,103.6335802746107,103.61318595035115,103.59279162609161,103.57239730183207,103.55200297757253,103.53160865331299,103.51121432905344,103.4908200047939,103.47042568053436,103.45003135627482,103.42963703201528,103.40924270775574,103.3888483834962,103.36845405923665,103.34805973497711,103.32766541071757,103.30727108645803,103.28687676219849,103.26648243793895,103.2460881136794,103.22569378941986,103.20529946516032,103.18490514090078,103.16451081664124,103.1441164923817,103.12372216812216,103.10332784386262,103.08293351960307,103.06253919534353,103.04214487108399,103.02175054682445,103.00135622256491,102.98096189830537,102.96056757404583,102.94017324978628,102.91977892552674,102.8993846012672,102.87899027700766,102.85859595274812,102.83820162848858,102.81780730422904,102.7974129799695,102.77701865570995,102.75662433145041,102.73623000719087,102.71583568293133,102.69544135867179,102.67504703441224,102.6546527101527,102.63425838589316,102.61386406163362,102.59346973737408,102.57307541311454,102.552681088855],\"type\":\"scatter\"}],                        {\"template\":{\"data\":{\"histogram2dcontour\":[{\"type\":\"histogram2dcontour\",\"colorbar\":{\"outlinewidth\":0,\"ticks\":\"\"},\"colorscale\":[[0.0,\"#0d0887\"],[0.1111111111111111,\"#46039f\"],[0.2222222222222222,\"#7201a8\"],[0.3333333333333333,\"#9c179e\"],[0.4444444444444444,\"#bd3786\"],[0.5555555555555556,\"#d8576b\"],[0.6666666666666666,\"#ed7953\"],[0.7777777777777778,\"#fb9f3a\"],[0.8888888888888888,\"#fdca26\"],[1.0,\"#f0f921\"]]}],\"choropleth\":[{\"type\":\"choropleth\",\"colorbar\":{\"outlinewidth\":0,\"ticks\":\"\"}}],\"histogram2d\":[{\"type\":\"histogram2d\",\"colorbar\":{\"outlinewidth\":0,\"ticks\":\"\"},\"colorscale\":[[0.0,\"#0d0887\"],[0.1111111111111111,\"#46039f\"],[0.2222222222222222,\"#7201a8\"],[0.3333333333333333,\"#9c179e\"],[0.4444444444444444,\"#bd3786\"],[0.5555555555555556,\"#d8576b\"],[0.6666666666666666,\"#ed7953\"],[0.7777777777777778,\"#fb9f3a\"],[0.8888888888888888,\"#fdca26\"],[1.0,\"#f0f921\"]]}],\"heatmap\":[{\"type\":\"heatmap\",\"colorbar\":{\"outlinewidth\":0,\"ticks\":\"\"},\"colorscale\":[[0.0,\"#0d0887\"],[0.1111111111111111,\"#46039f\"],[0.2222222222222222,\"#7201a8\"],[0.3333333333333333,\"#9c179e\"],[0.4444444444444444,\"#bd3786\"],[0.5555555555555556,\"#d8576b\"],[0.6666666666666666,\"#ed7953\"],[0.7777777777777778,\"#fb9f3a\"],[0.8888888888888888,\"#fdca26\"],[1.0,\"#f0f921\"]]}],\"heatmapgl\":[{\"type\":\"heatmapgl\",\"colorbar\":{\"outlinewidth\":0,\"ticks\":\"\"},\"colorscale\":[[0.0,\"#0d0887\"],[0.1111111111111111,\"#46039f\"],[0.2222222222222222,\"#7201a8\"],[0.3333333333333333,\"#9c179e\"],[0.4444444444444444,\"#bd3786\"],[0.5555555555555556,\"#d8576b\"],[0.6666666666666666,\"#ed7953\"],[0.7777777777777778,\"#fb9f3a\"],[0.8888888888888888,\"#fdca26\"],[1.0,\"#f0f921\"]]}],\"contourcarpet\":[{\"type\":\"contourcarpet\",\"colorbar\":{\"outlinewidth\":0,\"ticks\":\"\"}}],\"contour\":[{\"type\":\"contour\",\"colorbar\":{\"outlinewidth\":0,\"ticks\":\"\"},\"colorscale\":[[0.0,\"#0d0887\"],[0.1111111111111111,\"#46039f\"],[0.2222222222222222,\"#7201a8\"],[0.3333333333333333,\"#9c179e\"],[0.4444444444444444,\"#bd3786\"],[0.5555555555555556,\"#d8576b\"],[0.6666666666666666,\"#ed7953\"],[0.7777777777777778,\"#fb9f3a\"],[0.8888888888888888,\"#fdca26\"],[1.0,\"#f0f921\"]]}],\"surface\":[{\"type\":\"surface\",\"colorbar\":{\"outlinewidth\":0,\"ticks\":\"\"},\"colorscale\":[[0.0,\"#0d0887\"],[0.1111111111111111,\"#46039f\"],[0.2222222222222222,\"#7201a8\"],[0.3333333333333333,\"#9c179e\"],[0.4444444444444444,\"#bd3786\"],[0.5555555555555556,\"#d8576b\"],[0.6666666666666666,\"#ed7953\"],[0.7777777777777778,\"#fb9f3a\"],[0.8888888888888888,\"#fdca26\"],[1.0,\"#f0f921\"]]}],\"mesh3d\":[{\"type\":\"mesh3d\",\"colorbar\":{\"outlinewidth\":0,\"ticks\":\"\"}}],\"scatter\":[{\"fillpattern\":{\"fillmode\":\"overlay\",\"size\":10,\"solidity\":0.2},\"type\":\"scatter\"}],\"parcoords\":[{\"type\":\"parcoords\",\"line\":{\"colorbar\":{\"outlinewidth\":0,\"ticks\":\"\"}}}],\"scatterpolargl\":[{\"type\":\"scatterpolargl\",\"marker\":{\"colorbar\":{\"outlinewidth\":0,\"ticks\":\"\"}}}],\"bar\":[{\"error_x\":{\"color\":\"#2a3f5f\"},\"error_y\":{\"color\":\"#2a3f5f\"},\"marker\":{\"line\":{\"color\":\"#E5ECF6\",\"width\":0.5},\"pattern\":{\"fillmode\":\"overlay\",\"size\":10,\"solidity\":0.2}},\"type\":\"bar\"}],\"scattergeo\":[{\"type\":\"scattergeo\",\"marker\":{\"colorbar\":{\"outlinewidth\":0,\"ticks\":\"\"}}}],\"scatterpolar\":[{\"type\":\"scatterpolar\",\"marker\":{\"colorbar\":{\"outlinewidth\":0,\"ticks\":\"\"}}}],\"histogram\":[{\"marker\":{\"pattern\":{\"fillmode\":\"overlay\",\"size\":10,\"solidity\":0.2}},\"type\":\"histogram\"}],\"scattergl\":[{\"type\":\"scattergl\",\"marker\":{\"colorbar\":{\"outlinewidth\":0,\"ticks\":\"\"}}}],\"scatter3d\":[{\"type\":\"scatter3d\",\"line\":{\"colorbar\":{\"outlinewidth\":0,\"ticks\":\"\"}},\"marker\":{\"colorbar\":{\"outlinewidth\":0,\"ticks\":\"\"}}}],\"scattermapbox\":[{\"type\":\"scattermapbox\",\"marker\":{\"colorbar\":{\"outlinewidth\":0,\"ticks\":\"\"}}}],\"scatterternary\":[{\"type\":\"scatterternary\",\"marker\":{\"colorbar\":{\"outlinewidth\":0,\"ticks\":\"\"}}}],\"scattercarpet\":[{\"type\":\"scattercarpet\",\"marker\":{\"colorbar\":{\"outlinewidth\":0,\"ticks\":\"\"}}}],\"carpet\":[{\"aaxis\":{\"endlinecolor\":\"#2a3f5f\",\"gridcolor\":\"white\",\"linecolor\":\"white\",\"minorgridcolor\":\"white\",\"startlinecolor\":\"#2a3f5f\"},\"baxis\":{\"endlinecolor\":\"#2a3f5f\",\"gridcolor\":\"white\",\"linecolor\":\"white\",\"minorgridcolor\":\"white\",\"startlinecolor\":\"#2a3f5f\"},\"type\":\"carpet\"}],\"table\":[{\"cells\":{\"fill\":{\"color\":\"#EBF0F8\"},\"line\":{\"color\":\"white\"}},\"header\":{\"fill\":{\"color\":\"#C8D4E3\"},\"line\":{\"color\":\"white\"}},\"type\":\"table\"}],\"barpolar\":[{\"marker\":{\"line\":{\"color\":\"#E5ECF6\",\"width\":0.5},\"pattern\":{\"fillmode\":\"overlay\",\"size\":10,\"solidity\":0.2}},\"type\":\"barpolar\"}],\"pie\":[{\"automargin\":true,\"type\":\"pie\"}]},\"layout\":{\"autotypenumbers\":\"strict\",\"colorway\":[\"#636efa\",\"#EF553B\",\"#00cc96\",\"#ab63fa\",\"#FFA15A\",\"#19d3f3\",\"#FF6692\",\"#B6E880\",\"#FF97FF\",\"#FECB52\"],\"font\":{\"color\":\"#2a3f5f\"},\"hovermode\":\"closest\",\"hoverlabel\":{\"align\":\"left\"},\"paper_bgcolor\":\"white\",\"plot_bgcolor\":\"#E5ECF6\",\"polar\":{\"bgcolor\":\"#E5ECF6\",\"angularaxis\":{\"gridcolor\":\"white\",\"linecolor\":\"white\",\"ticks\":\"\"},\"radialaxis\":{\"gridcolor\":\"white\",\"linecolor\":\"white\",\"ticks\":\"\"}},\"ternary\":{\"bgcolor\":\"#E5ECF6\",\"aaxis\":{\"gridcolor\":\"white\",\"linecolor\":\"white\",\"ticks\":\"\"},\"baxis\":{\"gridcolor\":\"white\",\"linecolor\":\"white\",\"ticks\":\"\"},\"caxis\":{\"gridcolor\":\"white\",\"linecolor\":\"white\",\"ticks\":\"\"}},\"coloraxis\":{\"colorbar\":{\"outlinewidth\":0,\"ticks\":\"\"}},\"colorscale\":{\"sequential\":[[0.0,\"#0d0887\"],[0.1111111111111111,\"#46039f\"],[0.2222222222222222,\"#7201a8\"],[0.3333333333333333,\"#9c179e\"],[0.4444444444444444,\"#bd3786\"],[0.5555555555555556,\"#d8576b\"],[0.6666666666666666,\"#ed7953\"],[0.7777777777777778,\"#fb9f3a\"],[0.8888888888888888,\"#fdca26\"],[1.0,\"#f0f921\"]],\"sequentialminus\":[[0.0,\"#0d0887\"],[0.1111111111111111,\"#46039f\"],[0.2222222222222222,\"#7201a8\"],[0.3333333333333333,\"#9c179e\"],[0.4444444444444444,\"#bd3786\"],[0.5555555555555556,\"#d8576b\"],[0.6666666666666666,\"#ed7953\"],[0.7777777777777778,\"#fb9f3a\"],[0.8888888888888888,\"#fdca26\"],[1.0,\"#f0f921\"]],\"diverging\":[[0,\"#8e0152\"],[0.1,\"#c51b7d\"],[0.2,\"#de77ae\"],[0.3,\"#f1b6da\"],[0.4,\"#fde0ef\"],[0.5,\"#f7f7f7\"],[0.6,\"#e6f5d0\"],[0.7,\"#b8e186\"],[0.8,\"#7fbc41\"],[0.9,\"#4d9221\"],[1,\"#276419\"]]},\"xaxis\":{\"gridcolor\":\"white\",\"linecolor\":\"white\",\"ticks\":\"\",\"title\":{\"standoff\":15},\"zerolinecolor\":\"white\",\"automargin\":true,\"zerolinewidth\":2},\"yaxis\":{\"gridcolor\":\"white\",\"linecolor\":\"white\",\"ticks\":\"\",\"title\":{\"standoff\":15},\"zerolinecolor\":\"white\",\"automargin\":true,\"zerolinewidth\":2},\"scene\":{\"xaxis\":{\"backgroundcolor\":\"#E5ECF6\",\"gridcolor\":\"white\",\"linecolor\":\"white\",\"showbackground\":true,\"ticks\":\"\",\"zerolinecolor\":\"white\",\"gridwidth\":2},\"yaxis\":{\"backgroundcolor\":\"#E5ECF6\",\"gridcolor\":\"white\",\"linecolor\":\"white\",\"showbackground\":true,\"ticks\":\"\",\"zerolinecolor\":\"white\",\"gridwidth\":2},\"zaxis\":{\"backgroundcolor\":\"#E5ECF6\",\"gridcolor\":\"white\",\"linecolor\":\"white\",\"showbackground\":true,\"ticks\":\"\",\"zerolinecolor\":\"white\",\"gridwidth\":2}},\"shapedefaults\":{\"line\":{\"color\":\"#2a3f5f\"}},\"annotationdefaults\":{\"arrowcolor\":\"#2a3f5f\",\"arrowhead\":0,\"arrowwidth\":1},\"geo\":{\"bgcolor\":\"white\",\"landcolor\":\"#E5ECF6\",\"subunitcolor\":\"white\",\"showland\":true,\"showlakes\":true,\"lakecolor\":\"white\"},\"title\":{\"x\":0.05},\"mapbox\":{\"style\":\"light\"}}}},                        {\"responsive\": true}                    ).then(function(){\n",
       "                            \n",
       "var gd = document.getElementById('617e6edb-fb66-4d45-9833-047691c8b7a3');\n",
       "var x = new MutationObserver(function (mutations, observer) {{\n",
       "        var display = window.getComputedStyle(gd).display;\n",
       "        if (!display || display === 'none') {{\n",
       "            console.log([gd, 'removed!']);\n",
       "            Plotly.purge(gd);\n",
       "            observer.disconnect();\n",
       "        }}\n",
       "}});\n",
       "\n",
       "// Listen for the removal of the full notebook cells\n",
       "var notebookContainer = gd.closest('#notebook-container');\n",
       "if (notebookContainer) {{\n",
       "    x.observe(notebookContainer, {childList: true});\n",
       "}}\n",
       "\n",
       "// Listen for the clearing of the current output cell\n",
       "var outputEl = gd.closest('.output');\n",
       "if (outputEl) {{\n",
       "    x.observe(outputEl, {childList: true});\n",
       "}}\n",
       "\n",
       "                        })                };                });            </script>        </div>"
      ]
     },
     "metadata": {},
     "output_type": "display_data"
    }
   ],
   "source": [
    "figure = go.Figure()\n",
    "figure.add_trace(\n",
    "    go.Scatter(\n",
    "        x=orbit_df[\"$MJD^{UTC}$\"],\n",
    "        y=[float(item) for item in orbit_df[\"$Mass$\"]],\n",
    "        mode=\"lines\",\n",
    "        name=\"Spacecraft Mass (kg)\",\n",
    "    )\n",
    ")\n",
    "\n",
    "figure.show()"
   ]
  }
 ],
 "metadata": {
  "kernelspec": {
   "display_name": "Python 3 (ipykernel)",
   "language": "python",
   "name": "python3"
  },
  "language_info": {
   "codemirror_mode": {
    "name": "ipython",
    "version": 3
   },
   "file_extension": ".py",
   "mimetype": "text/x-python",
   "name": "python",
   "nbconvert_exporter": "python",
   "pygments_lexer": "ipython3",
   "version": "3.11.3"
  }
 },
 "nbformat": 4,
 "nbformat_minor": 5
}
