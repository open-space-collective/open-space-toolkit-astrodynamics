{
 "cells": [
  {
   "cell_type": "markdown",
   "metadata": {},
   "source": [
    "# Orbit Determination Pipeline"
   ]
  },
  {
   "cell_type": "markdown",
   "metadata": {},
   "source": [
    "### (This is a sample tutorial meant to illustrate the future implementation of orbit determination into ostk-astro, it does not reflect current existing functionality.)\n",
    "\n",
    "This tutorial demonstrates how to perform orbit determination. "
   ]
  },
  {
   "cell_type": "markdown",
   "metadata": {},
   "source": [
    "## Setup"
   ]
  },
  {
   "cell_type": "code",
   "execution_count": 21,
   "metadata": {},
   "outputs": [],
   "source": [
    "import numpy as np\n",
    "import pandas as pd\n",
    "\n",
    "import plotly.graph_objs as go\n",
    "\n",
    "from ostk.mathematics.objects import RealInterval\n",
    "\n",
    "from ostk.physics.units import Length\n",
    "from ostk.physics.units import Derived\n",
    "from ostk.physics.units import Angle\n",
    "from ostk.physics.units import Time\n",
    "from ostk.physics.time import Scale\n",
    "from ostk.physics.time import Instant\n",
    "from ostk.physics.time import Duration\n",
    "from ostk.physics.time import Interval\n",
    "from ostk.physics.time import DateTime\n",
    "from ostk.physics.coordinate import Position\n",
    "from ostk.physics.coordinate import Velocity\n",
    "from ostk.physics.coordinate.spherical import LLA\n",
    "from ostk.physics.coordinate import Frame\n",
    "from ostk.physics import Environment\n",
    "from ostk.physics.environment.objects.celestial_bodies import Earth\n",
    "\n",
    "from ostk.astrodynamics import Trajectory\n",
    "from ostk.astrodynamics.trajectory import State\n",
    "from ostk.astrodynamics.trajectory import Orbit\n",
    "from ostk.astrodynamics.trajectory import Model\n",
    "from ostk.astrodynamics.trajectory.orbit import Pass\n",
    "from ostk.astrodynamics.trajectory.orbit.models import Propagated\n",
    "\n",
    "## Add extra imports"
   ]
  },
  {
   "cell_type": "markdown",
   "metadata": {},
   "source": [
    "---"
   ]
  },
  {
   "cell_type": "markdown",
   "metadata": {},
   "source": [
    "## Processing GPS Data and Related Telemetry"
   ]
  },
  {
   "cell_type": "code",
   "execution_count": null,
   "metadata": {},
   "outputs": [],
   "source": [
    "gps_measurements_timestamped =DataVector('file location')\n",
    "gps_receiver_noise = Matrix('file with gps receiver sigmas for position and velocity')\n",
    "\n",
    "# potentially running through smoother/discarding data holes and providing statistics on quality/continuity of data"
   ]
  },
  {
   "cell_type": "markdown",
   "metadata": {},
   "source": [
    "---"
   ]
  },
  {
   "cell_type": "markdown",
   "metadata": {},
   "source": [
    "## Batch Least Squares Estimation (for orbital state)"
   ]
  },
  {
   "cell_type": "code",
   "execution_count": null,
   "metadata": {},
   "outputs": [],
   "source": [
    "current_instant = Instant.Undefined()\n",
    "\n",
    "frame = Frame.GCRF()\n",
    "position = Position.Undefined()\n",
    "velocity = Velocity.Undefined()\n",
    "\n",
    "undefined_state = State(current_instant, position, velocity)"
   ]
  },
  {
   "cell_type": "code",
   "execution_count": null,
   "metadata": {},
   "outputs": [],
   "source": [
    "orbital_state_estimation = Estimation(Environment.default(), Duration('3 weeks'), ConfigType('Position and Velocity estimation'))\n",
    "\n",
    "system = System(Mass, Environment.default(), undefined_state, System.GraviationalPerturbatioType.EGM2008, System.AtmosphericPerturbatioType.NRLMSIS00, System.ThirdBodyPerturbatioType.LuniSolar)\n",
    "solver = Solver(Solver.RungeKuttaCashKarp54, Solver.NoLog, 1.0e-15, 1.0e-15)\n",
    "\n",
    "ecef_to_eci = DynamicFrameProvider()\n",
    "\n",
    "measurement_model = MeasurementModel(MeasurementModel.OnBoardGPSMeas, ecef_to_eci)\n",
    "\n",
    "state_apriori = StateEstimate(DataVector([0]), CovarianceMatrix) # grab the first GPS measurement from the data vector to use as the apriori, after it has been transformed to ECI\n",
    "\n",
    "batch_least_squares = BatchLeastSquares(state_apriori, system, solver, gps_measurements_timestamped, measurement_model, gps_receiver_noise)\n",
    "\n",
    "initial_state_estimate = batch_least_squares.estimate_state_with_iterations(Integer)"
   ]
  },
  {
   "cell_type": "markdown",
   "metadata": {},
   "source": [
    "---"
   ]
  },
  {
   "cell_type": "markdown",
   "metadata": {},
   "source": [
    "## Batch Least Squares Estimation (for other system related parameters like drag)"
   ]
  },
  {
   "cell_type": "code",
   "execution_count": null,
   "metadata": {},
   "outputs": [],
   "source": [
    "# todo once orbital state estimation is well understood"
   ]
  },
  {
   "cell_type": "markdown",
   "metadata": {},
   "source": [
    "---"
   ]
  },
  {
   "cell_type": "markdown",
   "metadata": {},
   "source": [
    "## Orbit Propagation/Prediction to final state"
   ]
  },
  {
   "cell_type": "markdown",
   "metadata": {},
   "source": [
    "Computation"
   ]
  },
  {
   "cell_type": "code",
   "execution_count": 2,
   "metadata": {},
   "outputs": [],
   "source": [
    "earth_env = Environment.default().access_celestial_object_with_name(\"Earth\")"
   ]
  },
  {
   "cell_type": "markdown",
   "metadata": {},
   "source": [
    "Feed state estimate into system "
   ]
  },
  {
   "cell_type": "code",
   "execution_count": 3,
   "metadata": {},
   "outputs": [],
   "source": [
    "\n",
    "system = System(Mass, Environment.default(), initial_state_estimate, System.GraviationalPerturbatioType.EGM2008, System.AtmosphericPerturbatioType.NRLMSIS00, System.ThirdBodyPerturbatioType.LuniSolar)\n",
    "solver = Solver(Solver.RungeKuttaCashKarp54, Solver.NoLog, 1.0e-15, 1.0e-15)"
   ]
  },
  {
   "cell_type": "markdown",
   "metadata": {},
   "source": [
    "Setup a Propagated orbital model "
   ]
  },
  {
   "cell_type": "code",
   "execution_count": 4,
   "metadata": {},
   "outputs": [],
   "source": [
    "\n",
    "propagated_model_estimate = Propagated(earth_env, system, solver) "
   ]
  },
  {
   "cell_type": "markdown",
   "metadata": {},
   "source": [
    "Setup the orbit:"
   ]
  },
  {
   "cell_type": "code",
   "execution_count": 5,
   "metadata": {},
   "outputs": [],
   "source": [
    "orbit_default = Orbit(propagated_model_estimate, earth_env)\n",
    "# orbit_custom = Orbit(propagated_model_custom, earth_env)"
   ]
  },
  {
   "cell_type": "markdown",
   "metadata": {},
   "source": [
    "Now that the orbit is set, we can compute the satellite position a certain amount of time in the future:"
   ]
  },
  {
   "cell_type": "code",
   "execution_count": 6,
   "metadata": {},
   "outputs": [],
   "source": [
    "current_instant = Instant.now()\n",
    "\n",
    "predicted_state_estimate = orbit_default.get_state_at(current_instant + orbital_state_estimation.getTimeHorizon()) "
   ]
  },
  {
   "cell_type": "code",
   "execution_count": null,
   "metadata": {},
   "outputs": [],
   "source": [
    "# extra logic to handle position covariance and translate it to acess uncertainty and ground coverage uncertainty to feed back towards the customers\n",
    "# potentially implement some sort of uncertainty metric in cockpit as customers task the spacecraft further into the future "
   ]
  },
  {
   "cell_type": "markdown",
   "metadata": {},
   "source": [
    "---"
   ]
  }
 ],
 "metadata": {
  "interpreter": {
   "hash": "b0fa6594d8f4cbf19f97940f81e996739fb7646882a419484c72d19e05852a7e"
  },
  "kernelspec": {
   "display_name": "Python 3 (ipykernel)",
   "language": "python",
   "name": "python3"
  },
  "language_info": {
   "codemirror_mode": {
    "name": "ipython",
    "version": 3
   },
   "file_extension": ".py",
   "mimetype": "text/x-python",
   "name": "python",
   "nbconvert_exporter": "python",
   "pygments_lexer": "ipython3",
   "version": "3.10.4"
  }
 },
 "nbformat": 4,
 "nbformat_minor": 4
}
