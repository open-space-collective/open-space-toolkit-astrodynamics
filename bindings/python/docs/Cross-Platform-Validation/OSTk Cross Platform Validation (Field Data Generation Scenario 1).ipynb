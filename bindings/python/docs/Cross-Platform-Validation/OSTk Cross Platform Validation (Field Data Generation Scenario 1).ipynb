{
 "cells": [
  {
   "cell_type": "markdown",
   "metadata": {},
   "source": [
    "# OSTk Cross-Platform Validation Against GMAT/Orekit (Field Data Generation Scenario 1)"
   ]
  },
  {
   "cell_type": "markdown",
   "metadata": {},
   "source": [
    "This tutorial demonstrates how to compare OSTk field data generation (such as gravity field or atmosphere \"field\") against other tools. \n",
    "This example will be comparing atmospheric density generated at a sweep of latitudes, longitudes, and altitudes."
   ]
  },
  {
   "cell_type": "code",
   "execution_count": 1,
   "metadata": {},
   "outputs": [],
   "source": [
    "import numpy as np\n",
    "import pandas as pd\n",
    "import csv\n",
    "import os\n",
    "import plotly.graph_objs as go\n",
    "\n",
    "from ostk.physics.units import Length\n",
    "from ostk.physics.units import Angle\n",
    "from ostk.physics.time import Scale\n",
    "from ostk.physics.time import Instant\n",
    "from ostk.physics.time import DateTime\n",
    "from ostk.physics.time import Duration\n",
    "from ostk.physics.coordinate.spherical import LLA\n",
    "\n",
    "from ostk.physics.environment.atmospheric import Earth as EarthAtmosphericModel\n",
    "\n",
    "from ostk.physics import Environment"
   ]
  },
  {
   "cell_type": "markdown",
   "metadata": {},
   "source": [
    "## Set up Comparison Files"
   ]
  },
  {
   "cell_type": "markdown",
   "metadata": {},
   "source": [
    "Define array inputs that can be changed to include/exclude gmat/orekit result comparisons"
   ]
  },
  {
   "cell_type": "code",
   "execution_count": 2,
   "metadata": {},
   "outputs": [],
   "source": [
    "filenames = [\"gmat_physics/scenario001-field-data-generation.csv\",\n",
    "            \"orekit_physics/scenario001-field-data-generation.csv\",\n",
    "            ]\n",
    "comparisons_to_perform = [\n",
    "                            (\"OSTk - GMAT\", [0, 1]),\n",
    "                            (\"OSTk - OREKIT\", [0, 2]),\n",
    "                            (\"OREKIT - GMAT\", [2, 1]),\n",
    "]\n",
    "\n",
    "multiplication_factors = [1.0e-9, 1.0]"
   ]
  },
  {
   "cell_type": "markdown",
   "metadata": {},
   "source": [
    "## Setup Comparison Scenario in OSTk"
   ]
  },
  {
   "cell_type": "markdown",
   "metadata": {},
   "source": [
    "Define the atmospheric model"
   ]
  },
  {
   "cell_type": "code",
   "execution_count": 3,
   "metadata": {},
   "outputs": [],
   "source": [
    "atmos_model = EarthAtmosphericModel(EarthAtmosphericModel.Type.Exponential)"
   ]
  },
  {
   "cell_type": "markdown",
   "metadata": {},
   "source": [
    "### Create a latitude/longitude/altitude grid"
   ]
  },
  {
   "cell_type": "code",
   "execution_count": 4,
   "metadata": {},
   "outputs": [],
   "source": [
    "# latitudes = range(-80, 80 + 20, 20)\n",
    "# longitudes = range(-180, 180, 60)\n",
    "# altitudes = range(300000, 900000 + 100000, 100000)"
   ]
  },
  {
   "cell_type": "code",
   "execution_count": 5,
   "metadata": {},
   "outputs": [],
   "source": [
    "latitudes = [-80]\n",
    "longitudes = [-180]\n",
    "altitudes = list(range(250000, 950000 + 100000, 100000))"
   ]
  },
  {
   "cell_type": "code",
   "execution_count": 16,
   "metadata": {},
   "outputs": [],
   "source": [
    "# lla_1 = LLA(\n",
    "#                 Angle.degrees(float(-80)),\n",
    "#                 Angle.degrees(float(-180)),\n",
    "#                 Length.meters(550000.0),\n",
    "#             )\n",
    "\n",
    "# lla_2 = LLA(\n",
    "#                 Angle.degrees(float(-80)),\n",
    "#                 Angle.degrees(float(-180)),\n",
    "#                 Length.meters(550000.0132418663),\n",
    "#             )\n",
    "\n",
    "# dens_1 = atmos_model.get_density_at(lla_1, Instant.J2000())\n",
    "# dens_2 = atmos_model.get_density_at(lla_2, Instant.J2000())"
   ]
  },
  {
   "cell_type": "code",
   "execution_count": 18,
   "metadata": {},
   "outputs": [
    {
     "data": {
      "text/plain": [
       "-2.074811952979937e-07"
      ]
     },
     "execution_count": 18,
     "metadata": {},
     "output_type": "execute_result"
    }
   ],
   "source": [
    "# (dens_2 - dens_1)/dens_1"
   ]
  },
  {
   "cell_type": "code",
   "execution_count": 6,
   "metadata": {},
   "outputs": [],
   "source": [
    "ostk_densities = np.zeros(\n",
    "    (\n",
    "        len(latitudes),\n",
    "        len(longitudes),\n",
    "        len(altitudes),\n",
    "    )\n",
    ")\n",
    "\n",
    "for k, lat in enumerate(latitudes):\n",
    "    for j, lon in enumerate(longitudes):\n",
    "        for i, alt in enumerate(altitudes):\n",
    "            lla = LLA(\n",
    "                Angle.degrees(float(lat)),\n",
    "                Angle.degrees(float(lon)),\n",
    "                Length.meters(float(alt)),\n",
    "            )\n",
    "\n",
    "            # Call the density function\n",
    "            ostk_densities[k][j][i] = atmos_model.get_density_at(lla, Instant.J2000())\n",
    "\n",
    "ostk_densities = ostk_densities[0][0].tolist()"
   ]
  },
  {
   "cell_type": "markdown",
   "metadata": {},
   "source": [
    "---"
   ]
  },
  {
   "cell_type": "markdown",
   "metadata": {},
   "source": [
    "## Process Cross Platform Results "
   ]
  },
  {
   "cell_type": "markdown",
   "metadata": {},
   "source": [
    "Read in reference data from CSV file for GMAT and Orekit"
   ]
  },
  {
   "cell_type": "code",
   "execution_count": 7,
   "metadata": {},
   "outputs": [],
   "source": [
    "all_comparison_densities = [ostk_densities]\n",
    "\n",
    "for ind, filename in enumerate(filenames):\n",
    "    with open(f\"{os.getcwd()}/data/{filename}\") as csvfile:\n",
    "        reader = csv.DictReader(csvfile)\n",
    "        comparison_densities = []\n",
    "        for row in reader:\n",
    "            density_iter = float(row[reader.fieldnames[4]])\n",
    "            \n",
    "            comparison_densities.append(density_iter * multiplication_factors[ind])\n",
    "            \n",
    "    all_comparison_densities.append(comparison_densities)"
   ]
  },
  {
   "cell_type": "code",
   "execution_count": 8,
   "metadata": {
    "tags": []
   },
   "outputs": [],
   "source": [
    "def to_dataframe(alt_ind, comparison_pairing):\n",
    "    first_tool = comparison_pairing[0]\n",
    "    second_tool = comparison_pairing[1]\n",
    "    \n",
    "    return [\n",
    "        altitudes[alt_ind],\n",
    "        all_comparison_densities[first_tool][alt_ind] - all_comparison_densities[second_tool][alt_ind],\n",
    "        (all_comparison_densities[first_tool][alt_ind] - all_comparison_densities[second_tool][alt_ind]) / all_comparison_densities[first_tool][alt_ind],\n",
    "    ]"
   ]
  },
  {
   "cell_type": "code",
   "execution_count": 9,
   "metadata": {
    "tags": []
   },
   "outputs": [],
   "source": [
    "densities_compared = [\n",
    "    [\n",
    "        to_dataframe(alt_ind, comparisons_to_perform[comparison_index][-1])\n",
    "        for alt_ind in range(0, len(altitudes))\n",
    "    ]\n",
    "    for comparison_index in range(0, len(all_comparison_densities))\n",
    "]"
   ]
  },
  {
   "cell_type": "code",
   "execution_count": 10,
   "metadata": {},
   "outputs": [],
   "source": [
    "densities_compared_df = [\n",
    "    pd.DataFrame(\n",
    "        densities_compared[comparison_index],\n",
    "        columns=[\"Alt(m)\", f\"{comparisons_to_perform[comparison_index][0]} Density Error (kg/m^3)\", f\"{comparisons_to_perform[comparison_index][0]} Relative Density Error (fractional)\"],\n",
    "    )\n",
    "    for comparison_index in range(0, len(all_comparison_densities))\n",
    "]"
   ]
  },
  {
   "cell_type": "code",
   "execution_count": 11,
   "metadata": {},
   "outputs": [],
   "source": [
    "ostk_densities_df = pd.DataFrame(\n",
    "        [[altitudes[alt], ostk_densities[alt]] for alt in range(0,len(altitudes))],\n",
    "        columns=[\"Alt(m)\", \"OSTk Density Value (kg/m^3)\"],\n",
    "    )"
   ]
  },
  {
   "cell_type": "code",
   "execution_count": 12,
   "metadata": {},
   "outputs": [
    {
     "data": {
      "text/html": [
       "<div>\n",
       "<style scoped>\n",
       "    .dataframe tbody tr th:only-of-type {\n",
       "        vertical-align: middle;\n",
       "    }\n",
       "\n",
       "    .dataframe tbody tr th {\n",
       "        vertical-align: top;\n",
       "    }\n",
       "\n",
       "    .dataframe thead th {\n",
       "        text-align: right;\n",
       "    }\n",
       "</style>\n",
       "<table border=\"1\" class=\"dataframe\">\n",
       "  <thead>\n",
       "    <tr style=\"text-align: right;\">\n",
       "      <th></th>\n",
       "      <th>Alt(m)</th>\n",
       "      <th>OSTk Density Value (kg/m^3)</th>\n",
       "    </tr>\n",
       "  </thead>\n",
       "  <tbody>\n",
       "    <tr>\n",
       "      <th>0</th>\n",
       "      <td>250000</td>\n",
       "      <td>7.248000e-11</td>\n",
       "    </tr>\n",
       "    <tr>\n",
       "      <th>1</th>\n",
       "      <td>350000</td>\n",
       "      <td>9.518000e-12</td>\n",
       "    </tr>\n",
       "    <tr>\n",
       "      <th>2</th>\n",
       "      <td>450000</td>\n",
       "      <td>1.585000e-12</td>\n",
       "    </tr>\n",
       "    <tr>\n",
       "      <th>3</th>\n",
       "      <td>550000</td>\n",
       "      <td>3.182782e-13</td>\n",
       "    </tr>\n",
       "    <tr>\n",
       "      <th>4</th>\n",
       "      <td>650000</td>\n",
       "      <td>7.249003e-14</td>\n",
       "    </tr>\n",
       "    <tr>\n",
       "      <th>5</th>\n",
       "      <td>750000</td>\n",
       "      <td>2.056299e-14</td>\n",
       "    </tr>\n",
       "    <tr>\n",
       "      <th>6</th>\n",
       "      <td>850000</td>\n",
       "      <td>7.833689e-15</td>\n",
       "    </tr>\n",
       "    <tr>\n",
       "      <th>7</th>\n",
       "      <td>950000</td>\n",
       "      <td>3.979310e-15</td>\n",
       "    </tr>\n",
       "  </tbody>\n",
       "</table>\n",
       "</div>"
      ],
      "text/plain": [
       "   Alt(m)  OSTk Density Value (kg/m^3)\n",
       "0  250000                 7.248000e-11\n",
       "1  350000                 9.518000e-12\n",
       "2  450000                 1.585000e-12\n",
       "3  550000                 3.182782e-13\n",
       "4  650000                 7.249003e-14\n",
       "5  750000                 2.056299e-14\n",
       "6  850000                 7.833689e-15\n",
       "7  950000                 3.979310e-15"
      ]
     },
     "execution_count": 12,
     "metadata": {},
     "output_type": "execute_result"
    }
   ],
   "source": [
    "ostk_densities_df"
   ]
  },
  {
   "cell_type": "code",
   "execution_count": 13,
   "metadata": {},
   "outputs": [
    {
     "data": {
      "text/html": [
       "<div>\n",
       "<style scoped>\n",
       "    .dataframe tbody tr th:only-of-type {\n",
       "        vertical-align: middle;\n",
       "    }\n",
       "\n",
       "    .dataframe tbody tr th {\n",
       "        vertical-align: top;\n",
       "    }\n",
       "\n",
       "    .dataframe thead th {\n",
       "        text-align: right;\n",
       "    }\n",
       "</style>\n",
       "<table border=\"1\" class=\"dataframe\">\n",
       "  <thead>\n",
       "    <tr style=\"text-align: right;\">\n",
       "      <th></th>\n",
       "      <th>Alt(m)</th>\n",
       "      <th>OSTk - GMAT Density Error (kg/m^3)</th>\n",
       "      <th>OSTk - GMAT Relative Density Error (fractional)</th>\n",
       "    </tr>\n",
       "  </thead>\n",
       "  <tbody>\n",
       "    <tr>\n",
       "      <th>0</th>\n",
       "      <td>250000</td>\n",
       "      <td>2.107249e-17</td>\n",
       "      <td>2.907353e-07</td>\n",
       "    </tr>\n",
       "    <tr>\n",
       "      <th>1</th>\n",
       "      <td>350000</td>\n",
       "      <td>2.364739e-18</td>\n",
       "      <td>2.484492e-07</td>\n",
       "    </tr>\n",
       "    <tr>\n",
       "      <th>2</th>\n",
       "      <td>450000</td>\n",
       "      <td>3.450441e-19</td>\n",
       "      <td>2.176935e-07</td>\n",
       "    </tr>\n",
       "    <tr>\n",
       "      <th>3</th>\n",
       "      <td>550000</td>\n",
       "      <td>6.603675e-20</td>\n",
       "      <td>2.074812e-07</td>\n",
       "    </tr>\n",
       "    <tr>\n",
       "      <th>4</th>\n",
       "      <td>650000</td>\n",
       "      <td>1.336263e-20</td>\n",
       "      <td>1.843375e-07</td>\n",
       "    </tr>\n",
       "    <tr>\n",
       "      <th>5</th>\n",
       "      <td>750000</td>\n",
       "      <td>3.070961e-21</td>\n",
       "      <td>1.493441e-07</td>\n",
       "    </tr>\n",
       "    <tr>\n",
       "      <th>6</th>\n",
       "      <td>850000</td>\n",
       "      <td>8.322607e-22</td>\n",
       "      <td>1.062412e-07</td>\n",
       "    </tr>\n",
       "    <tr>\n",
       "      <th>7</th>\n",
       "      <td>950000</td>\n",
       "      <td>2.910449e-22</td>\n",
       "      <td>7.313954e-08</td>\n",
       "    </tr>\n",
       "  </tbody>\n",
       "</table>\n",
       "</div>"
      ],
      "text/plain": [
       "   Alt(m)  OSTk - GMAT Density Error (kg/m^3)  \\\n",
       "0  250000                        2.107249e-17   \n",
       "1  350000                        2.364739e-18   \n",
       "2  450000                        3.450441e-19   \n",
       "3  550000                        6.603675e-20   \n",
       "4  650000                        1.336263e-20   \n",
       "5  750000                        3.070961e-21   \n",
       "6  850000                        8.322607e-22   \n",
       "7  950000                        2.910449e-22   \n",
       "\n",
       "   OSTk - GMAT Relative Density Error (fractional)  \n",
       "0                                     2.907353e-07  \n",
       "1                                     2.484492e-07  \n",
       "2                                     2.176935e-07  \n",
       "3                                     2.074812e-07  \n",
       "4                                     1.843375e-07  \n",
       "5                                     1.493441e-07  \n",
       "6                                     1.062412e-07  \n",
       "7                                     7.313954e-08  "
      ]
     },
     "execution_count": 13,
     "metadata": {},
     "output_type": "execute_result"
    }
   ],
   "source": [
    "densities_compared_df[0]"
   ]
  },
  {
   "cell_type": "code",
   "execution_count": 14,
   "metadata": {},
   "outputs": [
    {
     "data": {
      "text/html": [
       "<div>\n",
       "<style scoped>\n",
       "    .dataframe tbody tr th:only-of-type {\n",
       "        vertical-align: middle;\n",
       "    }\n",
       "\n",
       "    .dataframe tbody tr th {\n",
       "        vertical-align: top;\n",
       "    }\n",
       "\n",
       "    .dataframe thead th {\n",
       "        text-align: right;\n",
       "    }\n",
       "</style>\n",
       "<table border=\"1\" class=\"dataframe\">\n",
       "  <thead>\n",
       "    <tr style=\"text-align: right;\">\n",
       "      <th></th>\n",
       "      <th>Alt(m)</th>\n",
       "      <th>OSTk - OREKIT Density Error (kg/m^3)</th>\n",
       "      <th>OSTk - OREKIT Relative Density Error (fractional)</th>\n",
       "    </tr>\n",
       "  </thead>\n",
       "  <tbody>\n",
       "    <tr>\n",
       "      <th>0</th>\n",
       "      <td>250000</td>\n",
       "      <td>-1.112248e-15</td>\n",
       "      <td>-1.534559e-05</td>\n",
       "    </tr>\n",
       "    <tr>\n",
       "      <th>1</th>\n",
       "      <td>350000</td>\n",
       "      <td>5.008320e-26</td>\n",
       "      <td>5.261946e-15</td>\n",
       "    </tr>\n",
       "    <tr>\n",
       "      <th>2</th>\n",
       "      <td>450000</td>\n",
       "      <td>-1.089986e-18</td>\n",
       "      <td>-6.876880e-07</td>\n",
       "    </tr>\n",
       "    <tr>\n",
       "      <th>3</th>\n",
       "      <td>550000</td>\n",
       "      <td>-7.371116e-27</td>\n",
       "      <td>-2.315935e-14</td>\n",
       "    </tr>\n",
       "    <tr>\n",
       "      <th>4</th>\n",
       "      <td>650000</td>\n",
       "      <td>-1.842779e-27</td>\n",
       "      <td>-2.542114e-14</td>\n",
       "    </tr>\n",
       "    <tr>\n",
       "      <th>5</th>\n",
       "      <td>750000</td>\n",
       "      <td>-2.114147e-28</td>\n",
       "      <td>-1.028132e-14</td>\n",
       "    </tr>\n",
       "    <tr>\n",
       "      <th>6</th>\n",
       "      <td>850000</td>\n",
       "      <td>-5.048710e-29</td>\n",
       "      <td>-6.444869e-15</td>\n",
       "    </tr>\n",
       "    <tr>\n",
       "      <th>7</th>\n",
       "      <td>950000</td>\n",
       "      <td>-1.735494e-29</td>\n",
       "      <td>-4.361294e-15</td>\n",
       "    </tr>\n",
       "  </tbody>\n",
       "</table>\n",
       "</div>"
      ],
      "text/plain": [
       "   Alt(m)  OSTk - OREKIT Density Error (kg/m^3)  \\\n",
       "0  250000                         -1.112248e-15   \n",
       "1  350000                          5.008320e-26   \n",
       "2  450000                         -1.089986e-18   \n",
       "3  550000                         -7.371116e-27   \n",
       "4  650000                         -1.842779e-27   \n",
       "5  750000                         -2.114147e-28   \n",
       "6  850000                         -5.048710e-29   \n",
       "7  950000                         -1.735494e-29   \n",
       "\n",
       "   OSTk - OREKIT Relative Density Error (fractional)  \n",
       "0                                      -1.534559e-05  \n",
       "1                                       5.261946e-15  \n",
       "2                                      -6.876880e-07  \n",
       "3                                      -2.315935e-14  \n",
       "4                                      -2.542114e-14  \n",
       "5                                      -1.028132e-14  \n",
       "6                                      -6.444869e-15  \n",
       "7                                      -4.361294e-15  "
      ]
     },
     "execution_count": 14,
     "metadata": {},
     "output_type": "execute_result"
    }
   ],
   "source": [
    "densities_compared_df[1]"
   ]
  },
  {
   "cell_type": "code",
   "execution_count": 15,
   "metadata": {},
   "outputs": [
    {
     "data": {
      "text/html": [
       "<div>\n",
       "<style scoped>\n",
       "    .dataframe tbody tr th:only-of-type {\n",
       "        vertical-align: middle;\n",
       "    }\n",
       "\n",
       "    .dataframe tbody tr th {\n",
       "        vertical-align: top;\n",
       "    }\n",
       "\n",
       "    .dataframe thead th {\n",
       "        text-align: right;\n",
       "    }\n",
       "</style>\n",
       "<table border=\"1\" class=\"dataframe\">\n",
       "  <thead>\n",
       "    <tr style=\"text-align: right;\">\n",
       "      <th></th>\n",
       "      <th>Alt(m)</th>\n",
       "      <th>OREKIT - GMAT Density Error (kg/m^3)</th>\n",
       "      <th>OREKIT - GMAT Relative Density Error (fractional)</th>\n",
       "    </tr>\n",
       "  </thead>\n",
       "  <tbody>\n",
       "    <tr>\n",
       "      <th>0</th>\n",
       "      <td>250000</td>\n",
       "      <td>1.133321e-15</td>\n",
       "      <td>1.563608e-05</td>\n",
       "    </tr>\n",
       "    <tr>\n",
       "      <th>1</th>\n",
       "      <td>350000</td>\n",
       "      <td>2.364739e-18</td>\n",
       "      <td>2.484491e-07</td>\n",
       "    </tr>\n",
       "    <tr>\n",
       "      <th>2</th>\n",
       "      <td>450000</td>\n",
       "      <td>1.435030e-18</td>\n",
       "      <td>9.053809e-07</td>\n",
       "    </tr>\n",
       "    <tr>\n",
       "      <th>3</th>\n",
       "      <td>550000</td>\n",
       "      <td>6.603676e-20</td>\n",
       "      <td>2.074812e-07</td>\n",
       "    </tr>\n",
       "    <tr>\n",
       "      <th>4</th>\n",
       "      <td>650000</td>\n",
       "      <td>1.336263e-20</td>\n",
       "      <td>1.843375e-07</td>\n",
       "    </tr>\n",
       "    <tr>\n",
       "      <th>5</th>\n",
       "      <td>750000</td>\n",
       "      <td>3.070961e-21</td>\n",
       "      <td>1.493441e-07</td>\n",
       "    </tr>\n",
       "    <tr>\n",
       "      <th>6</th>\n",
       "      <td>850000</td>\n",
       "      <td>8.322607e-22</td>\n",
       "      <td>1.062412e-07</td>\n",
       "    </tr>\n",
       "    <tr>\n",
       "      <th>7</th>\n",
       "      <td>950000</td>\n",
       "      <td>2.910449e-22</td>\n",
       "      <td>7.313955e-08</td>\n",
       "    </tr>\n",
       "  </tbody>\n",
       "</table>\n",
       "</div>"
      ],
      "text/plain": [
       "   Alt(m)  OREKIT - GMAT Density Error (kg/m^3)  \\\n",
       "0  250000                          1.133321e-15   \n",
       "1  350000                          2.364739e-18   \n",
       "2  450000                          1.435030e-18   \n",
       "3  550000                          6.603676e-20   \n",
       "4  650000                          1.336263e-20   \n",
       "5  750000                          3.070961e-21   \n",
       "6  850000                          8.322607e-22   \n",
       "7  950000                          2.910449e-22   \n",
       "\n",
       "   OREKIT - GMAT Relative Density Error (fractional)  \n",
       "0                                       1.563608e-05  \n",
       "1                                       2.484491e-07  \n",
       "2                                       9.053809e-07  \n",
       "3                                       2.074812e-07  \n",
       "4                                       1.843375e-07  \n",
       "5                                       1.493441e-07  \n",
       "6                                       1.062412e-07  \n",
       "7                                       7.313955e-08  "
      ]
     },
     "execution_count": 15,
     "metadata": {},
     "output_type": "execute_result"
    }
   ],
   "source": [
    "densities_compared_df[2]"
   ]
  }
 ],
 "metadata": {
  "interpreter": {
   "hash": "b0fa6594d8f4cbf19f97940f81e996739fb7646882a419484c72d19e05852a7e"
  },
  "kernelspec": {
   "display_name": "Python 3 (ipykernel)",
   "language": "python",
   "name": "python3"
  },
  "language_info": {
   "codemirror_mode": {
    "name": "ipython",
    "version": 3
   },
   "file_extension": ".py",
   "mimetype": "text/x-python",
   "name": "python",
   "nbconvert_exporter": "python",
   "pygments_lexer": "ipython3",
   "version": "3.11.3"
  }
 },
 "nbformat": 4,
 "nbformat_minor": 4
}
