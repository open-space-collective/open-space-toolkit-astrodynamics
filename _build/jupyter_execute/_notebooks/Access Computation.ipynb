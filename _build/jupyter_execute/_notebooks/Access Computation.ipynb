{
 "cells": [
  {
   "cell_type": "markdown",
   "metadata": {},
   "source": [
    "# Access Computation"
   ]
  },
  {
   "cell_type": "markdown",
   "metadata": {},
   "source": [
    "This tutorial demonstrates how to compute access."
   ]
  },
  {
   "cell_type": "markdown",
   "metadata": {},
   "source": [
    "## Setup"
   ]
  },
  {
   "cell_type": "code",
   "execution_count": 1,
   "metadata": {},
   "outputs": [],
   "source": [
    "import pandas as pd\n",
    "\n",
    "import plotly.graph_objs as go\n",
    "\n",
    "from ostk.mathematics.object import RealInterval\n",
    "\n",
    "from ostk.physics import Environment\n",
    "from ostk.physics.unit import Length\n",
    "from ostk.physics.unit import Angle\n",
    "from ostk.physics.time import Scale\n",
    "from ostk.physics.time import Instant\n",
    "from ostk.physics.time import Duration\n",
    "from ostk.physics.time import Interval\n",
    "from ostk.physics.time import DateTime\n",
    "from ostk.physics.time import Time\n",
    "from ostk.physics.coordinate.spherical import LLA\n",
    "from ostk.astrodynamics.trajectory import Orbit\n",
    "from ostk.astrodynamics.trajectory.orbit.model import Kepler\n",
    "from ostk.astrodynamics.trajectory.orbit.model.kepler import COE\n",
    "from ostk.astrodynamics.trajectory.orbit.model import SGP4\n",
    "from ostk.astrodynamics.trajectory.orbit.model.sgp4 import TLE\n",
    "from ostk.astrodynamics.access import Generator as AccessGenerator\n",
    "from ostk.astrodynamics.access import AccessTarget\n",
    "from ostk.astrodynamics.access import VisibilityCriterion\n",
    "from ostk.astrodynamics.utilities import compute_trajectory_geometry\n",
    "from ostk.astrodynamics.utilities import compute_time_lla_aer_coordinates"
   ]
  },
  {
   "cell_type": "markdown",
   "metadata": {},
   "source": [
    "---"
   ]
  },
  {
   "cell_type": "markdown",
   "metadata": {},
   "source": [
    "## Access"
   ]
  },
  {
   "cell_type": "markdown",
   "metadata": {},
   "source": [
    "An access represents an object-to-object visibility period."
   ]
  },
  {
   "cell_type": "markdown",
   "metadata": {},
   "source": [
    "In this example, let's compute accesses between a fixed position on the ground and a satellite in LEO."
   ]
  },
  {
   "cell_type": "markdown",
   "metadata": {},
   "source": [
    "## Environment"
   ]
  },
  {
   "cell_type": "markdown",
   "metadata": {},
   "source": [
    "Let's setup an environment (which describes where planets are, etc...):"
   ]
  },
  {
   "cell_type": "code",
   "execution_count": 2,
   "metadata": {},
   "outputs": [],
   "source": [
    "environment = Environment.default(True)  # Set global environment instance as the default instance \n",
    "earth = environment.access_celestial_object_with_name(\"Earth\")"
   ]
  },
  {
   "cell_type": "markdown",
   "metadata": {},
   "source": [
    "### Origin"
   ]
  },
  {
   "cell_type": "markdown",
   "metadata": {},
   "source": [
    "#### Visibility Criterion\n",
    "Let's define a visibility criterion, there are currently 4 types of Visibility Criterion\n",
    "- AERInterval : Defined by Azimuth, Elevation and Range intervals (typically used for accesses with Ground Stations)\n",
    "- ElevationInterval : Defined solely by an Elevation interval (typically used for imaging windows)\n",
    "- AERMask : Defined by an Azimuth-Elevation mask, and a Range interval (typically used for accesses with Ground Stations)\n",
    "- LineOfSight : Defined by a pure line of sight constraint, occluded by the bodies in the provided Environment (typically used for Satellite <-> Satellite accesses)"
   ]
  },
  {
   "cell_type": "code",
   "execution_count": 3,
   "metadata": {},
   "outputs": [],
   "source": [
    "visibility_criterion = VisibilityCriterion.from_aer_interval(\n",
    "    azimuth_interval=RealInterval.closed(0.0, 360.0),  # [deg]\n",
    "    elevation_interval=RealInterval.closed(0.0, 90.0),  # [deg]\n",
    "    range_interval=RealInterval.closed(0.0, 10000e3),  # [m]\n",
    ")"
   ]
  },
  {
   "cell_type": "code",
   "execution_count": 4,
   "metadata": {},
   "outputs": [],
   "source": [
    "# visibility_criterion = VisibilityCriterion.from_aer_mask(\n",
    "#     azimuth_elevation_mask={0.0: 0.0, 90.0: 45.0, 270.0: 30.0},\n",
    "#     range_interval=RealInterval.closed(0.0, 10000e3),\n",
    "# )"
   ]
  },
  {
   "cell_type": "code",
   "execution_count": 5,
   "metadata": {},
   "outputs": [],
   "source": [
    "# visibility_criterion = VisibilityCriterion.from_elevation_interval(\n",
    "#     elevation_interval=RealInterval.closed(80.0, 90.0),\n",
    "# )"
   ]
  },
  {
   "cell_type": "code",
   "execution_count": 6,
   "metadata": {},
   "outputs": [],
   "source": [
    "# visibility_criterion = VisibilityCriterion.from_line_of_sight(\n",
    "#     environment=environment,\n",
    "# )"
   ]
  },
  {
   "cell_type": "markdown",
   "metadata": {},
   "source": [
    "#### Access Target\n",
    "Now that we have defined a visibility criterion, we can create an access target to compute accesses with.\n",
    "Let's define a fixed ground position, using its geographic coordinates.\n",
    "We can create a list of multiple access targets and compute a list of accesses corresponding to each access target"
   ]
  },
  {
   "cell_type": "code",
   "execution_count": 7,
   "metadata": {},
   "outputs": [],
   "source": [
    "access_target = AccessTarget.from_lla(\n",
    "    visibility_criterion=visibility_criterion,\n",
    "    lla=LLA(Angle.degrees(50.0), Angle.degrees(20.0), Length.meters(30.0)),\n",
    "    celestial=earth,\n",
    ")\n",
    "another_access_target = AccessTarget.from_lla(\n",
    "    visibility_criterion=visibility_criterion,\n",
    "    lla=LLA(Angle.degrees(-50.0), Angle.degrees(10.0), Length.meters(30.0)),\n",
    "    celestial=earth,\n",
    ")\n",
    "\n",
    "access_targets = [access_target, another_access_target]"
   ]
  },
  {
   "cell_type": "markdown",
   "metadata": {},
   "source": [
    "### Target"
   ]
  },
  {
   "cell_type": "markdown",
   "metadata": {},
   "source": [
    "Let's consider a satellite in **Low-Earth Orbit**."
   ]
  },
  {
   "cell_type": "markdown",
   "metadata": {},
   "source": [
    "We can define its orbit with **Classical Orbital Elements**:"
   ]
  },
  {
   "cell_type": "code",
   "execution_count": 8,
   "metadata": {},
   "outputs": [],
   "source": [
    "a = earth.get_equatorial_radius() + Length.kilometers(500.0)\n",
    "e = 0.000\n",
    "i = Angle.degrees(97.8893)\n",
    "raan = Angle.degrees(100.372)\n",
    "aop = Angle.degrees(0.0)\n",
    "nu = Angle.degrees(0.0201851)\n",
    "\n",
    "coe = COE(a, e, i, raan, aop, nu)"
   ]
  },
  {
   "cell_type": "markdown",
   "metadata": {},
   "source": [
    "... and by using a **Keplerian** orbital model:"
   ]
  },
  {
   "cell_type": "code",
   "execution_count": 9,
   "metadata": {},
   "outputs": [],
   "source": [
    "epoch = Instant.date_time(DateTime(2018, 1, 1, 0, 0, 0), Scale.UTC)\n",
    "\n",
    "keplerian_model = Kepler(coe, epoch, earth, Kepler.PerturbationType.J2)"
   ]
  },
  {
   "cell_type": "markdown",
   "metadata": {},
   "source": [
    "Or with a **Two-Line Element** (TLE) set:"
   ]
  },
  {
   "cell_type": "code",
   "execution_count": 10,
   "metadata": {},
   "outputs": [],
   "source": [
    "tle = TLE(\n",
    "    \"ISS (ZARYA)\",\n",
    "    \"1 25544U 98067A   18268.86272795  .00002184  00000-0  40781-4 0  9990\",\n",
    "    \"2 25544  51.6405 237.0010 0003980 205.4375 242.3358 15.53733046134172\",\n",
    ")"
   ]
  },
  {
   "cell_type": "markdown",
   "metadata": {},
   "source": [
    "... along with its associated **SGP4** orbital model:"
   ]
  },
  {
   "cell_type": "code",
   "execution_count": 11,
   "metadata": {},
   "outputs": [],
   "source": [
    "sgp4_model = SGP4(tle)"
   ]
  },
  {
   "cell_type": "markdown",
   "metadata": {},
   "source": [
    "Below, we select which orbital model to use:"
   ]
  },
  {
   "cell_type": "code",
   "execution_count": 12,
   "metadata": {},
   "outputs": [],
   "source": [
    "orbital_model = keplerian_model\n",
    "# orbital_model = sgp4_model"
   ]
  },
  {
   "cell_type": "markdown",
   "metadata": {},
   "source": [
    "We then obtain the satellite orbit (which is a **Trajectory** object):"
   ]
  },
  {
   "cell_type": "code",
   "execution_count": 13,
   "metadata": {},
   "outputs": [],
   "source": [
    "satellite_orbit = Orbit(orbital_model, earth)"
   ]
  },
  {
   "cell_type": "markdown",
   "metadata": {},
   "source": [
    "Alternatively, the **Orbit** class can provide some useful shortcuts (for usual orbit types):"
   ]
  },
  {
   "cell_type": "code",
   "execution_count": 14,
   "metadata": {},
   "outputs": [],
   "source": [
    "epoch = Instant.date_time(DateTime(2018, 1, 1, 0, 0, 0), Scale.UTC)\n",
    "\n",
    "satellite_orbit = Orbit.sun_synchronous(\n",
    "    epoch, Length.kilometers(500.0), Time(12, 0, 0), earth\n",
    ")"
   ]
  },
  {
   "cell_type": "markdown",
   "metadata": {},
   "source": [
    "### Access"
   ]
  },
  {
   "cell_type": "markdown",
   "metadata": {},
   "source": [
    "Now that the origin and the target trajectories are well defined, we can compute the **Access**."
   ]
  },
  {
   "cell_type": "markdown",
   "metadata": {},
   "source": [
    "Let's first define an **analysis interval**:"
   ]
  },
  {
   "cell_type": "code",
   "execution_count": 15,
   "metadata": {},
   "outputs": [],
   "source": [
    "start_instant = Instant.date_time(DateTime.parse(\"2018-01-01 00:00:00\"), Scale.UTC)\n",
    "end_instant = Instant.date_time(DateTime.parse(\"2018-01-10 00:00:00\"), Scale.UTC)\n",
    "\n",
    "interval = Interval.closed(start_instant, end_instant)"
   ]
  },
  {
   "cell_type": "markdown",
   "metadata": {},
   "source": [
    "Then, using an **Access Generator**, we can compute the accesses within the intervals of interest:"
   ]
  },
  {
   "cell_type": "code",
   "execution_count": 16,
   "metadata": {},
   "outputs": [],
   "source": [
    "\n",
    "access_generator = AccessGenerator(environment=environment)"
   ]
  },
  {
   "cell_type": "code",
   "execution_count": 17,
   "metadata": {},
   "outputs": [
    {
     "name": "stdout",
     "output_type": "stream",
     "text": [
      "Locking local repository [/var/cache/open-space-toolkit-data/data/manifest]...\n",
      "Fetching Data Manifest from [https://github.com/open-space-collective/open-space-toolkit-data/raw/v1/data/manifest.json]...\n",
      "Unlocking local repository [/var/cache/open-space-toolkit-data/data/manifest]...\n",
      "Data Manifest [/var/cache/open-space-toolkit-data/data/manifest/manifest.json] has been successfully fetched from [https://github.com/open-space-collective/open-space-toolkit-data/raw/v1/data/manifest.json].\n",
      "Fetching latest Bulletin A...\n",
      "Locking local repository [/var/cache/open-space-toolkit-data/data/coordinate/frame/provider/iers]...\n",
      "Creating temporary directory [/var/cache/open-space-toolkit-data/data/coordinate/frame/provider/iers/bulletin-A/tmp]...\n",
      "Fetching Bulletin A from [https://github.com/open-space-collective/open-space-toolkit-data/raw/v1/data//coordinate/frame/provider/iers/bulletin-A/ser7.dat]...\n",
      "Unlocking local repository [/var/cache/open-space-toolkit-data/data/coordinate/frame/provider/iers]...\n",
      "Bulletin A [/var/cache/open-space-toolkit-data/data/coordinate/frame/provider/iers/bulletin-A/ser7.dat] has been successfully fetched from [https://github.com/open-space-collective/open-space-toolkit-data/raw/v1/data//coordinate/frame/provider/iers/bulletin-A/ser7.dat].\n",
      "Fetching latest Finals 2000A...\n",
      "Locking local repository [/var/cache/open-space-toolkit-data/data/coordinate/frame/provider/iers]...\n",
      "Fetching Finals 2000A from [https://github.com/open-space-collective/open-space-toolkit-data/raw/v1/data//coordinate/frame/provider/iers/finals-2000A/finals2000A.data]...\n",
      "Unlocking local repository [/var/cache/open-space-toolkit-data/data/coordinate/frame/provider/iers]...\n",
      "Finals 2000A [/var/cache/open-space-toolkit-data/data/coordinate/frame/provider/iers/finals-2000A/finals2000A.data] has been successfully fetched from [https://github.com/open-space-collective/open-space-toolkit-data/raw/v1/data//coordinate/frame/provider/iers/finals-2000A/finals2000A.data].\n"
     ]
    }
   ],
   "source": [
    "accesses = access_generator.compute_accesses(\n",
    "    interval=interval,\n",
    "    access_targets=access_targets,\n",
    "    to_trajectory=satellite_orbit,\n",
    ")\n",
    "\n",
    "assert len(accesses) == len(access_targets)  # a list of accesses per target\n",
    "\n",
    "first_target_accesses = accesses[0]\n",
    "second_target_accesses = accesses[1]\n",
    "all_accesses = first_target_accesses + second_target_accesses\n",
    "\n",
    "accesses_data = [\n",
    "    (\n",
    "        str(access.get_type()),\n",
    "        repr(access.get_acquisition_of_signal()),\n",
    "        repr(access.get_time_of_closest_approach()),\n",
    "        repr(access.get_loss_of_signal()),\n",
    "        float(access.get_duration().in_seconds()),\n",
    "        \"first_target\",\n",
    "    ) for access in first_target_accesses\n",
    "]\n",
    "\n",
    "accesses_data += [\n",
    "    (\n",
    "        str(access.get_type()),\n",
    "        repr(access.get_acquisition_of_signal()),\n",
    "        repr(access.get_time_of_closest_approach()),\n",
    "        repr(access.get_loss_of_signal()),\n",
    "        float(access.get_duration().in_seconds()),\n",
    "        \"second_target\",\n",
    "    ) for access in second_target_accesses\n",
    "]"
   ]
  },
  {
   "cell_type": "markdown",
   "metadata": {},
   "source": [
    "And format the output using a dataframe:"
   ]
  },
  {
   "cell_type": "code",
   "execution_count": 18,
   "metadata": {},
   "outputs": [],
   "source": [
    "accesses_df = pd.DataFrame(\n",
    "    data=accesses_data,\n",
    "    columns=[\"Type\", \"AOS\", \"TCA\", \"LOS\", \"Duration\", \"Target\"],\n",
    ")"
   ]
  },
  {
   "cell_type": "markdown",
   "metadata": {},
   "source": [
    "### Output"
   ]
  },
  {
   "cell_type": "markdown",
   "metadata": {},
   "source": [
    "Print accesses:"
   ]
  },
  {
   "cell_type": "code",
   "execution_count": 19,
   "metadata": {},
   "outputs": [
    {
     "data": {
      "text/html": [
       "<div>\n",
       "<style scoped>\n",
       "    .dataframe tbody tr th:only-of-type {\n",
       "        vertical-align: middle;\n",
       "    }\n",
       "\n",
       "    .dataframe tbody tr th {\n",
       "        vertical-align: top;\n",
       "    }\n",
       "\n",
       "    .dataframe thead th {\n",
       "        text-align: right;\n",
       "    }\n",
       "</style>\n",
       "<table border=\"1\" class=\"dataframe\">\n",
       "  <thead>\n",
       "    <tr style=\"text-align: right;\">\n",
       "      <th></th>\n",
       "      <th>Type</th>\n",
       "      <th>AOS</th>\n",
       "      <th>TCA</th>\n",
       "      <th>LOS</th>\n",
       "      <th>Duration</th>\n",
       "      <th>Target</th>\n",
       "    </tr>\n",
       "  </thead>\n",
       "  <tbody>\n",
       "    <tr>\n",
       "      <th>0</th>\n",
       "      <td>Type.Complete</td>\n",
       "      <td>2018-01-01 00:10:48.691.727.513 [UTC]</td>\n",
       "      <td>2018-01-01 00:13:07.422.341.866 [UTC]</td>\n",
       "      <td>2018-01-01 00:15:32.871.969.978 [UTC]</td>\n",
       "      <td>284.180242</td>\n",
       "      <td>first_target</td>\n",
       "    </tr>\n",
       "    <tr>\n",
       "      <th>1</th>\n",
       "      <td>Type.Complete</td>\n",
       "      <td>2018-01-01 09:57:49.624.945.865 [UTC]</td>\n",
       "      <td>2018-01-01 10:02:55.818.813.536 [UTC]</td>\n",
       "      <td>2018-01-01 10:07:55.028.955.753 [UTC]</td>\n",
       "      <td>605.404010</td>\n",
       "      <td>first_target</td>\n",
       "    </tr>\n",
       "    <tr>\n",
       "      <th>2</th>\n",
       "      <td>Type.Complete</td>\n",
       "      <td>2018-01-01 11:31:16.376.711.486 [UTC]</td>\n",
       "      <td>2018-01-01 11:37:02.533.140.045 [UTC]</td>\n",
       "      <td>2018-01-01 11:42:43.005.386.542 [UTC]</td>\n",
       "      <td>686.628675</td>\n",
       "      <td>first_target</td>\n",
       "    </tr>\n",
       "    <tr>\n",
       "      <th>3</th>\n",
       "      <td>Type.Complete</td>\n",
       "      <td>2018-01-01 13:06:09.698.392.318 [UTC]</td>\n",
       "      <td>2018-01-01 13:09:58.212.688.285 [UTC]</td>\n",
       "      <td>2018-01-01 13:13:42.224.919.802 [UTC]</td>\n",
       "      <td>452.526527</td>\n",
       "      <td>first_target</td>\n",
       "    </tr>\n",
       "    <tr>\n",
       "      <th>4</th>\n",
       "      <td>Type.Complete</td>\n",
       "      <td>2018-01-01 20:41:15.275.981.636 [UTC]</td>\n",
       "      <td>2018-01-01 20:46:05.882.558.046 [UTC]</td>\n",
       "      <td>2018-01-01 20:51:01.381.094.552 [UTC]</td>\n",
       "      <td>586.105113</td>\n",
       "      <td>first_target</td>\n",
       "    </tr>\n",
       "    <tr>\n",
       "      <th>...</th>\n",
       "      <td>...</td>\n",
       "      <td>...</td>\n",
       "      <td>...</td>\n",
       "      <td>...</td>\n",
       "      <td>...</td>\n",
       "      <td>...</td>\n",
       "    </tr>\n",
       "    <tr>\n",
       "      <th>108</th>\n",
       "      <td>Type.Complete</td>\n",
       "      <td>2018-01-09 01:53:59.269.923.697 [UTC]</td>\n",
       "      <td>2018-01-09 01:57:28.653.960.599 [UTC]</td>\n",
       "      <td>2018-01-09 02:00:53.534.163.413 [UTC]</td>\n",
       "      <td>414.264240</td>\n",
       "      <td>second_target</td>\n",
       "    </tr>\n",
       "    <tr>\n",
       "      <th>109</th>\n",
       "      <td>Type.Complete</td>\n",
       "      <td>2018-01-09 09:28:38.419.034.246 [UTC]</td>\n",
       "      <td>2018-01-09 09:33:39.084.591.345 [UTC]</td>\n",
       "      <td>2018-01-09 09:38:44.723.391.949 [UTC]</td>\n",
       "      <td>606.304358</td>\n",
       "      <td>second_target</td>\n",
       "    </tr>\n",
       "    <tr>\n",
       "      <th>110</th>\n",
       "      <td>Type.Complete</td>\n",
       "      <td>2018-01-09 11:01:26.277.987.439 [UTC]</td>\n",
       "      <td>2018-01-09 11:07:08.135.307.547 [UTC]</td>\n",
       "      <td>2018-01-09 11:12:56.397.738.412 [UTC]</td>\n",
       "      <td>690.119751</td>\n",
       "      <td>second_target</td>\n",
       "    </tr>\n",
       "    <tr>\n",
       "      <th>111</th>\n",
       "      <td>Type.Complete</td>\n",
       "      <td>2018-01-09 12:38:38.602.425.308 [UTC]</td>\n",
       "      <td>2018-01-09 12:41:50.444.699.367 [UTC]</td>\n",
       "      <td>2018-01-09 12:45:09.170.303.183 [UTC]</td>\n",
       "      <td>390.567878</td>\n",
       "      <td>second_target</td>\n",
       "    </tr>\n",
       "    <tr>\n",
       "      <th>112</th>\n",
       "      <td>Type.Complete</td>\n",
       "      <td>2018-01-09 22:26:55.632.669.773 [UTC]</td>\n",
       "      <td>2018-01-09 22:31:43.647.618.360 [UTC]</td>\n",
       "      <td>2018-01-09 22:36:24.604.249.470 [UTC]</td>\n",
       "      <td>568.971580</td>\n",
       "      <td>second_target</td>\n",
       "    </tr>\n",
       "  </tbody>\n",
       "</table>\n",
       "<p>113 rows × 6 columns</p>\n",
       "</div>"
      ],
      "text/plain": [
       "              Type                                    AOS  \\\n",
       "0    Type.Complete  2018-01-01 00:10:48.691.727.513 [UTC]   \n",
       "1    Type.Complete  2018-01-01 09:57:49.624.945.865 [UTC]   \n",
       "2    Type.Complete  2018-01-01 11:31:16.376.711.486 [UTC]   \n",
       "3    Type.Complete  2018-01-01 13:06:09.698.392.318 [UTC]   \n",
       "4    Type.Complete  2018-01-01 20:41:15.275.981.636 [UTC]   \n",
       "..             ...                                    ...   \n",
       "108  Type.Complete  2018-01-09 01:53:59.269.923.697 [UTC]   \n",
       "109  Type.Complete  2018-01-09 09:28:38.419.034.246 [UTC]   \n",
       "110  Type.Complete  2018-01-09 11:01:26.277.987.439 [UTC]   \n",
       "111  Type.Complete  2018-01-09 12:38:38.602.425.308 [UTC]   \n",
       "112  Type.Complete  2018-01-09 22:26:55.632.669.773 [UTC]   \n",
       "\n",
       "                                       TCA  \\\n",
       "0    2018-01-01 00:13:07.422.341.866 [UTC]   \n",
       "1    2018-01-01 10:02:55.818.813.536 [UTC]   \n",
       "2    2018-01-01 11:37:02.533.140.045 [UTC]   \n",
       "3    2018-01-01 13:09:58.212.688.285 [UTC]   \n",
       "4    2018-01-01 20:46:05.882.558.046 [UTC]   \n",
       "..                                     ...   \n",
       "108  2018-01-09 01:57:28.653.960.599 [UTC]   \n",
       "109  2018-01-09 09:33:39.084.591.345 [UTC]   \n",
       "110  2018-01-09 11:07:08.135.307.547 [UTC]   \n",
       "111  2018-01-09 12:41:50.444.699.367 [UTC]   \n",
       "112  2018-01-09 22:31:43.647.618.360 [UTC]   \n",
       "\n",
       "                                       LOS    Duration         Target  \n",
       "0    2018-01-01 00:15:32.871.969.978 [UTC]  284.180242   first_target  \n",
       "1    2018-01-01 10:07:55.028.955.753 [UTC]  605.404010   first_target  \n",
       "2    2018-01-01 11:42:43.005.386.542 [UTC]  686.628675   first_target  \n",
       "3    2018-01-01 13:13:42.224.919.802 [UTC]  452.526527   first_target  \n",
       "4    2018-01-01 20:51:01.381.094.552 [UTC]  586.105113   first_target  \n",
       "..                                     ...         ...            ...  \n",
       "108  2018-01-09 02:00:53.534.163.413 [UTC]  414.264240  second_target  \n",
       "109  2018-01-09 09:38:44.723.391.949 [UTC]  606.304358  second_target  \n",
       "110  2018-01-09 11:12:56.397.738.412 [UTC]  690.119751  second_target  \n",
       "111  2018-01-09 12:45:09.170.303.183 [UTC]  390.567878  second_target  \n",
       "112  2018-01-09 22:36:24.604.249.470 [UTC]  568.971580  second_target  \n",
       "\n",
       "[113 rows x 6 columns]"
      ]
     },
     "execution_count": 19,
     "metadata": {},
     "output_type": "execute_result"
    }
   ],
   "source": [
    "accesses_df"
   ]
  },
  {
   "cell_type": "markdown",
   "metadata": {},
   "source": [
    "Let's calculate the geographic coordinate of the satellite, during access:"
   ]
  },
  {
   "cell_type": "code",
   "execution_count": 20,
   "metadata": {},
   "outputs": [],
   "source": [
    "def compute_access_geometry(access):\n",
    "    return [\n",
    "        compute_time_lla_aer_coordinates(state, access_target.get_position(), environment)\n",
    "        for state in satellite_orbit.get_states_at(\n",
    "            access.get_interval().generate_grid(Duration.seconds(1.0))\n",
    "        )\n",
    "    ]"
   ]
  },
  {
   "cell_type": "code",
   "execution_count": 21,
   "metadata": {},
   "outputs": [],
   "source": [
    "satellite_orbit_geometry_df = pd.DataFrame(\n",
    "    [lla.to_vector() for lla in compute_trajectory_geometry(satellite_orbit, interval)],\n",
    "    columns=[\"Latitude\", \"Longitude\", \"Altitude\"],\n",
    ")"
   ]
  },
  {
   "cell_type": "code",
   "execution_count": 22,
   "metadata": {},
   "outputs": [
    {
     "data": {
      "text/html": [
       "<div>\n",
       "<style scoped>\n",
       "    .dataframe tbody tr th:only-of-type {\n",
       "        vertical-align: middle;\n",
       "    }\n",
       "\n",
       "    .dataframe tbody tr th {\n",
       "        vertical-align: top;\n",
       "    }\n",
       "\n",
       "    .dataframe thead th {\n",
       "        text-align: right;\n",
       "    }\n",
       "</style>\n",
       "<table border=\"1\" class=\"dataframe\">\n",
       "  <thead>\n",
       "    <tr style=\"text-align: right;\">\n",
       "      <th></th>\n",
       "      <th>Latitude</th>\n",
       "      <th>Longitude</th>\n",
       "      <th>Altitude</th>\n",
       "    </tr>\n",
       "  </thead>\n",
       "  <tbody>\n",
       "    <tr>\n",
       "      <th>0</th>\n",
       "      <td>-0.020152</td>\n",
       "      <td>-0.001105</td>\n",
       "      <td>500000.002625</td>\n",
       "    </tr>\n",
       "    <tr>\n",
       "      <th>1</th>\n",
       "      <td>3.772321</td>\n",
       "      <td>-0.734928</td>\n",
       "      <td>500091.839402</td>\n",
       "    </tr>\n",
       "    <tr>\n",
       "      <th>2</th>\n",
       "      <td>7.564114</td>\n",
       "      <td>-1.472946</td>\n",
       "      <td>500367.684689</td>\n",
       "    </tr>\n",
       "    <tr>\n",
       "      <th>3</th>\n",
       "      <td>11.354544</td>\n",
       "      <td>-2.219521</td>\n",
       "      <td>500822.628803</td>\n",
       "    </tr>\n",
       "    <tr>\n",
       "      <th>4</th>\n",
       "      <td>15.142919</td>\n",
       "      <td>-2.979323</td>\n",
       "      <td>501448.578113</td>\n",
       "    </tr>\n",
       "  </tbody>\n",
       "</table>\n",
       "</div>"
      ],
      "text/plain": [
       "    Latitude  Longitude       Altitude\n",
       "0  -0.020152  -0.001105  500000.002625\n",
       "1   3.772321  -0.734928  500091.839402\n",
       "2   7.564114  -1.472946  500367.684689\n",
       "3  11.354544  -2.219521  500822.628803\n",
       "4  15.142919  -2.979323  501448.578113"
      ]
     },
     "execution_count": 22,
     "metadata": {},
     "output_type": "execute_result"
    }
   ],
   "source": [
    "satellite_orbit_geometry_df.head()"
   ]
  },
  {
   "cell_type": "code",
   "execution_count": 23,
   "metadata": {},
   "outputs": [],
   "source": [
    "access_geometry_dfs = [\n",
    "    pd.DataFrame(\n",
    "        compute_access_geometry(access),\n",
    "        columns=[\n",
    "            \"Time\",\n",
    "            \"Latitude\",\n",
    "            \"Longitude\",\n",
    "            \"Altitude\",\n",
    "            \"Azimuth\",\n",
    "            \"Elevation\",\n",
    "            \"Range\",\n",
    "        ],\n",
    "    )\n",
    "    for access in all_accesses\n",
    "]"
   ]
  },
  {
   "cell_type": "code",
   "execution_count": 24,
   "metadata": {},
   "outputs": [],
   "source": [
    "def get_max_elevation(df):\n",
    "    return df.loc[df[\"Elevation\"].idxmax()][\"Elevation\"]"
   ]
  },
  {
   "cell_type": "markdown",
   "metadata": {},
   "source": [
    "And plot the geometries onto a map:"
   ]
  },
  {
   "cell_type": "code",
   "execution_count": 25,
   "metadata": {},
   "outputs": [
    {
     "ename": "AttributeError",
     "evalue": "'ostk.physics.coordinate.spherical.LLA' object has no attribute 'in_degrees'",
     "output_type": "error",
     "traceback": [
      "\u001b[0;31m---------------------------------------------------------------------------\u001b[0m",
      "\u001b[0;31mAttributeError\u001b[0m                            Traceback (most recent call last)",
      "Cell \u001b[0;32mIn[25], line 9\u001b[0m\n\u001b[1;32m      3\u001b[0m \u001b[38;5;66;03m# Target geometry\u001b[39;00m\n\u001b[1;32m      5\u001b[0m \u001b[38;5;28;01mfor\u001b[39;00m access_target \u001b[38;5;129;01min\u001b[39;00m access_targets:\n\u001b[1;32m      6\u001b[0m     data\u001b[38;5;241m.\u001b[39mappend(\n\u001b[1;32m      7\u001b[0m         \u001b[38;5;28mdict\u001b[39m(\n\u001b[1;32m      8\u001b[0m             \u001b[38;5;28mtype\u001b[39m\u001b[38;5;241m=\u001b[39m\u001b[38;5;124m\"\u001b[39m\u001b[38;5;124mscattergeo\u001b[39m\u001b[38;5;124m\"\u001b[39m,\n\u001b[0;32m----> 9\u001b[0m             lon\u001b[38;5;241m=\u001b[39m[\u001b[38;5;28mfloat\u001b[39m(\u001b[43maccess_target\u001b[49m\u001b[38;5;241;43m.\u001b[39;49m\u001b[43mget_lla\u001b[49m\u001b[43m(\u001b[49m\u001b[43mearth\u001b[49m\u001b[43m)\u001b[49m\u001b[38;5;241;43m.\u001b[39;49m\u001b[43min_degrees\u001b[49m())],\n\u001b[1;32m     10\u001b[0m             lat\u001b[38;5;241m=\u001b[39m[\u001b[38;5;28mfloat\u001b[39m(access_target\u001b[38;5;241m.\u001b[39mget_lla(earth)\u001b[38;5;241m.\u001b[39min_degrees())],\n\u001b[1;32m     11\u001b[0m             mode\u001b[38;5;241m=\u001b[39m\u001b[38;5;124m\"\u001b[39m\u001b[38;5;124mmarkers\u001b[39m\u001b[38;5;124m\"\u001b[39m,\n\u001b[1;32m     12\u001b[0m             marker\u001b[38;5;241m=\u001b[39m\u001b[38;5;28mdict\u001b[39m(size\u001b[38;5;241m=\u001b[39m\u001b[38;5;241m10\u001b[39m, color\u001b[38;5;241m=\u001b[39m\u001b[38;5;124m\"\u001b[39m\u001b[38;5;124morange\u001b[39m\u001b[38;5;124m\"\u001b[39m),\n\u001b[1;32m     13\u001b[0m         )\n\u001b[1;32m     14\u001b[0m     )\n\u001b[1;32m     16\u001b[0m \u001b[38;5;66;03m# Orbit geometry\u001b[39;00m\n\u001b[1;32m     18\u001b[0m data\u001b[38;5;241m.\u001b[39mappend(\n\u001b[1;32m     19\u001b[0m     \u001b[38;5;28mdict\u001b[39m(\n\u001b[1;32m     20\u001b[0m         \u001b[38;5;28mtype\u001b[39m\u001b[38;5;241m=\u001b[39m\u001b[38;5;124m\"\u001b[39m\u001b[38;5;124mscattergeo\u001b[39m\u001b[38;5;124m\"\u001b[39m,\n\u001b[0;32m   (...)\u001b[0m\n\u001b[1;32m     28\u001b[0m     )\n\u001b[1;32m     29\u001b[0m )\n",
      "\u001b[0;31mAttributeError\u001b[0m: 'ostk.physics.coordinate.spherical.LLA' object has no attribute 'in_degrees'"
     ]
    }
   ],
   "source": [
    "data = []\n",
    "\n",
    "# Target geometry\n",
    "\n",
    "for access_target in access_targets:\n",
    "    data.append(\n",
    "        dict(\n",
    "            type=\"scattergeo\",\n",
    "            lon=[float(access_target.get_lla(earth).in_degrees())],\n",
    "            lat=[float(access_target.get_lla(earth).in_degrees())],\n",
    "            mode=\"markers\",\n",
    "            marker=dict(size=10, color=\"orange\"),\n",
    "        )\n",
    "    )\n",
    "\n",
    "# Orbit geometry\n",
    "\n",
    "data.append(\n",
    "    dict(\n",
    "        type=\"scattergeo\",\n",
    "        lon=satellite_orbit_geometry_df[\"Longitude\"],\n",
    "        lat=satellite_orbit_geometry_df[\"Latitude\"],\n",
    "        mode=\"lines\",\n",
    "        line=dict(\n",
    "            width=1,\n",
    "            color=\"rgba(0, 0, 0, 0.1)\",\n",
    "        ),\n",
    "    )\n",
    ")\n",
    "\n",
    "# Access geometry\n",
    "\n",
    "for access_geometry_df in access_geometry_dfs:\n",
    "    data.append(\n",
    "        dict(\n",
    "            type=\"scattergeo\",\n",
    "            lon=access_geometry_df[\"Longitude\"],\n",
    "            lat=access_geometry_df[\"Latitude\"],\n",
    "            mode=\"lines\",\n",
    "            line=dict(\n",
    "                width=1,\n",
    "                color=\"red\",\n",
    "            ),\n",
    "        )\n",
    "    )\n",
    "\n",
    "layout = dict(\n",
    "    title=None,\n",
    "    showlegend=False,\n",
    "    width=1200,\n",
    "    height=600,\n",
    "    geo=dict(\n",
    "        showland=True,\n",
    "        landcolor=\"rgb(243, 243, 243)\",\n",
    "        countrycolor=\"rgb(204, 204, 204)\",\n",
    "    ),\n",
    ")\n",
    "\n",
    "figure = go.Figure(data=data, layout=layout)\n",
    "\n",
    "#figure.show(\"svg\")\n",
    "figure.show()"
   ]
  },
  {
   "cell_type": "markdown",
   "metadata": {},
   "source": [
    "---"
   ]
  },
  {
   "cell_type": "code",
   "execution_count": null,
   "metadata": {},
   "outputs": [],
   "source": []
  },
  {
   "cell_type": "code",
   "execution_count": null,
   "metadata": {},
   "outputs": [],
   "source": []
  }
 ],
 "metadata": {
  "kernelspec": {
   "display_name": "Python 3 (ipykernel)",
   "language": "python",
   "name": "python3"
  },
  "language_info": {
   "codemirror_mode": {
    "name": "ipython",
    "version": 3
   },
   "file_extension": ".py",
   "mimetype": "text/x-python",
   "name": "python",
   "nbconvert_exporter": "python",
   "pygments_lexer": "ipython3",
   "version": "3.11.11"
  }
 },
 "nbformat": 4,
 "nbformat_minor": 4
}