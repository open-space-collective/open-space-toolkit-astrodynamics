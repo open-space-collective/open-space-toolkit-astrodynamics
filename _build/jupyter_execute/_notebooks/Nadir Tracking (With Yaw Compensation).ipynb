{
 "cells": [
  {
   "cell_type": "markdown",
   "metadata": {},
   "source": [
    "# Nadir Tracking (With Yaw Compensation)"
   ]
  },
  {
   "cell_type": "markdown",
   "metadata": {},
   "source": [
    "This tutorial demonstrates how to generate a nadir tracking profile, and generate Yaw-Pitch-Roll (YPR) angles."
   ]
  },
  {
   "cell_type": "markdown",
   "metadata": {},
   "source": [
    "## Setup"
   ]
  },
  {
   "cell_type": "code",
   "execution_count": 1,
   "metadata": {},
   "outputs": [],
   "source": [
    "import math\n",
    "\n",
    "import pandas as pd\n",
    "\n",
    "import plotly.express as px\n",
    "\n",
    "from ostk.mathematics.geometry.d3.transformation.rotation import EulerAngle\n",
    "\n",
    "from ostk.physics import Environment\n",
    "from ostk.physics.unit import Length\n",
    "from ostk.physics.unit import Angle\n",
    "from ostk.physics.time import Scale\n",
    "from ostk.physics.time import Instant\n",
    "from ostk.physics.time import Duration\n",
    "from ostk.physics.time import Interval\n",
    "from ostk.physics.time import DateTime\n",
    "from ostk.physics.time import Time\n",
    "from ostk.physics.coordinate import Frame\n",
    "from ostk.physics.coordinate.spherical import LLA\n",
    "\n",
    "from ostk.astrodynamics import Trajectory\n",
    "from ostk.astrodynamics.trajectory import State\n",
    "from ostk.astrodynamics.trajectory import Orbit\n",
    "from ostk.astrodynamics.trajectory.model import Nadir\n",
    "from ostk.astrodynamics.flight import Profile"
   ]
  },
  {
   "cell_type": "markdown",
   "metadata": {},
   "source": [
    "---"
   ]
  },
  {
   "cell_type": "markdown",
   "metadata": {},
   "source": [
    "## Computation"
   ]
  },
  {
   "cell_type": "markdown",
   "metadata": {},
   "source": [
    "Initialize an environment:"
   ]
  },
  {
   "cell_type": "code",
   "execution_count": 2,
   "metadata": {},
   "outputs": [],
   "source": [
    "environment = Environment.default(True)\n",
    "earth = environment.access_celestial_object_with_name(\"Earth\")"
   ]
  },
  {
   "cell_type": "markdown",
   "metadata": {},
   "source": [
    "Construct an orbit:"
   ]
  },
  {
   "cell_type": "code",
   "execution_count": 3,
   "metadata": {},
   "outputs": [],
   "source": [
    "orbit = Orbit.sun_synchronous(\n",
    "    epoch=Instant.date_time(DateTime(2024, 1, 1, 0, 0, 0), Scale.UTC),\n",
    "    altitude=Length.kilometers(550.0),\n",
    "    local_time_at_descending_node=Time(14, 30, 0),\n",
    "    celestial_object=earth,\n",
    ")"
   ]
  },
  {
   "cell_type": "markdown",
   "metadata": {},
   "source": [
    "Define an interval of interest:"
   ]
  },
  {
   "cell_type": "code",
   "execution_count": 4,
   "metadata": {},
   "outputs": [],
   "source": [
    "interval = Interval.closed(\n",
    "    start_instant=Instant.date_time(DateTime(2024, 1, 1, 0, 0, 0), Scale.UTC),\n",
    "    end_instant=Instant.date_time(DateTime(2024, 1, 1, 2, 0, 0), Scale.UTC),\n",
    ")"
   ]
  },
  {
   "cell_type": "markdown",
   "metadata": {},
   "source": [
    "Construct a Vehicle Velocity, Local Horizontal (VVLH) frame from the orbit:"
   ]
  },
  {
   "cell_type": "code",
   "execution_count": 5,
   "metadata": {},
   "outputs": [],
   "source": [
    "vvlh_frame = orbit.get_orbital_frame(Orbit.FrameType.VVLH)"
   ]
  },
  {
   "cell_type": "markdown",
   "metadata": {},
   "source": [
    "Generate a flight profile:"
   ]
  },
  {
   "cell_type": "code",
   "execution_count": 6,
   "metadata": {},
   "outputs": [],
   "source": [
    "instants = interval.generate_grid(Duration.seconds(20.0))"
   ]
  },
  {
   "cell_type": "code",
   "execution_count": 7,
   "metadata": {},
   "outputs": [],
   "source": [
    "nadir_trajectory = Trajectory(\n",
    "    model=Nadir(\n",
    "        orbit=orbit,\n",
    "    )\n",
    ")"
   ]
  },
  {
   "cell_type": "code",
   "execution_count": 8,
   "metadata": {},
   "outputs": [],
   "source": [
    "uncompensated_profile = Profile.local_orbital_frame_pointing(\n",
    "    orbit=orbit,\n",
    "    orbital_frame_type=Orbit.FrameType.VVLH,\n",
    ")"
   ]
  },
  {
   "cell_type": "code",
   "execution_count": 9,
   "metadata": {},
   "outputs": [],
   "source": [
    "yaw_compensated_profile = Profile.custom_pointing(\n",
    "    orbit=orbit,\n",
    "    alignment_target=Profile.TrajectoryTarget.target_position(\n",
    "        trajectory=nadir_trajectory,\n",
    "        axis=Profile.Axis.Z,\n",
    "    ),\n",
    "    clocking_target=Profile.TrajectoryTarget.target_velocity(\n",
    "        trajectory=nadir_trajectory,\n",
    "        axis=Profile.Axis.X,\n",
    "    ),\n",
    ")"
   ]
  },
  {
   "cell_type": "markdown",
   "metadata": {},
   "source": [
    "Calculate and plot the Yaw-Pitch-Roll (YPR) angles in the VVLH frame during the access:"
   ]
  },
  {
   "cell_type": "code",
   "execution_count": 10,
   "metadata": {},
   "outputs": [],
   "source": [
    "def reduce_angle(angle: Angle):\n",
    "    # Reduce angle to be within the range 0 to 2*pi\n",
    "    reduced_angle = float(angle.in_radians()) % (2 * math.pi)\n",
    "\n",
    "    # If angle is negative, add 2*pi to make it positive\n",
    "    if reduced_angle < 0:\n",
    "        reduced_angle += 2 * math.pi\n",
    "\n",
    "    return Angle.radians(reduced_angle)\n",
    "\n",
    "\n",
    "def calculate_ypr(state: State):\n",
    "    state_vvlh = state.in_frame(vvlh_frame)\n",
    "\n",
    "    q_B_VVLH = state_vvlh.get_attitude()\n",
    "\n",
    "    ypr = EulerAngle.quaternion(q_B_VVLH, EulerAngle.AxisSequence.ZYX)\n",
    "\n",
    "    phi = ypr.phi\n",
    "    theta = ypr.theta\n",
    "    psi = ypr.psi\n",
    "\n",
    "    if phi.in_radians() > Angle.half_pi().in_radians():\n",
    "        phi = reduce_angle(phi + Angle.pi())\n",
    "        theta = reduce_angle(Angle.pi() - theta)\n",
    "        psi = reduce_angle(psi + Angle.pi())\n",
    "\n",
    "    if theta.in_radians() > Angle.pi().in_radians():\n",
    "        theta = theta - Angle.two_pi()\n",
    "\n",
    "    satellite_lla = LLA.cartesian(\n",
    "        cartesian_coordinates=state.in_frame(Frame.ITRF())\n",
    "        .get_position()\n",
    "        .get_coordinates(),\n",
    "        ellipsoid_equatorial_radius=earth.get_equatorial_radius(),\n",
    "        ellipsoid_flattening=earth.get_flattening(),\n",
    "    )\n",
    "\n",
    "    ascending = state.get_velocity().get_coordinates()[2] > 0\n",
    "\n",
    "    return (\n",
    "        state.get_instant().get_date_time(Scale.UTC),\n",
    "        float(satellite_lla.get_longitude().in_degrees()),\n",
    "        float(satellite_lla.get_latitude().in_degrees()),\n",
    "        float(satellite_lla.get_altitude().in_meters()),\n",
    "        float(phi.in_degrees()) if not ascending else float(phi.in_degrees() - 360.0),\n",
    "        float(theta.in_degrees()),\n",
    "        float(psi.in_degrees()),\n",
    "        ascending\n",
    "    )"
   ]
  },
  {
   "cell_type": "code",
   "execution_count": 11,
   "metadata": {},
   "outputs": [
    {
     "data": {
      "application/vnd.plotly.v1+json": {
       "config": {
        "plotlyServerURL": "https://plot.ly"
       },
       "data": [
        {
         "hovertemplate": "Ascending=True<br>Latitude [deg]=%{x}<br>Yaw [deg]=%{y}<extra></extra>",
         "legendgroup": "True",
         "marker": {
          "color": "#636efa",
          "symbol": "circle"
         },
         "mode": "markers",
         "name": "True",
         "orientation": "v",
         "showlegend": true,
         "type": "scatter",
         "x": {
          "bdata": "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",
          "dtype": "f8"
         },
         "xaxis": "x",
         "y": {
          "bdata": "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",
          "dtype": "f8"
         },
         "yaxis": "y"
        },
        {
         "hovertemplate": "Ascending=False<br>Latitude [deg]=%{x}<br>Yaw [deg]=%{y}<extra></extra>",
         "legendgroup": "False",
         "marker": {
          "color": "#EF553B",
          "symbol": "circle"
         },
         "mode": "markers",
         "name": "False",
         "orientation": "v",
         "showlegend": true,
         "type": "scatter",
         "x": {
          "bdata": "SmE9mMmiVEBKZVJ7AJtUQK3fauKthlRADV1cqT1nVEDKnCiBfz5UQPZm+5xDDlRAklUrNCHYU0CLSfmVY51TQD3J0HgNX1NAOHxx7OQdU0CbuSSLgNpSQP16G/ZSlVJA7ERQ6LNOUkDrpA8Q5wZSQPHkgB8hvlFAfbAPhIt0UUB13H8gRypRQBuYRE9u31BADKz8XxaUUEBpn6m0UEhQQOIakDFX+E9AW+z0yWVfT0AlrF/54MVOQJxC517ZK05Ag3LfCV2RTUDtJ47xd/ZMQBJfLVQ0W0xAwQbjApu/S0CPdu6esyNLQHMcQsuEh0pA0G38VBTrSUD6qaFUZ05JQFXyikmCsUhA0t+sMGkUSEBXHJmXH3dHQNiRbqyo2UZAscFGSwc8RkBpJpIJPp5FQB4Xvz9PAEVA1Ax1ET1iRED1P6B0CcRDQFSIfje2JUNAsZvVBUWHQkCzr3Ntt+hBQC3PFeIOSkFAR5bKwEyrQEBhQuRScgxAQFTgE6EB2z5Agr7qxfKcPUCT9tBMul48QCNryFdaIDtADZZR9dThOUA/zAwjLKM4QLYXCNBhZDdAj97D3nclNkApLvcmcOY0QC5QG3dMpzNABlPFlQ5oMkAhXdNCuCgxQDjQ5XCW0i9ADdYIWJJTLUBl58CdZ9QqQM6OA54ZVShALHsvr6vVJUCfcgcjIVYjQJ7MiEd91iBAaX5Ez4atHEBw2Z6X7a0XQEitOnU1rhJA+Dlu5MlcC0ASGPcsBV0BQB8QFEOndO0/sqjQKtkV1b/G1sVWOUX5vxPJCbdtogbAwwdSnhBREMDO1QAX1VAVwNHQlLx9UBrAdzF2AwRQH8AqlU+usCciwCIXU5pHpyTAbNNOecMmJ8CblmD7IKYpwEXXc8xcJSzALqNYk3OkLsDFqln4sJEwwBzJ3z4S0THAezZw5VsQM8BxdfsujE80wKikO1ihjjXAjEGalpnNNsBbM+wWcww4wMqk/vsrSznAym3uXMKJOsAZ3kJDNMg7wLOsw6h/Bj3A/4EAdaJEPsCoEH96moI/wORswbkyYEDAz8cvfwD/QMCDN6JMtZ1BwJretc5PPELASejKnM7aQsB2Odk1MHlDwBLmyvxyF0TAhZpHNJW1RMDn9df5lFNFwKipQkBw8UXADc3+yCSPRsDL444csCxHwJ0qjoEPykfAQUQt8j9nSMARp8sPPgRJwMcyRxQGoUnAuM6BwJM9SsD0LnxH4tlKwIB3OjXsdUvArlBwUKsRTMDhr6l1GK1MwBM1RmorSE3ACygepdriTcALOv4JG31OwBflQZTfFk/A4k+c6xiwT8BA9zluWiRQwAIfc9VOcFDAzlApmty7UMAyoGXn8wZRwG7RuWeBUVHADgXvS22bUcDGoOX+meRRwK1kbWfiLFLAHvh+jBd0UsChIKRf/blSwAlGglxG/lLAVRsxlo1AU8BXR9i9ToBTwFISXsfbvFPAdBijVlD1U8ADIE2fhChUwGUcabMEVVTAouTl2xZ5VMChNqoZ4ZJUwPyPuh26oFTAWhEft9+eVEA=",
          "dtype": "f8"
         },
         "xaxis": "x",
         "y": {
          "bdata": "q8TD4P9/dkCSztxW/392QD7rBM3+f3ZA1i5GQ/5/dkDjWau5/X92QBU4QDD9f3ZA9m0Pp/x/dkBKSiQe/H92QI5cipX7f3ZAwc1MDft/dkDOsHeF+n92QM+mFv75f3ZA/4U1d/l/dkCUl+Dw+H92QN4cJGv4f3ZAQbwM5vd/dkAek6dh9392QHZZAd72f3ZAbmAnW/Z/dkBFzSbZ9X92QCwcDlj1f3ZAc8/q1/R/dkDeI8tY9H92QG4tvtrzf3ZAtD7SXfN/dkCQtRbi8n92QH+6mmfyf3ZAcwVt7vF/dkBUNZ928X92QFUyPwDxf3ZAqHJei/B/dkAV8QwY8H92QGAUW6bvf3ZAv21ZNu9/dkA4cxnI7n92QEPZq1vuf3ZAdSwh8e1/dkAYsouI7X92QA12+yHtf3ZAGTmCvex/dkB9JDFb7H92QLDHGPvrf3ZALw5Lnet/dkC6ANlB6392QDFh0ujqf3ZA621Jkup/dkDRpU0+6n92QLH37uzpf3ZAJMI/nul/dkDcsUxS6X92QFw1Jwnpf3ZARLPdwuh/dkD21X9/6H92QPMvGj/of3ZAstq6Aeh/dkAs/XDH5392QEcKR5Dnf3ZA2udJXOd/dkBYn4Ur5392QHy7BP7mf3ZA/pDR0+Z/dkBrbfas5n92QFLOfInmf3ZA1RxraeZ/dkBWzMhM5n92QBVynzPmf3ZAJCjxHeZ/dkABisUL5n92QE2NIP3lf3ZArl4F8uV/dkBkKHfq5X92QM9+d+blf3ZAvXwG5uV/dkAl6CXp5X92QLVx1O/lf3ZA9UkQ+uV/dkCLFNcH5n92QH+mJRnmf3ZANCX4LeZ/dkBfOUlG5n92QBuaE2Lmf3ZAw4hRgeZ/dkCf7fmj5n92QFcdBsrmf3ZA/gFt8+Z/dkBh2yUg5392QIxnJFDnf3ZAVxxhg+d/dkCdls655392QMZLYPPnf3ZAcloLMOh/dkBIt8Fv6H92QO+xdbLof3ZAJVMZ+Oh/dkBiq51A6X92QONx9Ivpf3ZAM+0N2ul/dkC2DNsq6n92QBTJSX7qf3ZADfNL1Op/dkBNw9As6392QGRBxofrf3ZAM7Md5et/dkBK7MNE7H92QLX0qKbsf3ZABJ66Cu1/dkCO2ehw7X92QLEdIdntf3ZA3hZTQ+5/dkBBTm2v7n92QMApXx3vf3ZAickWje9/dkAnF4P+7392QBFvk3Hwf3ZAgPE35vB/dkAAV19c8X92QK2p+NPxf3ZAGX/0TPJ/dkD+aUPH8n92QKAK1kLzf3ZAq1qbv/N/dkBl8YQ99H92QBEfhLz0f3ZAJ8mJPPV/dkAq0Ie99X92QDS4bz/2f3ZAowk0wvZ/dkBCr8ZF9392QNH5Gcr3f3ZAqh4hT/h/dkD/Zc/U+H92QJW2F1v5f3ZAj+zt4fl/dkD35URp+n92QMu3EfH6f3ZAkIRHeft/dkBIZ9sB/H92QI48wYr8f3ZA5XztE/1/dkDLRlWd/X92QAUO7Sb+f3ZAj8WpsP5/dkBzy4A6/392QOxrZsT/f3ZAh3Gdgv9/dkA=",
          "dtype": "f8"
         },
         "yaxis": "y"
        }
       ],
       "layout": {
        "legend": {
         "title": {
          "text": "Ascending"
         },
         "tracegroupgap": 0
        },
        "template": {
         "data": {
          "bar": [
           {
            "error_x": {
             "color": "#2a3f5f"
            },
            "error_y": {
             "color": "#2a3f5f"
            },
            "marker": {
             "line": {
              "color": "#E5ECF6",
              "width": 0.5
             },
             "pattern": {
              "fillmode": "overlay",
              "size": 10,
              "solidity": 0.2
             }
            },
            "type": "bar"
           }
          ],
          "barpolar": [
           {
            "marker": {
             "line": {
              "color": "#E5ECF6",
              "width": 0.5
             },
             "pattern": {
              "fillmode": "overlay",
              "size": 10,
              "solidity": 0.2
             }
            },
            "type": "barpolar"
           }
          ],
          "carpet": [
           {
            "aaxis": {
             "endlinecolor": "#2a3f5f",
             "gridcolor": "white",
             "linecolor": "white",
             "minorgridcolor": "white",
             "startlinecolor": "#2a3f5f"
            },
            "baxis": {
             "endlinecolor": "#2a3f5f",
             "gridcolor": "white",
             "linecolor": "white",
             "minorgridcolor": "white",
             "startlinecolor": "#2a3f5f"
            },
            "type": "carpet"
           }
          ],
          "choropleth": [
           {
            "colorbar": {
             "outlinewidth": 0,
             "ticks": ""
            },
            "type": "choropleth"
           }
          ],
          "contour": [
           {
            "colorbar": {
             "outlinewidth": 0,
             "ticks": ""
            },
            "colorscale": [
             [
              0.0,
              "#0d0887"
             ],
             [
              0.1111111111111111,
              "#46039f"
             ],
             [
              0.2222222222222222,
              "#7201a8"
             ],
             [
              0.3333333333333333,
              "#9c179e"
             ],
             [
              0.4444444444444444,
              "#bd3786"
             ],
             [
              0.5555555555555556,
              "#d8576b"
             ],
             [
              0.6666666666666666,
              "#ed7953"
             ],
             [
              0.7777777777777778,
              "#fb9f3a"
             ],
             [
              0.8888888888888888,
              "#fdca26"
             ],
             [
              1.0,
              "#f0f921"
             ]
            ],
            "type": "contour"
           }
          ],
          "contourcarpet": [
           {
            "colorbar": {
             "outlinewidth": 0,
             "ticks": ""
            },
            "type": "contourcarpet"
           }
          ],
          "heatmap": [
           {
            "colorbar": {
             "outlinewidth": 0,
             "ticks": ""
            },
            "colorscale": [
             [
              0.0,
              "#0d0887"
             ],
             [
              0.1111111111111111,
              "#46039f"
             ],
             [
              0.2222222222222222,
              "#7201a8"
             ],
             [
              0.3333333333333333,
              "#9c179e"
             ],
             [
              0.4444444444444444,
              "#bd3786"
             ],
             [
              0.5555555555555556,
              "#d8576b"
             ],
             [
              0.6666666666666666,
              "#ed7953"
             ],
             [
              0.7777777777777778,
              "#fb9f3a"
             ],
             [
              0.8888888888888888,
              "#fdca26"
             ],
             [
              1.0,
              "#f0f921"
             ]
            ],
            "type": "heatmap"
           }
          ],
          "histogram": [
           {
            "marker": {
             "pattern": {
              "fillmode": "overlay",
              "size": 10,
              "solidity": 0.2
             }
            },
            "type": "histogram"
           }
          ],
          "histogram2d": [
           {
            "colorbar": {
             "outlinewidth": 0,
             "ticks": ""
            },
            "colorscale": [
             [
              0.0,
              "#0d0887"
             ],
             [
              0.1111111111111111,
              "#46039f"
             ],
             [
              0.2222222222222222,
              "#7201a8"
             ],
             [
              0.3333333333333333,
              "#9c179e"
             ],
             [
              0.4444444444444444,
              "#bd3786"
             ],
             [
              0.5555555555555556,
              "#d8576b"
             ],
             [
              0.6666666666666666,
              "#ed7953"
             ],
             [
              0.7777777777777778,
              "#fb9f3a"
             ],
             [
              0.8888888888888888,
              "#fdca26"
             ],
             [
              1.0,
              "#f0f921"
             ]
            ],
            "type": "histogram2d"
           }
          ],
          "histogram2dcontour": [
           {
            "colorbar": {
             "outlinewidth": 0,
             "ticks": ""
            },
            "colorscale": [
             [
              0.0,
              "#0d0887"
             ],
             [
              0.1111111111111111,
              "#46039f"
             ],
             [
              0.2222222222222222,
              "#7201a8"
             ],
             [
              0.3333333333333333,
              "#9c179e"
             ],
             [
              0.4444444444444444,
              "#bd3786"
             ],
             [
              0.5555555555555556,
              "#d8576b"
             ],
             [
              0.6666666666666666,
              "#ed7953"
             ],
             [
              0.7777777777777778,
              "#fb9f3a"
             ],
             [
              0.8888888888888888,
              "#fdca26"
             ],
             [
              1.0,
              "#f0f921"
             ]
            ],
            "type": "histogram2dcontour"
           }
          ],
          "mesh3d": [
           {
            "colorbar": {
             "outlinewidth": 0,
             "ticks": ""
            },
            "type": "mesh3d"
           }
          ],
          "parcoords": [
           {
            "line": {
             "colorbar": {
              "outlinewidth": 0,
              "ticks": ""
             }
            },
            "type": "parcoords"
           }
          ],
          "pie": [
           {
            "automargin": true,
            "type": "pie"
           }
          ],
          "scatter": [
           {
            "fillpattern": {
             "fillmode": "overlay",
             "size": 10,
             "solidity": 0.2
            },
            "type": "scatter"
           }
          ],
          "scatter3d": [
           {
            "line": {
             "colorbar": {
              "outlinewidth": 0,
              "ticks": ""
             }
            },
            "marker": {
             "colorbar": {
              "outlinewidth": 0,
              "ticks": ""
             }
            },
            "type": "scatter3d"
           }
          ],
          "scattercarpet": [
           {
            "marker": {
             "colorbar": {
              "outlinewidth": 0,
              "ticks": ""
             }
            },
            "type": "scattercarpet"
           }
          ],
          "scattergeo": [
           {
            "marker": {
             "colorbar": {
              "outlinewidth": 0,
              "ticks": ""
             }
            },
            "type": "scattergeo"
           }
          ],
          "scattergl": [
           {
            "marker": {
             "colorbar": {
              "outlinewidth": 0,
              "ticks": ""
             }
            },
            "type": "scattergl"
           }
          ],
          "scattermap": [
           {
            "marker": {
             "colorbar": {
              "outlinewidth": 0,
              "ticks": ""
             }
            },
            "type": "scattermap"
           }
          ],
          "scattermapbox": [
           {
            "marker": {
             "colorbar": {
              "outlinewidth": 0,
              "ticks": ""
             }
            },
            "type": "scattermapbox"
           }
          ],
          "scatterpolar": [
           {
            "marker": {
             "colorbar": {
              "outlinewidth": 0,
              "ticks": ""
             }
            },
            "type": "scatterpolar"
           }
          ],
          "scatterpolargl": [
           {
            "marker": {
             "colorbar": {
              "outlinewidth": 0,
              "ticks": ""
             }
            },
            "type": "scatterpolargl"
           }
          ],
          "scatterternary": [
           {
            "marker": {
             "colorbar": {
              "outlinewidth": 0,
              "ticks": ""
             }
            },
            "type": "scatterternary"
           }
          ],
          "surface": [
           {
            "colorbar": {
             "outlinewidth": 0,
             "ticks": ""
            },
            "colorscale": [
             [
              0.0,
              "#0d0887"
             ],
             [
              0.1111111111111111,
              "#46039f"
             ],
             [
              0.2222222222222222,
              "#7201a8"
             ],
             [
              0.3333333333333333,
              "#9c179e"
             ],
             [
              0.4444444444444444,
              "#bd3786"
             ],
             [
              0.5555555555555556,
              "#d8576b"
             ],
             [
              0.6666666666666666,
              "#ed7953"
             ],
             [
              0.7777777777777778,
              "#fb9f3a"
             ],
             [
              0.8888888888888888,
              "#fdca26"
             ],
             [
              1.0,
              "#f0f921"
             ]
            ],
            "type": "surface"
           }
          ],
          "table": [
           {
            "cells": {
             "fill": {
              "color": "#EBF0F8"
             },
             "line": {
              "color": "white"
             }
            },
            "header": {
             "fill": {
              "color": "#C8D4E3"
             },
             "line": {
              "color": "white"
             }
            },
            "type": "table"
           }
          ]
         },
         "layout": {
          "annotationdefaults": {
           "arrowcolor": "#2a3f5f",
           "arrowhead": 0,
           "arrowwidth": 1
          },
          "autotypenumbers": "strict",
          "coloraxis": {
           "colorbar": {
            "outlinewidth": 0,
            "ticks": ""
           }
          },
          "colorscale": {
           "diverging": [
            [
             0,
             "#8e0152"
            ],
            [
             0.1,
             "#c51b7d"
            ],
            [
             0.2,
             "#de77ae"
            ],
            [
             0.3,
             "#f1b6da"
            ],
            [
             0.4,
             "#fde0ef"
            ],
            [
             0.5,
             "#f7f7f7"
            ],
            [
             0.6,
             "#e6f5d0"
            ],
            [
             0.7,
             "#b8e186"
            ],
            [
             0.8,
             "#7fbc41"
            ],
            [
             0.9,
             "#4d9221"
            ],
            [
             1,
             "#276419"
            ]
           ],
           "sequential": [
            [
             0.0,
             "#0d0887"
            ],
            [
             0.1111111111111111,
             "#46039f"
            ],
            [
             0.2222222222222222,
             "#7201a8"
            ],
            [
             0.3333333333333333,
             "#9c179e"
            ],
            [
             0.4444444444444444,
             "#bd3786"
            ],
            [
             0.5555555555555556,
             "#d8576b"
            ],
            [
             0.6666666666666666,
             "#ed7953"
            ],
            [
             0.7777777777777778,
             "#fb9f3a"
            ],
            [
             0.8888888888888888,
             "#fdca26"
            ],
            [
             1.0,
             "#f0f921"
            ]
           ],
           "sequentialminus": [
            [
             0.0,
             "#0d0887"
            ],
            [
             0.1111111111111111,
             "#46039f"
            ],
            [
             0.2222222222222222,
             "#7201a8"
            ],
            [
             0.3333333333333333,
             "#9c179e"
            ],
            [
             0.4444444444444444,
             "#bd3786"
            ],
            [
             0.5555555555555556,
             "#d8576b"
            ],
            [
             0.6666666666666666,
             "#ed7953"
            ],
            [
             0.7777777777777778,
             "#fb9f3a"
            ],
            [
             0.8888888888888888,
             "#fdca26"
            ],
            [
             1.0,
             "#f0f921"
            ]
           ]
          },
          "colorway": [
           "#636efa",
           "#EF553B",
           "#00cc96",
           "#ab63fa",
           "#FFA15A",
           "#19d3f3",
           "#FF6692",
           "#B6E880",
           "#FF97FF",
           "#FECB52"
          ],
          "font": {
           "color": "#2a3f5f"
          },
          "geo": {
           "bgcolor": "white",
           "lakecolor": "white",
           "landcolor": "#E5ECF6",
           "showlakes": true,
           "showland": true,
           "subunitcolor": "white"
          },
          "hoverlabel": {
           "align": "left"
          },
          "hovermode": "closest",
          "mapbox": {
           "style": "light"
          },
          "paper_bgcolor": "white",
          "plot_bgcolor": "#E5ECF6",
          "polar": {
           "angularaxis": {
            "gridcolor": "white",
            "linecolor": "white",
            "ticks": ""
           },
           "bgcolor": "#E5ECF6",
           "radialaxis": {
            "gridcolor": "white",
            "linecolor": "white",
            "ticks": ""
           }
          },
          "scene": {
           "xaxis": {
            "backgroundcolor": "#E5ECF6",
            "gridcolor": "white",
            "gridwidth": 2,
            "linecolor": "white",
            "showbackground": true,
            "ticks": "",
            "zerolinecolor": "white"
           },
           "yaxis": {
            "backgroundcolor": "#E5ECF6",
            "gridcolor": "white",
            "gridwidth": 2,
            "linecolor": "white",
            "showbackground": true,
            "ticks": "",
            "zerolinecolor": "white"
           },
           "zaxis": {
            "backgroundcolor": "#E5ECF6",
            "gridcolor": "white",
            "gridwidth": 2,
            "linecolor": "white",
            "showbackground": true,
            "ticks": "",
            "zerolinecolor": "white"
           }
          },
          "shapedefaults": {
           "line": {
            "color": "#2a3f5f"
           }
          },
          "ternary": {
           "aaxis": {
            "gridcolor": "white",
            "linecolor": "white",
            "ticks": ""
           },
           "baxis": {
            "gridcolor": "white",
            "linecolor": "white",
            "ticks": ""
           },
           "bgcolor": "#E5ECF6",
           "caxis": {
            "gridcolor": "white",
            "linecolor": "white",
            "ticks": ""
           }
          },
          "title": {
           "x": 0.05
          },
          "xaxis": {
           "automargin": true,
           "gridcolor": "white",
           "linecolor": "white",
           "ticks": "",
           "title": {
            "standoff": 15
           },
           "zerolinecolor": "white",
           "zerolinewidth": 2
          },
          "yaxis": {
           "automargin": true,
           "gridcolor": "white",
           "linecolor": "white",
           "ticks": "",
           "title": {
            "standoff": 15
           },
           "zerolinecolor": "white",
           "zerolinewidth": 2
          }
         }
        },
        "title": {
         "text": "Yaw Evolution by Latitude"
        },
        "xaxis": {
         "anchor": "y",
         "domain": [
          0.0,
          1.0
         ],
         "title": {
          "text": "Latitude [deg]"
         }
        },
        "yaxis": {
         "anchor": "x",
         "domain": [
          0.0,
          1.0
         ],
         "title": {
          "text": "Yaw [deg]"
         }
        }
       }
      }
     },
     "metadata": {},
     "output_type": "display_data"
    }
   ],
   "source": [
    "yprs = pd.DataFrame(\n",
    "    data=[\n",
    "        calculate_ypr(state)\n",
    "        for state in yaw_compensated_profile.get_states_at(\n",
    "            instants=instants,\n",
    "        )\n",
    "    ],\n",
    "    columns=[\n",
    "        \"Timestamp\",\n",
    "        \"Longitude [deg]\",\n",
    "        \"Latitude [deg]\",\n",
    "        \"Altitude [m]\",\n",
    "        \"Yaw [deg]\",\n",
    "        \"Pitch [deg]\",\n",
    "        \"Roll [deg]\",\n",
    "        \"Ascending\"\n",
    "    ],\n",
    ")\n",
    "\n",
    "px.scatter(\n",
    "    yprs,\n",
    "    x=\"Latitude [deg]\",\n",
    "    y=\"Yaw [deg]\",\n",
    "    title=\"Yaw Evolution by Latitude\",\n",
    "    color=\"Ascending\",\n",
    ")"
   ]
  },
  {
   "cell_type": "markdown",
   "metadata": {},
   "source": [
    "---"
   ]
  }
 ],
 "metadata": {
  "kernelspec": {
   "display_name": "Python 3 (ipykernel)",
   "language": "python",
   "name": "python3"
  },
  "language_info": {
   "codemirror_mode": {
    "name": "ipython",
    "version": 3
   },
   "file_extension": ".py",
   "mimetype": "text/x-python",
   "name": "python",
   "nbconvert_exporter": "python",
   "pygments_lexer": "ipython3",
   "version": "3.11.11"
  }
 },
 "nbformat": 4,
 "nbformat_minor": 4
}