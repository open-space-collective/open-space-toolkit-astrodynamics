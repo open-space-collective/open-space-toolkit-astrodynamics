{
 "cells": [
  {
   "cell_type": "markdown",
   "id": "e534d30d-d327-4a12-b8b3-20dcbdd55ec1",
   "metadata": {},
   "source": [
    "# Orbit Determination\n",
    "In this notebook, we solve a simple orbit determination problem of estimating an orbit to some sample GNSS data."
   ]
  },
  {
   "cell_type": "code",
   "execution_count": 1,
   "id": "a91e25a9-3e9c-4978-a137-5a966dc7b8c2",
   "metadata": {},
   "outputs": [],
   "source": [
    "import pandas as pd\n",
    "\n",
    "import plotly.express as px\n",
    "\n",
    "import numpy as np\n",
    "\n",
    "from ostk.physics import Environment\n",
    "from ostk.physics.coordinate import Frame\n",
    "from ostk.physics.environment.object.celestial import Earth\n",
    "from ostk.physics.environment.object.celestial import Moon\n",
    "from ostk.physics.environment.object.celestial import Sun\n",
    "\n",
    "from ostk.astrodynamics.estimator import OrbitDeterminationSolver\n",
    "from ostk.astrodynamics.trajectory import State\n",
    "from ostk.astrodynamics.solver import LeastSquaresSolver\n",
    "from ostk.astrodynamics.trajectory.state import NumericalSolver\n",
    "from ostk.astrodynamics.dataframe import generate_states_from_dataframe\n",
    "from ostk.astrodynamics.converters import coerce_to_datetime"
   ]
  },
  {
   "cell_type": "markdown",
   "id": "83516064-b986-452a-8fe5-db9cd89f1d33",
   "metadata": {},
   "source": [
    "## Setup environment\n",
    "We setup an environment with Earth as the central celestial object\n",
    "- EGM96 10x10\n",
    "- No atmospheric drag\n",
    "- Third body perturbations from the Sun and the Moon"
   ]
  },
  {
   "cell_type": "code",
   "execution_count": 2,
   "id": "cb0e7f9c-5efb-4897-a3ce-f8c5309bbce5",
   "metadata": {},
   "outputs": [],
   "source": [
    "environment: Environment = Environment(\n",
    "    central_celestial_object=Earth.EGM96(10, 10),\n",
    "    objects=[Moon.default(), Sun.default()]\n",
    ")"
   ]
  },
  {
   "cell_type": "code",
   "execution_count": 3,
   "id": "3cc2f232-ea9a-46b5-a3fd-4c300d978620",
   "metadata": {},
   "outputs": [],
   "source": [
    "orbit_determination_solver: OrbitDeterminationSolver = OrbitDeterminationSolver(\n",
    "    environment=environment,\n",
    "    numerical_solver=NumericalSolver.default(),\n",
    "    solver=LeastSquaresSolver.default(),\n",
    ")"
   ]
  },
  {
   "cell_type": "markdown",
   "id": "3be2c9c7-2420-4341-831b-88f0359929b4",
   "metadata": {},
   "source": [
    "## Load sample data\n",
    "Sample GNSS telemetry in the ITRF frame"
   ]
  },
  {
   "cell_type": "code",
   "execution_count": 4,
   "id": "396394e5-300d-4799-bec7-b6d11b94f9f2",
   "metadata": {},
   "outputs": [],
   "source": [
    "gnss_data = pd.DataFrame(\n",
    "  [\n",
    "    {\n",
    "      \"Timestamp\": \"2022-09-10T00:00:00.537\",\n",
    "      \"r_ITRF_x\": -1016988.4,\n",
    "      \"v_ITRF_x\": -6440.7055664062,\n",
    "      \"v_ITRF_z\": -1946.8566894531,\n",
    "      \"r_ITRF_y\": -1698967.28,\n",
    "      \"v_ITRF_y\": -3691.6062011719,\n",
    "      \"r_ITRF_z\": 6597796.2199999997\n",
    "    },\n",
    "    {\n",
    "      \"Timestamp\": \"2022-09-10T00:01:00.537\",\n",
    "      \"r_ITRF_x\": -1401893.8,\n",
    "      \"v_ITRF_x\": -6384.5068359375,\n",
    "      \"v_ITRF_z\": -2423.8815917969,\n",
    "      \"r_ITRF_y\": -1914926.0600000001,\n",
    "      \"v_ITRF_y\": -3504.4743652344,\n",
    "      \"r_ITRF_z\": 6466623.4699999997\n",
    "    },\n",
    "    {\n",
    "      \"Timestamp\": \"2022-09-10T00:02:00.537\",\n",
    "      \"r_ITRF_x\": -1782540.96,\n",
    "      \"v_ITRF_x\": -6298.8227539062,\n",
    "      \"v_ITRF_z\": -2890.572265625,\n",
    "      \"r_ITRF_y\": -2119207.3999999999,\n",
    "      \"v_ITRF_y\": -3302.5617675781,\n",
    "      \"r_ITRF_z\": 6307130.9400000004\n",
    "    },\n",
    "    {\n",
    "      \"Timestamp\": \"2022-09-10T00:04:59.537\",\n",
    "      \"r_ITRF_x\": -2875526.4500000002,\n",
    "      \"v_ITRF_x\": -5870.8212890625,\n",
    "      \"v_ITRF_z\": -4200.7197265625,\n",
    "      \"r_ITRF_y\": -2651245.2000000002,\n",
    "      \"v_ITRF_y\": -2624.5534667969,\n",
    "      \"r_ITRF_z\": 5670406.9900000002\n",
    "    },\n",
    "    {\n",
    "      \"Timestamp\": \"2022-09-10T00:05:00.537\",\n",
    "      \"r_ITRF_x\": -2881395.6899999999,\n",
    "      \"v_ITRF_x\": -5867.7138671875,\n",
    "      \"v_ITRF_z\": -4207.5874023438,\n",
    "      \"r_ITRF_y\": -2653867.7200000002,\n",
    "      \"v_ITRF_y\": -2620.478515625,\n",
    "      \"r_ITRF_z\": 5666202.8399999999\n",
    "    },\n",
    "    {\n",
    "      \"Timestamp\": \"2022-09-10T00:06:00.537\",\n",
    "      \"r_ITRF_x\": -3227593.21,\n",
    "      \"v_ITRF_x\": -5667.6708984375,\n",
    "      \"v_ITRF_z\": -4612.5078125,\n",
    "      \"r_ITRF_y\": -2803680.5899999999,\n",
    "      \"v_ITRF_y\": -2371.7475585938,\n",
    "      \"r_ITRF_z\": 5401503.0199999996\n",
    "    },\n",
    "    {\n",
    "      \"Timestamp\": \"2022-09-10T00:07:00.537\",\n",
    "      \"r_ITRF_x\": -3560975.0099999998,\n",
    "      \"v_ITRF_x\": -5440.666015625,\n",
    "      \"v_ITRF_z\": -4997.3012695312,\n",
    "      \"r_ITRF_y\": -2938306.2599999998,\n",
    "      \"v_ITRF_y\": -2114.4851074219,\n",
    "      \"r_ITRF_z\": 5113105.0499999998\n",
    "    },\n",
    "    {\n",
    "      \"Timestamp\": \"2022-09-10T00:11:18.537\",\n",
    "      \"r_ITRF_x\": -4811601.4199999999,\n",
    "      \"v_ITRF_x\": -4181.2783203125,\n",
    "      \"v_ITRF_z\": -6383.759765625,\n",
    "      \"r_ITRF_y\": -3334481.5099999998,\n",
    "      \"v_ITRF_y\": -943.7043457031,\n",
    "      \"r_ITRF_z\": 3634961.1600000001\n",
    "    },\n",
    "    {\n",
    "      \"Timestamp\": \"2022-09-10T00:12:00.537\",\n",
    "      \"r_ITRF_x\": -4982122.6600000001,\n",
    "      \"v_ITRF_x\": -3937.1262207031,\n",
    "      \"v_ITRF_z\": -6563.2080078125,\n",
    "      \"r_ITRF_y\": -3370012.2599999998,\n",
    "      \"v_ITRF_y\": -748.1647949219,\n",
    "      \"r_ITRF_z\": 3363025.0299999998\n",
    "    },\n",
    "    {\n",
    "      \"Timestamp\": \"2022-09-10T00:13:00.537\",\n",
    "      \"r_ITRF_x\": -5207480.3899999997,\n",
    "      \"v_ITRF_x\": -3571.6452636719,\n",
    "      \"v_ITRF_z\": -6795.056640625,\n",
    "      \"r_ITRF_y\": -3406514.5600000001,\n",
    "      \"v_ITRF_y\": -468.665222168,\n",
    "      \"r_ITRF_z\": 2962129.3199999998\n",
    "    },\n",
    "    {\n",
    "      \"Timestamp\": \"2022-09-10T00:14:33.537\",\n",
    "      \"r_ITRF_x\": -5511988.8300000001,\n",
    "      \"v_ITRF_x\": -2970.1599121094,\n",
    "      \"v_ITRF_z\": -7095.07421875,\n",
    "      \"r_ITRF_y\": -3430052.2799999998,\n",
    "      \"v_ITRF_y\": -38.3974189758,\n",
    "      \"r_ITRF_z\": 2315670.1800000002\n",
    "    }\n",
    "  ]\n",
    ")"
   ]
  },
  {
   "cell_type": "code",
   "execution_count": 5,
   "id": "17c0c0bc-14dc-4726-9d3a-2a1fc3509ae9",
   "metadata": {},
   "outputs": [],
   "source": [
    "observations: list[State] = generate_states_from_dataframe(gnss_data, reference_frame=Frame.ITRF())"
   ]
  },
  {
   "cell_type": "markdown",
   "id": "77a16177-0828-449b-968f-dc001f93ff23",
   "metadata": {},
   "source": [
    "## Solve\n",
    "Using the first observation as an initial guess, generate an orbit determination analysis with an estimated state"
   ]
  },
  {
   "cell_type": "code",
   "execution_count": 6,
   "id": "0f23bf1b-5325-443e-8f75-09330bbd743f",
   "metadata": {},
   "outputs": [],
   "source": [
    "initial_guess_state: State = observations[0]"
   ]
  },
  {
   "cell_type": "code",
   "execution_count": 7,
   "id": "673d1ff2-99c0-463b-abde-2c13f3e082c8",
   "metadata": {},
   "outputs": [],
   "source": [
    "analysis: OrbitDeterminationSolver.Analysis = orbit_determination_solver.estimate(\n",
    "    initial_guess=initial_guess_state,\n",
    "    observations=observations,\n",
    ")"
   ]
  },
  {
   "cell_type": "code",
   "execution_count": 8,
   "id": "4aefff77-b35f-4cc9-86a2-ac21bc5886a4",
   "metadata": {},
   "outputs": [
    {
     "name": "stdout",
     "output_type": "stream",
     "text": [
      "-- Orbit Determination Solver Analysis -------------------------------------------------------------\n",
      "    Estimated State - - - - - - - - - - - - - - - - - - - - - - - - - - - - - - - - - - - - - - - - \n",
      "    Instant:                                 2022-09-10 00:00:00.537 [UTC]            \n",
      "    Frame:                                   GCRF                                     \n",
      "    CARTESIAN_POSITION                       [-1315154.2247, -1467133.1199, 6600721.3522] \n",
      "    CARTESIAN_VELOCITY                       [-6935.4440, -2458.0728, -1931.5970]     \n",
      "    Analysis - - - - - - - - - - - - - - - - - - - - - - - - - - - - - - - - - - - - - - - - - - - \n",
      "-- Least Squares Solver Analysis -------------------------------------------------------------------\n",
      "    RMS Error:                               1.52384                                  \n",
      "    Iteration Count:                         3                                        \n",
      "    Termination Criteria:                    RMS Update Threshold                     \n",
      "    Estimated State - - - - - - - - - - - - - - - - - - - - - - - - - - - - - - - - - - - - - - - - \n",
      "    Instant:                                 2022-09-10 00:00:00.537 [UTC]            \n",
      "    Frame:                                   GCRF                                     \n",
      "    CARTESIAN_POSITION                       [-1315154.2247, -1467133.1199, 6600721.3522] \n",
      "    CARTESIAN_VELOCITY                       [-6935.4440, -2458.0728, -1931.5970]     \n",
      "    Steps - - - - - - - - - - - - - - - - - - - - - - - - - - - - - - - - - - - - - - - - - - - - - \n",
      "    RMS Error:                               39.8482                                  \n",
      "    X Hat:                                   [-0.3475, -1.6514, -3.2836, -0.0218, -0.0206, 0.0630] \n",
      "    RMS Error:                               1.52384                                  \n",
      "    X Hat:                                   [0.0000, 0.0000, -0.0000, -0.0000, -0.0000, 0.0000] \n",
      "    RMS Error:                               1.52384                                  \n",
      "    X Hat:                                   [0.0000, 0.0000, 0.0000, -0.0000, -0.0000, -0.0000] \n",
      "----------------------------------------------------------------------------------------------------\n",
      "----------------------------------------------------------------------------------------------------\n",
      "----------------------------------------------------------------------------------------------------\n",
      "\n"
     ]
    }
   ],
   "source": [
    "print(analysis)"
   ]
  },
  {
   "cell_type": "code",
   "execution_count": 9,
   "id": "6aaa432a-9753-4114-a788-49b5711e7d6e",
   "metadata": {},
   "outputs": [],
   "source": [
    "residuals = analysis.solver_analysis.compute_residual_states(observations)\n",
    "\n",
    "data = []\n",
    "for residual in residuals:\n",
    "    data.append(\n",
    "        {\n",
    "            \"timestamp\": coerce_to_datetime(residual.get_instant()),\n",
    "            \"dr [m]\": np.linalg.norm(residual.get_position().get_coordinates()),\n",
    "        }\n",
    "    )"
   ]
  },
  {
   "cell_type": "code",
   "execution_count": 10,
   "id": "0c6798a2-d926-46b9-af49-baf1b6206249",
   "metadata": {},
   "outputs": [
    {
     "data": {
      "image/svg+xml": [
       "<svg class=\"main-svg\" xmlns=\"http://www.w3.org/2000/svg\" xmlns:xlink=\"http://www.w3.org/1999/xlink\" width=\"700\" height=\"500\" style=\"\" viewBox=\"0 0 700 500\"><rect x=\"0\" y=\"0\" width=\"700\" height=\"500\" style=\"fill: rgb(255, 255, 255); fill-opacity: 1;\"/><defs id=\"defs-5e7d24\"><g class=\"clips\"><clipPath id=\"clip5e7d24xyplot\" class=\"plotclip\"><rect width=\"540\" height=\"320\"/></clipPath><clipPath class=\"axesclip\" id=\"clip5e7d24x\"><rect x=\"80\" y=\"0\" width=\"540\" height=\"500\"/></clipPath><clipPath class=\"axesclip\" id=\"clip5e7d24y\"><rect x=\"0\" y=\"100\" width=\"700\" height=\"320\"/></clipPath><clipPath class=\"axesclip\" id=\"clip5e7d24xy\"><rect x=\"80\" y=\"100\" width=\"540\" height=\"320\"/></clipPath></g><g class=\"gradients\"/><g class=\"patterns\"/></defs><g class=\"bglayer\"><rect class=\"bg\" x=\"80\" y=\"100\" width=\"540\" height=\"320\" style=\"fill: rgb(229, 236, 246); fill-opacity: 1; stroke-width: 0;\"/></g><g class=\"layer-below\"><g class=\"imagelayer\"/><g class=\"shapelayer\"/></g><g class=\"cartesianlayer\"><g class=\"subplot xy\"><g class=\"layer-subplot\"><g class=\"shapelayer\"/><g class=\"imagelayer\"/></g><g class=\"minor-gridlayer\"><g class=\"x\"/><g class=\"y\"/></g><g class=\"gridlayer\"><g class=\"x\"><path class=\"xgrid crisp\" transform=\"translate(110.46000000000001,0)\" d=\"M0,100v320\" style=\"stroke: rgb(255, 255, 255); stroke-opacity: 1; stroke-width: 1px;\"/><path class=\"xgrid crisp\" transform=\"translate(274.89,0)\" d=\"M0,100v320\" style=\"stroke: rgb(255, 255, 255); stroke-opacity: 1; stroke-width: 1px;\"/><path class=\"xgrid crisp\" transform=\"translate(439.32,0)\" d=\"M0,100v320\" style=\"stroke: rgb(255, 255, 255); stroke-opacity: 1; stroke-width: 1px;\"/><path class=\"xgrid crisp\" transform=\"translate(603.75,0)\" d=\"M0,100v320\" style=\"stroke: rgb(255, 255, 255); stroke-opacity: 1; stroke-width: 1px;\"/></g><g class=\"y\"><path class=\"ygrid crisp\" transform=\"translate(0,409.81)\" d=\"M80,0h540\" style=\"stroke: rgb(255, 255, 255); stroke-opacity: 1; stroke-width: 1px;\"/><path class=\"ygrid crisp\" transform=\"translate(0,364.38)\" d=\"M80,0h540\" style=\"stroke: rgb(255, 255, 255); stroke-opacity: 1; stroke-width: 1px;\"/><path class=\"ygrid crisp\" transform=\"translate(0,318.94)\" d=\"M80,0h540\" style=\"stroke: rgb(255, 255, 255); stroke-opacity: 1; stroke-width: 1px;\"/><path class=\"ygrid crisp\" transform=\"translate(0,273.5)\" d=\"M80,0h540\" style=\"stroke: rgb(255, 255, 255); stroke-opacity: 1; stroke-width: 1px;\"/><path class=\"ygrid crisp\" transform=\"translate(0,228.06)\" d=\"M80,0h540\" style=\"stroke: rgb(255, 255, 255); stroke-opacity: 1; stroke-width: 1px;\"/><path class=\"ygrid crisp\" transform=\"translate(0,182.63)\" d=\"M80,0h540\" style=\"stroke: rgb(255, 255, 255); stroke-opacity: 1; stroke-width: 1px;\"/><path class=\"ygrid crisp\" transform=\"translate(0,137.19)\" d=\"M80,0h540\" style=\"stroke: rgb(255, 255, 255); stroke-opacity: 1; stroke-width: 1px;\"/></g></g><g class=\"zerolinelayer\"/><g class=\"layer-between\"><g class=\"shapelayer\"/><g class=\"imagelayer\"/></g><path class=\"xlines-below\"/><path class=\"ylines-below\"/><g class=\"overlines-below\"/><g class=\"xaxislayer-below\"/><g class=\"yaxislayer-below\"/><g class=\"overaxes-below\"/><g class=\"overplot\"><g class=\"xy\" transform=\"translate(80,100)\" clip-path=\"url(#clip5e7d24xyplot)\"><g class=\"scatterlayer mlayer\"><g class=\"trace scatter tracec61d08\" style=\"stroke-miterlimit: 2; opacity: 1;\"><g class=\"fills\"/><g class=\"errorbars\"/><g class=\"lines\"/><g class=\"points\"><path class=\"point\" transform=\"translate(30.75,19.75)\" d=\"M3,0A3,3 0 1,1 0,-3A3,3 0 0,1 3,0Z\" style=\"opacity: 1; stroke-width: 0px; fill: rgb(99, 110, 250); fill-opacity: 1;\"/><path class=\"point\" transform=\"translate(63.64,254.97)\" d=\"M3,0A3,3 0 1,1 0,-3A3,3 0 0,1 3,0Z\" style=\"opacity: 1; stroke-width: 0px; fill: rgb(99, 110, 250); fill-opacity: 1;\"/><path class=\"point\" transform=\"translate(96.52,300.25)\" d=\"M3,0A3,3 0 1,1 0,-3A3,3 0 0,1 3,0Z\" style=\"opacity: 1; stroke-width: 0px; fill: rgb(99, 110, 250); fill-opacity: 1;\"/><path class=\"point\" transform=\"translate(194.63,218.95)\" d=\"M3,0A3,3 0 1,1 0,-3A3,3 0 0,1 3,0Z\" style=\"opacity: 1; stroke-width: 0px; fill: rgb(99, 110, 250); fill-opacity: 1;\"/><path class=\"point\" transform=\"translate(195.18,219.94)\" d=\"M3,0A3,3 0 1,1 0,-3A3,3 0 0,1 3,0Z\" style=\"opacity: 1; stroke-width: 0px; fill: rgb(99, 110, 250); fill-opacity: 1;\"/><path class=\"point\" transform=\"translate(228.07,225.6)\" d=\"M3,0A3,3 0 1,1 0,-3A3,3 0 0,1 3,0Z\" style=\"opacity: 1; stroke-width: 0px; fill: rgb(99, 110, 250); fill-opacity: 1;\"/><path class=\"point\" transform=\"translate(260.96,286.2)\" d=\"M3,0A3,3 0 1,1 0,-3A3,3 0 0,1 3,0Z\" style=\"opacity: 1; stroke-width: 0px; fill: rgb(99, 110, 250); fill-opacity: 1;\"/><path class=\"point\" transform=\"translate(402.37,278.88)\" d=\"M3,0A3,3 0 1,1 0,-3A3,3 0 0,1 3,0Z\" style=\"opacity: 1; stroke-width: 0px; fill: rgb(99, 110, 250); fill-opacity: 1;\"/><path class=\"point\" transform=\"translate(425.39,289.82)\" d=\"M3,0A3,3 0 1,1 0,-3A3,3 0 0,1 3,0Z\" style=\"opacity: 1; stroke-width: 0px; fill: rgb(99, 110, 250); fill-opacity: 1;\"/><path class=\"point\" transform=\"translate(458.28,284.98)\" d=\"M3,0A3,3 0 1,1 0,-3A3,3 0 0,1 3,0Z\" style=\"opacity: 1; stroke-width: 0px; fill: rgb(99, 110, 250); fill-opacity: 1;\"/><path class=\"point\" transform=\"translate(509.25,247.38)\" d=\"M3,0A3,3 0 1,1 0,-3A3,3 0 0,1 3,0Z\" style=\"opacity: 1; stroke-width: 0px; fill: rgb(99, 110, 250); fill-opacity: 1;\"/></g><g class=\"text\"/></g></g></g></g><path class=\"xlines-above crisp\" d=\"M0,0\" style=\"fill: none;\"/><path class=\"ylines-above crisp\" d=\"M0,0\" style=\"fill: none;\"/><g class=\"overlines-above\"/><g class=\"xaxislayer-above\"><g class=\"xtick\"><text text-anchor=\"middle\" x=\"0\" y=\"433\" transform=\"translate(110.46000000000001,0)\" style=\"font-family: 'Open Sans', verdana, arial, sans-serif; font-size: 12px; fill: rgb(42, 63, 95); fill-opacity: 1; white-space: pre; opacity: 1;\"><tspan class=\"line\" dy=\"0em\" x=\"0\" y=\"433\">00:00</tspan><tspan class=\"line\" dy=\"1.3em\" x=\"0\" y=\"433\">Sep 10, 2022</tspan></text></g><g class=\"xtick\"><text text-anchor=\"middle\" x=\"0\" y=\"433\" style=\"font-family: 'Open Sans', verdana, arial, sans-serif; font-size: 12px; fill: rgb(42, 63, 95); fill-opacity: 1; white-space: pre; opacity: 1;\" transform=\"translate(274.89,0)\">00:05</text></g><g class=\"xtick\"><text text-anchor=\"middle\" x=\"0\" y=\"433\" style=\"font-family: 'Open Sans', verdana, arial, sans-serif; font-size: 12px; fill: rgb(42, 63, 95); fill-opacity: 1; white-space: pre; opacity: 1;\" transform=\"translate(439.32,0)\">00:10</text></g><g class=\"xtick\"><text text-anchor=\"middle\" x=\"0\" y=\"433\" style=\"font-family: 'Open Sans', verdana, arial, sans-serif; font-size: 12px; fill: rgb(42, 63, 95); fill-opacity: 1; white-space: pre; opacity: 1;\" transform=\"translate(603.75,0)\">00:15</text></g></g><g class=\"yaxislayer-above\"><g class=\"ytick\"><text text-anchor=\"end\" x=\"79\" y=\"4.199999999999999\" transform=\"translate(0,409.81)\" style=\"font-family: 'Open Sans', verdana, arial, sans-serif; font-size: 12px; fill: rgb(42, 63, 95); fill-opacity: 1; white-space: pre; opacity: 1;\">0.5</text></g><g class=\"ytick\"><text text-anchor=\"end\" x=\"79\" y=\"4.199999999999999\" style=\"font-family: 'Open Sans', verdana, arial, sans-serif; font-size: 12px; fill: rgb(42, 63, 95); fill-opacity: 1; white-space: pre; opacity: 1;\" transform=\"translate(0,364.38)\">1</text></g><g class=\"ytick\"><text text-anchor=\"end\" x=\"79\" y=\"4.199999999999999\" style=\"font-family: 'Open Sans', verdana, arial, sans-serif; font-size: 12px; fill: rgb(42, 63, 95); fill-opacity: 1; white-space: pre; opacity: 1;\" transform=\"translate(0,318.94)\">1.5</text></g><g class=\"ytick\"><text text-anchor=\"end\" x=\"79\" y=\"4.199999999999999\" style=\"font-family: 'Open Sans', verdana, arial, sans-serif; font-size: 12px; fill: rgb(42, 63, 95); fill-opacity: 1; white-space: pre; opacity: 1;\" transform=\"translate(0,273.5)\">2</text></g><g class=\"ytick\"><text text-anchor=\"end\" x=\"79\" y=\"4.199999999999999\" style=\"font-family: 'Open Sans', verdana, arial, sans-serif; font-size: 12px; fill: rgb(42, 63, 95); fill-opacity: 1; white-space: pre; opacity: 1;\" transform=\"translate(0,228.06)\">2.5</text></g><g class=\"ytick\"><text text-anchor=\"end\" x=\"79\" y=\"4.199999999999999\" style=\"font-family: 'Open Sans', verdana, arial, sans-serif; font-size: 12px; fill: rgb(42, 63, 95); fill-opacity: 1; white-space: pre; opacity: 1;\" transform=\"translate(0,182.63)\">3</text></g><g class=\"ytick\"><text text-anchor=\"end\" x=\"79\" y=\"4.199999999999999\" style=\"font-family: 'Open Sans', verdana, arial, sans-serif; font-size: 12px; fill: rgb(42, 63, 95); fill-opacity: 1; white-space: pre; opacity: 1;\" transform=\"translate(0,137.19)\">3.5</text></g></g><g class=\"overaxes-above\"/></g></g><g class=\"polarlayer\"/><g class=\"smithlayer\"/><g class=\"ternarylayer\"/><g class=\"geolayer\"/><g class=\"funnelarealayer\"/><g class=\"pielayer\"/><g class=\"iciclelayer\"/><g class=\"treemaplayer\"/><g class=\"sunburstlayer\"/><g class=\"glimages\"/><defs id=\"topdefs-5e7d24\"><g class=\"clips\"/></defs><g class=\"layer-above\"><g class=\"imagelayer\"/><g class=\"shapelayer\"/></g><g class=\"infolayer\"><g class=\"g-gtitle\"><text class=\"gtitle\" x=\"35\" y=\"50\" text-anchor=\"start\" dy=\"0em\" style=\"opacity: 1; font-family: 'Open Sans', verdana, arial, sans-serif; font-size: 17px; fill: rgb(42, 63, 95); fill-opacity: 1; white-space: pre;\">Definitive position residuals</text></g><g class=\"g-xtitle\"><text class=\"xtitle\" x=\"350\" y=\"475.909375\" text-anchor=\"middle\" style=\"opacity: 1; font-family: 'Open Sans', verdana, arial, sans-serif; font-size: 14px; fill: rgb(42, 63, 95); fill-opacity: 1; white-space: pre;\">timestamp</text></g><g class=\"g-ytitle\"><text class=\"ytitle\" transform=\"rotate(-90,40.50625,260)\" x=\"40.50625\" y=\"260\" text-anchor=\"middle\" style=\"opacity: 1; font-family: 'Open Sans', verdana, arial, sans-serif; font-size: 14px; fill: rgb(42, 63, 95); fill-opacity: 1; white-space: pre;\">dr [m]</text></g></g></svg>"
      ]
     },
     "metadata": {},
     "output_type": "display_data"
    }
   ],
   "source": [
    "figure = px.scatter(data, x=\"timestamp\", y=\"dr [m]\", title=\"Definitive position residuals\")\n",
    "figure.show(\"svg\")"
   ]
  },
  {
   "cell_type": "markdown",
   "id": "49bbce7d-4bf2-4d18-8443-45ca373807cf",
   "metadata": {},
   "source": [
    "---"
   ]
  }
 ],
 "metadata": {
  "kernelspec": {
   "display_name": "Python 3 (ipykernel)",
   "language": "python",
   "name": "python3"
  },
  "language_info": {
   "codemirror_mode": {
    "name": "ipython",
    "version": 3
   },
   "file_extension": ".py",
   "mimetype": "text/x-python",
   "name": "python",
   "nbconvert_exporter": "python",
   "pygments_lexer": "ipython3",
   "version": "3.11.11"
  }
 },
 "nbformat": 4,
 "nbformat_minor": 5
}