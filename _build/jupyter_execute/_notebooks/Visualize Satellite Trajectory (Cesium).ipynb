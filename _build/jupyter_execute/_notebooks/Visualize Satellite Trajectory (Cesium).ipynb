{
 "cells": [
  {
   "cell_type": "markdown",
   "id": "260b01cf-af50-4a65-8388-06917b48aab8",
   "metadata": {},
   "source": [
    "### Visualize Satellite States (Cesium)"
   ]
  },
  {
   "cell_type": "code",
   "execution_count": 1,
   "id": "d804ee69-a904-4767-a98a-12c31a465b2c",
   "metadata": {},
   "outputs": [
    {
     "name": "stdout",
     "output_type": "stream",
     "text": [
      "Collecting cesiumpy\r\n",
      "  Cloning https://github.com/open-space-collective/cesiumpy.git to /tmp/pip-install-j8yxpu97/cesiumpy_5643cc76e6ac49ec9d28defb81dfa159\r\n",
      "  Running command git clone --filter=blob:none --quiet https://github.com/open-space-collective/cesiumpy.git /tmp/pip-install-j8yxpu97/cesiumpy_5643cc76e6ac49ec9d28defb81dfa159\r\n"
     ]
    },
    {
     "name": "stdout",
     "output_type": "stream",
     "text": [
      "  Resolved https://github.com/open-space-collective/cesiumpy.git to commit 7b01ce8826db0a694c3f9b271832e77dcf171923\r\n",
      "  Running command git submodule update --init --recursive -q\r\n"
     ]
    },
    {
     "name": "stdout",
     "output_type": "stream",
     "text": [
      "  Preparing metadata (setup.py) ... \u001b[?25l-"
     ]
    },
    {
     "name": "stdout",
     "output_type": "stream",
     "text": [
      "\b \bdone\r\n",
      "\u001b[?25hRequirement already satisfied: traitlets in /usr/local/lib/python3.11/dist-packages (from cesiumpy) (5.14.3)\r\n",
      "Requirement already satisfied: geopy>=1.11.0 in /usr/local/lib/python3.11/dist-packages (from cesiumpy) (2.4.1)\r\n",
      "Requirement already satisfied: geographiclib<3,>=1.52 in /usr/local/lib/python3.11/dist-packages (from geopy>=1.11.0->cesiumpy) (2.0)\r\n"
     ]
    },
    {
     "name": "stdout",
     "output_type": "stream",
     "text": [
      "\u001b[33mWARNING: Running pip as the 'root' user can result in broken permissions and conflicting behaviour with the system package manager, possibly rendering your system unusable.It is recommended to use a virtual environment instead: https://pip.pypa.io/warnings/venv. Use the --root-user-action option if you know what you are doing and want to suppress this warning.\u001b[0m\u001b[33m\r\n",
      "\u001b[0m"
     ]
    }
   ],
   "source": [
    "import sys\n",
    "\n",
    "!{sys.executable} -m pip install git+https://github.com/open-space-collective/cesiumpy.git#egg=cesiumpy"
   ]
  },
  {
   "cell_type": "code",
   "execution_count": 2,
   "id": "a2734ee4-5d74-4f5c-b615-597d0dee26c2",
   "metadata": {},
   "outputs": [],
   "source": [
    "import os\n",
    "\n",
    "from ostk.physics import Environment\n",
    "from ostk.physics.unit import Length\n",
    "from ostk.physics.unit import Angle\n",
    "from ostk.physics.time import Instant\n",
    "from ostk.physics.time import Interval\n",
    "from ostk.physics.time import Duration\n",
    "from ostk.physics.time import DateTime\n",
    "from ostk.physics.time import Time\n",
    "from ostk.physics.time import Scale\n",
    "from ostk.physics.unit import Length\n",
    "\n",
    "from ostk.astrodynamics.trajectory import Orbit\n",
    "from ostk.astrodynamics.flight import Profile\n",
    "from ostk.astrodynamics.viewer import Viewer\n",
    "from ostk.astrodynamics.viewer import ConicSensor"
   ]
  },
  {
   "cell_type": "code",
   "execution_count": 3,
   "id": "ebe3537c-c5cb-4a36-b6f7-2bdeb285597c",
   "metadata": {},
   "outputs": [],
   "source": [
    "environment = Environment.default()"
   ]
  },
  {
   "cell_type": "code",
   "execution_count": 4,
   "id": "a2f9f6c7-83d0-4b8c-b273-7025cc10e9f3",
   "metadata": {},
   "outputs": [],
   "source": [
    "orbit = Orbit.sun_synchronous(\n",
    "    epoch=Instant.date_time(DateTime(2023, 1, 1, 0, 0, 0), Scale.UTC),\n",
    "    altitude=Length.kilometers(500.0),\n",
    "    local_time_at_descending_node=Time(14, 0, 0),\n",
    "    celestial_object=environment.access_celestial_object_with_name(\"Earth\"),\n",
    ")"
   ]
  },
  {
   "cell_type": "code",
   "execution_count": 5,
   "id": "82a79278-fd35-4468-a6b4-a9f69ebdf9c3",
   "metadata": {},
   "outputs": [
    {
     "ename": "AttributeError",
     "evalue": "type object 'ostk.astrodynamics.flight.Profile' has no attribute 'nadir_pointing'",
     "output_type": "error",
     "traceback": [
      "\u001b[0;31m---------------------------------------------------------------------------\u001b[0m",
      "\u001b[0;31mAttributeError\u001b[0m                            Traceback (most recent call last)",
      "Cell \u001b[0;32mIn[5], line 1\u001b[0m\n\u001b[0;32m----> 1\u001b[0m profile \u001b[38;5;241m=\u001b[39m \u001b[43mProfile\u001b[49m\u001b[38;5;241;43m.\u001b[39;49m\u001b[43mnadir_pointing\u001b[49m(\n\u001b[1;32m      2\u001b[0m     orbit\u001b[38;5;241m=\u001b[39morbit,\n\u001b[1;32m      3\u001b[0m     orbital_frame_type\u001b[38;5;241m=\u001b[39mOrbit\u001b[38;5;241m.\u001b[39mFrameType\u001b[38;5;241m.\u001b[39mVVLH,\n\u001b[1;32m      4\u001b[0m )\n",
      "\u001b[0;31mAttributeError\u001b[0m: type object 'ostk.astrodynamics.flight.Profile' has no attribute 'nadir_pointing'"
     ]
    }
   ],
   "source": [
    "profile = Profile.nadir_pointing(\n",
    "    orbit=orbit,\n",
    "    orbital_frame_type=Orbit.FrameType.VVLH,\n",
    ")"
   ]
  },
  {
   "cell_type": "code",
   "execution_count": 7,
   "id": "ed194065-f81d-4a86-8470-1c86278709de",
   "metadata": {},
   "outputs": [],
   "source": [
    "interval = Interval.closed(\n",
    "    start_instant=Instant.date_time(DateTime(2023, 1, 1, 0, 0, 0), Scale.UTC),\n",
    "    end_instant=Instant.date_time(DateTime(2023, 1, 1, 3, 0, 0), Scale.UTC),\n",
    ")"
   ]
  },
  {
   "cell_type": "code",
   "execution_count": 18,
   "id": "b69434f8-10ad-48dc-824c-5da081203f6f",
   "metadata": {},
   "outputs": [],
   "source": [
    "viewer = Viewer(\n",
    "    interval=interval,\n",
    "    cesium_token=os.environ.get(\"CESIUM_TOKEN\"),  # Get a token from https://cesium.com/learn/ion/cesium-ion-access-tokens/\n",
    ")\n",
    "viewer.add_profile(\n",
    "    profile=profile,\n",
    "    step=Duration.seconds(30.0),\n",
    "    show_orbital_track=True,\n",
    "    cesium_asset_id=669199,\n",
    "    sensors=[\n",
    "        ConicSensor(\n",
    "            name=\"Payload\",\n",
    "            direction=(0.0, 0.0, 1.0),\n",
    "            half_angle=Angle.degrees(8.0),\n",
    "            length=Length.meters(1.0),\n",
    "            color=\"red\",\n",
    "        )\n",
    "    ],\n",
    ")"
   ]
  },
  {
   "cell_type": "code",
   "execution_count": 19,
   "id": "6466e462-a178-472a-bfd2-4625f40f1bcc",
   "metadata": {},
   "outputs": [],
   "source": [
    "viewer"
   ]
  },
  {
   "cell_type": "markdown",
   "id": "de018151",
   "metadata": {},
   "source": [
    "---"
   ]
  }
 ],
 "metadata": {
  "kernelspec": {
   "display_name": "Python 3 (ipykernel)",
   "language": "python",
   "name": "python3"
  },
  "language_info": {
   "codemirror_mode": {
    "name": "ipython",
    "version": 3
   },
   "file_extension": ".py",
   "mimetype": "text/x-python",
   "name": "python",
   "nbconvert_exporter": "python",
   "pygments_lexer": "ipython3",
   "version": "3.11.11"
  }
 },
 "nbformat": 4,
 "nbformat_minor": 5
}