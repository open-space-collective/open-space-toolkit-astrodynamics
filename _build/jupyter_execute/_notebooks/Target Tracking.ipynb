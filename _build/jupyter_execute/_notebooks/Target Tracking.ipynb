{
 "cells": [
  {
   "cell_type": "markdown",
   "metadata": {},
   "source": [
    "# Target Tracking"
   ]
  },
  {
   "cell_type": "markdown",
   "metadata": {},
   "source": [
    "This tutorial demonstrates how to generate a target tracking profile, and generate Yaw-Pitch-Roll (YPR) angles."
   ]
  },
  {
   "cell_type": "markdown",
   "metadata": {},
   "source": [
    "## Setup"
   ]
  },
  {
   "cell_type": "code",
   "execution_count": 1,
   "metadata": {},
   "outputs": [],
   "source": [
    "import os\n",
    "import math\n",
    "\n",
    "import numpy as np\n",
    "\n",
    "import pandas as pd\n",
    "\n",
    "import plotly.express as px\n",
    "\n",
    "from ostk.mathematics.object import RealInterval\n",
    "from ostk.mathematics.geometry import Angle as MathAngle\n",
    "from ostk.mathematics.geometry.d3.transformation.rotation import Quaternion\n",
    "from ostk.mathematics.geometry.d3.transformation.rotation import EulerAngle\n",
    "\n",
    "from ostk.physics import Environment\n",
    "from ostk.physics.unit import Length\n",
    "from ostk.physics.unit import Angle\n",
    "from ostk.physics.time import Scale\n",
    "from ostk.physics.time import Instant\n",
    "from ostk.physics.time import Duration\n",
    "from ostk.physics.time import Interval\n",
    "from ostk.physics.time import DateTime\n",
    "from ostk.physics.time import Time\n",
    "from ostk.physics.coordinate import Frame\n",
    "from ostk.physics.coordinate import Transform\n",
    "from ostk.physics.coordinate.spherical import LLA\n",
    "from ostk.physics.coordinate.frame.provider import Dynamic as DynamicFrameProvider\n",
    "\n",
    "from ostk.astrodynamics import Trajectory\n",
    "from ostk.astrodynamics.trajectory import Orbit\n",
    "from ostk.astrodynamics.flight import Profile\n",
    "from ostk.astrodynamics.flight.profile.model import Transform as FlightProfileTransform\n",
    "from ostk.astrodynamics.access import Generator as AccessGenerator\n",
    "from ostk.astrodynamics.access import AccessTarget\n",
    "from ostk.astrodynamics.access import VisibilityCriterion\n",
    "from ostk.astrodynamics.viewer import Viewer"
   ]
  },
  {
   "cell_type": "markdown",
   "metadata": {},
   "source": [
    "---"
   ]
  },
  {
   "cell_type": "markdown",
   "metadata": {},
   "source": [
    "## Computation"
   ]
  },
  {
   "cell_type": "markdown",
   "metadata": {},
   "source": [
    "Initialize an environment:"
   ]
  },
  {
   "cell_type": "code",
   "execution_count": 2,
   "metadata": {},
   "outputs": [],
   "source": [
    "environment = Environment.default()\n",
    "earth = environment.access_celestial_object_with_name(\"Earth\")"
   ]
  },
  {
   "cell_type": "markdown",
   "metadata": {},
   "source": [
    "Construct an orbit:"
   ]
  },
  {
   "cell_type": "code",
   "execution_count": 3,
   "metadata": {},
   "outputs": [],
   "source": [
    "orbit = Orbit.sun_synchronous(\n",
    "    epoch=Instant.date_time(DateTime(2024, 1, 1, 0, 0, 0), Scale.UTC),\n",
    "    altitude=Length.kilometers(550.0),\n",
    "    local_time_at_descending_node=Time(14, 30, 0),\n",
    "    celestial_object=earth,\n",
    ")"
   ]
  },
  {
   "cell_type": "markdown",
   "metadata": {},
   "source": [
    "Define an interval of interest:"
   ]
  },
  {
   "cell_type": "code",
   "execution_count": 4,
   "metadata": {},
   "outputs": [],
   "source": [
    "interval = Interval.closed(\n",
    "    start_instant=Instant.date_time(DateTime(2024, 1, 1, 0, 0, 0), Scale.UTC),\n",
    "    end_instant=Instant.date_time(DateTime(2024, 1, 3, 0, 0, 0), Scale.UTC),\n",
    ")"
   ]
  },
  {
   "cell_type": "markdown",
   "metadata": {},
   "source": [
    "Define the coordinates of the target to track:"
   ]
  },
  {
   "cell_type": "code",
   "execution_count": 5,
   "metadata": {},
   "outputs": [],
   "source": [
    "target_lla = LLA(\n",
    "    latitude=Angle.degrees(0.0),\n",
    "    longitude=Angle.degrees(0.0),\n",
    "    altitude=Length.meters(10.0),\n",
    ")"
   ]
  },
  {
   "cell_type": "markdown",
   "metadata": {},
   "source": [
    "Find one access during which the satellite is over the target:"
   ]
  },
  {
   "cell_type": "code",
   "execution_count": 6,
   "metadata": {},
   "outputs": [],
   "source": [
    "visibility_criterion = VisibilityCriterion.from_aer_interval(\n",
    "    azimuth_interval=RealInterval.closed(0.0, 360.0),\n",
    "    elevation_interval=RealInterval.closed(20.0, 90.0),\n",
    "    range_interval=RealInterval.closed(0.0, 10000e3),\n",
    ")\n",
    "access_target = AccessTarget.from_lla(\n",
    "    visibility_criterion=visibility_criterion,\n",
    "    lla=target_lla,\n",
    "    celestial=earth,\n",
    ")\n",
    "access_generator = AccessGenerator(\n",
    "    environment=environment,\n",
    ")\n",
    "\n",
    "accesses = access_generator.compute_accesses(\n",
    "    interval=interval,\n",
    "    access_target=access_target,\n",
    "    to_trajectory=orbit,\n",
    ")\n",
    "\n",
    "access = accesses[0]"
   ]
  },
  {
   "cell_type": "markdown",
   "metadata": {},
   "source": [
    "Construct a Vehicle Velocity, Local Horizontal (VVLH) frame from the orbit:"
   ]
  },
  {
   "cell_type": "code",
   "execution_count": 7,
   "metadata": {},
   "outputs": [],
   "source": [
    "vvlh_frame = orbit.get_orbital_frame(Orbit.FrameType.VVLH)"
   ]
  },
  {
   "cell_type": "markdown",
   "metadata": {},
   "source": [
    "Generate a flight profile:"
   ]
  },
  {
   "cell_type": "code",
   "execution_count": 8,
   "metadata": {},
   "outputs": [],
   "source": [
    "def calculate_attitude(satellite_state, target_position):\n",
    "    # Satellite position in GCRF\n",
    "    satellite_r_GCRF = (\n",
    "        satellite_state.in_frame(Frame.GCRF()).get_position().get_coordinates()\n",
    "    )\n",
    "\n",
    "    # Target position in GCRF\n",
    "    target_r_GCRF = target_position.in_frame(\n",
    "        Frame.GCRF(),\n",
    "        satellite_state.get_instant(),\n",
    "    ).get_coordinates()\n",
    "\n",
    "    # Satellite to Target direction vector in GCRF\n",
    "    u_GCRF = target_r_GCRF - satellite_r_GCRF\n",
    "    u_GCRF = u_GCRF / np.linalg.norm(u_GCRF)\n",
    "\n",
    "    # VVLH quaternion in GCRF\n",
    "    q_VVLH_GCRF = (\n",
    "        Frame.GCRF()\n",
    "        .get_transform_to(vvlh_frame, satellite_state.get_instant())\n",
    "        .get_orientation()\n",
    "    )\n",
    "\n",
    "    # Satellite to Target direction vector in VVLH\n",
    "    u_VVLH = q_VVLH_GCRF * u_GCRF\n",
    "\n",
    "    # Projection of the Satellite to Target direction vector in VVLH on the XZ plane\n",
    "    u_VVLH_xz = np.array([u_VVLH[0], 0.0, u_VVLH[2]])\n",
    "    u_VVLH_xz = u_VVLH_xz / np.linalg.norm(u_VVLH_xz)\n",
    "\n",
    "    # Satellite attitude quaternion in VVLH\n",
    "    q_B_VVLH = Quaternion.euler_angle(\n",
    "        euler_angle=EulerAngle.zyx(\n",
    "            phi=MathAngle.zero(),\n",
    "            theta=MathAngle.radians(math.atan2(u_VVLH_xz[0], u_VVLH_xz[2])),\n",
    "            psi=MathAngle.between(u_VVLH, u_VVLH_xz),\n",
    "        ),\n",
    "    )\n",
    "\n",
    "    q_B_GCRF = (q_B_VVLH * q_VVLH_GCRF).to_normalized()\n",
    "\n",
    "    return q_B_GCRF\n",
    "\n",
    "\n",
    "def body_frame_transform_generator(instant):\n",
    "    state = orbit.get_state_at(instant).in_frame(Frame.GCRF())\n",
    "\n",
    "    q_B_GCRF = calculate_attitude(\n",
    "        satellite_state=state,\n",
    "        target_position=target_position,\n",
    "    )\n",
    "\n",
    "    return Transform.active(\n",
    "        instant,\n",
    "        -state.get_position().get_coordinates(),\n",
    "        np.array((0.0, 0.0, 0.0)),\n",
    "        q_B_GCRF,\n",
    "        np.array((0.0, 0.0, 0.0)),\n",
    "    )\n",
    "\n",
    "\n",
    "profile = Profile(\n",
    "    model=FlightProfileTransform(\n",
    "        DynamicFrameProvider(body_frame_transform_generator),\n",
    "        Frame.GCRF(),\n",
    "    ),\n",
    ")"
   ]
  },
  {
   "cell_type": "markdown",
   "metadata": {},
   "source": [
    "Calculate and plot the Yaw-Pitch-Roll (YPR) angles in the VVLH frame during the access:"
   ]
  },
  {
   "cell_type": "code",
   "execution_count": 9,
   "metadata": {},
   "outputs": [
    {
     "ename": "NameError",
     "evalue": "name 'target_position' is not defined",
     "output_type": "error",
     "traceback": [
      "\u001b[0;31m---------------------------------------------------------------------------\u001b[0m",
      "\u001b[0;31mNameError\u001b[0m                                 Traceback (most recent call last)",
      "Cell \u001b[0;32mIn[9], line 53\u001b[0m\n\u001b[1;32m     31\u001b[0m     satellite_lla \u001b[38;5;241m=\u001b[39m LLA\u001b[38;5;241m.\u001b[39mcartesian(\n\u001b[1;32m     32\u001b[0m         cartesian_coordinates\u001b[38;5;241m=\u001b[39mstate\u001b[38;5;241m.\u001b[39min_frame(Frame\u001b[38;5;241m.\u001b[39mITRF())\n\u001b[1;32m     33\u001b[0m         \u001b[38;5;241m.\u001b[39mget_position()\n\u001b[0;32m   (...)\u001b[0m\n\u001b[1;32m     36\u001b[0m         ellipsoid_flattening\u001b[38;5;241m=\u001b[39mearth\u001b[38;5;241m.\u001b[39mget_flattening(),\n\u001b[1;32m     37\u001b[0m     )\n\u001b[1;32m     39\u001b[0m     \u001b[38;5;28;01mreturn\u001b[39;00m (\n\u001b[1;32m     40\u001b[0m         state\u001b[38;5;241m.\u001b[39mget_instant()\u001b[38;5;241m.\u001b[39mget_date_time(Scale\u001b[38;5;241m.\u001b[39mUTC),\n\u001b[1;32m     41\u001b[0m         \u001b[38;5;28mfloat\u001b[39m(satellite_lla\u001b[38;5;241m.\u001b[39mget_longitude()\u001b[38;5;241m.\u001b[39min_degrees()),\n\u001b[0;32m   (...)\u001b[0m\n\u001b[1;32m     46\u001b[0m         \u001b[38;5;28mfloat\u001b[39m(psi\u001b[38;5;241m.\u001b[39min_degrees()),\n\u001b[1;32m     47\u001b[0m     )\n\u001b[1;32m     50\u001b[0m yprs \u001b[38;5;241m=\u001b[39m pd\u001b[38;5;241m.\u001b[39mDataFrame(\n\u001b[1;32m     51\u001b[0m     data\u001b[38;5;241m=\u001b[39m[\n\u001b[1;32m     52\u001b[0m         calculate_ypr(state)\n\u001b[0;32m---> 53\u001b[0m         \u001b[38;5;28;01mfor\u001b[39;00m state \u001b[38;5;129;01min\u001b[39;00m \u001b[43mprofile\u001b[49m\u001b[38;5;241;43m.\u001b[39;49m\u001b[43mget_states_at\u001b[49m\u001b[43m(\u001b[49m\n\u001b[1;32m     54\u001b[0m \u001b[43m            \u001b[49m\u001b[43minstants\u001b[49m\u001b[38;5;241;43m=\u001b[39;49m\u001b[43maccess\u001b[49m\u001b[38;5;241;43m.\u001b[39;49m\u001b[43mget_interval\u001b[49m\u001b[43m(\u001b[49m\u001b[43m)\u001b[49m\u001b[38;5;241;43m.\u001b[39;49m\u001b[43mgenerate_grid\u001b[49m\u001b[43m(\u001b[49m\u001b[43mDuration\u001b[49m\u001b[38;5;241;43m.\u001b[39;49m\u001b[43mseconds\u001b[49m\u001b[43m(\u001b[49m\u001b[38;5;241;43m1.0\u001b[39;49m\u001b[43m)\u001b[49m\u001b[43m)\u001b[49m\u001b[43m,\u001b[49m\n\u001b[1;32m     55\u001b[0m \u001b[43m        \u001b[49m\u001b[43m)\u001b[49m\n\u001b[1;32m     56\u001b[0m     ],\n\u001b[1;32m     57\u001b[0m     columns\u001b[38;5;241m=\u001b[39m[\n\u001b[1;32m     58\u001b[0m         \u001b[38;5;124m\"\u001b[39m\u001b[38;5;124mTimestamp\u001b[39m\u001b[38;5;124m\"\u001b[39m,\n\u001b[1;32m     59\u001b[0m         \u001b[38;5;124m\"\u001b[39m\u001b[38;5;124mLongitude [deg]\u001b[39m\u001b[38;5;124m\"\u001b[39m,\n\u001b[1;32m     60\u001b[0m         \u001b[38;5;124m\"\u001b[39m\u001b[38;5;124mLatitude [deg]\u001b[39m\u001b[38;5;124m\"\u001b[39m,\n\u001b[1;32m     61\u001b[0m         \u001b[38;5;124m\"\u001b[39m\u001b[38;5;124mAltitude [m]\u001b[39m\u001b[38;5;124m\"\u001b[39m,\n\u001b[1;32m     62\u001b[0m         \u001b[38;5;124m\"\u001b[39m\u001b[38;5;124mYaw [deg]\u001b[39m\u001b[38;5;124m\"\u001b[39m,\n\u001b[1;32m     63\u001b[0m         \u001b[38;5;124m\"\u001b[39m\u001b[38;5;124mPitch [deg]\u001b[39m\u001b[38;5;124m\"\u001b[39m,\n\u001b[1;32m     64\u001b[0m         \u001b[38;5;124m\"\u001b[39m\u001b[38;5;124mRoll [deg]\u001b[39m\u001b[38;5;124m\"\u001b[39m,\n\u001b[1;32m     65\u001b[0m     ],\n\u001b[1;32m     66\u001b[0m )\n\u001b[1;32m     68\u001b[0m yprs\u001b[38;5;241m.\u001b[39mset_index(\u001b[38;5;124m\"\u001b[39m\u001b[38;5;124mTimestamp\u001b[39m\u001b[38;5;124m\"\u001b[39m, inplace\u001b[38;5;241m=\u001b[39m\u001b[38;5;28;01mTrue\u001b[39;00m)\n\u001b[1;32m     70\u001b[0m px\u001b[38;5;241m.\u001b[39mline(\n\u001b[1;32m     71\u001b[0m     yprs[[\u001b[38;5;124m\"\u001b[39m\u001b[38;5;124mYaw [deg]\u001b[39m\u001b[38;5;124m\"\u001b[39m, \u001b[38;5;124m\"\u001b[39m\u001b[38;5;124mPitch [deg]\u001b[39m\u001b[38;5;124m\"\u001b[39m, \u001b[38;5;124m\"\u001b[39m\u001b[38;5;124mRoll [deg]\u001b[39m\u001b[38;5;124m\"\u001b[39m]],\n\u001b[1;32m     72\u001b[0m     title\u001b[38;5;241m=\u001b[39m\u001b[38;5;124m\"\u001b[39m\u001b[38;5;124mYaw-Pitch-Roll Evolution\u001b[39m\u001b[38;5;124m\"\u001b[39m,\n\u001b[1;32m     73\u001b[0m )\n",
      "Cell \u001b[0;32mIn[8], line 50\u001b[0m, in \u001b[0;36mbody_frame_transform_generator\u001b[0;34m(instant)\u001b[0m\n\u001b[1;32m     45\u001b[0m \u001b[38;5;28;01mdef\u001b[39;00m\u001b[38;5;250m \u001b[39m\u001b[38;5;21mbody_frame_transform_generator\u001b[39m(instant):\n\u001b[1;32m     46\u001b[0m     state \u001b[38;5;241m=\u001b[39m orbit\u001b[38;5;241m.\u001b[39mget_state_at(instant)\u001b[38;5;241m.\u001b[39min_frame(Frame\u001b[38;5;241m.\u001b[39mGCRF())\n\u001b[1;32m     48\u001b[0m     q_B_GCRF \u001b[38;5;241m=\u001b[39m calculate_attitude(\n\u001b[1;32m     49\u001b[0m         satellite_state\u001b[38;5;241m=\u001b[39mstate,\n\u001b[0;32m---> 50\u001b[0m         target_position\u001b[38;5;241m=\u001b[39m\u001b[43mtarget_position\u001b[49m,\n\u001b[1;32m     51\u001b[0m     )\n\u001b[1;32m     53\u001b[0m     \u001b[38;5;28;01mreturn\u001b[39;00m Transform\u001b[38;5;241m.\u001b[39mactive(\n\u001b[1;32m     54\u001b[0m         instant,\n\u001b[1;32m     55\u001b[0m         \u001b[38;5;241m-\u001b[39mstate\u001b[38;5;241m.\u001b[39mget_position()\u001b[38;5;241m.\u001b[39mget_coordinates(),\n\u001b[0;32m   (...)\u001b[0m\n\u001b[1;32m     58\u001b[0m         np\u001b[38;5;241m.\u001b[39marray((\u001b[38;5;241m0.0\u001b[39m, \u001b[38;5;241m0.0\u001b[39m, \u001b[38;5;241m0.0\u001b[39m)),\n\u001b[1;32m     59\u001b[0m     )\n",
      "\u001b[0;31mNameError\u001b[0m: name 'target_position' is not defined"
     ]
    }
   ],
   "source": [
    "def reduce_angle(angle):\n",
    "    # Reduce angle to be within the range 0 to 2*pi\n",
    "    reduced_angle = float(angle.in_radians()) % (2 * math.pi)\n",
    "\n",
    "    # If angle is negative, add 2*pi to make it positive\n",
    "    if reduced_angle < 0:\n",
    "        reduced_angle += 2 * math.pi\n",
    "\n",
    "    return Angle.radians(reduced_angle)\n",
    "\n",
    "\n",
    "def calculate_ypr(state):\n",
    "    state_vvlh = state.in_frame(vvlh_frame)\n",
    "\n",
    "    q_B_VVLH = state_vvlh.get_attitude()\n",
    "\n",
    "    ypr = EulerAngle.quaternion(q_B_VVLH, EulerAngle.AxisSequence.ZYX)\n",
    "\n",
    "    phi = ypr.phi\n",
    "    theta = ypr.theta\n",
    "    psi = ypr.psi\n",
    "\n",
    "    if phi.in_radians() > MathAngle.half_pi().in_radians():\n",
    "        phi = reduce_angle(phi + MathAngle.pi())\n",
    "        theta = reduce_angle(MathAngle.pi() - theta)\n",
    "        psi = reduce_angle(psi + MathAngle.pi())\n",
    "\n",
    "    if theta.in_radians() > MathAngle.pi().in_radians():\n",
    "        theta = theta - Angle.two_pi()\n",
    "\n",
    "    satellite_lla = LLA.cartesian(\n",
    "        cartesian_coordinates=state.in_frame(Frame.ITRF())\n",
    "        .get_position()\n",
    "        .get_coordinates(),\n",
    "        ellipsoid_equatorial_radius=earth.get_equatorial_radius(),\n",
    "        ellipsoid_flattening=earth.get_flattening(),\n",
    "    )\n",
    "\n",
    "    return (\n",
    "        state.get_instant().get_date_time(Scale.UTC),\n",
    "        float(satellite_lla.get_longitude().in_degrees()),\n",
    "        float(satellite_lla.get_latitude().in_degrees()),\n",
    "        float(satellite_lla.get_altitude().in_meters()),\n",
    "        float(phi.in_degrees()),\n",
    "        float(theta.in_degrees()),\n",
    "        float(psi.in_degrees()),\n",
    "    )\n",
    "\n",
    "\n",
    "yprs = pd.DataFrame(\n",
    "    data=[\n",
    "        calculate_ypr(state)\n",
    "        for state in profile.get_states_at(\n",
    "            instants=access.get_interval().generate_grid(Duration.seconds(1.0)),\n",
    "        )\n",
    "    ],\n",
    "    columns=[\n",
    "        \"Timestamp\",\n",
    "        \"Longitude [deg]\",\n",
    "        \"Latitude [deg]\",\n",
    "        \"Altitude [m]\",\n",
    "        \"Yaw [deg]\",\n",
    "        \"Pitch [deg]\",\n",
    "        \"Roll [deg]\",\n",
    "    ],\n",
    ")\n",
    "\n",
    "yprs.set_index(\"Timestamp\", inplace=True)\n",
    "\n",
    "px.line(\n",
    "    yprs[[\"Yaw [deg]\", \"Pitch [deg]\", \"Roll [deg]\"]],\n",
    "    title=\"Yaw-Pitch-Roll Evolution\",\n",
    ")"
   ]
  },
  {
   "cell_type": "markdown",
   "metadata": {},
   "source": [
    "Visualize the scene in 3D:"
   ]
  },
  {
   "cell_type": "code",
   "execution_count": 13,
   "metadata": {},
   "outputs": [],
   "source": [
    "# Get a token from https://cesium.com/learn/ion/cesium-ion-access-tokens/\n",
    "viewer = Viewer(\n",
    "    interval=access.get_interval(),\n",
    "    cesium_token=os.environ.get(\"CESIUM_TOKEN\"),\n",
    ")\n",
    "\n",
    "viewer.add_profile(\n",
    "    profile=profile,\n",
    "    step=Duration.seconds(10.0),\n",
    "    show_orbital_track=True,\n",
    "    cesium_asset_id=1359555,\n",
    ")\n",
    "\n",
    "viewer.add_target(\n",
    "    position=target_position,\n",
    "    color=\"red\",\n",
    ")"
   ]
  },
  {
   "cell_type": "code",
   "execution_count": 14,
   "metadata": {},
   "outputs": [],
   "source": [
    "with open(\"render.html\", \"w\") as f:\n",
    "    f.write(viewer.render())"
   ]
  },
  {
   "cell_type": "markdown",
   "metadata": {},
   "source": [
    "---"
   ]
  }
 ],
 "metadata": {
  "kernelspec": {
   "display_name": "Python 3 (ipykernel)",
   "language": "python",
   "name": "python3"
  },
  "language_info": {
   "codemirror_mode": {
    "name": "ipython",
    "version": 3
   },
   "file_extension": ".py",
   "mimetype": "text/x-python",
   "name": "python",
   "nbconvert_exporter": "python",
   "pygments_lexer": "ipython3",
   "version": "3.11.11"
  }
 },
 "nbformat": 4,
 "nbformat_minor": 4
}